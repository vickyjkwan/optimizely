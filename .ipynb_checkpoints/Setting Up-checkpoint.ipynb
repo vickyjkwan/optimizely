{
 "cells": [
  {
   "cell_type": "code",
   "execution_count": 1,
   "metadata": {},
   "outputs": [],
   "source": [
    "import requests\n",
    "import json\n",
    "import popelines\n",
    "import os\n",
    "from datetime import datetime\n",
    "from pandas.io.json import json_normalize"
   ]
  },
  {
   "cell_type": "code",
   "execution_count": 2,
   "metadata": {},
   "outputs": [],
   "source": [
    "gbq_key = os.environ.get('GOOGLE_ACCOUNT_CREDENTIALS')"
   ]
  },
  {
   "cell_type": "code",
   "execution_count": 36,
   "metadata": {},
   "outputs": [],
   "source": [
    "pope = popelines.popeline(dataset_id='vicky', service_key_file_loc=gbq_key, directory='.', verbose=False)\n"
   ]
  },
  {
   "cell_type": "code",
   "execution_count": 4,
   "metadata": {},
   "outputs": [],
   "source": [
    "headers = {\n",
    "    'Authorization': 'Bearer 2:EWAWmaXb4TgtYVU2VvwoEF-9UbJxBahkiFh1633_Oc9nmju7iJis',\n",
    "}"
   ]
  },
  {
   "cell_type": "markdown",
   "metadata": {},
   "source": [
    "# Getting All Project ID's"
   ]
  },
  {
   "cell_type": "code",
   "execution_count": 6,
   "metadata": {},
   "outputs": [],
   "source": [
    "# to get all projects\n",
    "response_proj = requests.get('https://api.optimizely.com/v2/projects', headers=headers)"
   ]
  },
  {
   "cell_type": "code",
   "execution_count": 7,
   "metadata": {},
   "outputs": [],
   "source": [
    "j = json.loads(response_proj.text)"
   ]
  },
  {
   "cell_type": "code",
   "execution_count": 13,
   "metadata": {},
   "outputs": [
    {
     "data": {
      "text/plain": [
       "dict_keys(['account_id', 'confidence_threshold', 'created', 'id', 'is_classic', 'last_modified', 'name', 'platform', 'sdks', 'status', 'web_snippet'])"
      ]
     },
     "execution_count": 13,
     "metadata": {},
     "output_type": "execute_result"
    }
   ],
   "source": [
    "j[0].keys()"
   ]
  },
  {
   "cell_type": "code",
   "execution_count": 16,
   "metadata": {},
   "outputs": [],
   "source": [
    "project_id = list()"
   ]
  },
  {
   "cell_type": "code",
   "execution_count": 17,
   "metadata": {},
   "outputs": [],
   "source": [
    "for p in j:\n",
    "    project_id.append(p['id'])"
   ]
  },
  {
   "cell_type": "code",
   "execution_count": 19,
   "metadata": {},
   "outputs": [],
   "source": [
    "p_id = project_id[0]"
   ]
  },
  {
   "cell_type": "code",
   "execution_count": 20,
   "metadata": {},
   "outputs": [],
   "source": [
    "params = (\n",
    "    ('project_id', p_id),\n",
    "    ('per_page', 100),\n",
    ")"
   ]
  },
  {
   "cell_type": "code",
   "execution_count": 25,
   "metadata": {},
   "outputs": [
    {
     "data": {
      "text/plain": [
       "{'account_id': 8725961507,\n",
       " 'confidence_threshold': 0.9,\n",
       " 'created': '2018-01-04T20:50:13.101130Z',\n",
       " 'id': 9965963792,\n",
       " 'is_classic': False,\n",
       " 'last_modified': '2018-12-03T18:32:20.382553Z',\n",
       " 'name': 'Onboarding',\n",
       " 'platform': 'web',\n",
       " 'sdks': [],\n",
       " 'status': 'active',\n",
       " 'web_snippet': {'code_revision': 191,\n",
       "  'enable_force_variation': False,\n",
       "  'exclude_disabled_experiments': False,\n",
       "  'exclude_names': True,\n",
       "  'include_jquery': False,\n",
       "  'ip_anonymization': False,\n",
       "  'ip_filter': '^(99\\\\.20\\\\.23\\\\.105|76\\\\.250\\\\.184\\\\.81|70\\\\.166\\\\.189\\\\.(3[2-9]|4[0-8]))$',\n",
       "  'js_file_size': 79948,\n",
       "  'library': 'none'}}"
      ]
     },
     "execution_count": 25,
     "metadata": {},
     "output_type": "execute_result"
    }
   ],
   "source": [
    "j[0]"
   ]
  },
  {
   "cell_type": "code",
   "execution_count": 24,
   "metadata": {},
   "outputs": [
    {
     "data": {
      "text/plain": [
       "('Onboarding', 9965963792)"
      ]
     },
     "execution_count": 24,
     "metadata": {},
     "output_type": "execute_result"
    }
   ],
   "source": [
    "j[0]['name'], p_id"
   ]
  },
  {
   "cell_type": "markdown",
   "metadata": {},
   "source": [
    "# Getting Experiments"
   ]
  },
  {
   "cell_type": "code",
   "execution_count": 26,
   "metadata": {},
   "outputs": [],
   "source": [
    "response_exp = requests.get('https://api.optimizely.com/v2/experiments', headers=headers, params=params)\n"
   ]
  },
  {
   "cell_type": "code",
   "execution_count": 27,
   "metadata": {},
   "outputs": [],
   "source": [
    "j_exp = json.loads(response_exp.text)"
   ]
  },
  {
   "cell_type": "code",
   "execution_count": 28,
   "metadata": {},
   "outputs": [
    {
     "data": {
      "text/plain": [
       "10"
      ]
     },
     "execution_count": 28,
     "metadata": {},
     "output_type": "execute_result"
    }
   ],
   "source": [
    "len(j_exp)"
   ]
  },
  {
   "cell_type": "code",
   "execution_count": 47,
   "metadata": {},
   "outputs": [
    {
     "data": {
      "text/plain": [
       "{'allocation_policy': 'manual',\n",
       " 'audience_conditions': '[\"and\", {\"audience_id\": 10769441047}]',\n",
       " 'campaign_id': 10755791168,\n",
       " 'changes': [],\n",
       " 'created': '2018-05-23T17:48:35.952180Z',\n",
       " 'description': 'Testing alternate experience for FT sign up form',\n",
       " 'earliest': '2018-05-25T17:32:25.742000Z',\n",
       " 'holdback': 0,\n",
       " 'id': 10756790433,\n",
       " 'is_classic': False,\n",
       " 'last_modified': '2018-06-03T04:59:26.187040Z',\n",
       " 'latest': '2018-06-03T04:59:28.088920Z',\n",
       " 'metrics': [{'aggregator': 'unique',\n",
       "   'event_id': 10757331770,\n",
       "   'scope': 'visitor',\n",
       "   'winning_direction': 'increasing'},\n",
       "  {'aggregator': 'unique',\n",
       "   'event_id': 10762312628,\n",
       "   'scope': 'visitor',\n",
       "   'winning_direction': 'increasing'},\n",
       "  {'aggregator': 'unique',\n",
       "   'event_id': 10769480069,\n",
       "   'scope': 'visitor',\n",
       "   'winning_direction': 'increasing'}],\n",
       " 'name': 'FT Signup Variations',\n",
       " 'project_id': 9965963792,\n",
       " 'status': 'paused',\n",
       " 'type': 'a/b',\n",
       " 'url_targeting': {'activation_type': 'url_changed',\n",
       "  'conditions': '[\"and\", [\"or\", {\"match_type\": \"simple\", \"type\": \"url\", \"value\": \"freetrial.infusionsoft.com/setup\"}, {\"match_type\": \"simple\", \"type\": \"url\", \"value\": \"freetrial.infusionsoft.com/signup\"}]]',\n",
       "  'edit_url': 'freetrial.infusionsoft.com/setup',\n",
       "  'key': '9965963792_url_targeting_for_ft_signup_variations',\n",
       "  'page_id': 10752650977},\n",
       " 'variations': [{'actions': [{'changes': [{'async': False,\n",
       "       'attributes': {'remove': True},\n",
       "       'css': {},\n",
       "       'dependencies': [],\n",
       "       'id': '1E6E5051-B355-49D5-B7FF-758F15524D61',\n",
       "       'rearrange': {'insertSelector': '', 'operator': 'before'},\n",
       "       'selector': '.checkbox',\n",
       "       'type': 'attribute'},\n",
       "      {'async': False,\n",
       "       'attributes': {'html': 'Start your free trial'},\n",
       "       'css': {},\n",
       "       'dependencies': [],\n",
       "       'id': 'F3E2FE9D-A546-4748-8B3C-4E1F8A47C609',\n",
       "       'rearrange': {'insertSelector': '', 'operator': 'before'},\n",
       "       'selector': 'form h2',\n",
       "       'type': 'attribute'},\n",
       "      {'async': False,\n",
       "       'attributes': {'html': '<span data-v-d77c2e22=\"\" class=\"\">\\n            Start your 14-day free trial\\n        </span>'},\n",
       "       'css': {},\n",
       "       'dependencies': [],\n",
       "       'id': '672EFC3F-D6A6-4CEB-9D5C-925BEEE2B675',\n",
       "       'rearrange': {'insertSelector': '', 'operator': 'before'},\n",
       "       'selector': '.icon-button',\n",
       "       'type': 'attribute'},\n",
       "      {'async': False,\n",
       "       'attributes': {'hide': True},\n",
       "       'css': {},\n",
       "       'dependencies': [],\n",
       "       'id': '5413BF94-6BA2-486A-8DAC-445B7F084A3A',\n",
       "       'rearrange': {'insertSelector': '', 'operator': 'before'},\n",
       "       'selector': 'form p',\n",
       "       'type': 'attribute'}],\n",
       "     'page_id': 10752650977,\n",
       "     'share_link': 'http://freetrial.infusionsoft.com/setup?optimizely_token=1023b14998b0975f176cb8cf234dca953e6cb5016d957a058d1a8c7652d7d3fc&optimizely_x=10755800895&optimizely_x_audiences=10769441047&optimizely_preview_layer_ids=10755791168&optimizely_snippet=s3-9965963792'}],\n",
       "   'archived': False,\n",
       "   'name': 'Original',\n",
       "   'status': 'active',\n",
       "   'variation_id': 10755800895,\n",
       "   'weight': 4999},\n",
       "  {'actions': [{'changes': [{'async': False,\n",
       "       'attributes': {'remove': True},\n",
       "       'css': {},\n",
       "       'dependencies': [],\n",
       "       'id': 'E4BB8D08-28E8-428A-8B51-14CBDF57D404',\n",
       "       'rearrange': {'insertSelector': '', 'operator': 'before'},\n",
       "       'selector': '.checkbox',\n",
       "       'type': 'attribute'},\n",
       "      {'async': False,\n",
       "       'attributes': {'html': 'Start your free trial'},\n",
       "       'css': {},\n",
       "       'dependencies': [],\n",
       "       'id': '6FC5161B-782F-4CAC-9818-FEC2DBF56AF2',\n",
       "       'rearrange': {'insertSelector': '', 'operator': 'before'},\n",
       "       'selector': 'form h2',\n",
       "       'type': 'attribute'},\n",
       "      {'async': False,\n",
       "       'attributes': {'html': '<span data-v-d77c2e22=\"\" class=\"\">\\n            Start your 14-day free trial\\n        </span>'},\n",
       "       'css': {},\n",
       "       'dependencies': [],\n",
       "       'id': 'F183E79C-F4F5-47FC-BDC1-E82FA3D25FE8',\n",
       "       'rearrange': {'insertSelector': '', 'operator': 'before'},\n",
       "       'selector': '.icon-button',\n",
       "       'type': 'attribute'},\n",
       "      {'async': False,\n",
       "       'attributes': {'hide': True},\n",
       "       'css': {},\n",
       "       'dependencies': [],\n",
       "       'id': '5C16F848-5C12-45AE-ACCB-800BCA565000',\n",
       "       'rearrange': {'insertSelector': '', 'operator': 'before'},\n",
       "       'selector': 'form p',\n",
       "       'type': 'attribute'},\n",
       "      {'async': False,\n",
       "       'attributes': {'style': 'display:none\\t'},\n",
       "       'css': {},\n",
       "       'dependencies': [],\n",
       "       'id': '75A3E8E6-BFA6-475E-B656-B3563A4D02EC',\n",
       "       'rearrange': {'insertSelector': '', 'operator': 'before'},\n",
       "       'selector': '.phone-input',\n",
       "       'type': 'attribute'}],\n",
       "     'page_id': 10752650977,\n",
       "     'share_link': 'http://freetrial.infusionsoft.com/setup?optimizely_token=1023b14998b0975f176cb8cf234dca953e6cb5016d957a058d1a8c7652d7d3fc&optimizely_x=10754871910&optimizely_x_audiences=10769441047&optimizely_preview_layer_ids=10755791168&optimizely_snippet=s3-9965963792'}],\n",
       "   'archived': True,\n",
       "   'name': 'Removed phone field',\n",
       "   'status': 'archived',\n",
       "   'variation_id': 10754871910,\n",
       "   'weight': 0},\n",
       "  {'actions': [{'changes': [{'async': False,\n",
       "       'dependencies': [],\n",
       "       'id': '77A0E520-AAAF-4DA0-B62E-83AAC3D0E1E5',\n",
       "       'selector': 'head',\n",
       "       'type': 'custom_css',\n",
       "       'value': 'body .xl .modal-body-inner{\\n  flex-direction: row;\\n\\tjustify-content: space-around;\\n}\\n@media only screen and (max-width: 768px) {\\n    .xl .modal-body-inner .marketing{\\n      display:none;\\n    }\\n}'},\n",
       "      {'async': False,\n",
       "       'attributes': {'remove': True},\n",
       "       'css': {},\n",
       "       'dependencies': [],\n",
       "       'id': '27FA44C0-AA5F-46F8-B34F-6EE8A94306E6',\n",
       "       'rearrange': {'insertSelector': '', 'operator': 'before'},\n",
       "       'selector': '.checkbox',\n",
       "       'type': 'attribute'},\n",
       "      {'async': False,\n",
       "       'attributes': {'html': 'Start your free trial'},\n",
       "       'css': {},\n",
       "       'dependencies': [],\n",
       "       'id': '6A8887AC-A65E-4742-9A13-000A92C15641',\n",
       "       'rearrange': {'insertSelector': '', 'operator': 'before'},\n",
       "       'selector': 'form h2',\n",
       "       'type': 'attribute'},\n",
       "      {'async': False,\n",
       "       'attributes': {'html': '<span data-v-d77c2e22=\"\" class=\"\">\\n            Start your 14-day free trial\\n        </span>'},\n",
       "       'css': {},\n",
       "       'dependencies': [],\n",
       "       'id': 'EECE5652-F777-47E2-A1FD-210739A0C6E8',\n",
       "       'rearrange': {'insertSelector': '', 'operator': 'before'},\n",
       "       'selector': '.icon-button',\n",
       "       'type': 'attribute'},\n",
       "      {'async': False,\n",
       "       'attributes': {'hide': True},\n",
       "       'css': {},\n",
       "       'dependencies': [],\n",
       "       'id': 'F9A02CEF-3CF5-488B-80DD-982F8200E4C7',\n",
       "       'rearrange': {'insertSelector': '', 'operator': 'before'},\n",
       "       'selector': 'form p',\n",
       "       'type': 'attribute'},\n",
       "      {'async': False,\n",
       "       'dependencies': ['F9A02CEF-3CF5-488B-80DD-982F8200E4C7'],\n",
       "       'id': 'CA5611FC-3032-40F1-96F4-9645F98EFC42',\n",
       "       'operator': 'prepend',\n",
       "       'selector': '.xl .modal-body-inner',\n",
       "       'type': 'insert_html',\n",
       "       'value': '<div class=\"marketing\" style=\"background-image:url(https://preview.ibb.co/d6qQ38/homepage_make_it_personal.png); background-size:contain; background-repeat: no-repeat; background-position:right bottom;  flex:1; padding:20px\"><h3 style=\"text-align:center;\">Capture more leads on the go</h3>\\n</div>'},\n",
       "      {'async': False,\n",
       "       'attributes': {'style': 'flex: 1;\\npadding-left:60px;\\npadding-right: 60px;'},\n",
       "       'css': {},\n",
       "       'dependencies': [],\n",
       "       'id': 'C5AEB645-B199-45B0-BDC3-11A2ECAC4751',\n",
       "       'rearrange': {'insertSelector': '', 'operator': 'before'},\n",
       "       'selector': 'div.content',\n",
       "       'type': 'attribute'}],\n",
       "     'page_id': 10752650977,\n",
       "     'share_link': 'http://freetrial.infusionsoft.com/setup?optimizely_token=1023b14998b0975f176cb8cf234dca953e6cb5016d957a058d1a8c7652d7d3fc&optimizely_x=10766970990&optimizely_x_audiences=10769441047&optimizely_preview_layer_ids=10755791168&optimizely_snippet=s3-9965963792'}],\n",
       "   'archived': False,\n",
       "   'name': 'Add marketing image',\n",
       "   'status': 'active',\n",
       "   'variation_id': 10766970990,\n",
       "   'weight': 5001}]}"
      ]
     },
     "execution_count": 47,
     "metadata": {},
     "output_type": "execute_result"
    }
   ],
   "source": [
    " j_exp[0]\n",
    "# 'allocation_policy', 'campaign_id', 'created', 'description', 'earliest', 'id', 'last_modified', 'latest', 'name', 'project_id', 'status', 'type'"
   ]
  },
  {
   "cell_type": "code",
   "execution_count": 46,
   "metadata": {},
   "outputs": [
    {
     "data": {
      "text/plain": [
       "dict_keys(['allocation_policy', 'audience_conditions', 'campaign_id', 'changes', 'created', 'description', 'earliest', 'holdback', 'id', 'is_classic', 'last_modified', 'latest', 'metrics', 'name', 'project_id', 'status', 'type', 'url_targeting', 'variations'])"
      ]
     },
     "execution_count": 46,
     "metadata": {},
     "output_type": "execute_result"
    }
   ],
   "source": [
    "j_exp[0].keys()"
   ]
  },
  {
   "cell_type": "code",
   "execution_count": 48,
   "metadata": {},
   "outputs": [],
   "source": [
    "new_key = ['allocation_policy', 'campaign_id', 'created', 'description', 'earliest', 'id', 'last_modified', 'latest', 'name', 'project_id', 'status', 'type']\n"
   ]
  },
  {
   "cell_type": "code",
   "execution_count": 64,
   "metadata": {},
   "outputs": [],
   "source": [
    "new_dict = dict(list())"
   ]
  },
  {
   "cell_type": "code",
   "execution_count": 65,
   "metadata": {},
   "outputs": [],
   "source": [
    "for key in new_key:\n",
    "    new_dict[key] = j_exp[0][key]"
   ]
  },
  {
   "cell_type": "code",
   "execution_count": 67,
   "metadata": {},
   "outputs": [
    {
     "data": {
      "text/plain": [
       "{'allocation_policy': 'manual',\n",
       " 'campaign_id': 10755791168,\n",
       " 'created': '2018-05-23T17:48:35.952180Z',\n",
       " 'description': 'Testing alternate experience for FT sign up form',\n",
       " 'earliest': '2018-05-25T17:32:25.742000Z',\n",
       " 'id': 10756790433,\n",
       " 'last_modified': '2018-06-03T04:59:26.187040Z',\n",
       " 'latest': '2018-06-03T04:59:28.088920Z',\n",
       " 'name': 'FT Signup Variations',\n",
       " 'project_id': 9965963792,\n",
       " 'status': 'paused',\n",
       " 'type': 'a/b'}"
      ]
     },
     "execution_count": 67,
     "metadata": {},
     "output_type": "execute_result"
    }
   ],
   "source": [
    "new_dict"
   ]
  },
  {
   "cell_type": "code",
   "execution_count": 68,
   "metadata": {},
   "outputs": [],
   "source": [
    "new_dict = [new_dict]"
   ]
  },
  {
   "cell_type": "code",
   "execution_count": 69,
   "metadata": {},
   "outputs": [
    {
     "data": {
      "text/plain": [
       "[{'allocation_policy': 'manual',\n",
       "  'campaign_id': 10755791168,\n",
       "  'created': '2018-05-23T17:48:35.952180Z',\n",
       "  'description': 'Testing alternate experience for FT sign up form',\n",
       "  'earliest': '2018-05-25T17:32:25.742000Z',\n",
       "  'id': 10756790433,\n",
       "  'last_modified': '2018-06-03T04:59:26.187040Z',\n",
       "  'latest': '2018-06-03T04:59:28.088920Z',\n",
       "  'name': 'FT Signup Variations',\n",
       "  'project_id': 9965963792,\n",
       "  'status': 'paused',\n",
       "  'type': 'a/b'}]"
      ]
     },
     "execution_count": 69,
     "metadata": {},
     "output_type": "execute_result"
    }
   ],
   "source": [
    "new_dict"
   ]
  },
  {
   "cell_type": "code",
   "execution_count": 70,
   "metadata": {},
   "outputs": [],
   "source": [
    "pope.write_to_json(file_name='test_exp.json', jayson=new_dict, mode='w')\n"
   ]
  },
  {
   "cell_type": "code",
   "execution_count": 71,
   "metadata": {},
   "outputs": [
    {
     "name": "stderr",
     "output_type": "stream",
     "text": [
      "INFO:root:Writing testing_opt to BQ from file test_exp.json\n"
     ]
    },
    {
     "name": "stdout",
     "output_type": "stream",
     "text": [
      "2019-01-17 17:54:51,712 - root - Writing testing_opt to BQ from file test_exp.json\n",
      "2019-01-17 17:54:51,712 - root - Writing testing_opt to BQ from file test_exp.json\n"
     ]
    }
   ],
   "source": [
    "pope.write_to_bq(table_name='testing_opt', file_name='test_exp.json', append=True, ignore_unknown_values=False, bq_schema_autodetect=False)\n"
   ]
  },
  {
   "cell_type": "code",
   "execution_count": 82,
   "metadata": {},
   "outputs": [
    {
     "data": {
      "text/html": [
       "<div>\n",
       "<style scoped>\n",
       "    .dataframe tbody tr th:only-of-type {\n",
       "        vertical-align: middle;\n",
       "    }\n",
       "\n",
       "    .dataframe tbody tr th {\n",
       "        vertical-align: top;\n",
       "    }\n",
       "\n",
       "    .dataframe thead th {\n",
       "        text-align: right;\n",
       "    }\n",
       "</style>\n",
       "<table border=\"1\" class=\"dataframe\">\n",
       "  <thead>\n",
       "    <tr style=\"text-align: right;\">\n",
       "      <th></th>\n",
       "      <th>aggregator</th>\n",
       "      <th>event_id</th>\n",
       "      <th>scope</th>\n",
       "      <th>winning_direction</th>\n",
       "      <th>campaign_id</th>\n",
       "      <th>description</th>\n",
       "      <th>created</th>\n",
       "      <th>name</th>\n",
       "    </tr>\n",
       "  </thead>\n",
       "  <tbody>\n",
       "    <tr>\n",
       "      <th>0</th>\n",
       "      <td>unique</td>\n",
       "      <td>10757331770</td>\n",
       "      <td>visitor</td>\n",
       "      <td>increasing</td>\n",
       "      <td>10755791168</td>\n",
       "      <td>Testing alternate experience for FT sign up form</td>\n",
       "      <td>2018-05-23T17:48:35.952180Z</td>\n",
       "      <td>FT Signup Variations</td>\n",
       "    </tr>\n",
       "    <tr>\n",
       "      <th>1</th>\n",
       "      <td>unique</td>\n",
       "      <td>10762312628</td>\n",
       "      <td>visitor</td>\n",
       "      <td>increasing</td>\n",
       "      <td>10755791168</td>\n",
       "      <td>Testing alternate experience for FT sign up form</td>\n",
       "      <td>2018-05-23T17:48:35.952180Z</td>\n",
       "      <td>FT Signup Variations</td>\n",
       "    </tr>\n",
       "    <tr>\n",
       "      <th>2</th>\n",
       "      <td>unique</td>\n",
       "      <td>10769480069</td>\n",
       "      <td>visitor</td>\n",
       "      <td>increasing</td>\n",
       "      <td>10755791168</td>\n",
       "      <td>Testing alternate experience for FT sign up form</td>\n",
       "      <td>2018-05-23T17:48:35.952180Z</td>\n",
       "      <td>FT Signup Variations</td>\n",
       "    </tr>\n",
       "  </tbody>\n",
       "</table>\n",
       "</div>"
      ],
      "text/plain": [
       "  aggregator     event_id    scope winning_direction  campaign_id  \\\n",
       "0     unique  10757331770  visitor        increasing  10755791168   \n",
       "1     unique  10762312628  visitor        increasing  10755791168   \n",
       "2     unique  10769480069  visitor        increasing  10755791168   \n",
       "\n",
       "                                        description  \\\n",
       "0  Testing alternate experience for FT sign up form   \n",
       "1  Testing alternate experience for FT sign up form   \n",
       "2  Testing alternate experience for FT sign up form   \n",
       "\n",
       "                       created                  name  \n",
       "0  2018-05-23T17:48:35.952180Z  FT Signup Variations  \n",
       "1  2018-05-23T17:48:35.952180Z  FT Signup Variations  \n",
       "2  2018-05-23T17:48:35.952180Z  FT Signup Variations  "
      ]
     },
     "execution_count": 82,
     "metadata": {},
     "output_type": "execute_result"
    }
   ],
   "source": [
    "json_normalize(data=j_exp[0],record_path='metrics', meta=['campaign_id', 'description', 'created', 'name'])\n"
   ]
  },
  {
   "cell_type": "markdown",
   "metadata": {},
   "source": [
    "# Getting Results (from experiment)"
   ]
  },
  {
   "cell_type": "code",
   "execution_count": 84,
   "metadata": {},
   "outputs": [],
   "source": [
    "experiment_id = j_exp[0]['id']"
   ]
  },
  {
   "cell_type": "code",
   "execution_count": 85,
   "metadata": {},
   "outputs": [
    {
     "data": {
      "text/plain": [
       "10756790433"
      ]
     },
     "execution_count": 85,
     "metadata": {},
     "output_type": "execute_result"
    }
   ],
   "source": [
    "experiment_id"
   ]
  },
  {
   "cell_type": "code",
   "execution_count": 86,
   "metadata": {},
   "outputs": [],
   "source": [
    "response_res = requests.get(f'https://api.optimizely.com/v2/experiments/{experiment_id}/results', headers=headers)\n"
   ]
  },
  {
   "cell_type": "code",
   "execution_count": 89,
   "metadata": {},
   "outputs": [],
   "source": [
    "j_res = json.loads(response_res.text)"
   ]
  },
  {
   "cell_type": "code",
   "execution_count": 90,
   "metadata": {},
   "outputs": [
    {
     "data": {
      "text/plain": [
       "dict_keys(['confidence_threshold', 'end_time', 'experiment_id', 'metrics', 'reach', 'start_time', 'stats_config'])"
      ]
     },
     "execution_count": 90,
     "metadata": {},
     "output_type": "execute_result"
    }
   ],
   "source": [
    "j_res.keys()"
   ]
  },
  {
   "cell_type": "code",
   "execution_count": 110,
   "metadata": {},
   "outputs": [
    {
     "data": {
      "text/plain": [
       "[{'aggregator': 'unique',\n",
       "  'event_id': 10757331770,\n",
       "  'name': 'Create new account button',\n",
       "  'results': {'10754871910': {'is_baseline': False,\n",
       "    'level': 'variation',\n",
       "    'lift': {'confidence_interval': [-0.25586971870854713,\n",
       "      0.17414821658943955],\n",
       "     'is_significant': False,\n",
       "     'lift_status': 'worse',\n",
       "     'significance': 0.0,\n",
       "     'value': -0.003580937167199094,\n",
       "     'visitors_remaining': 3239},\n",
       "    'name': 'Removed phone field',\n",
       "    'rate': 0.49583333333333335,\n",
       "    'samples': 240,\n",
       "    'value': 119.0,\n",
       "    'variance': 0.2499826388888889,\n",
       "    'variation_id': '10754871910'},\n",
       "   '10755800895': {'is_baseline': True,\n",
       "    'level': 'variation',\n",
       "    'name': 'Original',\n",
       "    'rate': 0.49761526232114467,\n",
       "    'samples': 629,\n",
       "    'value': 313.0,\n",
       "    'variance': 0.249994313026203,\n",
       "    'variation_id': '10755800895'},\n",
       "   '10766970990': {'is_baseline': False,\n",
       "    'level': 'variation',\n",
       "    'lift': {'confidence_interval': [-0.18863950643038613, 0.1409790420200838],\n",
       "     'is_significant': False,\n",
       "     'lift_status': 'worse',\n",
       "     'significance': 0.0,\n",
       "     'value': -0.01746030882104821,\n",
       "     'visitors_remaining': 4975},\n",
       "    'name': 'Add marketing image',\n",
       "    'rate': 0.4889267461669506,\n",
       "    'samples': 587,\n",
       "    'value': 287.0,\n",
       "    'variance': 0.24987738304954882,\n",
       "    'variation_id': '10766970990'}},\n",
       "  'scope': 'visitor',\n",
       "  'winning_direction': 'increasing'},\n",
       " {'aggregator': 'unique',\n",
       "  'event_id': 10762312628,\n",
       "  'name': 'Phone',\n",
       "  'results': {'10754871910': {'is_baseline': False,\n",
       "    'level': 'variation',\n",
       "    'lift': {'is_significant': False,\n",
       "     'lift_status': 'worse',\n",
       "     'significance': 0.0,\n",
       "     'value': -1.0,\n",
       "     'visitors_remaining': 9223372036854775807},\n",
       "    'name': 'Removed phone field',\n",
       "    'rate': 0.0,\n",
       "    'samples': 240,\n",
       "    'value': 0.0,\n",
       "    'variance': 0.0,\n",
       "    'variation_id': '10754871910'},\n",
       "   '10755800895': {'is_baseline': True,\n",
       "    'level': 'variation',\n",
       "    'name': 'Original',\n",
       "    'rate': 0.3052464228934817,\n",
       "    'samples': 629,\n",
       "    'value': 192.0,\n",
       "    'variance': 0.21207104420421544,\n",
       "    'variation_id': '10755800895'},\n",
       "   '10766970990': {'is_baseline': False,\n",
       "    'level': 'variation',\n",
       "    'lift': {'confidence_interval': [-0.4077359730620307, 0.21045262295656636],\n",
       "     'is_significant': False,\n",
       "     'lift_status': 'worse',\n",
       "     'significance': 0.0,\n",
       "     'value': -0.09029848097671778,\n",
       "     'visitors_remaining': 1965},\n",
       "    'name': 'Add marketing image',\n",
       "    'rate': 0.2776831345826235,\n",
       "    'samples': 587,\n",
       "    'value': 163.0,\n",
       "    'variance': 0.2005752113509921,\n",
       "    'variation_id': '10766970990'}},\n",
       "  'scope': 'visitor',\n",
       "  'winning_direction': 'increasing'},\n",
       " {'aggregator': 'unique',\n",
       "  'event_id': 10769480069,\n",
       "  'name': 'Click Event for .xl .modal-body-inner',\n",
       "  'results': {'10754871910': {'is_baseline': False,\n",
       "    'level': 'variation',\n",
       "    'lift': {'confidence_interval': [-0.21153541194737344,\n",
       "      0.07108234825092513],\n",
       "     'is_significant': False,\n",
       "     'lift_status': 'worse',\n",
       "     'significance': 0.0,\n",
       "     'value': -0.06282051282051271,\n",
       "     'visitors_remaining': 722},\n",
       "    'name': 'Removed phone field',\n",
       "    'rate': 0.7166666666666667,\n",
       "    'samples': 240,\n",
       "    'value': 172.0,\n",
       "    'variance': 0.20305555555555554,\n",
       "    'variation_id': '10754871910'},\n",
       "   '10755800895': {'is_baseline': True,\n",
       "    'level': 'variation',\n",
       "    'name': 'Original',\n",
       "    'rate': 0.7647058823529411,\n",
       "    'samples': 629,\n",
       "    'value': 481.0,\n",
       "    'variance': 0.1799307958477509,\n",
       "    'variation_id': '10755800895'},\n",
       "   '10766970990': {'is_baseline': False,\n",
       "    'level': 'variation',\n",
       "    'lift': {'confidence_interval': [-0.13186825883400943,\n",
       "      0.07132038767917917],\n",
       "     'is_significant': False,\n",
       "     'lift_status': 'worse',\n",
       "     'significance': 0.0,\n",
       "     'value': -0.037609749705149964,\n",
       "     'visitors_remaining': 1731},\n",
       "    'name': 'Add marketing image',\n",
       "    'rate': 0.7359454855195912,\n",
       "    'samples': 587,\n",
       "    'value': 432.0,\n",
       "    'variance': 0.1943297278629244,\n",
       "    'variation_id': '10766970990'}},\n",
       "  'scope': 'visitor',\n",
       "  'winning_direction': 'increasing'}]"
      ]
     },
     "execution_count": 110,
     "metadata": {},
     "output_type": "execute_result"
    }
   ],
   "source": [
    "j_res['metrics']"
   ]
  },
  {
   "cell_type": "code",
   "execution_count": 118,
   "metadata": {},
   "outputs": [],
   "source": [
    "# for metric in j_res['metrics']:\n",
    "    \n",
    "#     metric_df = json_normalize(data=metric, record_path=['results', 'lift'], meta=['aggregator', 'event_id', 'name', 'scope', 'winning_direction'])\n",
    "    "
   ]
  },
  {
   "cell_type": "code",
   "execution_count": 146,
   "metadata": {},
   "outputs": [
    {
     "data": {
      "text/html": [
       "<div>\n",
       "<style scoped>\n",
       "    .dataframe tbody tr th:only-of-type {\n",
       "        vertical-align: middle;\n",
       "    }\n",
       "\n",
       "    .dataframe tbody tr th {\n",
       "        vertical-align: top;\n",
       "    }\n",
       "\n",
       "    .dataframe thead th {\n",
       "        text-align: right;\n",
       "    }\n",
       "</style>\n",
       "<table border=\"1\" class=\"dataframe\">\n",
       "  <thead>\n",
       "    <tr style=\"text-align: right;\">\n",
       "      <th></th>\n",
       "      <th>0</th>\n",
       "    </tr>\n",
       "  </thead>\n",
       "  <tbody>\n",
       "    <tr>\n",
       "      <th>is_baseline</th>\n",
       "      <td>False</td>\n",
       "    </tr>\n",
       "    <tr>\n",
       "      <th>level</th>\n",
       "      <td>variation</td>\n",
       "    </tr>\n",
       "    <tr>\n",
       "      <th>lift.confidence_interval</th>\n",
       "      <td>[-0.25586971870854713, 0.17414821658943955]</td>\n",
       "    </tr>\n",
       "    <tr>\n",
       "      <th>lift.is_significant</th>\n",
       "      <td>False</td>\n",
       "    </tr>\n",
       "    <tr>\n",
       "      <th>lift.lift_status</th>\n",
       "      <td>worse</td>\n",
       "    </tr>\n",
       "    <tr>\n",
       "      <th>lift.significance</th>\n",
       "      <td>0</td>\n",
       "    </tr>\n",
       "    <tr>\n",
       "      <th>lift.value</th>\n",
       "      <td>-0.00358094</td>\n",
       "    </tr>\n",
       "    <tr>\n",
       "      <th>lift.visitors_remaining</th>\n",
       "      <td>3239</td>\n",
       "    </tr>\n",
       "    <tr>\n",
       "      <th>name</th>\n",
       "      <td>Removed phone field</td>\n",
       "    </tr>\n",
       "    <tr>\n",
       "      <th>rate</th>\n",
       "      <td>0.495833</td>\n",
       "    </tr>\n",
       "    <tr>\n",
       "      <th>samples</th>\n",
       "      <td>240</td>\n",
       "    </tr>\n",
       "    <tr>\n",
       "      <th>value</th>\n",
       "      <td>119</td>\n",
       "    </tr>\n",
       "    <tr>\n",
       "      <th>variance</th>\n",
       "      <td>0.249983</td>\n",
       "    </tr>\n",
       "    <tr>\n",
       "      <th>variation_id</th>\n",
       "      <td>10754871910</td>\n",
       "    </tr>\n",
       "  </tbody>\n",
       "</table>\n",
       "</div>"
      ],
      "text/plain": [
       "                                                                    0\n",
       "is_baseline                                                     False\n",
       "level                                                       variation\n",
       "lift.confidence_interval  [-0.25586971870854713, 0.17414821658943955]\n",
       "lift.is_significant                                             False\n",
       "lift.lift_status                                                worse\n",
       "lift.significance                                                   0\n",
       "lift.value                                                -0.00358094\n",
       "lift.visitors_remaining                                          3239\n",
       "name                                              Removed phone field\n",
       "rate                                                         0.495833\n",
       "samples                                                           240\n",
       "value                                                             119\n",
       "variance                                                     0.249983\n",
       "variation_id                                              10754871910"
      ]
     },
     "execution_count": 146,
     "metadata": {},
     "output_type": "execute_result"
    }
   ],
   "source": [
    "json_normalize(j_res['metrics'][0]['results']['10754871910']).T"
   ]
  },
  {
   "cell_type": "code",
   "execution_count": 171,
   "metadata": {},
   "outputs": [
    {
     "data": {
      "text/html": [
       "<div>\n",
       "<style scoped>\n",
       "    .dataframe tbody tr th:only-of-type {\n",
       "        vertical-align: middle;\n",
       "    }\n",
       "\n",
       "    .dataframe tbody tr th {\n",
       "        vertical-align: top;\n",
       "    }\n",
       "\n",
       "    .dataframe thead th {\n",
       "        text-align: right;\n",
       "    }\n",
       "</style>\n",
       "<table border=\"1\" class=\"dataframe\">\n",
       "  <thead>\n",
       "    <tr style=\"text-align: right;\">\n",
       "      <th></th>\n",
       "      <th>is_baseline</th>\n",
       "      <th>level</th>\n",
       "      <th>lift.confidence_interval</th>\n",
       "      <th>lift.is_significant</th>\n",
       "      <th>lift.lift_status</th>\n",
       "      <th>lift.significance</th>\n",
       "      <th>lift.value</th>\n",
       "      <th>lift.visitors_remaining</th>\n",
       "      <th>name</th>\n",
       "      <th>rate</th>\n",
       "      <th>samples</th>\n",
       "      <th>value</th>\n",
       "      <th>variance</th>\n",
       "      <th>variation_id</th>\n",
       "    </tr>\n",
       "  </thead>\n",
       "  <tbody>\n",
       "    <tr>\n",
       "      <th>0</th>\n",
       "      <td>False</td>\n",
       "      <td>variation</td>\n",
       "      <td>[-0.25586971870854713, 0.17414821658943955]</td>\n",
       "      <td>False</td>\n",
       "      <td>worse</td>\n",
       "      <td>0.0</td>\n",
       "      <td>-0.003581</td>\n",
       "      <td>3239</td>\n",
       "      <td>Removed phone field</td>\n",
       "      <td>0.495833</td>\n",
       "      <td>240</td>\n",
       "      <td>119.0</td>\n",
       "      <td>0.249983</td>\n",
       "      <td>10754871910</td>\n",
       "    </tr>\n",
       "  </tbody>\n",
       "</table>\n",
       "</div>"
      ],
      "text/plain": [
       "   is_baseline      level                     lift.confidence_interval  \\\n",
       "0        False  variation  [-0.25586971870854713, 0.17414821658943955]   \n",
       "\n",
       "   lift.is_significant lift.lift_status  lift.significance  lift.value  \\\n",
       "0                False            worse                0.0   -0.003581   \n",
       "\n",
       "   lift.visitors_remaining                 name      rate  samples  value  \\\n",
       "0                     3239  Removed phone field  0.495833      240  119.0   \n",
       "\n",
       "   variance variation_id  \n",
       "0  0.249983  10754871910  "
      ]
     },
     "execution_count": 171,
     "metadata": {},
     "output_type": "execute_result"
    }
   ],
   "source": [
    "json_normalize(j_res['metrics'][0]['results']['10754871910'])\n",
    "# ['10766970990']\n",
    "# ['10755800895']"
   ]
  },
  {
   "cell_type": "code",
   "execution_count": 173,
   "metadata": {},
   "outputs": [],
   "source": [
    "import pandas as pd"
   ]
  },
  {
   "cell_type": "code",
   "execution_count": 193,
   "metadata": {},
   "outputs": [
    {
     "name": "stdout",
     "output_type": "stream",
     "text": [
      "<class 'pandas.core.frame.DataFrame'>\n"
     ]
    }
   ],
   "source": [
    "for id in j_res['metrics'][0]['results'].keys():\n",
    "    if j_res['metrics'][0]['results'][id]['is_baseline'] is True:\n",
    "        sub_dict = dict(list())\n",
    "        sub_dict['event_id'] = id\n",
    "        print(json_normalize(j_res['metrics'][0]['results'][id]))\n",
    "#         sub_dict.update(json_normalize(j_res['metrics'][0]['results'][id]).to_dict('records'))\n",
    "#         print(sub_dict)\n",
    "#         .to_dict('records')\n",
    "#     else:\n",
    "#         sub_dict = dict(list())\n",
    "#         sub_dict['event_id'] = id\n",
    "#         sub_dict['event_results'] = json_normalize(j_res['metrics'][0]['results'][id]).to_dict('records')\n",
    "        "
   ]
  },
  {
   "cell_type": "code",
   "execution_count": 184,
   "metadata": {},
   "outputs": [
    {
     "ename": "ValueError",
     "evalue": "Length of values does not match length of index",
     "output_type": "error",
     "traceback": [
      "\u001b[0;31m---------------------------------------------------------------------------\u001b[0m",
      "\u001b[0;31mValueError\u001b[0m                                Traceback (most recent call last)",
      "\u001b[0;32m<ipython-input-184-b07f8c84e6ef>\u001b[0m in \u001b[0;36m<module>\u001b[0;34m()\u001b[0m\n\u001b[0;32m----> 1\u001b[0;31m \u001b[0mjson_normalize\u001b[0m\u001b[0;34m(\u001b[0m\u001b[0msub_dict\u001b[0m\u001b[0;34m,\u001b[0m \u001b[0mrecord_path\u001b[0m\u001b[0;34m=\u001b[0m\u001b[0;34m[\u001b[0m\u001b[0;34m'event_results'\u001b[0m\u001b[0;34m]\u001b[0m\u001b[0;34m,\u001b[0m \u001b[0mmeta\u001b[0m\u001b[0;34m=\u001b[0m\u001b[0;34m[\u001b[0m\u001b[0;34m'event_id'\u001b[0m\u001b[0;34m]\u001b[0m\u001b[0;34m)\u001b[0m\u001b[0;34m\u001b[0m\u001b[0m\n\u001b[0m",
      "\u001b[0;32m/anaconda3/lib/python3.6/site-packages/pandas/io/json/normalize.py\u001b[0m in \u001b[0;36mjson_normalize\u001b[0;34m(data, record_path, meta, meta_prefix, record_prefix, errors, sep)\u001b[0m\n\u001b[1;32m    277\u001b[0m                              'need distinguishing prefix '.format(name=k))\n\u001b[1;32m    278\u001b[0m \u001b[0;34m\u001b[0m\u001b[0m\n\u001b[0;32m--> 279\u001b[0;31m         \u001b[0mresult\u001b[0m\u001b[0;34m[\u001b[0m\u001b[0mk\u001b[0m\u001b[0;34m]\u001b[0m \u001b[0;34m=\u001b[0m \u001b[0mnp\u001b[0m\u001b[0;34m.\u001b[0m\u001b[0marray\u001b[0m\u001b[0;34m(\u001b[0m\u001b[0mv\u001b[0m\u001b[0;34m)\u001b[0m\u001b[0;34m.\u001b[0m\u001b[0mrepeat\u001b[0m\u001b[0;34m(\u001b[0m\u001b[0mlengths\u001b[0m\u001b[0;34m)\u001b[0m\u001b[0;34m\u001b[0m\u001b[0m\n\u001b[0m\u001b[1;32m    280\u001b[0m \u001b[0;34m\u001b[0m\u001b[0m\n\u001b[1;32m    281\u001b[0m     \u001b[0;32mreturn\u001b[0m \u001b[0mresult\u001b[0m\u001b[0;34m\u001b[0m\u001b[0m\n",
      "\u001b[0;32m/anaconda3/lib/python3.6/site-packages/pandas/core/frame.py\u001b[0m in \u001b[0;36m__setitem__\u001b[0;34m(self, key, value)\u001b[0m\n\u001b[1;32m   3117\u001b[0m         \u001b[0;32melse\u001b[0m\u001b[0;34m:\u001b[0m\u001b[0;34m\u001b[0m\u001b[0m\n\u001b[1;32m   3118\u001b[0m             \u001b[0;31m# set column\u001b[0m\u001b[0;34m\u001b[0m\u001b[0;34m\u001b[0m\u001b[0m\n\u001b[0;32m-> 3119\u001b[0;31m             \u001b[0mself\u001b[0m\u001b[0;34m.\u001b[0m\u001b[0m_set_item\u001b[0m\u001b[0;34m(\u001b[0m\u001b[0mkey\u001b[0m\u001b[0;34m,\u001b[0m \u001b[0mvalue\u001b[0m\u001b[0;34m)\u001b[0m\u001b[0;34m\u001b[0m\u001b[0m\n\u001b[0m\u001b[1;32m   3120\u001b[0m \u001b[0;34m\u001b[0m\u001b[0m\n\u001b[1;32m   3121\u001b[0m     \u001b[0;32mdef\u001b[0m \u001b[0m_setitem_slice\u001b[0m\u001b[0;34m(\u001b[0m\u001b[0mself\u001b[0m\u001b[0;34m,\u001b[0m \u001b[0mkey\u001b[0m\u001b[0;34m,\u001b[0m \u001b[0mvalue\u001b[0m\u001b[0;34m)\u001b[0m\u001b[0;34m:\u001b[0m\u001b[0;34m\u001b[0m\u001b[0m\n",
      "\u001b[0;32m/anaconda3/lib/python3.6/site-packages/pandas/core/frame.py\u001b[0m in \u001b[0;36m_set_item\u001b[0;34m(self, key, value)\u001b[0m\n\u001b[1;32m   3192\u001b[0m \u001b[0;34m\u001b[0m\u001b[0m\n\u001b[1;32m   3193\u001b[0m         \u001b[0mself\u001b[0m\u001b[0;34m.\u001b[0m\u001b[0m_ensure_valid_index\u001b[0m\u001b[0;34m(\u001b[0m\u001b[0mvalue\u001b[0m\u001b[0;34m)\u001b[0m\u001b[0;34m\u001b[0m\u001b[0m\n\u001b[0;32m-> 3194\u001b[0;31m         \u001b[0mvalue\u001b[0m \u001b[0;34m=\u001b[0m \u001b[0mself\u001b[0m\u001b[0;34m.\u001b[0m\u001b[0m_sanitize_column\u001b[0m\u001b[0;34m(\u001b[0m\u001b[0mkey\u001b[0m\u001b[0;34m,\u001b[0m \u001b[0mvalue\u001b[0m\u001b[0;34m)\u001b[0m\u001b[0;34m\u001b[0m\u001b[0m\n\u001b[0m\u001b[1;32m   3195\u001b[0m         \u001b[0mNDFrame\u001b[0m\u001b[0;34m.\u001b[0m\u001b[0m_set_item\u001b[0m\u001b[0;34m(\u001b[0m\u001b[0mself\u001b[0m\u001b[0;34m,\u001b[0m \u001b[0mkey\u001b[0m\u001b[0;34m,\u001b[0m \u001b[0mvalue\u001b[0m\u001b[0;34m)\u001b[0m\u001b[0;34m\u001b[0m\u001b[0m\n\u001b[1;32m   3196\u001b[0m \u001b[0;34m\u001b[0m\u001b[0m\n",
      "\u001b[0;32m/anaconda3/lib/python3.6/site-packages/pandas/core/frame.py\u001b[0m in \u001b[0;36m_sanitize_column\u001b[0;34m(self, key, value, broadcast)\u001b[0m\n\u001b[1;32m   3389\u001b[0m \u001b[0;34m\u001b[0m\u001b[0m\n\u001b[1;32m   3390\u001b[0m             \u001b[0;31m# turn me into an ndarray\u001b[0m\u001b[0;34m\u001b[0m\u001b[0;34m\u001b[0m\u001b[0m\n\u001b[0;32m-> 3391\u001b[0;31m             \u001b[0mvalue\u001b[0m \u001b[0;34m=\u001b[0m \u001b[0m_sanitize_index\u001b[0m\u001b[0;34m(\u001b[0m\u001b[0mvalue\u001b[0m\u001b[0;34m,\u001b[0m \u001b[0mself\u001b[0m\u001b[0;34m.\u001b[0m\u001b[0mindex\u001b[0m\u001b[0;34m,\u001b[0m \u001b[0mcopy\u001b[0m\u001b[0;34m=\u001b[0m\u001b[0;32mFalse\u001b[0m\u001b[0;34m)\u001b[0m\u001b[0;34m\u001b[0m\u001b[0m\n\u001b[0m\u001b[1;32m   3392\u001b[0m             \u001b[0;32mif\u001b[0m \u001b[0;32mnot\u001b[0m \u001b[0misinstance\u001b[0m\u001b[0;34m(\u001b[0m\u001b[0mvalue\u001b[0m\u001b[0;34m,\u001b[0m \u001b[0;34m(\u001b[0m\u001b[0mnp\u001b[0m\u001b[0;34m.\u001b[0m\u001b[0mndarray\u001b[0m\u001b[0;34m,\u001b[0m \u001b[0mIndex\u001b[0m\u001b[0;34m)\u001b[0m\u001b[0;34m)\u001b[0m\u001b[0;34m:\u001b[0m\u001b[0;34m\u001b[0m\u001b[0m\n\u001b[1;32m   3393\u001b[0m                 \u001b[0;32mif\u001b[0m \u001b[0misinstance\u001b[0m\u001b[0;34m(\u001b[0m\u001b[0mvalue\u001b[0m\u001b[0;34m,\u001b[0m \u001b[0mlist\u001b[0m\u001b[0;34m)\u001b[0m \u001b[0;32mand\u001b[0m \u001b[0mlen\u001b[0m\u001b[0;34m(\u001b[0m\u001b[0mvalue\u001b[0m\u001b[0;34m)\u001b[0m \u001b[0;34m>\u001b[0m \u001b[0;36m0\u001b[0m\u001b[0;34m:\u001b[0m\u001b[0;34m\u001b[0m\u001b[0m\n",
      "\u001b[0;32m/anaconda3/lib/python3.6/site-packages/pandas/core/series.py\u001b[0m in \u001b[0;36m_sanitize_index\u001b[0;34m(data, index, copy)\u001b[0m\n\u001b[1;32m   3999\u001b[0m \u001b[0;34m\u001b[0m\u001b[0m\n\u001b[1;32m   4000\u001b[0m     \u001b[0;32mif\u001b[0m \u001b[0mlen\u001b[0m\u001b[0;34m(\u001b[0m\u001b[0mdata\u001b[0m\u001b[0;34m)\u001b[0m \u001b[0;34m!=\u001b[0m \u001b[0mlen\u001b[0m\u001b[0;34m(\u001b[0m\u001b[0mindex\u001b[0m\u001b[0;34m)\u001b[0m\u001b[0;34m:\u001b[0m\u001b[0;34m\u001b[0m\u001b[0m\n\u001b[0;32m-> 4001\u001b[0;31m         \u001b[0;32mraise\u001b[0m \u001b[0mValueError\u001b[0m\u001b[0;34m(\u001b[0m\u001b[0;34m'Length of values does not match length of '\u001b[0m \u001b[0;34m'index'\u001b[0m\u001b[0;34m)\u001b[0m\u001b[0;34m\u001b[0m\u001b[0m\n\u001b[0m\u001b[1;32m   4002\u001b[0m \u001b[0;34m\u001b[0m\u001b[0m\n\u001b[1;32m   4003\u001b[0m     \u001b[0;32mif\u001b[0m \u001b[0misinstance\u001b[0m\u001b[0;34m(\u001b[0m\u001b[0mdata\u001b[0m\u001b[0;34m,\u001b[0m \u001b[0mABCIndexClass\u001b[0m\u001b[0;34m)\u001b[0m \u001b[0;32mand\u001b[0m \u001b[0;32mnot\u001b[0m \u001b[0mcopy\u001b[0m\u001b[0;34m:\u001b[0m\u001b[0;34m\u001b[0m\u001b[0m\n",
      "\u001b[0;31mValueError\u001b[0m: Length of values does not match length of index"
     ]
    }
   ],
   "source": [
    "json_normalize(sub_dict, record_path=['event_results'], meta=['event_id'])"
   ]
  },
  {
   "cell_type": "code",
   "execution_count": null,
   "metadata": {},
   "outputs": [],
   "source": []
  },
  {
   "cell_type": "code",
   "execution_count": 161,
   "metadata": {},
   "outputs": [
    {
     "data": {
      "text/plain": [
       "[{'aggregator': 'unique',\n",
       "  'event_id': 10757331770,\n",
       "  'name': 'Create new account button',\n",
       "  'results': {'10754871910': {'is_baseline': False,\n",
       "    'level': 'variation',\n",
       "    'lift': {'confidence_interval': [-0.25586971870854713,\n",
       "      0.17414821658943955],\n",
       "     'is_significant': False,\n",
       "     'lift_status': 'worse',\n",
       "     'significance': 0.0,\n",
       "     'value': -0.003580937167199094,\n",
       "     'visitors_remaining': 3239},\n",
       "    'name': 'Removed phone field',\n",
       "    'rate': 0.49583333333333335,\n",
       "    'samples': 240,\n",
       "    'value': 119.0,\n",
       "    'variance': 0.2499826388888889,\n",
       "    'variation_id': '10754871910'},\n",
       "   '10755800895': {'is_baseline': True,\n",
       "    'level': 'variation',\n",
       "    'name': 'Original',\n",
       "    'rate': 0.49761526232114467,\n",
       "    'samples': 629,\n",
       "    'value': 313.0,\n",
       "    'variance': 0.249994313026203,\n",
       "    'variation_id': '10755800895'},\n",
       "   '10766970990': {'is_baseline': False,\n",
       "    'level': 'variation',\n",
       "    'lift': {'confidence_interval': [-0.18863950643038613, 0.1409790420200838],\n",
       "     'is_significant': False,\n",
       "     'lift_status': 'worse',\n",
       "     'significance': 0.0,\n",
       "     'value': -0.01746030882104821,\n",
       "     'visitors_remaining': 4975},\n",
       "    'name': 'Add marketing image',\n",
       "    'rate': 0.4889267461669506,\n",
       "    'samples': 587,\n",
       "    'value': 287.0,\n",
       "    'variance': 0.24987738304954882,\n",
       "    'variation_id': '10766970990'}},\n",
       "  'scope': 'visitor',\n",
       "  'winning_direction': 'increasing'},\n",
       " {'aggregator': 'unique',\n",
       "  'event_id': 10762312628,\n",
       "  'name': 'Phone',\n",
       "  'results': {'10754871910': {'is_baseline': False,\n",
       "    'level': 'variation',\n",
       "    'lift': {'is_significant': False,\n",
       "     'lift_status': 'worse',\n",
       "     'significance': 0.0,\n",
       "     'value': -1.0,\n",
       "     'visitors_remaining': 9223372036854775807},\n",
       "    'name': 'Removed phone field',\n",
       "    'rate': 0.0,\n",
       "    'samples': 240,\n",
       "    'value': 0.0,\n",
       "    'variance': 0.0,\n",
       "    'variation_id': '10754871910'},\n",
       "   '10755800895': {'is_baseline': True,\n",
       "    'level': 'variation',\n",
       "    'name': 'Original',\n",
       "    'rate': 0.3052464228934817,\n",
       "    'samples': 629,\n",
       "    'value': 192.0,\n",
       "    'variance': 0.21207104420421544,\n",
       "    'variation_id': '10755800895'},\n",
       "   '10766970990': {'is_baseline': False,\n",
       "    'level': 'variation',\n",
       "    'lift': {'confidence_interval': [-0.4077359730620307, 0.21045262295656636],\n",
       "     'is_significant': False,\n",
       "     'lift_status': 'worse',\n",
       "     'significance': 0.0,\n",
       "     'value': -0.09029848097671778,\n",
       "     'visitors_remaining': 1965},\n",
       "    'name': 'Add marketing image',\n",
       "    'rate': 0.2776831345826235,\n",
       "    'samples': 587,\n",
       "    'value': 163.0,\n",
       "    'variance': 0.2005752113509921,\n",
       "    'variation_id': '10766970990'}},\n",
       "  'scope': 'visitor',\n",
       "  'winning_direction': 'increasing'},\n",
       " {'aggregator': 'unique',\n",
       "  'event_id': 10769480069,\n",
       "  'name': 'Click Event for .xl .modal-body-inner',\n",
       "  'results': {'10754871910': {'is_baseline': False,\n",
       "    'level': 'variation',\n",
       "    'lift': {'confidence_interval': [-0.21153541194737344,\n",
       "      0.07108234825092513],\n",
       "     'is_significant': False,\n",
       "     'lift_status': 'worse',\n",
       "     'significance': 0.0,\n",
       "     'value': -0.06282051282051271,\n",
       "     'visitors_remaining': 722},\n",
       "    'name': 'Removed phone field',\n",
       "    'rate': 0.7166666666666667,\n",
       "    'samples': 240,\n",
       "    'value': 172.0,\n",
       "    'variance': 0.20305555555555554,\n",
       "    'variation_id': '10754871910'},\n",
       "   '10755800895': {'is_baseline': True,\n",
       "    'level': 'variation',\n",
       "    'name': 'Original',\n",
       "    'rate': 0.7647058823529411,\n",
       "    'samples': 629,\n",
       "    'value': 481.0,\n",
       "    'variance': 0.1799307958477509,\n",
       "    'variation_id': '10755800895'},\n",
       "   '10766970990': {'is_baseline': False,\n",
       "    'level': 'variation',\n",
       "    'lift': {'confidence_interval': [-0.13186825883400943,\n",
       "      0.07132038767917917],\n",
       "     'is_significant': False,\n",
       "     'lift_status': 'worse',\n",
       "     'significance': 0.0,\n",
       "     'value': -0.037609749705149964,\n",
       "     'visitors_remaining': 1731},\n",
       "    'name': 'Add marketing image',\n",
       "    'rate': 0.7359454855195912,\n",
       "    'samples': 587,\n",
       "    'value': 432.0,\n",
       "    'variance': 0.1943297278629244,\n",
       "    'variation_id': '10766970990'}},\n",
       "  'scope': 'visitor',\n",
       "  'winning_direction': 'increasing'}]"
      ]
     },
     "execution_count": 161,
     "metadata": {},
     "output_type": "execute_result"
    }
   ],
   "source": [
    "j_res['metrics']"
   ]
  },
  {
   "cell_type": "code",
   "execution_count": 101,
   "metadata": {},
   "outputs": [],
   "source": [
    "path = ['metrics']\n",
    "# 'reach', 'stats_config'"
   ]
  },
  {
   "cell_type": "code",
   "execution_count": 102,
   "metadata": {},
   "outputs": [],
   "source": [
    "meta = ['confidence_threshold', 'end_time', 'experiment_id', 'start_time']"
   ]
  },
  {
   "cell_type": "code",
   "execution_count": 103,
   "metadata": {},
   "outputs": [],
   "source": [
    "res_df = json_normalize(j_res, record_path=path, meta=meta)"
   ]
  },
  {
   "cell_type": "code",
   "execution_count": 104,
   "metadata": {},
   "outputs": [
    {
     "data": {
      "text/html": [
       "<div>\n",
       "<style scoped>\n",
       "    .dataframe tbody tr th:only-of-type {\n",
       "        vertical-align: middle;\n",
       "    }\n",
       "\n",
       "    .dataframe tbody tr th {\n",
       "        vertical-align: top;\n",
       "    }\n",
       "\n",
       "    .dataframe thead th {\n",
       "        text-align: right;\n",
       "    }\n",
       "</style>\n",
       "<table border=\"1\" class=\"dataframe\">\n",
       "  <thead>\n",
       "    <tr style=\"text-align: right;\">\n",
       "      <th></th>\n",
       "      <th>aggregator</th>\n",
       "      <th>event_id</th>\n",
       "      <th>name</th>\n",
       "      <th>results</th>\n",
       "      <th>scope</th>\n",
       "      <th>winning_direction</th>\n",
       "      <th>confidence_threshold</th>\n",
       "      <th>end_time</th>\n",
       "      <th>experiment_id</th>\n",
       "      <th>start_time</th>\n",
       "    </tr>\n",
       "  </thead>\n",
       "  <tbody>\n",
       "    <tr>\n",
       "      <th>0</th>\n",
       "      <td>unique</td>\n",
       "      <td>10757331770</td>\n",
       "      <td>Create new account button</td>\n",
       "      <td>{'10755800895': {'is_baseline': True, 'level':...</td>\n",
       "      <td>visitor</td>\n",
       "      <td>increasing</td>\n",
       "      <td>0.9</td>\n",
       "      <td>2018-06-03T04:55:00.000000Z</td>\n",
       "      <td>10756790433</td>\n",
       "      <td>2018-05-25T17:32:25.000000Z</td>\n",
       "    </tr>\n",
       "    <tr>\n",
       "      <th>1</th>\n",
       "      <td>unique</td>\n",
       "      <td>10762312628</td>\n",
       "      <td>Phone</td>\n",
       "      <td>{'10755800895': {'is_baseline': True, 'level':...</td>\n",
       "      <td>visitor</td>\n",
       "      <td>increasing</td>\n",
       "      <td>0.9</td>\n",
       "      <td>2018-06-03T04:55:00.000000Z</td>\n",
       "      <td>10756790433</td>\n",
       "      <td>2018-05-25T17:32:25.000000Z</td>\n",
       "    </tr>\n",
       "    <tr>\n",
       "      <th>2</th>\n",
       "      <td>unique</td>\n",
       "      <td>10769480069</td>\n",
       "      <td>Click Event for .xl .modal-body-inner</td>\n",
       "      <td>{'10755800895': {'is_baseline': True, 'level':...</td>\n",
       "      <td>visitor</td>\n",
       "      <td>increasing</td>\n",
       "      <td>0.9</td>\n",
       "      <td>2018-06-03T04:55:00.000000Z</td>\n",
       "      <td>10756790433</td>\n",
       "      <td>2018-05-25T17:32:25.000000Z</td>\n",
       "    </tr>\n",
       "  </tbody>\n",
       "</table>\n",
       "</div>"
      ],
      "text/plain": [
       "  aggregator     event_id                                   name  \\\n",
       "0     unique  10757331770              Create new account button   \n",
       "1     unique  10762312628                                  Phone   \n",
       "2     unique  10769480069  Click Event for .xl .modal-body-inner   \n",
       "\n",
       "                                             results    scope  \\\n",
       "0  {'10755800895': {'is_baseline': True, 'level':...  visitor   \n",
       "1  {'10755800895': {'is_baseline': True, 'level':...  visitor   \n",
       "2  {'10755800895': {'is_baseline': True, 'level':...  visitor   \n",
       "\n",
       "  winning_direction  confidence_threshold                     end_time  \\\n",
       "0        increasing                   0.9  2018-06-03T04:55:00.000000Z   \n",
       "1        increasing                   0.9  2018-06-03T04:55:00.000000Z   \n",
       "2        increasing                   0.9  2018-06-03T04:55:00.000000Z   \n",
       "\n",
       "   experiment_id                   start_time  \n",
       "0    10756790433  2018-05-25T17:32:25.000000Z  \n",
       "1    10756790433  2018-05-25T17:32:25.000000Z  \n",
       "2    10756790433  2018-05-25T17:32:25.000000Z  "
      ]
     },
     "execution_count": 104,
     "metadata": {},
     "output_type": "execute_result"
    }
   ],
   "source": [
    "res_df"
   ]
  },
  {
   "cell_type": "code",
   "execution_count": null,
   "metadata": {},
   "outputs": [],
   "source": []
  }
 ],
 "metadata": {
  "kernelspec": {
   "display_name": "Python 3",
   "language": "python",
   "name": "python3"
  },
  "language_info": {
   "codemirror_mode": {
    "name": "ipython",
    "version": 3
   },
   "file_extension": ".py",
   "mimetype": "text/x-python",
   "name": "python",
   "nbconvert_exporter": "python",
   "pygments_lexer": "ipython3",
   "version": "3.6.4"
  }
 },
 "nbformat": 4,
 "nbformat_minor": 2
}
