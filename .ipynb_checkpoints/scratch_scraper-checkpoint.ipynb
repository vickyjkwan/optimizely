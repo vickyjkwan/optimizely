{
 "cells": [
  {
   "cell_type": "markdown",
   "metadata": {},
   "source": [
    "https://developers.optimizely.com/x/rest/v2/#get-experiment-results"
   ]
  },
  {
   "cell_type": "markdown",
   "metadata": {},
   "source": [
    "https://curl.trillworks.com/"
   ]
  },
  {
   "cell_type": "markdown",
   "metadata": {},
   "source": [
    "https://app.optimizely.com/v2/projects/10347872424/experiments/12239002639/api_names"
   ]
  },
  {
   "cell_type": "markdown",
   "metadata": {},
   "source": [
    "# Project -Corporate Website - Landing Pages (id: 10429921250)"
   ]
  },
  {
   "cell_type": "code",
   "execution_count": 1,
   "metadata": {},
   "outputs": [],
   "source": [
    "import requests\n",
    "import json"
   ]
  },
  {
   "cell_type": "code",
   "execution_count": 2,
   "metadata": {},
   "outputs": [],
   "source": [
    "headers = {\n",
    "    'Authorization': 'Bearer 2:EWAWmaXb4TgtYVU2VvwoEF-9UbJxBahkiFh1633_Oc9nmju7iJis',\n",
    "}"
   ]
  },
  {
   "cell_type": "code",
   "execution_count": 8,
   "metadata": {},
   "outputs": [],
   "source": [
    "params = (\n",
    "    ('project_id', 10429921250),\n",
    ")"
   ]
  },
  {
   "cell_type": "code",
   "execution_count": 11,
   "metadata": {},
   "outputs": [],
   "source": [
    "# to get all projects\n",
    "response_proj = requests.get('https://api.optimizely.com/v2/projects', headers=headers, params=params)"
   ]
  },
  {
   "cell_type": "code",
   "execution_count": 14,
   "metadata": {},
   "outputs": [],
   "source": [
    "j = json.loads(response_proj.text)"
   ]
  },
  {
   "cell_type": "code",
   "execution_count": 15,
   "metadata": {},
   "outputs": [
    {
     "data": {
      "text/plain": [
       "[{'account_id': 8725961507,\n",
       "  'confidence_threshold': 0.9,\n",
       "  'created': '2018-01-04T20:50:13.101130Z',\n",
       "  'id': 9965963792,\n",
       "  'is_classic': False,\n",
       "  'last_modified': '2018-12-03T18:32:20.382553Z',\n",
       "  'name': 'Onboarding',\n",
       "  'platform': 'web',\n",
       "  'sdks': [],\n",
       "  'status': 'active',\n",
       "  'web_snippet': {'code_revision': 191,\n",
       "   'enable_force_variation': False,\n",
       "   'exclude_disabled_experiments': False,\n",
       "   'exclude_names': True,\n",
       "   'include_jquery': False,\n",
       "   'ip_anonymization': False,\n",
       "   'ip_filter': '^(99\\\\.20\\\\.23\\\\.105|76\\\\.250\\\\.184\\\\.81|70\\\\.166\\\\.189\\\\.(3[2-9]|4[0-8]))$',\n",
       "   'js_file_size': 79948,\n",
       "   'library': 'none'}},\n",
       " {'account_id': 8725961507,\n",
       "  'confidence_threshold': 0.9,\n",
       "  'created': '2018-02-22T23:29:15.972680Z',\n",
       "  'id': 10347872424,\n",
       "  'is_classic': False,\n",
       "  'last_modified': '2019-01-17T23:13:21.474554Z',\n",
       "  'name': 'Corporate Website',\n",
       "  'platform': 'web',\n",
       "  'sdks': [],\n",
       "  'status': 'active',\n",
       "  'web_snippet': {'code_revision': 1306,\n",
       "   'enable_force_variation': False,\n",
       "   'exclude_disabled_experiments': False,\n",
       "   'exclude_names': False,\n",
       "   'include_jquery': False,\n",
       "   'ip_anonymization': False,\n",
       "   'ip_filter': '^(99\\\\.20\\\\.23\\\\.105|76\\\\.250\\\\.184\\\\.81|70\\\\.166\\\\.189\\\\.(3[2-9]|4[0-8]))$',\n",
       "   'js_file_size': 88920,\n",
       "   'library': 'none'}},\n",
       " {'account_id': 8725961507,\n",
       "  'confidence_threshold': 0.95,\n",
       "  'created': '2018-03-08T16:52:59.992260Z',\n",
       "  'id': 10427612860,\n",
       "  'is_classic': False,\n",
       "  'last_modified': '2019-01-11T17:33:11.535042Z',\n",
       "  'name': 'Marketo Pages',\n",
       "  'platform': 'web',\n",
       "  'sdks': [],\n",
       "  'status': 'active',\n",
       "  'web_snippet': {'code_revision': 90,\n",
       "   'enable_force_variation': False,\n",
       "   'exclude_disabled_experiments': False,\n",
       "   'exclude_names': True,\n",
       "   'include_jquery': False,\n",
       "   'ip_anonymization': False,\n",
       "   'ip_filter': '^(99\\\\.20\\\\.23\\\\.105|76\\\\.250\\\\.184\\\\.81|70\\\\.166\\\\.189\\\\.(3[2-9]|4[0-8]))$',\n",
       "   'js_file_size': 83359,\n",
       "   'library': 'none'}},\n",
       " {'account_id': 8725961507,\n",
       "  'confidence_threshold': 0.9,\n",
       "  'created': '2018-03-08T16:52:48.915460Z',\n",
       "  'id': 10429921250,\n",
       "  'is_classic': False,\n",
       "  'last_modified': '2019-01-18T00:27:22.242545Z',\n",
       "  'name': 'Corporate Website - Landing Pages',\n",
       "  'platform': 'web',\n",
       "  'sdks': [],\n",
       "  'status': 'active',\n",
       "  'web_snippet': {'code_revision': 370,\n",
       "   'enable_force_variation': False,\n",
       "   'exclude_disabled_experiments': False,\n",
       "   'exclude_names': True,\n",
       "   'include_jquery': False,\n",
       "   'ip_anonymization': False,\n",
       "   'ip_filter': '^(99\\\\.20\\\\.23\\\\.105|76\\\\.250\\\\.184\\\\.81|70\\\\.166\\\\.189\\\\.(3[2-9]|4[0-8]))$',\n",
       "   'js_file_size': 80472,\n",
       "   'library': 'none'}},\n",
       " {'account_id': 8725961507,\n",
       "  'confidence_threshold': 0.9,\n",
       "  'created': '2018-06-14T21:17:23.824620Z',\n",
       "  'id': 10849384554,\n",
       "  'is_classic': False,\n",
       "  'last_modified': '2018-12-03T18:30:16.605787Z',\n",
       "  'name': 'Corporate Website - Copy',\n",
       "  'platform': 'web',\n",
       "  'sdks': [],\n",
       "  'status': 'active',\n",
       "  'web_snippet': {'code_revision': 93,\n",
       "   'enable_force_variation': False,\n",
       "   'exclude_disabled_experiments': False,\n",
       "   'exclude_names': True,\n",
       "   'include_jquery': False,\n",
       "   'ip_anonymization': False,\n",
       "   'ip_filter': '^(99\\\\.20\\\\.23\\\\.105|76\\\\.250\\\\.184\\\\.81|70\\\\.166\\\\.189\\\\.(3[2-9]|4[0-8]))$',\n",
       "   'js_file_size': 78566,\n",
       "   'library': 'none'}}]"
      ]
     },
     "execution_count": 15,
     "metadata": {},
     "output_type": "execute_result"
    }
   ],
   "source": [
    "j"
   ]
  },
  {
   "cell_type": "markdown",
   "metadata": {},
   "source": [
    "## List of Campaigns"
   ]
  },
  {
   "cell_type": "code",
   "execution_count": 3,
   "metadata": {},
   "outputs": [],
   "source": [
    "params = (\n",
    "    ('project_id', 10429921250),\n",
    ")"
   ]
  },
  {
   "cell_type": "code",
   "execution_count": null,
   "metadata": {},
   "outputs": [],
   "source": [
    "# to get campaign results\n",
    "# response_camp = requests.get('https://api.optimizely.com/v2/campaigns/12809520354/results', headers=headers, params=params)\n"
   ]
  },
  {
   "cell_type": "code",
   "execution_count": 4,
   "metadata": {},
   "outputs": [],
   "source": [
    "# to get all campaigns\n",
    "response_camp = requests.get('https://api.optimizely.com/v2/campaigns', headers=headers, params=params)"
   ]
  },
  {
   "cell_type": "code",
   "execution_count": 5,
   "metadata": {},
   "outputs": [
    {
     "data": {
      "text/plain": [
       "<Response [200]>"
      ]
     },
     "execution_count": 5,
     "metadata": {},
     "output_type": "execute_result"
    }
   ],
   "source": [
    "response_camp"
   ]
  },
  {
   "cell_type": "code",
   "execution_count": 6,
   "metadata": {},
   "outputs": [],
   "source": [
    "j_camp = json.loads(response_camp.text)"
   ]
  },
  {
   "cell_type": "code",
   "execution_count": 7,
   "metadata": {},
   "outputs": [
    {
     "data": {
      "text/plain": [
       "[]"
      ]
     },
     "execution_count": 7,
     "metadata": {},
     "output_type": "execute_result"
    }
   ],
   "source": [
    "j_camp"
   ]
  },
  {
   "cell_type": "markdown",
   "metadata": {},
   "source": [
    "## List of Experiments"
   ]
  },
  {
   "cell_type": "code",
   "execution_count": null,
   "metadata": {},
   "outputs": [],
   "source": [
    "params = (\n",
    "    ('project_id', 10429921250),\n",
    "    ('per_page', 100),\n",
    ")"
   ]
  },
  {
   "cell_type": "code",
   "execution_count": null,
   "metadata": {},
   "outputs": [],
   "source": [
    "# to get a list of experiments within a project\n",
    "response_exp = requests.get('https://api.optimizely.com/v2/experiments', headers=headers, params=params)\n"
   ]
  },
  {
   "cell_type": "code",
   "execution_count": null,
   "metadata": {},
   "outputs": [],
   "source": [
    "j_exp = json.loads(response_exp.text)"
   ]
  },
  {
   "cell_type": "code",
   "execution_count": null,
   "metadata": {},
   "outputs": [],
   "source": [
    "len(j_exp)"
   ]
  },
  {
   "cell_type": "code",
   "execution_count": null,
   "metadata": {},
   "outputs": [],
   "source": [
    "status_list = list()"
   ]
  },
  {
   "cell_type": "code",
   "execution_count": null,
   "metadata": {},
   "outputs": [],
   "source": [
    "for exp in j_exp:\n",
    "    status_list.append(exp['status'])"
   ]
  },
  {
   "cell_type": "code",
   "execution_count": null,
   "metadata": {},
   "outputs": [],
   "source": [
    "for exp in j_exp:\n",
    "    if exp['status'] == 'archived':\n",
    "        print(exp['name'])"
   ]
  },
  {
   "cell_type": "code",
   "execution_count": null,
   "metadata": {},
   "outputs": [],
   "source": [
    "set(status_list)"
   ]
  },
  {
   "cell_type": "code",
   "execution_count": null,
   "metadata": {},
   "outputs": [],
   "source": [
    "for exp in j_exp:\n",
    "    if exp['name'] == 'Facebook Pages Chat Removal':\n",
    "        eg_exp_1 = exp"
   ]
  },
  {
   "cell_type": "code",
   "execution_count": null,
   "metadata": {},
   "outputs": [],
   "source": [
    "eg_exp_1"
   ]
  },
  {
   "cell_type": "code",
   "execution_count": null,
   "metadata": {},
   "outputs": [],
   "source": [
    "for exp in j_exp:\n",
    "    if exp['name'] == 'Live Demo HeadlineCopy':\n",
    "        eg_exp_2 = exp"
   ]
  },
  {
   "cell_type": "code",
   "execution_count": null,
   "metadata": {},
   "outputs": [],
   "source": [
    "eg_exp_2"
   ]
  },
  {
   "cell_type": "code",
   "execution_count": null,
   "metadata": {},
   "outputs": [],
   "source": [
    "# pretty_printer = pprint.PrettyPrinter()"
   ]
  },
  {
   "cell_type": "code",
   "execution_count": null,
   "metadata": {},
   "outputs": [],
   "source": [
    "# pretty_printer.pprint(response.text)"
   ]
  },
  {
   "cell_type": "code",
   "execution_count": null,
   "metadata": {
    "scrolled": true
   },
   "outputs": [],
   "source": [
    "# response.text"
   ]
  },
  {
   "cell_type": "markdown",
   "metadata": {},
   "source": [
    "# Experiment: \"get-organized\" lp cut down"
   ]
  },
  {
   "cell_type": "code",
   "execution_count": null,
   "metadata": {},
   "outputs": [],
   "source": [
    "response = requests.get('https://api.optimizely.com/v2/experiments/10798551869/results', headers=headers)\n",
    "\n",
    "    "
   ]
  },
  {
   "cell_type": "code",
   "execution_count": null,
   "metadata": {},
   "outputs": [],
   "source": [
    "j_results = json.loads(response.text)"
   ]
  },
  {
   "cell_type": "code",
   "execution_count": null,
   "metadata": {},
   "outputs": [],
   "source": [
    "j_results"
   ]
  },
  {
   "cell_type": "code",
   "execution_count": null,
   "metadata": {},
   "outputs": [],
   "source": [
    "j_results['confidence_threshold']"
   ]
  },
  {
   "cell_type": "code",
   "execution_count": null,
   "metadata": {},
   "outputs": [],
   "source": [
    "j_results['end_time']"
   ]
  },
  {
   "cell_type": "code",
   "execution_count": null,
   "metadata": {},
   "outputs": [],
   "source": [
    "j_results['metrics'][0].keys()"
   ]
  },
  {
   "cell_type": "code",
   "execution_count": null,
   "metadata": {},
   "outputs": [],
   "source": [
    "j_results['metrics'][0]['aggregator']"
   ]
  },
  {
   "cell_type": "code",
   "execution_count": null,
   "metadata": {},
   "outputs": [],
   "source": [
    "j_results['metrics'][0]['event_id']"
   ]
  },
  {
   "cell_type": "code",
   "execution_count": null,
   "metadata": {},
   "outputs": [],
   "source": [
    "# each results of an experiment contains metrics, which correspond to the summary page\n",
    "# 'metrics' is a list, ? multiple metrics edge case\n",
    "# for each metric in 'metrics', 'results' contains all options for AB testing ( contains name, sample sizes, etc)\n",
    "j_results['metrics'][0]['results']['11044023518']"
   ]
  },
  {
   "cell_type": "code",
   "execution_count": null,
   "metadata": {
    "scrolled": true
   },
   "outputs": [],
   "source": [
    "# experiment: Marketing Automation\n"
   ]
  },
  {
   "cell_type": "code",
   "execution_count": null,
   "metadata": {},
   "outputs": [],
   "source": [
    "for exp in j_exp:\n",
    "    if exp['name'] == 'Marketing Automation':\n",
    "        eg_exp = exp"
   ]
  },
  {
   "cell_type": "code",
   "execution_count": null,
   "metadata": {},
   "outputs": [],
   "source": [
    "eg_exp"
   ]
  },
  {
   "cell_type": "code",
   "execution_count": null,
   "metadata": {},
   "outputs": [],
   "source": []
  },
  {
   "cell_type": "markdown",
   "metadata": {},
   "source": [
    "# Project id: 10429921250, name: Corporate Website - Landing Pages"
   ]
  },
  {
   "cell_type": "code",
   "execution_count": null,
   "metadata": {},
   "outputs": [],
   "source": [
    "# Question: how many 'running' experiments are there in this project?"
   ]
  },
  {
   "cell_type": "code",
   "execution_count": null,
   "metadata": {},
   "outputs": [],
   "source": [
    "params = (\n",
    "    ('project_id', 10429921250),\n",
    ")"
   ]
  },
  {
   "cell_type": "code",
   "execution_count": null,
   "metadata": {},
   "outputs": [],
   "source": [
    "response_exp = requests.get('https://api.optimizely.com/v2/experiments', headers=headers, params=params)"
   ]
  },
  {
   "cell_type": "code",
   "execution_count": null,
   "metadata": {},
   "outputs": [],
   "source": [
    "j_exp = json.loads(response_exp.text)"
   ]
  },
  {
   "cell_type": "code",
   "execution_count": null,
   "metadata": {},
   "outputs": [],
   "source": [
    "exp_list = list()"
   ]
  },
  {
   "cell_type": "code",
   "execution_count": null,
   "metadata": {},
   "outputs": [],
   "source": [
    "for exp in j_exp:\n",
    "    exp_list.append(exp['name'])"
   ]
  },
  {
   "cell_type": "code",
   "execution_count": null,
   "metadata": {},
   "outputs": [],
   "source": [
    "exp_list"
   ]
  },
  {
   "cell_type": "code",
   "execution_count": null,
   "metadata": {},
   "outputs": [],
   "source": [
    "l = list()"
   ]
  },
  {
   "cell_type": "code",
   "execution_count": null,
   "metadata": {},
   "outputs": [],
   "source": [
    "for exp in j_exp:\n",
    "    l.append(exp['status'])"
   ]
  },
  {
   "cell_type": "code",
   "execution_count": null,
   "metadata": {},
   "outputs": [],
   "source": [
    "set(l)"
   ]
  },
  {
   "cell_type": "code",
   "execution_count": null,
   "metadata": {},
   "outputs": [],
   "source": [
    "for exp in j_exp:\n",
    "    if exp['status'] == 'paused':\n",
    "        l.append(exp)"
   ]
  },
  {
   "cell_type": "code",
   "execution_count": null,
   "metadata": {},
   "outputs": [],
   "source": [
    "len(l)"
   ]
  },
  {
   "cell_type": "code",
   "execution_count": null,
   "metadata": {},
   "outputs": [],
   "source": [
    "name_list = list()"
   ]
  },
  {
   "cell_type": "code",
   "execution_count": null,
   "metadata": {},
   "outputs": [],
   "source": [
    "for exp in j_exp:\n",
    "    if exp['status'] == 'not_started':\n",
    "        name_list.append(exp['name'])"
   ]
  },
  {
   "cell_type": "code",
   "execution_count": null,
   "metadata": {},
   "outputs": [],
   "source": [
    "name_list"
   ]
  },
  {
   "cell_type": "code",
   "execution_count": null,
   "metadata": {},
   "outputs": [],
   "source": [
    "# only 'paused' and 'archived' experiments have results, but some 'archived' have no result"
   ]
  },
  {
   "cell_type": "code",
   "execution_count": null,
   "metadata": {},
   "outputs": [],
   "source": []
  }
 ],
 "metadata": {
  "kernelspec": {
   "display_name": "Python 3",
   "language": "python",
   "name": "python3"
  },
  "language_info": {
   "codemirror_mode": {
    "name": "ipython",
    "version": 3
   },
   "file_extension": ".py",
   "mimetype": "text/x-python",
   "name": "python",
   "nbconvert_exporter": "python",
   "pygments_lexer": "ipython3",
   "version": "3.6.4"
  }
 },
 "nbformat": 4,
 "nbformat_minor": 2
}
