{
 "cells": [
  {
   "cell_type": "markdown",
   "metadata": {},
   "source": [
    "https://developers.optimizely.com/x/rest/v2/#get-experiment-results"
   ]
  },
  {
   "cell_type": "markdown",
   "metadata": {},
   "source": [
    "https://curl.trillworks.com/"
   ]
  },
  {
   "cell_type": "markdown",
   "metadata": {},
   "source": [
    "https://app.optimizely.com/v2/projects/10347872424/experiments/12239002639/api_names"
   ]
  },
  {
   "cell_type": "markdown",
   "metadata": {},
   "source": [
    "# Project - Corporate Website"
   ]
  },
  {
   "cell_type": "code",
   "execution_count": 1,
   "metadata": {},
   "outputs": [],
   "source": [
    "import requests"
   ]
  },
  {
   "cell_type": "code",
   "execution_count": 68,
   "metadata": {},
   "outputs": [],
   "source": [
    "headers = {\n",
    "    'Authorization': 'Bearer 2:EWAWmaXb4TgtYVU2VvwoEF-9UbJxBahkiFh1633_Oc9nmju7iJis',\n",
    "}"
   ]
  },
  {
   "cell_type": "code",
   "execution_count": 69,
   "metadata": {},
   "outputs": [],
   "source": [
    "params = (\n",
    "    ('project_id', 10347872424),\n",
    ")"
   ]
  },
  {
   "cell_type": "code",
   "execution_count": 70,
   "metadata": {},
   "outputs": [],
   "source": [
    "response = requests.get('https://api.optimizely.com/v2/pages', headers=headers, params=params)\n"
   ]
  },
  {
   "cell_type": "code",
   "execution_count": 23,
   "metadata": {},
   "outputs": [],
   "source": [
    "import pprint"
   ]
  },
  {
   "cell_type": "code",
   "execution_count": 24,
   "metadata": {},
   "outputs": [],
   "source": [
    "pretty_printer = pprint.PrettyPrinter()"
   ]
  },
  {
   "cell_type": "code",
   "execution_count": 71,
   "metadata": {},
   "outputs": [
    {
     "name": "stdout",
     "output_type": "stream",
     "text": [
      "('[{\"activation_type\": \"immediate\", \"archived\": false, \"category\": \"other\", '\n",
      " '\"conditions\": \"[\\\\\"and\\\\\", [\\\\\"or\\\\\", {\\\\\"match_type\\\\\": \\\\\"substring\\\\\", '\n",
      " '\\\\\"type\\\\\": \\\\\"url\\\\\", \\\\\"value\\\\\": \\\\\"www.infusionsoft.com/go/\\\\\"}]]\", '\n",
      " '\"created\": \"2018-08-09T23:29:05.847370Z\", \"edit_url\": '\n",
      " '\"https://www.infusionsoft.com/go/crm\", \"id\": 11189893571, \"key\": '\n",
      " '\"10347872424_go_pages\", \"last_modified\": \"2018-08-09T23:29:05.847380Z\", '\n",
      " '\"name\": \"\\\\\"Go\\\\\" Pages\", \"project_id\": 10347872424}, {\"activation_type\": '\n",
      " '\"immediate\", \"archived\": false, \"category\": \"other\", \"conditions\": '\n",
      " '\"[\\\\\"and\\\\\", [\\\\\"or\\\\\", {\\\\\"match_type\\\\\": \\\\\"simple\\\\\", \\\\\"type\\\\\": '\n",
      " '\\\\\"url\\\\\", \\\\\"value\\\\\": \\\\\"https://www.infusionsoft.com/partners\\\\\"}]]\", '\n",
      " '\"created\": \"2018-09-14T17:35:52.589108Z\", \"edit_url\": '\n",
      " '\"https://www.infusionsoft.com/partners\", \"id\": 11424604041, \"key\": '\n",
      " '\"10347872424_partners_overview\", \"last_modified\": '\n",
      " '\"2018-09-14T17:35:52.589112Z\", \"name\": \"Partners Overview\", \"project_id\": '\n",
      " '10347872424}, {\"activation_type\": \"immediate\", \"archived\": false, '\n",
      " '\"category\": \"other\", \"conditions\": \"[\\\\\"or\\\\\", [\\\\\"or\\\\\", {\\\\\"match_type\\\\\": '\n",
      " '\\\\\"simple\\\\\", \\\\\"type\\\\\": \\\\\"url\\\\\", \\\\\"value\\\\\": '\n",
      " '\\\\\"https://www.infusionsoft.com/business-success-blog\\\\\"}]]\", \"created\": '\n",
      " '\"2018-08-28T18:09:14.045040Z\", \"edit_url\": '\n",
      " '\"https://www.infusionsoft.com/business-success-blog\", \"id\": 11362100611, '\n",
      " '\"key\": \"10347872424_bsb_overview\", \"last_modified\": '\n",
      " '\"2018-08-28T18:19:21.860650Z\", \"name\": \"BSB Overview\", \"project_id\": '\n",
      " '10347872424}, {\"activation_type\": \"immediate\", \"archived\": false, '\n",
      " '\"category\": \"other\", \"conditions\": \"[\\\\\"or\\\\\", [\\\\\"or\\\\\", {\\\\\"match_type\\\\\": '\n",
      " '\\\\\"simple\\\\\", \\\\\"type\\\\\": \\\\\"url\\\\\", \\\\\"value\\\\\": '\n",
      " '\\\\\"www.infusionsoft.com/lp/get-organized\\\\\"}, {\\\\\"match_type\\\\\": '\n",
      " '\\\\\"simple\\\\\", \\\\\"type\\\\\": \\\\\"url\\\\\", \\\\\"value\\\\\": '\n",
      " '\\\\\"www.infusionsoft.com/lp/drip-campaign\\\\\"}, {\\\\\"match_type\\\\\": '\n",
      " '\\\\\"simple\\\\\", \\\\\"type\\\\\": \\\\\"url\\\\\", \\\\\"value\\\\\": '\n",
      " '\\\\\"www.infusionsoft.com/lp/lead-follow-up\\\\\"}]]\", \"created\": '\n",
      " '\"2018-08-14T22:17:00.080430Z\", \"edit_url\": '\n",
      " '\"www.infusionsoft.com/lp/get-organized\", \"id\": 11220147123, \"key\": '\n",
      " '\"10347872424_lp__get_organizeddrip_campaignlead_follow_up\", \"last_modified\": '\n",
      " '\"2018-08-14T22:17:00.080440Z\", \"name\": \"LP - Get Organized/Drip '\n",
      " 'Campaign/Lead Follow Up\", \"project_id\": 10347872424}, {\"activation_type\": '\n",
      " '\"immediate\", \"archived\": false, \"category\": \"other\", \"conditions\": '\n",
      " '\"[\\\\\"and\\\\\", [\\\\\"or\\\\\", {\\\\\"match_type\\\\\": \\\\\"simple\\\\\", \\\\\"type\\\\\": '\n",
      " '\\\\\"url\\\\\", \\\\\"value\\\\\": '\n",
      " '\\\\\"https://www.infusionsoft.com/go/marketing-automation\\\\\"}]]\", \"created\": '\n",
      " '\"2018-11-09T21:30:17.346426Z\", \"edit_url\": '\n",
      " '\"https://www.infusionsoft.com/go/marketing-automation\", \"id\": 12099890973, '\n",
      " '\"key\": \"10347872424_go__marketing_automation\", \"last_modified\": '\n",
      " '\"2018-11-09T21:30:17.346434Z\", \"name\": \"Go - Marketing Automation\", '\n",
      " '\"project_id\": 10347872424}, {\"activation_type\": \"immediate\", \"archived\": '\n",
      " 'true, \"category\": \"other\", \"conditions\": \"[\\\\\"and\\\\\", [\\\\\"or\\\\\", '\n",
      " '{\\\\\"match_type\\\\\": \\\\\"simple\\\\\", \\\\\"type\\\\\": \\\\\"url\\\\\", \\\\\"value\\\\\": '\n",
      " '\\\\\"https://www.infusionsoft.com/lp/breakup-with-email\\\\\"}], [\\\\\"or\\\\\", '\n",
      " '{\\\\\"match_type\\\\\": \\\\\"substring\\\\\", \\\\\"type\\\\\": \\\\\"url\\\\\", \\\\\"value\\\\\": '\n",
      " '\\\\\"v=2\\\\\"}]]\", \"created\": \"2018-08-13T20:31:52.837070Z\", \"edit_url\": '\n",
      " '\"https://www.infusionsoft.com/lp/breakup-with-email?v=2\", \"id\": 11187897016, '\n",
      " '\"key\": \"10347872424_lp__breakup_with_email__v2_query_parameter\", '\n",
      " '\"last_modified\": \"2018-08-13T21:27:02.101680Z\", \"name\": \"LP - Breakup With '\n",
      " 'Email - v2 Query Parameter\", \"project_id\": 10347872424}, {\"activation_type\": '\n",
      " '\"immediate\", \"archived\": false, \"category\": \"other\", \"conditions\": '\n",
      " '\"[\\\\\"and\\\\\", [\\\\\"or\\\\\", {\\\\\"match_type\\\\\": \\\\\"simple\\\\\", \\\\\"type\\\\\": '\n",
      " '\\\\\"url\\\\\", \\\\\"value\\\\\": '\n",
      " '\\\\\"https://www.infusionsoft.com/lp/breakup-with-email\\\\\"}], [\\\\\"not\\\\\", '\n",
      " '[\\\\\"or\\\\\", {\\\\\"match_type\\\\\": \\\\\"substring\\\\\", \\\\\"type\\\\\": \\\\\"url\\\\\", '\n",
      " '\\\\\"value\\\\\": \\\\\"v=2\\\\\"}]], [\\\\\"not\\\\\", [\\\\\"or\\\\\", {\\\\\"match_type\\\\\": '\n",
      " '\\\\\"substring\\\\\", \\\\\"type\\\\\": \\\\\"url\\\\\", \\\\\"value\\\\\": \\\\\"v=save-time\\\\\"}]]]\", '\n",
      " '\"created\": \"2018-08-06T02:25:41.260300Z\", \"edit_url\": '\n",
      " '\"https://www.infusionsoft.com/lp/breakup-with-email\", \"id\": 11212422626, '\n",
      " '\"key\": \"10347872424_url_targeting_for_lp_break_up_with_email__free_trial\", '\n",
      " '\"last_modified\": \"2018-10-01T22:03:50.464018Z\", \"name\": \"LP - Breakup With '\n",
      " 'Email w/o Variation\", \"page_type\": \"url_set\", \"project_id\": 10347872424}, '\n",
      " '{\"activation_type\": \"immediate\", \"archived\": false, \"category\": \"other\", '\n",
      " '\"conditions\": \"[\\\\\"and\\\\\", [\\\\\"or\\\\\", {\\\\\"match_type\\\\\": \\\\\"simple\\\\\", '\n",
      " '\\\\\"type\\\\\": \\\\\"url\\\\\", \\\\\"value\\\\\": '\n",
      " '\\\\\"https://www.infusionsoft.com/how-it-works\\\\\"}], [\\\\\"not\\\\\", [\\\\\"or\\\\\", '\n",
      " '{\\\\\"match_type\\\\\": \\\\\"substring\\\\\", \\\\\"type\\\\\": \\\\\"url\\\\\", \\\\\"value\\\\\": '\n",
      " '\\\\\"v=2\\\\\"}]]]\", \"created\": \"2018-08-14T22:38:40.348510Z\", \"edit_url\": '\n",
      " '\"https://www.infusionsoft.com/how-it-works\", \"id\": 11193717375, \"key\": '\n",
      " '\"10347872424_how_it_works\", \"last_modified\": \"2018-08-14T22:39:40.819160Z\", '\n",
      " '\"name\": \"How It Works - Control\", \"project_id\": 10347872424}, '\n",
      " '{\"activation_type\": \"immediate\", \"archived\": false, \"category\": \"other\", '\n",
      " '\"conditions\": \"[\\\\\"and\\\\\", [\\\\\"or\\\\\", {\\\\\"match_type\\\\\": \\\\\"simple\\\\\", '\n",
      " '\\\\\"type\\\\\": \\\\\"url\\\\\", \\\\\"value\\\\\": '\n",
      " '\\\\\"https://www.infusionsoft.com/lp/breakup-with-email\\\\\"}], [\\\\\"or\\\\\", '\n",
      " '{\\\\\"match_type\\\\\": \\\\\"substring\\\\\", \\\\\"type\\\\\": \\\\\"url\\\\\", \\\\\"value\\\\\": '\n",
      " '\\\\\"v=save-time\\\\\"}]]\", \"created\": \"2018-10-01T21:57:50.703462Z\", \"edit_url\": '\n",
      " '\"https://www.infusionsoft.com/lp/breakup-with-email?v=save-time\", \"id\": '\n",
      " '11688340228, \"key\": \"10347872424_lp__breakup_with_email__save_time\", '\n",
      " '\"last_modified\": \"2018-10-01T22:04:35.957639Z\", \"name\": \"LP - Breakup With '\n",
      " 'Email w/ Save Time Variation\", \"project_id\": 10347872424}, '\n",
      " '{\"activation_type\": \"immediate\", \"archived\": false, \"category\": \"other\", '\n",
      " '\"conditions\": \"[\\\\\"and\\\\\", [\\\\\"or\\\\\", {\\\\\"match_type\\\\\": \\\\\"simple\\\\\", '\n",
      " '\\\\\"type\\\\\": \\\\\"url\\\\\", \\\\\"value\\\\\": \\\\\"www.infusionsoft.com\\\\\"}], [\\\\\"or\\\\\", '\n",
      " '{\\\\\"match_type\\\\\": \\\\\"substring\\\\\", \\\\\"type\\\\\": \\\\\"url\\\\\", \\\\\"value\\\\\": '\n",
      " '\\\\\"v=2\\\\\"}]]\", \"created\": \"2018-11-06T00:01:54.371146Z\", \"edit_url\": '\n",
      " '\"https://www.infusionsoft.com/?v=2\", \"id\": 11923546969, \"key\": '\n",
      " '\"10347872424_homepage__version_2\", \"last_modified\": '\n",
      " '\"2018-11-06T00:01:54.371155Z\", \"name\": \"Homepage - Version 2\", \"project_id\": '\n",
      " '10347872424}, {\"activation_type\": \"immediate\", \"archived\": false, '\n",
      " '\"category\": \"other\", \"conditions\": \"[\\\\\"and\\\\\", [\\\\\"or\\\\\", '\n",
      " '{\\\\\"match_type\\\\\": \\\\\"simple\\\\\", \\\\\"type\\\\\": \\\\\"url\\\\\", \\\\\"value\\\\\": '\n",
      " '\\\\\"www.infusionsoft.com\\\\\"}], [\\\\\"not\\\\\", [\\\\\"or\\\\\", {\\\\\"match_type\\\\\": '\n",
      " '\\\\\"substring\\\\\", \\\\\"type\\\\\": \\\\\"url\\\\\", \\\\\"value\\\\\": \\\\\"v=2\\\\\"}]]]\", '\n",
      " '\"created\": \"2018-11-06T00:01:06.348302Z\", \"edit_url\": '\n",
      " '\"https://www.infusionsoft.com/\", \"id\": 11997215472, \"key\": '\n",
      " '\"10347872424_homepage__no_version\", \"last_modified\": '\n",
      " '\"2018-11-06T00:01:06.348309Z\", \"name\": \"Homepage - No Version\", \"page_type\": '\n",
      " '\"url_set\", \"project_id\": 10347872424}, {\"activation_type\": \"immediate\", '\n",
      " '\"archived\": false, \"category\": \"other\", \"conditions\": \"[\\\\\"and\\\\\", '\n",
      " '[\\\\\"or\\\\\", {\\\\\"match_type\\\\\": \\\\\"simple\\\\\", \\\\\"type\\\\\": \\\\\"url\\\\\", '\n",
      " '\\\\\"value\\\\\": \\\\\"https://www.infusionsoft.com/lp/save-time\\\\\"}], [\\\\\"or\\\\\", '\n",
      " '{\\\\\"match_type\\\\\": \\\\\"substring\\\\\", \\\\\"type\\\\\": \\\\\"url\\\\\", \\\\\"value\\\\\": '\n",
      " '\\\\\"v=2\\\\\"}]]\", \"created\": \"2018-11-08T21:15:14.507169Z\", \"edit_url\": '\n",
      " '\"https://www.infusionsoft.com/lp/save-time?v=2\", \"id\": 12093780358, \"key\": '\n",
      " '\"10347872424_save_time_lp_v2\", \"last_modified\": '\n",
      " '\"2018-11-08T21:15:14.507175Z\", \"name\": \"Save Time LP v2\", \"project_id\": '\n",
      " '10347872424}, {\"activation_type\": \"immediate\", \"archived\": false, '\n",
      " '\"category\": \"other\", \"conditions\": \"[\\\\\"and\\\\\", [\\\\\"or\\\\\", '\n",
      " '{\\\\\"match_type\\\\\": \\\\\"simple\\\\\", \\\\\"type\\\\\": \\\\\"url\\\\\", \\\\\"value\\\\\": '\n",
      " '\\\\\"https://www.infusionsoft.com/lp/partners\\\\\"}], [\\\\\"not\\\\\", [\\\\\"or\\\\\", '\n",
      " '{\\\\\"match_type\\\\\": \\\\\"substring\\\\\", \\\\\"type\\\\\": \\\\\"url\\\\\", \\\\\"value\\\\\": '\n",
      " '\\\\\"v=agency\\\\\"}]]]\", \"created\": \"2018-09-14T17:36:09.846101Z\", \"edit_url\": '\n",
      " '\"https://www.infusionsoft.com/lp/partners\", \"id\": 11428135378, \"key\": '\n",
      " '\"10347872424_partners_lp\", \"last_modified\": \"2018-09-14T17:49:29.389596Z\", '\n",
      " '\"name\": \"Partners LP (Not Agency)\", \"project_id\": 10347872424}, '\n",
      " '{\"activation_type\": \"immediate\", \"archived\": false, \"category\": \"other\", '\n",
      " '\"conditions\": \"[\\\\\"and\\\\\", [\\\\\"or\\\\\", {\\\\\"match_type\\\\\": \\\\\"simple\\\\\", '\n",
      " '\\\\\"type\\\\\": \\\\\"url\\\\\", \\\\\"value\\\\\": '\n",
      " '\\\\\"https://www.infusionsoft.com/lp/partners\\\\\"}], [\\\\\"or\\\\\", '\n",
      " '{\\\\\"match_type\\\\\": \\\\\"substring\\\\\", \\\\\"type\\\\\": \\\\\"url\\\\\", \\\\\"value\\\\\": '\n",
      " '\\\\\"v=agency\\\\\"}]]\", \"created\": \"2018-09-14T17:50:02.500988Z\", \"edit_url\": '\n",
      " '\"https://www.infusionsoft.com/lp/partners?v=agency\", \"id\": 11426376861, '\n",
      " '\"key\": \"10347872424_partners_lp_agency\", \"last_modified\": '\n",
      " '\"2018-09-14T17:50:02.500997Z\", \"name\": \"Partners LP (Agency)\", \"project_id\": '\n",
      " '10347872424}, {\"activation_type\": \"immediate\", \"archived\": false, '\n",
      " '\"category\": \"other\", \"conditions\": \"[\\\\\"and\\\\\", [\\\\\"or\\\\\", {\\\\\"type\\\\\": '\n",
      " '\\\\\"custom_code\\\\\", \\\\\"value\\\\\": \\\\\"function () {\\\\\\\\n  try {\\\\\\\\n    return '\n",
      " 'document.querySelector(\\'[data-route-name*=\\\\\\\\\\\\\"page.business-success-blog.post\\\\\\\\\\\\\"]\\').length '\n",
      " '> 0;\\\\\\\\n  } catch(e) {\\\\\\\\n    return false;\\\\\\\\n  }\\\\\\\\n}\\\\\"}]]\", '\n",
      " '\"created\": \"2018-08-28T18:32:12.394850Z\", \"edit_url\": '\n",
      " '\"https://www.infusionsoft.com/business-success-blog/sales/e-commerce/26-best-examples-of-sales-promotions-to-inspire-your-next-offer\", '\n",
      " '\"id\": 11394780978, \"key\": \"10347872424_bsb_article_pages\", \"last_modified\": '\n",
      " '\"2018-09-17T20:36:06.168920Z\", \"name\": \"BSB Article Pages\", \"project_id\": '\n",
      " '10347872424}, {\"activation_type\": \"immediate\", \"archived\": true, \"category\": '\n",
      " '\"other\", \"conditions\": \"[\\\\\"and\\\\\", [\\\\\"or\\\\\", {\\\\\"match_type\\\\\": '\n",
      " '\\\\\"substring\\\\\", \\\\\"type\\\\\": \\\\\"url\\\\\", \\\\\"value\\\\\": '\n",
      " '\\\\\"www.infusionsoft.com\\\\\"}, {\\\\\"match_type\\\\\": \\\\\"regex\\\\\", \\\\\"type\\\\\": '\n",
      " '\\\\\"url\\\\\", \\\\\"value\\\\\": \\\\\"(http(s)?://)staging.infusionsoft.com\\\\\"}]]\", '\n",
      " '\"created\": \"2018-03-22T17:06:34.357290Z\", \"edit_url\": '\n",
      " '\"https://www.infusionsoft.com\", \"id\": 10493142084, \"key\": '\n",
      " '\"10347872424_old_site__all_pages\", \"last_modified\": '\n",
      " '\"2018-04-16T23:10:50.250300Z\", \"name\": \"Old Site - All Pages\", \"page_type\": '\n",
      " '\"url_set\", \"project_id\": 10347872424}, {\"activation_type\": \"immediate\", '\n",
      " '\"archived\": false, \"category\": \"other\", \"conditions\": \"[\\\\\"and\\\\\", '\n",
      " '[\\\\\"or\\\\\", {\\\\\"match_type\\\\\": \\\\\"regex\\\\\", \\\\\"type\\\\\": \\\\\"url\\\\\", '\n",
      " '\\\\\"value\\\\\": \\\\\"(www|staging).infusionsoft.com\\\\\"}]]\", \"created\": '\n",
      " '\"2018-03-20T20:50:43.388080Z\", \"edit_url\": \"https://www.infusionsoft.com\", '\n",
      " '\"id\": 10446767114, \"key\": \"10347872424_all_pages\", \"last_modified\": '\n",
      " '\"2018-05-30T16:53:31.067600Z\", \"name\": \"All Pages\", \"page_type\": \"url_set\", '\n",
      " '\"project_id\": 10347872424}, {\"activation_type\": \"immediate\", \"archived\": '\n",
      " 'false, \"category\": \"other\", \"conditions\": \"[\\\\\"or\\\\\", [\\\\\"or\\\\\", '\n",
      " '{\\\\\"match_type\\\\\": \\\\\"simple\\\\\", \\\\\"type\\\\\": \\\\\"url\\\\\", \\\\\"value\\\\\": '\n",
      " '\\\\\"www.infusionsoft.com\\\\\"}, {\\\\\"match_type\\\\\": \\\\\"simple\\\\\", \\\\\"type\\\\\": '\n",
      " '\\\\\"url\\\\\", \\\\\"value\\\\\": \\\\\"staging.infusionsoft.com\\\\\"}, {\\\\\"match_type\\\\\": '\n",
      " '\\\\\"simple\\\\\", \\\\\"type\\\\\": \\\\\"url\\\\\", \\\\\"value\\\\\": '\n",
      " '\\\\\"development.infusionsoft.com\\\\\"}]]\", \"created\": '\n",
      " '\"2018-04-05T03:10:11.265510Z\", \"edit_url\": \"https://www.infusionsoft.com/\", '\n",
      " '\"id\": 10557820868, \"key\": \"10347872424_home_page\", \"last_modified\": '\n",
      " '\"2018-06-18T18:39:46.319310Z\", \"name\": \"Homepage\", \"page_type\": \"url_set\", '\n",
      " '\"project_id\": 10347872424}, {\"activation_type\": \"immediate\", \"archived\": '\n",
      " 'false, \"category\": \"other\", \"conditions\": \"[\\\\\"and\\\\\", [\\\\\"or\\\\\", '\n",
      " '{\\\\\"match_type\\\\\": \\\\\"substring\\\\\", \\\\\"type\\\\\": \\\\\"url\\\\\", \\\\\"value\\\\\": '\n",
      " '\\\\\"/careers\\\\\"}]]\", \"created\": \"2018-04-05T21:49:48.346200Z\", \"edit_url\": '\n",
      " '\"https://www.infusionsoft.com\", \"id\": 10556791719, \"key\": '\n",
      " '\"10347872424_careers_pages\", \"last_modified\": \"2018-04-05T21:49:48.346210Z\", '\n",
      " '\"name\": \"Careers Pages\", \"page_type\": \"url_set\", \"project_id\": 10347872424}, '\n",
      " '{\"activation_type\": \"immediate\", \"archived\": false, \"category\": \"other\", '\n",
      " '\"conditions\": \"[\\\\\"and\\\\\", [\\\\\"or\\\\\", {\\\\\"match_type\\\\\": \\\\\"regex\\\\\", '\n",
      " '\\\\\"type\\\\\": \\\\\"url\\\\\", \\\\\"value\\\\\": \\\\\".(com|app|test)/demo\\\\\"}]]\", '\n",
      " '\"created\": \"2018-04-30T22:15:15.454530Z\", \"edit_url\": '\n",
      " '\"www.infusionsoft.com/demo\", \"id\": 10668401951, \"key\": \"10347872424_demo\", '\n",
      " '\"last_modified\": \"2018-04-30T22:37:22.269760Z\", \"name\": \"Demo\", \"page_type\": '\n",
      " '\"url_set\", \"project_id\": 10347872424}, {\"activation_type\": \"immediate\", '\n",
      " '\"archived\": false, \"category\": \"other\", \"conditions\": \"[\\\\\"and\\\\\", '\n",
      " '[\\\\\"or\\\\\", {\\\\\"match_type\\\\\": \\\\\"regex\\\\\", \\\\\"type\\\\\": \\\\\"url\\\\\", '\n",
      " '\\\\\"value\\\\\": \\\\\".(com|app|test)/pricing\\\\\"}], [\\\\\"not\\\\\", [\\\\\"or\\\\\", '\n",
      " '{\\\\\"match_type\\\\\": \\\\\"regex\\\\\", \\\\\"type\\\\\": \\\\\"url\\\\\", \\\\\"value\\\\\": '\n",
      " '\\\\\".(com|app|test)/pricing/kickstart\\\\\"}]]]\", \"created\": '\n",
      " '\"2018-04-10T09:16:03.558610Z\", \"edit_url\": '\n",
      " '\"https://www.infusionsoft.com/pricing\", \"id\": 10559343354, \"key\": '\n",
      " '\"10347872424_pricing\", \"last_modified\": \"2018-05-04T21:56:08.286910Z\", '\n",
      " '\"name\": \"Pricing\", \"page_type\": \"url_set\", \"project_id\": 10347872424}, '\n",
      " '{\"activation_type\": \"immediate\", \"archived\": false, \"category\": \"other\", '\n",
      " '\"conditions\": \"[\\\\\"and\\\\\", [\\\\\"or\\\\\", {\\\\\"match_type\\\\\": \\\\\"simple\\\\\", '\n",
      " '\\\\\"type\\\\\": \\\\\"url\\\\\", \\\\\"value\\\\\": \\\\\"www.infusionsoft.com/features\\\\\"}]]\", '\n",
      " '\"created\": \"2018-05-10T17:26:00.199040Z\", \"edit_url\": '\n",
      " '\"www.infusionsoft.com/features\", \"id\": 10705584204, \"key\": '\n",
      " '\"10347872424_features_overview\", \"last_modified\": '\n",
      " '\"2018-05-10T17:26:00.199040Z\", \"name\": \"Features Overview\", \"project_id\": '\n",
      " '10347872424}, {\"activation_type\": \"immediate\", \"archived\": false, '\n",
      " '\"category\": \"other\", \"conditions\": \"[\\\\\"and\\\\\", [\\\\\"or\\\\\", '\n",
      " '{\\\\\"match_type\\\\\": \\\\\"substring\\\\\", \\\\\"type\\\\\": \\\\\"url\\\\\", \\\\\"value\\\\\": '\n",
      " '\\\\\"/partners\\\\\"}]]\", \"created\": \"2018-05-02T23:16:38.609300Z\", \"edit_url\": '\n",
      " '\"https://www.infusionsoft.com/partners\", \"id\": 10682770515, \"key\": '\n",
      " '\"10347872424_partner_pages\", \"last_modified\": \"2018-05-02T23:16:38.609310Z\", '\n",
      " '\"name\": \"Partner Pages\", \"page_type\": \"url_set\", \"project_id\": 10347872424}, '\n",
      " '{\"activation_type\": \"immediate\", \"archived\": false, \"category\": \"other\", '\n",
      " '\"conditions\": \"[\\\\\"and\\\\\", [\\\\\"or\\\\\", {\\\\\"match_type\\\\\": \\\\\"simple\\\\\", '\n",
      " '\\\\\"type\\\\\": \\\\\"url\\\\\", \\\\\"value\\\\\": '\n",
      " '\\\\\"https://www.infusionsoft.com/how-it-works\\\\\"}], [\\\\\"or\\\\\", '\n",
      " '{\\\\\"match_type\\\\\": \\\\\"substring\\\\\", \\\\\"type\\\\\": \\\\\"url\\\\\", \\\\\"value\\\\\": '\n",
      " '\\\\\"v=2\\\\\"}]]\", \"created\": \"2018-08-14T22:40:14.924260Z\", \"edit_url\": '\n",
      " '\"https://www.infusionsoft.com/how-it-works?v=2\", \"id\": 11180058950, \"key\": '\n",
      " '\"10347872424_how_it_works__v2\", \"last_modified\": '\n",
      " '\"2018-08-14T22:40:14.924260Z\", \"name\": \"How It Works - V2\", \"project_id\": '\n",
      " '10347872424}, {\"activation_type\": \"immediate\", \"archived\": false, '\n",
      " '\"category\": \"other\", \"conditions\": \"[\\\\\"or\\\\\", [\\\\\"or\\\\\", {\\\\\"match_type\\\\\": '\n",
      " '\\\\\"simple\\\\\", \\\\\"type\\\\\": \\\\\"url\\\\\", \\\\\"value\\\\\": '\n",
      " '\\\\\"https://www.infusionsoft.com/resources/thank-you/f83bc85a-c064-474d-b0dc-fd7fbafbb455\\\\\"}]]\", '\n",
      " '\"created\": \"2018-08-13T17:38:58.977210Z\", \"edit_url\": '\n",
      " '\"https://www.infusionsoft.com/resources/thank-you/f83bc85a-c064-474d-b0dc-fd7fbafbb455\", '\n",
      " '\"id\": 11180047793, \"key\": '\n",
      " '\"10347872424_thank_you__how_to_identify_your_target_market\", '\n",
      " '\"last_modified\": \"2018-08-13T17:38:58.977210Z\", \"name\": \"Thank You - How to '\n",
      " 'identify your target market\", \"project_id\": 10347872424}]')\n"
     ]
    }
   ],
   "source": [
    "pretty_printer.pprint(response.text)"
   ]
  },
  {
   "cell_type": "code",
   "execution_count": 72,
   "metadata": {
    "scrolled": true
   },
   "outputs": [
    {
     "data": {
      "text/plain": [
       "'[{\"activation_type\": \"immediate\", \"archived\": false, \"category\": \"other\", \"conditions\": \"[\\\\\"and\\\\\", [\\\\\"or\\\\\", {\\\\\"match_type\\\\\": \\\\\"substring\\\\\", \\\\\"type\\\\\": \\\\\"url\\\\\", \\\\\"value\\\\\": \\\\\"www.infusionsoft.com/go/\\\\\"}]]\", \"created\": \"2018-08-09T23:29:05.847370Z\", \"edit_url\": \"https://www.infusionsoft.com/go/crm\", \"id\": 11189893571, \"key\": \"10347872424_go_pages\", \"last_modified\": \"2018-08-09T23:29:05.847380Z\", \"name\": \"\\\\\"Go\\\\\" Pages\", \"project_id\": 10347872424}, {\"activation_type\": \"immediate\", \"archived\": false, \"category\": \"other\", \"conditions\": \"[\\\\\"and\\\\\", [\\\\\"or\\\\\", {\\\\\"match_type\\\\\": \\\\\"simple\\\\\", \\\\\"type\\\\\": \\\\\"url\\\\\", \\\\\"value\\\\\": \\\\\"https://www.infusionsoft.com/partners\\\\\"}]]\", \"created\": \"2018-09-14T17:35:52.589108Z\", \"edit_url\": \"https://www.infusionsoft.com/partners\", \"id\": 11424604041, \"key\": \"10347872424_partners_overview\", \"last_modified\": \"2018-09-14T17:35:52.589112Z\", \"name\": \"Partners Overview\", \"project_id\": 10347872424}, {\"activation_type\": \"immediate\", \"archived\": false, \"category\": \"other\", \"conditions\": \"[\\\\\"or\\\\\", [\\\\\"or\\\\\", {\\\\\"match_type\\\\\": \\\\\"simple\\\\\", \\\\\"type\\\\\": \\\\\"url\\\\\", \\\\\"value\\\\\": \\\\\"https://www.infusionsoft.com/business-success-blog\\\\\"}]]\", \"created\": \"2018-08-28T18:09:14.045040Z\", \"edit_url\": \"https://www.infusionsoft.com/business-success-blog\", \"id\": 11362100611, \"key\": \"10347872424_bsb_overview\", \"last_modified\": \"2018-08-28T18:19:21.860650Z\", \"name\": \"BSB Overview\", \"project_id\": 10347872424}, {\"activation_type\": \"immediate\", \"archived\": false, \"category\": \"other\", \"conditions\": \"[\\\\\"or\\\\\", [\\\\\"or\\\\\", {\\\\\"match_type\\\\\": \\\\\"simple\\\\\", \\\\\"type\\\\\": \\\\\"url\\\\\", \\\\\"value\\\\\": \\\\\"www.infusionsoft.com/lp/get-organized\\\\\"}, {\\\\\"match_type\\\\\": \\\\\"simple\\\\\", \\\\\"type\\\\\": \\\\\"url\\\\\", \\\\\"value\\\\\": \\\\\"www.infusionsoft.com/lp/drip-campaign\\\\\"}, {\\\\\"match_type\\\\\": \\\\\"simple\\\\\", \\\\\"type\\\\\": \\\\\"url\\\\\", \\\\\"value\\\\\": \\\\\"www.infusionsoft.com/lp/lead-follow-up\\\\\"}]]\", \"created\": \"2018-08-14T22:17:00.080430Z\", \"edit_url\": \"www.infusionsoft.com/lp/get-organized\", \"id\": 11220147123, \"key\": \"10347872424_lp__get_organizeddrip_campaignlead_follow_up\", \"last_modified\": \"2018-08-14T22:17:00.080440Z\", \"name\": \"LP - Get Organized/Drip Campaign/Lead Follow Up\", \"project_id\": 10347872424}, {\"activation_type\": \"immediate\", \"archived\": false, \"category\": \"other\", \"conditions\": \"[\\\\\"and\\\\\", [\\\\\"or\\\\\", {\\\\\"match_type\\\\\": \\\\\"simple\\\\\", \\\\\"type\\\\\": \\\\\"url\\\\\", \\\\\"value\\\\\": \\\\\"https://www.infusionsoft.com/go/marketing-automation\\\\\"}]]\", \"created\": \"2018-11-09T21:30:17.346426Z\", \"edit_url\": \"https://www.infusionsoft.com/go/marketing-automation\", \"id\": 12099890973, \"key\": \"10347872424_go__marketing_automation\", \"last_modified\": \"2018-11-09T21:30:17.346434Z\", \"name\": \"Go - Marketing Automation\", \"project_id\": 10347872424}, {\"activation_type\": \"immediate\", \"archived\": true, \"category\": \"other\", \"conditions\": \"[\\\\\"and\\\\\", [\\\\\"or\\\\\", {\\\\\"match_type\\\\\": \\\\\"simple\\\\\", \\\\\"type\\\\\": \\\\\"url\\\\\", \\\\\"value\\\\\": \\\\\"https://www.infusionsoft.com/lp/breakup-with-email\\\\\"}], [\\\\\"or\\\\\", {\\\\\"match_type\\\\\": \\\\\"substring\\\\\", \\\\\"type\\\\\": \\\\\"url\\\\\", \\\\\"value\\\\\": \\\\\"v=2\\\\\"}]]\", \"created\": \"2018-08-13T20:31:52.837070Z\", \"edit_url\": \"https://www.infusionsoft.com/lp/breakup-with-email?v=2\", \"id\": 11187897016, \"key\": \"10347872424_lp__breakup_with_email__v2_query_parameter\", \"last_modified\": \"2018-08-13T21:27:02.101680Z\", \"name\": \"LP - Breakup With Email - v2 Query Parameter\", \"project_id\": 10347872424}, {\"activation_type\": \"immediate\", \"archived\": false, \"category\": \"other\", \"conditions\": \"[\\\\\"and\\\\\", [\\\\\"or\\\\\", {\\\\\"match_type\\\\\": \\\\\"simple\\\\\", \\\\\"type\\\\\": \\\\\"url\\\\\", \\\\\"value\\\\\": \\\\\"https://www.infusionsoft.com/lp/breakup-with-email\\\\\"}], [\\\\\"not\\\\\", [\\\\\"or\\\\\", {\\\\\"match_type\\\\\": \\\\\"substring\\\\\", \\\\\"type\\\\\": \\\\\"url\\\\\", \\\\\"value\\\\\": \\\\\"v=2\\\\\"}]], [\\\\\"not\\\\\", [\\\\\"or\\\\\", {\\\\\"match_type\\\\\": \\\\\"substring\\\\\", \\\\\"type\\\\\": \\\\\"url\\\\\", \\\\\"value\\\\\": \\\\\"v=save-time\\\\\"}]]]\", \"created\": \"2018-08-06T02:25:41.260300Z\", \"edit_url\": \"https://www.infusionsoft.com/lp/breakup-with-email\", \"id\": 11212422626, \"key\": \"10347872424_url_targeting_for_lp_break_up_with_email__free_trial\", \"last_modified\": \"2018-10-01T22:03:50.464018Z\", \"name\": \"LP - Breakup With Email w/o Variation\", \"page_type\": \"url_set\", \"project_id\": 10347872424}, {\"activation_type\": \"immediate\", \"archived\": false, \"category\": \"other\", \"conditions\": \"[\\\\\"and\\\\\", [\\\\\"or\\\\\", {\\\\\"match_type\\\\\": \\\\\"simple\\\\\", \\\\\"type\\\\\": \\\\\"url\\\\\", \\\\\"value\\\\\": \\\\\"https://www.infusionsoft.com/how-it-works\\\\\"}], [\\\\\"not\\\\\", [\\\\\"or\\\\\", {\\\\\"match_type\\\\\": \\\\\"substring\\\\\", \\\\\"type\\\\\": \\\\\"url\\\\\", \\\\\"value\\\\\": \\\\\"v=2\\\\\"}]]]\", \"created\": \"2018-08-14T22:38:40.348510Z\", \"edit_url\": \"https://www.infusionsoft.com/how-it-works\", \"id\": 11193717375, \"key\": \"10347872424_how_it_works\", \"last_modified\": \"2018-08-14T22:39:40.819160Z\", \"name\": \"How It Works - Control\", \"project_id\": 10347872424}, {\"activation_type\": \"immediate\", \"archived\": false, \"category\": \"other\", \"conditions\": \"[\\\\\"and\\\\\", [\\\\\"or\\\\\", {\\\\\"match_type\\\\\": \\\\\"simple\\\\\", \\\\\"type\\\\\": \\\\\"url\\\\\", \\\\\"value\\\\\": \\\\\"https://www.infusionsoft.com/lp/breakup-with-email\\\\\"}], [\\\\\"or\\\\\", {\\\\\"match_type\\\\\": \\\\\"substring\\\\\", \\\\\"type\\\\\": \\\\\"url\\\\\", \\\\\"value\\\\\": \\\\\"v=save-time\\\\\"}]]\", \"created\": \"2018-10-01T21:57:50.703462Z\", \"edit_url\": \"https://www.infusionsoft.com/lp/breakup-with-email?v=save-time\", \"id\": 11688340228, \"key\": \"10347872424_lp__breakup_with_email__save_time\", \"last_modified\": \"2018-10-01T22:04:35.957639Z\", \"name\": \"LP - Breakup With Email w/ Save Time Variation\", \"project_id\": 10347872424}, {\"activation_type\": \"immediate\", \"archived\": false, \"category\": \"other\", \"conditions\": \"[\\\\\"and\\\\\", [\\\\\"or\\\\\", {\\\\\"match_type\\\\\": \\\\\"simple\\\\\", \\\\\"type\\\\\": \\\\\"url\\\\\", \\\\\"value\\\\\": \\\\\"www.infusionsoft.com\\\\\"}], [\\\\\"or\\\\\", {\\\\\"match_type\\\\\": \\\\\"substring\\\\\", \\\\\"type\\\\\": \\\\\"url\\\\\", \\\\\"value\\\\\": \\\\\"v=2\\\\\"}]]\", \"created\": \"2018-11-06T00:01:54.371146Z\", \"edit_url\": \"https://www.infusionsoft.com/?v=2\", \"id\": 11923546969, \"key\": \"10347872424_homepage__version_2\", \"last_modified\": \"2018-11-06T00:01:54.371155Z\", \"name\": \"Homepage - Version 2\", \"project_id\": 10347872424}, {\"activation_type\": \"immediate\", \"archived\": false, \"category\": \"other\", \"conditions\": \"[\\\\\"and\\\\\", [\\\\\"or\\\\\", {\\\\\"match_type\\\\\": \\\\\"simple\\\\\", \\\\\"type\\\\\": \\\\\"url\\\\\", \\\\\"value\\\\\": \\\\\"www.infusionsoft.com\\\\\"}], [\\\\\"not\\\\\", [\\\\\"or\\\\\", {\\\\\"match_type\\\\\": \\\\\"substring\\\\\", \\\\\"type\\\\\": \\\\\"url\\\\\", \\\\\"value\\\\\": \\\\\"v=2\\\\\"}]]]\", \"created\": \"2018-11-06T00:01:06.348302Z\", \"edit_url\": \"https://www.infusionsoft.com/\", \"id\": 11997215472, \"key\": \"10347872424_homepage__no_version\", \"last_modified\": \"2018-11-06T00:01:06.348309Z\", \"name\": \"Homepage - No Version\", \"page_type\": \"url_set\", \"project_id\": 10347872424}, {\"activation_type\": \"immediate\", \"archived\": false, \"category\": \"other\", \"conditions\": \"[\\\\\"and\\\\\", [\\\\\"or\\\\\", {\\\\\"match_type\\\\\": \\\\\"simple\\\\\", \\\\\"type\\\\\": \\\\\"url\\\\\", \\\\\"value\\\\\": \\\\\"https://www.infusionsoft.com/lp/save-time\\\\\"}], [\\\\\"or\\\\\", {\\\\\"match_type\\\\\": \\\\\"substring\\\\\", \\\\\"type\\\\\": \\\\\"url\\\\\", \\\\\"value\\\\\": \\\\\"v=2\\\\\"}]]\", \"created\": \"2018-11-08T21:15:14.507169Z\", \"edit_url\": \"https://www.infusionsoft.com/lp/save-time?v=2\", \"id\": 12093780358, \"key\": \"10347872424_save_time_lp_v2\", \"last_modified\": \"2018-11-08T21:15:14.507175Z\", \"name\": \"Save Time LP v2\", \"project_id\": 10347872424}, {\"activation_type\": \"immediate\", \"archived\": false, \"category\": \"other\", \"conditions\": \"[\\\\\"and\\\\\", [\\\\\"or\\\\\", {\\\\\"match_type\\\\\": \\\\\"simple\\\\\", \\\\\"type\\\\\": \\\\\"url\\\\\", \\\\\"value\\\\\": \\\\\"https://www.infusionsoft.com/lp/partners\\\\\"}], [\\\\\"not\\\\\", [\\\\\"or\\\\\", {\\\\\"match_type\\\\\": \\\\\"substring\\\\\", \\\\\"type\\\\\": \\\\\"url\\\\\", \\\\\"value\\\\\": \\\\\"v=agency\\\\\"}]]]\", \"created\": \"2018-09-14T17:36:09.846101Z\", \"edit_url\": \"https://www.infusionsoft.com/lp/partners\", \"id\": 11428135378, \"key\": \"10347872424_partners_lp\", \"last_modified\": \"2018-09-14T17:49:29.389596Z\", \"name\": \"Partners LP (Not Agency)\", \"project_id\": 10347872424}, {\"activation_type\": \"immediate\", \"archived\": false, \"category\": \"other\", \"conditions\": \"[\\\\\"and\\\\\", [\\\\\"or\\\\\", {\\\\\"match_type\\\\\": \\\\\"simple\\\\\", \\\\\"type\\\\\": \\\\\"url\\\\\", \\\\\"value\\\\\": \\\\\"https://www.infusionsoft.com/lp/partners\\\\\"}], [\\\\\"or\\\\\", {\\\\\"match_type\\\\\": \\\\\"substring\\\\\", \\\\\"type\\\\\": \\\\\"url\\\\\", \\\\\"value\\\\\": \\\\\"v=agency\\\\\"}]]\", \"created\": \"2018-09-14T17:50:02.500988Z\", \"edit_url\": \"https://www.infusionsoft.com/lp/partners?v=agency\", \"id\": 11426376861, \"key\": \"10347872424_partners_lp_agency\", \"last_modified\": \"2018-09-14T17:50:02.500997Z\", \"name\": \"Partners LP (Agency)\", \"project_id\": 10347872424}, {\"activation_type\": \"immediate\", \"archived\": false, \"category\": \"other\", \"conditions\": \"[\\\\\"and\\\\\", [\\\\\"or\\\\\", {\\\\\"type\\\\\": \\\\\"custom_code\\\\\", \\\\\"value\\\\\": \\\\\"function () {\\\\\\\\n  try {\\\\\\\\n    return document.querySelector(\\'[data-route-name*=\\\\\\\\\\\\\"page.business-success-blog.post\\\\\\\\\\\\\"]\\').length > 0;\\\\\\\\n  } catch(e) {\\\\\\\\n    return false;\\\\\\\\n  }\\\\\\\\n}\\\\\"}]]\", \"created\": \"2018-08-28T18:32:12.394850Z\", \"edit_url\": \"https://www.infusionsoft.com/business-success-blog/sales/e-commerce/26-best-examples-of-sales-promotions-to-inspire-your-next-offer\", \"id\": 11394780978, \"key\": \"10347872424_bsb_article_pages\", \"last_modified\": \"2018-09-17T20:36:06.168920Z\", \"name\": \"BSB Article Pages\", \"project_id\": 10347872424}, {\"activation_type\": \"immediate\", \"archived\": true, \"category\": \"other\", \"conditions\": \"[\\\\\"and\\\\\", [\\\\\"or\\\\\", {\\\\\"match_type\\\\\": \\\\\"substring\\\\\", \\\\\"type\\\\\": \\\\\"url\\\\\", \\\\\"value\\\\\": \\\\\"www.infusionsoft.com\\\\\"}, {\\\\\"match_type\\\\\": \\\\\"regex\\\\\", \\\\\"type\\\\\": \\\\\"url\\\\\", \\\\\"value\\\\\": \\\\\"(http(s)?://)staging.infusionsoft.com\\\\\"}]]\", \"created\": \"2018-03-22T17:06:34.357290Z\", \"edit_url\": \"https://www.infusionsoft.com\", \"id\": 10493142084, \"key\": \"10347872424_old_site__all_pages\", \"last_modified\": \"2018-04-16T23:10:50.250300Z\", \"name\": \"Old Site - All Pages\", \"page_type\": \"url_set\", \"project_id\": 10347872424}, {\"activation_type\": \"immediate\", \"archived\": false, \"category\": \"other\", \"conditions\": \"[\\\\\"and\\\\\", [\\\\\"or\\\\\", {\\\\\"match_type\\\\\": \\\\\"regex\\\\\", \\\\\"type\\\\\": \\\\\"url\\\\\", \\\\\"value\\\\\": \\\\\"(www|staging).infusionsoft.com\\\\\"}]]\", \"created\": \"2018-03-20T20:50:43.388080Z\", \"edit_url\": \"https://www.infusionsoft.com\", \"id\": 10446767114, \"key\": \"10347872424_all_pages\", \"last_modified\": \"2018-05-30T16:53:31.067600Z\", \"name\": \"All Pages\", \"page_type\": \"url_set\", \"project_id\": 10347872424}, {\"activation_type\": \"immediate\", \"archived\": false, \"category\": \"other\", \"conditions\": \"[\\\\\"or\\\\\", [\\\\\"or\\\\\", {\\\\\"match_type\\\\\": \\\\\"simple\\\\\", \\\\\"type\\\\\": \\\\\"url\\\\\", \\\\\"value\\\\\": \\\\\"www.infusionsoft.com\\\\\"}, {\\\\\"match_type\\\\\": \\\\\"simple\\\\\", \\\\\"type\\\\\": \\\\\"url\\\\\", \\\\\"value\\\\\": \\\\\"staging.infusionsoft.com\\\\\"}, {\\\\\"match_type\\\\\": \\\\\"simple\\\\\", \\\\\"type\\\\\": \\\\\"url\\\\\", \\\\\"value\\\\\": \\\\\"development.infusionsoft.com\\\\\"}]]\", \"created\": \"2018-04-05T03:10:11.265510Z\", \"edit_url\": \"https://www.infusionsoft.com/\", \"id\": 10557820868, \"key\": \"10347872424_home_page\", \"last_modified\": \"2018-06-18T18:39:46.319310Z\", \"name\": \"Homepage\", \"page_type\": \"url_set\", \"project_id\": 10347872424}, {\"activation_type\": \"immediate\", \"archived\": false, \"category\": \"other\", \"conditions\": \"[\\\\\"and\\\\\", [\\\\\"or\\\\\", {\\\\\"match_type\\\\\": \\\\\"substring\\\\\", \\\\\"type\\\\\": \\\\\"url\\\\\", \\\\\"value\\\\\": \\\\\"/careers\\\\\"}]]\", \"created\": \"2018-04-05T21:49:48.346200Z\", \"edit_url\": \"https://www.infusionsoft.com\", \"id\": 10556791719, \"key\": \"10347872424_careers_pages\", \"last_modified\": \"2018-04-05T21:49:48.346210Z\", \"name\": \"Careers Pages\", \"page_type\": \"url_set\", \"project_id\": 10347872424}, {\"activation_type\": \"immediate\", \"archived\": false, \"category\": \"other\", \"conditions\": \"[\\\\\"and\\\\\", [\\\\\"or\\\\\", {\\\\\"match_type\\\\\": \\\\\"regex\\\\\", \\\\\"type\\\\\": \\\\\"url\\\\\", \\\\\"value\\\\\": \\\\\".(com|app|test)/demo\\\\\"}]]\", \"created\": \"2018-04-30T22:15:15.454530Z\", \"edit_url\": \"www.infusionsoft.com/demo\", \"id\": 10668401951, \"key\": \"10347872424_demo\", \"last_modified\": \"2018-04-30T22:37:22.269760Z\", \"name\": \"Demo\", \"page_type\": \"url_set\", \"project_id\": 10347872424}, {\"activation_type\": \"immediate\", \"archived\": false, \"category\": \"other\", \"conditions\": \"[\\\\\"and\\\\\", [\\\\\"or\\\\\", {\\\\\"match_type\\\\\": \\\\\"regex\\\\\", \\\\\"type\\\\\": \\\\\"url\\\\\", \\\\\"value\\\\\": \\\\\".(com|app|test)/pricing\\\\\"}], [\\\\\"not\\\\\", [\\\\\"or\\\\\", {\\\\\"match_type\\\\\": \\\\\"regex\\\\\", \\\\\"type\\\\\": \\\\\"url\\\\\", \\\\\"value\\\\\": \\\\\".(com|app|test)/pricing/kickstart\\\\\"}]]]\", \"created\": \"2018-04-10T09:16:03.558610Z\", \"edit_url\": \"https://www.infusionsoft.com/pricing\", \"id\": 10559343354, \"key\": \"10347872424_pricing\", \"last_modified\": \"2018-05-04T21:56:08.286910Z\", \"name\": \"Pricing\", \"page_type\": \"url_set\", \"project_id\": 10347872424}, {\"activation_type\": \"immediate\", \"archived\": false, \"category\": \"other\", \"conditions\": \"[\\\\\"and\\\\\", [\\\\\"or\\\\\", {\\\\\"match_type\\\\\": \\\\\"simple\\\\\", \\\\\"type\\\\\": \\\\\"url\\\\\", \\\\\"value\\\\\": \\\\\"www.infusionsoft.com/features\\\\\"}]]\", \"created\": \"2018-05-10T17:26:00.199040Z\", \"edit_url\": \"www.infusionsoft.com/features\", \"id\": 10705584204, \"key\": \"10347872424_features_overview\", \"last_modified\": \"2018-05-10T17:26:00.199040Z\", \"name\": \"Features Overview\", \"project_id\": 10347872424}, {\"activation_type\": \"immediate\", \"archived\": false, \"category\": \"other\", \"conditions\": \"[\\\\\"and\\\\\", [\\\\\"or\\\\\", {\\\\\"match_type\\\\\": \\\\\"substring\\\\\", \\\\\"type\\\\\": \\\\\"url\\\\\", \\\\\"value\\\\\": \\\\\"/partners\\\\\"}]]\", \"created\": \"2018-05-02T23:16:38.609300Z\", \"edit_url\": \"https://www.infusionsoft.com/partners\", \"id\": 10682770515, \"key\": \"10347872424_partner_pages\", \"last_modified\": \"2018-05-02T23:16:38.609310Z\", \"name\": \"Partner Pages\", \"page_type\": \"url_set\", \"project_id\": 10347872424}, {\"activation_type\": \"immediate\", \"archived\": false, \"category\": \"other\", \"conditions\": \"[\\\\\"and\\\\\", [\\\\\"or\\\\\", {\\\\\"match_type\\\\\": \\\\\"simple\\\\\", \\\\\"type\\\\\": \\\\\"url\\\\\", \\\\\"value\\\\\": \\\\\"https://www.infusionsoft.com/how-it-works\\\\\"}], [\\\\\"or\\\\\", {\\\\\"match_type\\\\\": \\\\\"substring\\\\\", \\\\\"type\\\\\": \\\\\"url\\\\\", \\\\\"value\\\\\": \\\\\"v=2\\\\\"}]]\", \"created\": \"2018-08-14T22:40:14.924260Z\", \"edit_url\": \"https://www.infusionsoft.com/how-it-works?v=2\", \"id\": 11180058950, \"key\": \"10347872424_how_it_works__v2\", \"last_modified\": \"2018-08-14T22:40:14.924260Z\", \"name\": \"How It Works - V2\", \"project_id\": 10347872424}, {\"activation_type\": \"immediate\", \"archived\": false, \"category\": \"other\", \"conditions\": \"[\\\\\"or\\\\\", [\\\\\"or\\\\\", {\\\\\"match_type\\\\\": \\\\\"simple\\\\\", \\\\\"type\\\\\": \\\\\"url\\\\\", \\\\\"value\\\\\": \\\\\"https://www.infusionsoft.com/resources/thank-you/f83bc85a-c064-474d-b0dc-fd7fbafbb455\\\\\"}]]\", \"created\": \"2018-08-13T17:38:58.977210Z\", \"edit_url\": \"https://www.infusionsoft.com/resources/thank-you/f83bc85a-c064-474d-b0dc-fd7fbafbb455\", \"id\": 11180047793, \"key\": \"10347872424_thank_you__how_to_identify_your_target_market\", \"last_modified\": \"2018-08-13T17:38:58.977210Z\", \"name\": \"Thank You - How to identify your target market\", \"project_id\": 10347872424}]'"
      ]
     },
     "execution_count": 72,
     "metadata": {},
     "output_type": "execute_result"
    }
   ],
   "source": [
    "response.text"
   ]
  },
  {
   "cell_type": "code",
   "execution_count": 57,
   "metadata": {},
   "outputs": [],
   "source": [
    "import json"
   ]
  },
  {
   "cell_type": "code",
   "execution_count": 73,
   "metadata": {},
   "outputs": [],
   "source": [
    "j = json.loads(response.text)"
   ]
  },
  {
   "cell_type": "code",
   "execution_count": 76,
   "metadata": {},
   "outputs": [
    {
     "data": {
      "text/plain": [
       "[{'activation_type': 'immediate',\n",
       "  'archived': False,\n",
       "  'category': 'other',\n",
       "  'conditions': '[\"and\", [\"or\", {\"match_type\": \"substring\", \"type\": \"url\", \"value\": \"www.infusionsoft.com/go/\"}]]',\n",
       "  'created': '2018-08-09T23:29:05.847370Z',\n",
       "  'edit_url': 'https://www.infusionsoft.com/go/crm',\n",
       "  'id': 11189893571,\n",
       "  'key': '10347872424_go_pages',\n",
       "  'last_modified': '2018-08-09T23:29:05.847380Z',\n",
       "  'name': '\"Go\" Pages',\n",
       "  'project_id': 10347872424},\n",
       " {'activation_type': 'immediate',\n",
       "  'archived': False,\n",
       "  'category': 'other',\n",
       "  'conditions': '[\"and\", [\"or\", {\"match_type\": \"simple\", \"type\": \"url\", \"value\": \"https://www.infusionsoft.com/partners\"}]]',\n",
       "  'created': '2018-09-14T17:35:52.589108Z',\n",
       "  'edit_url': 'https://www.infusionsoft.com/partners',\n",
       "  'id': 11424604041,\n",
       "  'key': '10347872424_partners_overview',\n",
       "  'last_modified': '2018-09-14T17:35:52.589112Z',\n",
       "  'name': 'Partners Overview',\n",
       "  'project_id': 10347872424}]"
      ]
     },
     "execution_count": 76,
     "metadata": {},
     "output_type": "execute_result"
    }
   ],
   "source": [
    "j[:2]"
   ]
  },
  {
   "cell_type": "markdown",
   "metadata": {},
   "source": [
    "# Experiment - LP - Drift on \"Save Time\" - Dec '18"
   ]
  },
  {
   "cell_type": "code",
   "execution_count": 93,
   "metadata": {},
   "outputs": [],
   "source": [
    "headers = {\n",
    "    'Authorization': 'Bearer 2:EWAWmaXb4TgtYVU2VvwoEF-9UbJxBahkiFh1633_Oc9nmju7iJis',\n",
    "}"
   ]
  },
  {
   "cell_type": "code",
   "execution_count": 94,
   "metadata": {},
   "outputs": [],
   "source": [
    "response = requests.get('https://api.optimizely.com/v2/experiments/12239002639/results', headers=headers)\n",
    "\n",
    "    "
   ]
  },
  {
   "cell_type": "code",
   "execution_count": 95,
   "metadata": {},
   "outputs": [
    {
     "data": {
      "text/plain": [
       "{'confidence_threshold': 0.9,\n",
       " 'end_time': '2019-01-11T21:25:00.000000Z',\n",
       " 'experiment_id': 12239002639,\n",
       " 'metrics': [{'aggregator': 'unique',\n",
       "   'conclusion': {'winner': '12237822361'},\n",
       "   'event_id': 10455532925,\n",
       "   'name': '[Demo] Online Demo Form Submit',\n",
       "   'results': {'12210874037': {'is_baseline': True,\n",
       "     'level': 'variation',\n",
       "     'name': 'Drift Visible (Control)',\n",
       "     'rate': 0.03138100371301952,\n",
       "     'samples': 16698,\n",
       "     'value': 524.0,\n",
       "     'variance': 0.030396236318982976,\n",
       "     'variation_id': '12210874037'},\n",
       "    '12237822361': {'is_baseline': False,\n",
       "     'level': 'variation',\n",
       "     'lift': {'confidence_interval': [0.25121691254981227, 0.7225630806606659],\n",
       "      'is_most_conclusive': True,\n",
       "      'is_significant': True,\n",
       "      'lift_status': 'better',\n",
       "      'significance': 0.9999806065212667,\n",
       "      'value': 0.49682479878561514,\n",
       "      'visitors_remaining': 0},\n",
       "     'name': 'Drift Hidden',\n",
       "     'rate': 0.04697186456843109,\n",
       "     'samples': 16776,\n",
       "     'value': 788.0,\n",
       "     'variance': 0.04476550850739606,\n",
       "     'variation_id': '12237822361'}},\n",
       "   'scope': 'visitor',\n",
       "   'winning_direction': 'increasing'}],\n",
       " 'reach': {'baseline_count': 16698,\n",
       "  'baseline_reach': 0.4988349166517297,\n",
       "  'total_count': 33474,\n",
       "  'treatment_count': 16776,\n",
       "  'treatment_reach': 0.5011650833482703,\n",
       "  'variations': {'12210874037': {'count': 16698,\n",
       "    'name': 'Drift Visible (Control)',\n",
       "    'variation_id': '12210874037',\n",
       "    'variation_reach': 0.4988349166517297},\n",
       "   '12237822361': {'count': 16776,\n",
       "    'name': 'Drift Hidden',\n",
       "    'variation_id': '12237822361',\n",
       "    'variation_reach': 0.5011650833482703}}},\n",
       " 'start_time': '2018-12-06T18:18:12.000000Z',\n",
       " 'stats_config': {'confidence_level': 0.9,\n",
       "  'difference_type': 'relative',\n",
       "  'epoch_enabled': False}}"
      ]
     },
     "execution_count": 95,
     "metadata": {},
     "output_type": "execute_result"
    }
   ],
   "source": [
    "json.loads(response.text)"
   ]
  },
  {
   "cell_type": "code",
   "execution_count": null,
   "metadata": {},
   "outputs": [],
   "source": []
  }
 ],
 "metadata": {
  "kernelspec": {
   "display_name": "Python 3",
   "language": "python",
   "name": "python3"
  },
  "language_info": {
   "codemirror_mode": {
    "name": "ipython",
    "version": 3
   },
   "file_extension": ".py",
   "mimetype": "text/x-python",
   "name": "python",
   "nbconvert_exporter": "python",
   "pygments_lexer": "ipython3",
   "version": "3.6.4"
  }
 },
 "nbformat": 4,
 "nbformat_minor": 2
}
