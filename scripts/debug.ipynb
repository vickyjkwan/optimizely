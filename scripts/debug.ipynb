{
 "cells": [
  {
   "cell_type": "code",
   "execution_count": 1,
   "metadata": {},
   "outputs": [],
   "source": [
    "import json\n",
    "import requests\n",
    "import popelines\n",
    "import os\n",
    "from datetime import datetime, timedelta\n",
    "from main import fix_values, populating_vals, flatten, flatten_dupe_vals\n",
    "from generate_original_with_timeseries import read_endpoint, generate_results\n",
    "from generate_original_results import results_generator\n"
   ]
  },
  {
   "cell_type": "code",
   "execution_count": 2,
   "metadata": {},
   "outputs": [],
   "source": [
    "# ############################################### Keys and Authentication #######################################\n",
    "# if not os.environ.get('GOOGLE_ACCOUNT_CREDENTIALS'):\n",
    "#     os.environ['GOOGLE_ACCOUNT_CREDENTIALS'] = '/home/engineering/keyfile.json'\n",
    "gbq_key = os.environ.get('GOOGLE_ACCOUNT_CREDENTIALS')\n",
    "\n",
    "# directory = str(os.path.abspath(os.path.dirname(__file__)))\n",
    "directory = os.getcwd()\n",
    "\n",
    "############################################### Instantiating Popelines #######################################\n",
    "pope = popelines.popeline(dataset_id='optimizely', service_key_file_loc=gbq_key, directory='.', verbose=False)\n",
    "\n",
    "# Optimizely parameters\n",
    "headers = {\n",
    "    'Authorization': 'Bearer 2:EWAWmaXb4TgtYVU2VvwoEF-9UbJxBahkiFh1633_Oc9nmju7iJis',\n",
    "}\n",
    "\n",
    "params = (\n",
    "    ('per_page', 100),\n",
    ")\n"
   ]
  },
  {
   "cell_type": "code",
   "execution_count": 3,
   "metadata": {},
   "outputs": [],
   "source": [
    "# from bq get all running experiments\n",
    "query = open(f'{directory}/running_experiments.sql').read()\n",
    "running_exp = pope.bq_query(query)\n"
   ]
  },
  {
   "cell_type": "code",
   "execution_count": null,
   "metadata": {},
   "outputs": [],
   "source": [
    "exp = running_exp[0]"
   ]
  },
  {
   "cell_type": "code",
   "execution_count": null,
   "metadata": {},
   "outputs": [],
   "source": [
    "exp"
   ]
  },
  {
   "cell_type": "code",
   "execution_count": null,
   "metadata": {},
   "outputs": [],
   "source": [
    "query = open(f'{directory}/last_results.sql').read().replace('exp_id', f\"{exp['id']}\")"
   ]
  },
  {
   "cell_type": "code",
   "execution_count": null,
   "metadata": {},
   "outputs": [],
   "source": [
    "new_exp = pope.bq_query(query)\n",
    "new_exp"
   ]
  },
  {
   "cell_type": "code",
   "execution_count": null,
   "metadata": {},
   "outputs": [],
   "source": [
    "datetime.strftime(new_exp[0][1], '%Y-%m-%dT%H:%M:%SZ')[:14]"
   ]
  },
  {
   "cell_type": "code",
   "execution_count": 4,
   "metadata": {},
   "outputs": [
    {
     "name": "stdout",
     "output_type": "stream",
     "text": [
      "start time is 2019-03-12T11:00:00Z, end time is 2019-03-12T12:00:00Z\n",
      "got experiment 13708070038\n",
      "Row((13831720551, datetime.datetime(2019, 3, 12, 12, 24, 30, 666118, tzinfo=<UTC>)), {'id': 0, 'last_upload_ts': 1})\n",
      "Row((13777600470, datetime.datetime(2019, 3, 12, 17, 59, 52, 49790, tzinfo=<UTC>)), {'id': 0, 'last_upload_ts': 1})\n",
      "Row((13812040704, datetime.datetime(2019, 3, 12, 17, 59, 52, 51514, tzinfo=<UTC>)), {'id': 0, 'last_upload_ts': 1})\n"
     ]
    }
   ],
   "source": [
    "new_results = []\n",
    "for exp in running_exp:\n",
    "    query = open(f'{directory}/last_results.sql').read().replace('exp_id', f\"{exp['id']}\")\n",
    "    new_exp = pope.bq_query(query)\n",
    "    \n",
    "    if new_exp != []:\n",
    "        start_timestamp = datetime.strftime(new_exp[0][1], '%Y-%m-%dT%H:%M:%SZ')[:14] + str('00:00Z')\n",
    "        end_timestamp = datetime.strftime(datetime.now(), '%Y-%m-%dT%H:%M:%SZ')\n",
    "        \n",
    "        new_results.extend(results_generator(start_timestamp, end_timestamp, experiment_id=new_exp[0][0], headers=headers, params=params, pope=pope, gbq_key=gbq_key))\n",
    "        pope.write_to_json(file_name=f'{directory}/updating_results.json', jayson=new_results, mode='w')\n",
    "\n",
    "    else:\n",
    "        print(exp)\n",
    "#         starting_query = open(f'{directory}/new_results.sql').read().replace('exp_id', f\"{exp['id']}\")\n",
    "#         new_exp = pope.bq_query(query)\n",
    "\n",
    "#         start_timestamp = datetime.strftime(new_exp[0][1], '%Y-%m-%dT%H:%M:%SZ')[:14] + str('00:00Z')\n",
    "#         end_timestamp = datetime.strftime(datetime.now(), '%Y-%m-%dT%H:%M:%SZ')\n",
    "        \n",
    "#         new_results.extend(results_generator(start_timestamp, end_timestamp, experiment_id=new_exp[0][0], headers=headers, params=params, pope=pope, gbq_key=gbq_key))\n",
    "#         pope.write_to_json(file_name=f'{directory}/updating_results.json', jayson=new_results, mode='w')\n"
   ]
  },
  {
   "cell_type": "code",
   "execution_count": 5,
   "metadata": {},
   "outputs": [],
   "source": [
    "exp_id = 13831720551"
   ]
  },
  {
   "cell_type": "code",
   "execution_count": 6,
   "metadata": {},
   "outputs": [],
   "source": [
    "new_results = []"
   ]
  },
  {
   "cell_type": "code",
   "execution_count": 8,
   "metadata": {},
   "outputs": [],
   "source": [
    "starting_query = open(f'{directory}/new_results.sql').read().replace('exp_id', f\"{exp['id']}\")\n",
    "new_exp = pope.bq_query(query)\n"
   ]
  },
  {
   "cell_type": "code",
   "execution_count": null,
   "metadata": {},
   "outputs": [],
   "source": [
    "start_timestamp = datetime.strftime(new_exp[0][1], '%Y-%m-%dT%H:%M:%SZ')[:14] + str('00:00Z')\n",
    "end_timestamp = datetime.strftime(datetime.now(), '%Y-%m-%dT%H:%M:%SZ')\n",
    "\n",
    "new_results.extend(results_generator(start_timestamp, end_timestamp, experiment_id=new_exp[0][0], headers=headers, params=params, pope=pope, gbq_key=gbq_key))\n",
    "\n"
   ]
  }
 ],
 "metadata": {
  "kernelspec": {
   "display_name": "Python 3",
   "language": "python",
   "name": "python3"
  },
  "language_info": {
   "codemirror_mode": {
    "name": "ipython",
    "version": 3
   },
   "file_extension": ".py",
   "mimetype": "text/x-python",
   "name": "python",
   "nbconvert_exporter": "python",
   "pygments_lexer": "ipython3",
   "version": "3.6.4"
  }
 },
 "nbformat": 4,
 "nbformat_minor": 2
}
