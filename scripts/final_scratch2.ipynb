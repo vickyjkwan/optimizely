{
 "cells": [
  {
   "cell_type": "markdown",
   "metadata": {},
   "source": [
    "# main"
   ]
  },
  {
   "cell_type": "code",
   "execution_count": 1,
   "metadata": {},
   "outputs": [],
   "source": [
    "import json\n",
    "import requests\n",
    "import popelines\n",
    "import os"
   ]
  },
  {
   "cell_type": "code",
   "execution_count": 2,
   "metadata": {},
   "outputs": [],
   "source": [
    "def fix_values(value, key, reset_key):\n",
    "    if key == reset_key:\n",
    "        new_list = []\n",
    "        for x in value:\n",
    "            value[x][f'{reset_key}_id'] = x\n",
    "            new_list.append(value[x])\n",
    "        return new_list\n",
    "    else:\n",
    "        return value"
   ]
  },
  {
   "cell_type": "code",
   "execution_count": 3,
   "metadata": {},
   "outputs": [],
   "source": [
    "# read endpoint, returns a json file of the HTTP request\n",
    "def read_endpoint(endpoint, headers_set, params_set=None):\n",
    "    try:\n",
    "        response = requests.get(endpoint, headers=headers_set, params=params_set)\n",
    "        response_text = json.loads(response.text)\n",
    "        response.raise_for_status()\n",
    "\n",
    "    except requests.exceptions.HTTPError as err:\n",
    "        print(err)\n",
    "\n",
    "    return response_text"
   ]
  },
  {
   "cell_type": "code",
   "execution_count": 4,
   "metadata": {},
   "outputs": [],
   "source": [
    "# generate all experiments given a project id\n",
    "def generate_experiments(project_id, experiment_endpoint, experiment_headers, experiment_params):\n",
    "    # get all experiments from one project\n",
    "    j_exp = read_endpoint(endpoint=experiment_endpoint, headers_set=experiment_headers, params_set=experiment_params)\n",
    "\n",
    "    # loop for all experiments in this project\n",
    "    experiment_id_list = []\n",
    "    upload_exp_list = []\n",
    "    for exp in j_exp:\n",
    "        exp['project_id'] = project_id\n",
    "        upload_exp_list.append(exp)\n",
    "        experiment_id_list.append(exp['id'])\n",
    "        \n",
    "    return upload_exp_list, experiment_id_list"
   ]
  },
  {
   "cell_type": "code",
   "execution_count": 5,
   "metadata": {},
   "outputs": [],
   "source": [
    "# generate all projects within account\n",
    "def generate_projects(project_endpoint, project_headers):\n",
    "    # get all projects\n",
    "    j_proj = read_endpoint(endpoint=project_endpoint, headers_set=project_headers)\n",
    "\n",
    "    # store a list of project metadata\n",
    "    return j_proj"
   ]
  },
  {
   "cell_type": "markdown",
   "metadata": {},
   "source": [
    "# load all projects, get project_id's"
   ]
  },
  {
   "cell_type": "code",
   "execution_count": 6,
   "metadata": {},
   "outputs": [],
   "source": [
    "gbq_key = os.environ.get('GOOGLE_ACCOUNT_CREDENTIALS')\n",
    "pope = popelines.popeline(dataset_id='optimizely', service_key_file_loc=gbq_key, directory='.', verbose=False)\n",
    "\n",
    "# Optimizely parameters\n",
    "headers = {\n",
    "    'Authorization': 'Bearer 2:EWAWmaXb4TgtYVU2VvwoEF-9UbJxBahkiFh1633_Oc9nmju7iJis',\n",
    "}"
   ]
  },
  {
   "cell_type": "code",
   "execution_count": 7,
   "metadata": {},
   "outputs": [],
   "source": [
    "project_endpoint = 'https://api.optimizely.com/v2/projects'"
   ]
  },
  {
   "cell_type": "code",
   "execution_count": 8,
   "metadata": {},
   "outputs": [],
   "source": [
    "all_projects = generate_projects(project_endpoint, headers)"
   ]
  },
  {
   "cell_type": "code",
   "execution_count": null,
   "metadata": {},
   "outputs": [],
   "source": [
    "# pope.write_to_json(file_name='../uploads/projects.json', jayson=all_projects, mode='w')"
   ]
  },
  {
   "cell_type": "code",
   "execution_count": null,
   "metadata": {},
   "outputs": [],
   "source": [
    "# pope.write_to_bq(table_name='projects', file_name='../uploads/projects.json', append=True, ignore_unknown_values=False, bq_schema_autodetect=False)\n",
    "# print(\"Successfully uploaded all projects.\")"
   ]
  },
  {
   "cell_type": "code",
   "execution_count": 9,
   "metadata": {},
   "outputs": [],
   "source": [
    "project_id_list = []\n",
    "for project in all_projects:\n",
    "    project_id_list.append((project['id']))"
   ]
  },
  {
   "cell_type": "code",
   "execution_count": 10,
   "metadata": {},
   "outputs": [],
   "source": [
    "# project_id_list\n"
   ]
  },
  {
   "cell_type": "code",
   "execution_count": 11,
   "metadata": {},
   "outputs": [],
   "source": [
    "project_id_name = []\n",
    "for project in all_projects:\n",
    "    project_id_name.append((project['id'], project['name']))"
   ]
  },
  {
   "cell_type": "code",
   "execution_count": 12,
   "metadata": {},
   "outputs": [
    {
     "data": {
      "text/plain": [
       "[(9965963792, 'Onboarding'),\n",
       " (10347872424, 'Corporate Website'),\n",
       " (10427612860, 'Marketo Pages'),\n",
       " (10429921250, 'Corporate Website - Landing Pages'),\n",
       " (10849384554, 'Corporate Website - Copy')]"
      ]
     },
     "execution_count": 12,
     "metadata": {},
     "output_type": "execute_result"
    }
   ],
   "source": [
    "project_id_name"
   ]
  },
  {
   "cell_type": "markdown",
   "metadata": {},
   "source": [
    "# load experiments"
   ]
  },
  {
   "cell_type": "code",
   "execution_count": 13,
   "metadata": {},
   "outputs": [],
   "source": [
    "experiment_endpoint = 'https://api.optimizely.com/v2/experiments'\n"
   ]
  },
  {
   "cell_type": "code",
   "execution_count": 14,
   "metadata": {},
   "outputs": [],
   "source": [
    "experiment_id_list = []\n",
    "\n",
    "for project_id in project_id_list:\n",
    "    # params include project_id (required) and experiments pulling per each request (default only 25)\n",
    "    params = (\n",
    "        ('project_id', project_id),\n",
    "        ('per_page', 100),\n",
    "    ) \n",
    "\n",
    "    exp_list, exp_id_list = generate_experiments(project_id, experiment_endpoint, headers, params)\n",
    "    experiment_id_list.extend(exp_id_list)\n",
    "    \n",
    "    # upload experiments\n",
    "#     pope.write_to_json(file_name='../uploads/experiments.json', jayson=exp_list, mode='w')\n",
    "#     pope.write_to_bq(table_name='experiments', file_name='../uploads/experiments.json', append=True, ignore_unknown_values=False, bq_schema_autodetect=False)\n",
    "#     print(f\"Successfully uploaded experiments for project {project_id}\")"
   ]
  },
  {
   "cell_type": "markdown",
   "metadata": {},
   "source": [
    "# results timeseries"
   ]
  },
  {
   "cell_type": "code",
   "execution_count": 15,
   "metadata": {
    "scrolled": true
   },
   "outputs": [
    {
     "name": "stdout",
     "output_type": "stream",
     "text": [
      "dict_keys(['aggregator', 'event_id', 'name', 'results', 'scope', 'winning_direction'])\n",
      "dict_keys(['aggregator', 'event_id', 'name', 'results', 'scope', 'winning_direction'])\n",
      "dict_keys(['aggregator', 'event_id', 'name', 'results', 'scope', 'winning_direction'])\n",
      "dict_keys(['aggregator', 'event_id', 'name', 'results', 'scope', 'winning_direction'])\n",
      "dict_keys(['aggregator', 'event_id', 'name', 'results', 'scope', 'winning_direction'])\n",
      "dict_keys(['aggregator', 'event_id', 'name', 'results', 'scope', 'winning_direction'])\n",
      "dict_keys(['aggregator', 'event_id', 'name', 'results', 'scope', 'winning_direction'])\n",
      "dict_keys(['aggregator', 'event_id', 'name', 'results', 'scope', 'winning_direction'])\n",
      "dict_keys(['aggregator', 'event_id', 'name', 'results', 'scope', 'winning_direction'])\n",
      "dict_keys(['aggregator', 'event_id', 'name', 'results', 'scope', 'winning_direction'])\n",
      "dict_keys(['aggregator', 'event_id', 'name', 'results', 'scope', 'winning_direction'])\n",
      "dict_keys(['aggregator', 'event_id', 'name', 'results', 'scope', 'winning_direction'])\n",
      "dict_keys(['aggregator', 'event_id', 'name', 'results', 'scope', 'winning_direction'])\n",
      "dict_keys(['aggregator', 'event_id', 'name', 'results', 'scope', 'winning_direction'])\n",
      "dict_keys(['aggregator', 'field', 'name', 'results', 'scope', 'winning_direction'])\n",
      "dict_keys(['aggregator', 'event_id', 'name', 'results', 'scope', 'winning_direction'])\n",
      "dict_keys(['aggregator', 'event_id', 'name', 'results', 'scope', 'winning_direction'])\n",
      "dict_keys(['aggregator', 'event_id', 'name', 'results', 'scope', 'winning_direction'])\n",
      "dict_keys(['aggregator', 'event_id', 'name', 'results', 'scope', 'winning_direction'])\n",
      "dict_keys(['aggregator', 'event_id', 'name', 'results', 'scope', 'winning_direction'])\n",
      "dict_keys(['aggregator', 'event_id', 'name', 'results', 'scope', 'winning_direction'])\n",
      "dict_keys(['aggregator', 'event_id', 'name', 'results', 'scope', 'winning_direction'])\n",
      "dict_keys(['aggregator', 'event_id', 'name', 'results', 'scope', 'winning_direction'])\n",
      "dict_keys(['aggregator', 'event_id', 'name', 'results', 'scope', 'winning_direction'])\n",
      "dict_keys(['aggregator', 'event_id', 'name', 'results', 'scope', 'winning_direction'])\n",
      "dict_keys(['aggregator', 'event_id', 'name', 'results', 'scope', 'winning_direction'])\n",
      "dict_keys(['aggregator', 'event_id', 'name', 'results', 'scope', 'winning_direction'])\n",
      "dict_keys(['aggregator', 'event_id', 'name', 'results', 'scope', 'winning_direction'])\n",
      "dict_keys(['aggregator', 'event_id', 'name', 'results', 'scope', 'winning_direction'])\n",
      "dict_keys(['aggregator', 'event_id', 'name', 'results', 'scope', 'winning_direction'])\n",
      "dict_keys(['aggregator', 'event_id', 'name', 'results', 'scope', 'winning_direction'])\n",
      "dict_keys(['aggregator', 'event_id', 'name', 'results', 'scope', 'winning_direction'])\n",
      "dict_keys(['aggregator', 'event_id', 'name', 'results', 'scope', 'winning_direction'])\n",
      "dict_keys(['aggregator', 'event_id', 'name', 'results', 'scope', 'winning_direction'])\n",
      "dict_keys(['aggregator', 'event_id', 'name', 'results', 'scope', 'winning_direction'])\n",
      "dict_keys(['aggregator', 'event_id', 'name', 'results', 'scope', 'winning_direction'])\n",
      "dict_keys(['aggregator', 'event_id', 'name', 'results', 'scope', 'winning_direction'])\n",
      "dict_keys(['aggregator', 'event_id', 'name', 'results', 'scope', 'winning_direction'])\n",
      "dict_keys(['aggregator', 'event_id', 'name', 'results', 'scope', 'winning_direction'])\n",
      "dict_keys(['aggregator', 'event_id', 'name', 'results', 'scope', 'winning_direction'])\n",
      "dict_keys(['aggregator', 'event_id', 'name', 'results', 'scope', 'winning_direction'])\n",
      "dict_keys(['aggregator', 'event_id', 'name', 'results', 'scope', 'winning_direction'])\n",
      "dict_keys(['aggregator', 'event_id', 'name', 'results', 'scope', 'winning_direction'])\n",
      "dict_keys(['aggregator', 'event_id', 'name', 'results', 'scope', 'winning_direction'])\n",
      "dict_keys(['aggregator', 'event_id', 'name', 'results', 'scope', 'winning_direction'])\n",
      "dict_keys(['aggregator', 'event_id', 'name', 'results', 'scope', 'winning_direction'])\n",
      "dict_keys(['aggregator', 'event_id', 'name', 'results', 'scope', 'winning_direction'])\n",
      "dict_keys(['aggregator', 'event_id', 'name', 'results', 'scope', 'winning_direction'])\n",
      "dict_keys(['aggregator', 'event_id', 'name', 'results', 'scope', 'winning_direction'])\n",
      "dict_keys(['aggregator', 'event_id', 'name', 'results', 'scope', 'winning_direction'])\n",
      "dict_keys(['aggregator', 'event_id', 'name', 'results', 'scope', 'winning_direction'])\n",
      "dict_keys(['aggregator', 'event_id', 'name', 'results', 'scope', 'winning_direction'])\n",
      "dict_keys(['aggregator', 'event_id', 'name', 'results', 'scope', 'winning_direction'])\n",
      "dict_keys(['aggregator', 'event_id', 'name', 'results', 'scope', 'winning_direction'])\n",
      "dict_keys(['aggregator', 'event_id', 'name', 'results', 'scope', 'winning_direction'])\n",
      "dict_keys(['aggregator', 'event_id', 'name', 'results', 'scope', 'winning_direction'])\n",
      "dict_keys(['aggregator', 'event_id', 'name', 'results', 'scope', 'winning_direction'])\n",
      "dict_keys(['aggregator', 'event_id', 'name', 'results', 'scope', 'winning_direction'])\n",
      "dict_keys(['aggregator', 'event_id', 'name', 'results', 'scope', 'winning_direction'])\n",
      "dict_keys(['aggregator', 'event_id', 'name', 'results', 'scope', 'winning_direction'])\n",
      "dict_keys(['aggregator', 'event_id', 'name', 'results', 'scope', 'winning_direction'])\n",
      "dict_keys(['aggregator', 'event_id', 'name', 'results', 'scope', 'winning_direction'])\n",
      "dict_keys(['aggregator', 'event_id', 'name', 'results', 'scope', 'winning_direction'])\n",
      "dict_keys(['aggregator', 'event_id', 'name', 'results', 'scope', 'winning_direction'])\n",
      "dict_keys(['aggregator', 'event_id', 'name', 'results', 'scope', 'winning_direction'])\n",
      "dict_keys(['aggregator', 'event_id', 'name', 'results', 'scope', 'winning_direction'])\n",
      "dict_keys(['aggregator', 'event_id', 'name', 'results', 'scope', 'winning_direction'])\n",
      "dict_keys(['aggregator', 'event_id', 'name', 'results', 'scope', 'winning_direction'])\n",
      "dict_keys(['aggregator', 'event_id', 'name', 'results', 'scope', 'winning_direction'])\n",
      "dict_keys(['aggregator', 'event_id', 'name', 'results', 'scope', 'winning_direction'])\n",
      "dict_keys(['aggregator', 'event_id', 'name', 'results', 'scope', 'winning_direction'])\n",
      "dict_keys(['aggregator', 'event_id', 'name', 'results', 'scope', 'winning_direction'])\n",
      "dict_keys(['aggregator', 'event_id', 'name', 'results', 'scope', 'winning_direction'])\n",
      "dict_keys(['aggregator', 'event_id', 'name', 'results', 'scope', 'winning_direction'])\n",
      "dict_keys(['aggregator', 'event_id', 'name', 'results', 'scope', 'winning_direction'])\n",
      "dict_keys(['aggregator', 'event_id', 'name', 'results', 'scope', 'winning_direction'])\n",
      "dict_keys(['aggregator', 'event_id', 'name', 'results', 'scope', 'winning_direction'])\n",
      "dict_keys(['aggregator', 'event_id', 'name', 'results', 'scope', 'winning_direction'])\n",
      "dict_keys(['aggregator', 'event_id', 'name', 'results', 'scope', 'winning_direction'])\n",
      "dict_keys(['aggregator', 'event_id', 'name', 'results', 'scope', 'winning_direction'])\n",
      "dict_keys(['aggregator', 'event_id', 'name', 'results', 'scope', 'winning_direction'])\n",
      "dict_keys(['aggregator', 'event_id', 'name', 'results', 'scope', 'winning_direction'])\n",
      "dict_keys(['aggregator', 'event_id', 'name', 'results', 'scope', 'winning_direction'])\n",
      "dict_keys(['aggregator', 'event_id', 'name', 'results', 'scope', 'winning_direction'])\n",
      "dict_keys(['aggregator', 'event_id', 'name', 'results', 'scope', 'winning_direction'])\n",
      "dict_keys(['aggregator', 'event_id', 'name', 'results', 'scope', 'winning_direction'])\n",
      "dict_keys(['aggregator', 'event_id', 'name', 'results', 'scope', 'winning_direction'])\n",
      "dict_keys(['aggregator', 'event_id', 'name', 'results', 'scope', 'winning_direction'])\n",
      "dict_keys(['aggregator', 'event_id', 'name', 'results', 'scope', 'winning_direction'])\n",
      "dict_keys(['aggregator', 'event_id', 'name', 'results', 'scope', 'winning_direction'])\n",
      "dict_keys(['aggregator', 'event_id', 'name', 'results', 'scope', 'winning_direction'])\n",
      "dict_keys(['aggregator', 'event_id', 'name', 'results', 'scope', 'winning_direction'])\n",
      "dict_keys(['aggregator', 'event_id', 'name', 'results', 'scope', 'winning_direction'])\n",
      "dict_keys(['aggregator', 'event_id', 'name', 'results', 'scope', 'winning_direction'])\n",
      "dict_keys(['aggregator', 'event_id', 'name', 'results', 'scope', 'winning_direction'])\n"
     ]
    },
    {
     "name": "stdout",
     "output_type": "stream",
     "text": [
      "dict_keys(['aggregator', 'event_id', 'name', 'results', 'scope', 'winning_direction'])\n",
      "dict_keys(['aggregator', 'event_id', 'name', 'results', 'scope', 'winning_direction'])\n",
      "dict_keys(['aggregator', 'event_id', 'name', 'results', 'scope', 'winning_direction'])\n",
      "dict_keys(['aggregator', 'event_id', 'name', 'results', 'scope', 'winning_direction'])\n",
      "dict_keys(['aggregator', 'event_id', 'name', 'results', 'scope', 'winning_direction'])\n",
      "dict_keys(['aggregator', 'event_id', 'name', 'results', 'scope', 'winning_direction'])\n",
      "dict_keys(['aggregator', 'event_id', 'name', 'results', 'scope', 'winning_direction'])\n",
      "dict_keys(['aggregator', 'event_id', 'name', 'results', 'scope', 'winning_direction'])\n",
      "dict_keys(['aggregator', 'event_id', 'name', 'results', 'scope', 'winning_direction'])\n",
      "dict_keys(['aggregator', 'event_id', 'name', 'results', 'scope', 'winning_direction'])\n",
      "dict_keys(['aggregator', 'event_id', 'name', 'results', 'scope', 'winning_direction'])\n",
      "dict_keys(['aggregator', 'event_id', 'name', 'results', 'scope', 'winning_direction'])\n",
      "dict_keys(['aggregator', 'event_id', 'name', 'results', 'scope', 'winning_direction'])\n",
      "dict_keys(['aggregator', 'event_id', 'name', 'results', 'scope', 'winning_direction'])\n",
      "dict_keys(['aggregator', 'event_id', 'name', 'results', 'scope', 'winning_direction'])\n",
      "dict_keys(['aggregator', 'event_id', 'name', 'results', 'scope', 'winning_direction'])\n",
      "dict_keys(['aggregator', 'event_id', 'name', 'results', 'scope', 'winning_direction'])\n",
      "dict_keys(['aggregator', 'event_id', 'name', 'results', 'scope', 'winning_direction'])\n",
      "dict_keys(['aggregator', 'event_id', 'name', 'results', 'scope', 'winning_direction'])\n",
      "dict_keys(['aggregator', 'event_id', 'name', 'results', 'scope', 'winning_direction'])\n",
      "dict_keys(['aggregator', 'event_id', 'name', 'results', 'scope', 'winning_direction'])\n",
      "dict_keys(['aggregator', 'event_id', 'name', 'results', 'scope', 'winning_direction'])\n",
      "dict_keys(['aggregator', 'event_id', 'name', 'results', 'scope', 'winning_direction'])\n",
      "dict_keys(['aggregator', 'event_id', 'name', 'results', 'scope', 'winning_direction'])\n",
      "dict_keys(['aggregator', 'event_id', 'name', 'results', 'scope', 'winning_direction'])\n",
      "dict_keys(['aggregator', 'event_id', 'name', 'results', 'scope', 'winning_direction'])\n",
      "dict_keys(['aggregator', 'event_id', 'name', 'results', 'scope', 'winning_direction'])\n",
      "dict_keys(['aggregator', 'event_id', 'name', 'results', 'scope', 'winning_direction'])\n",
      "dict_keys(['aggregator', 'event_id', 'name', 'results', 'scope', 'winning_direction'])\n",
      "dict_keys(['aggregator', 'event_id', 'name', 'results', 'scope', 'winning_direction'])\n",
      "dict_keys(['aggregator', 'event_id', 'name', 'results', 'scope', 'winning_direction'])\n",
      "dict_keys(['aggregator', 'event_id', 'name', 'results', 'scope', 'winning_direction'])\n",
      "dict_keys(['aggregator', 'event_id', 'name', 'results', 'scope', 'winning_direction'])\n",
      "dict_keys(['aggregator', 'event_id', 'name', 'results', 'scope', 'winning_direction'])\n",
      "dict_keys(['aggregator', 'event_id', 'name', 'results', 'scope', 'winning_direction'])\n",
      "dict_keys(['aggregator', 'event_id', 'name', 'results', 'scope', 'winning_direction'])\n",
      "dict_keys(['aggregator', 'event_id', 'name', 'results', 'scope', 'winning_direction'])\n",
      "dict_keys(['aggregator', 'event_id', 'name', 'results', 'scope', 'winning_direction'])\n",
      "dict_keys(['aggregator', 'event_id', 'name', 'results', 'scope', 'winning_direction'])\n",
      "dict_keys(['aggregator', 'event_id', 'name', 'results', 'scope', 'winning_direction'])\n",
      "dict_keys(['aggregator', 'event_id', 'name', 'results', 'scope', 'winning_direction'])\n",
      "dict_keys(['aggregator', 'event_id', 'name', 'results', 'scope', 'winning_direction'])\n",
      "dict_keys(['aggregator', 'event_id', 'name', 'results', 'scope', 'winning_direction'])\n",
      "dict_keys(['aggregator', 'event_id', 'name', 'results', 'scope', 'winning_direction'])\n",
      "dict_keys(['aggregator', 'event_id', 'name', 'results', 'scope', 'winning_direction'])\n",
      "dict_keys(['aggregator', 'event_id', 'name', 'results', 'scope', 'winning_direction'])\n",
      "dict_keys(['aggregator', 'event_id', 'name', 'results', 'scope', 'winning_direction'])\n",
      "dict_keys(['aggregator', 'event_id', 'name', 'results', 'scope', 'winning_direction'])\n",
      "dict_keys(['aggregator', 'event_id', 'name', 'results', 'scope', 'winning_direction'])\n",
      "dict_keys(['aggregator', 'event_id', 'name', 'results', 'scope', 'winning_direction'])\n",
      "dict_keys(['aggregator', 'event_id', 'name', 'results', 'scope', 'winning_direction'])\n",
      "dict_keys(['aggregator', 'event_id', 'name', 'results', 'scope', 'winning_direction'])\n",
      "dict_keys(['aggregator', 'event_id', 'name', 'results', 'scope', 'winning_direction'])\n",
      "dict_keys(['aggregator', 'event_id', 'name', 'results', 'scope', 'winning_direction'])\n",
      "dict_keys(['aggregator', 'event_id', 'name', 'results', 'scope', 'winning_direction'])\n",
      "dict_keys(['aggregator', 'event_id', 'name', 'results', 'scope', 'winning_direction'])\n",
      "dict_keys(['aggregator', 'event_id', 'name', 'results', 'scope', 'winning_direction'])\n",
      "dict_keys(['aggregator', 'event_id', 'name', 'results', 'scope', 'winning_direction'])\n",
      "dict_keys(['aggregator', 'event_id', 'name', 'results', 'scope', 'winning_direction'])\n",
      "dict_keys(['aggregator', 'event_id', 'name', 'results', 'scope', 'winning_direction'])\n",
      "dict_keys(['aggregator', 'event_id', 'name', 'results', 'scope', 'winning_direction'])\n",
      "dict_keys(['aggregator', 'event_id', 'name', 'results', 'scope', 'winning_direction'])\n",
      "dict_keys(['aggregator', 'event_id', 'name', 'results', 'scope', 'winning_direction'])\n",
      "dict_keys(['aggregator', 'event_id', 'name', 'results', 'scope', 'winning_direction'])\n",
      "dict_keys(['aggregator', 'event_id', 'name', 'results', 'scope', 'winning_direction'])\n",
      "dict_keys(['aggregator', 'event_id', 'name', 'results', 'scope', 'winning_direction'])\n",
      "dict_keys(['aggregator', 'event_id', 'name', 'results', 'scope', 'winning_direction'])\n",
      "dict_keys(['aggregator', 'event_id', 'name', 'results', 'scope', 'winning_direction'])\n",
      "dict_keys(['aggregator', 'event_id', 'name', 'results', 'scope', 'winning_direction'])\n",
      "dict_keys(['aggregator', 'event_id', 'name', 'results', 'scope', 'winning_direction'])\n",
      "dict_keys(['aggregator', 'event_id', 'name', 'results', 'scope', 'winning_direction'])\n",
      "dict_keys(['aggregator', 'event_id', 'name', 'results', 'scope', 'winning_direction'])\n",
      "dict_keys(['aggregator', 'event_id', 'name', 'results', 'scope', 'winning_direction'])\n",
      "dict_keys(['aggregator', 'event_id', 'name', 'results', 'scope', 'winning_direction'])\n",
      "dict_keys(['aggregator', 'event_id', 'name', 'results', 'scope', 'winning_direction'])\n",
      "dict_keys(['aggregator', 'event_id', 'name', 'results', 'scope', 'winning_direction'])\n",
      "dict_keys(['aggregator', 'event_id', 'name', 'results', 'scope', 'winning_direction'])\n",
      "dict_keys(['aggregator', 'event_id', 'name', 'results', 'scope', 'winning_direction'])\n",
      "dict_keys(['aggregator', 'event_id', 'name', 'results', 'scope', 'winning_direction'])\n",
      "dict_keys(['aggregator', 'event_id', 'name', 'results', 'scope', 'winning_direction'])\n",
      "dict_keys(['aggregator', 'event_id', 'name', 'results', 'scope', 'winning_direction'])\n",
      "dict_keys(['aggregator', 'event_id', 'name', 'results', 'scope', 'winning_direction'])\n",
      "dict_keys(['aggregator', 'event_id', 'name', 'results', 'scope', 'winning_direction'])\n",
      "dict_keys(['aggregator', 'event_id', 'name', 'results', 'scope', 'winning_direction'])\n",
      "dict_keys(['aggregator', 'event_id', 'name', 'results', 'scope', 'winning_direction'])\n",
      "dict_keys(['aggregator', 'event_id', 'name', 'results', 'scope', 'winning_direction'])\n",
      "dict_keys(['aggregator', 'event_id', 'name', 'results', 'scope', 'winning_direction'])\n",
      "dict_keys(['aggregator', 'event_id', 'name', 'results', 'scope', 'winning_direction'])\n",
      "dict_keys(['aggregator', 'event_id', 'name', 'results', 'scope', 'winning_direction'])\n",
      "dict_keys(['aggregator', 'event_id', 'name', 'results', 'scope', 'winning_direction'])\n",
      "dict_keys(['aggregator', 'event_id', 'name', 'results', 'scope', 'winning_direction'])\n",
      "dict_keys(['aggregator', 'event_id', 'name', 'results', 'scope', 'winning_direction'])\n",
      "dict_keys(['aggregator', 'event_id', 'name', 'results', 'scope', 'winning_direction'])\n",
      "dict_keys(['aggregator', 'event_id', 'name', 'results', 'scope', 'winning_direction'])\n",
      "dict_keys(['aggregator', 'event_id', 'name', 'results', 'scope', 'winning_direction'])\n",
      "dict_keys(['aggregator', 'event_id', 'name', 'results', 'scope', 'winning_direction'])\n"
     ]
    },
    {
     "name": "stdout",
     "output_type": "stream",
     "text": [
      "dict_keys(['aggregator', 'event_id', 'name', 'results', 'scope', 'winning_direction'])\n",
      "dict_keys(['aggregator', 'event_id', 'name', 'results', 'scope', 'winning_direction'])\n",
      "dict_keys(['aggregator', 'event_id', 'name', 'results', 'scope', 'winning_direction'])\n",
      "dict_keys(['aggregator', 'event_id', 'name', 'results', 'scope', 'winning_direction'])\n",
      "dict_keys(['aggregator', 'event_id', 'name', 'results', 'scope', 'winning_direction'])\n",
      "dict_keys(['aggregator', 'event_id', 'name', 'results', 'scope', 'winning_direction'])\n",
      "dict_keys(['aggregator', 'event_id', 'name', 'results', 'scope', 'winning_direction'])\n",
      "dict_keys(['aggregator', 'event_id', 'name', 'results', 'scope', 'winning_direction'])\n",
      "dict_keys(['aggregator', 'event_id', 'name', 'results', 'scope', 'winning_direction'])\n",
      "dict_keys(['aggregator', 'event_id', 'name', 'scope', 'winning_direction'])\n",
      "dict_keys(['aggregator', 'event_id', 'name', 'results', 'scope', 'winning_direction'])\n",
      "dict_keys(['aggregator', 'event_id', 'name', 'results', 'scope', 'winning_direction'])\n",
      "dict_keys(['aggregator', 'event_id', 'name', 'results', 'scope', 'winning_direction'])\n",
      "dict_keys(['aggregator', 'event_id', 'name', 'results', 'scope', 'winning_direction'])\n",
      "dict_keys(['aggregator', 'event_id', 'name', 'results', 'scope', 'winning_direction'])\n",
      "dict_keys(['aggregator', 'event_id', 'name', 'results', 'scope', 'winning_direction'])\n",
      "dict_keys(['aggregator', 'event_id', 'name', 'results', 'scope', 'winning_direction'])\n",
      "dict_keys(['aggregator', 'event_id', 'name', 'results', 'scope', 'winning_direction'])\n",
      "dict_keys(['aggregator', 'event_id', 'name', 'results', 'scope', 'winning_direction'])\n"
     ]
    }
   ],
   "source": [
    "for experiment_id in experiment_id_list:\n",
    "    result_endpoint = f'https://api.optimizely.com/v2/experiments/{experiment_id}/timeseries'\n",
    "\n",
    "    response_ts = requests.get(result_endpoint, headers=headers)\n",
    "\n",
    "    # if '' then the experiment has not started yet\n",
    "    if response_ts.text == '':\n",
    "        j_ts = {'experiment_id': experiment_id}\n",
    "    else:\n",
    "        j_ts = json.loads(response_ts.text)\n",
    "\n",
    "    new_j_ts = pope.fix_json_values(callback=fix_values, obj=j_ts, reset_key='results')\n",
    "\n",
    "    flattened_metrics = []\n",
    "    try:\n",
    "        for metric in new_j_ts['metrics']:\n",
    "            print(metric.keys())\n",
    "    except KeyError:\n",
    "        a = 1\n",
    "#         print('--------')\n",
    "#         for result in metric['results']:\n",
    "#             for timeseries in result['timeseries']:\n",
    "#                 new_dict = {}\n",
    "\n",
    "#     new_j_ts['metrics'] = flattened_metrics"
   ]
  },
  {
   "cell_type": "code",
   "execution_count": null,
   "metadata": {},
   "outputs": [],
   "source": []
  }
 ],
 "metadata": {
  "kernelspec": {
   "display_name": "Python 3",
   "language": "python",
   "name": "python3"
  },
  "language_info": {
   "codemirror_mode": {
    "name": "ipython",
    "version": 3
   },
   "file_extension": ".py",
   "mimetype": "text/x-python",
   "name": "python",
   "nbconvert_exporter": "python",
   "pygments_lexer": "ipython3",
   "version": "3.6.4"
  }
 },
 "nbformat": 4,
 "nbformat_minor": 2
}
