{
 "cells": [
  {
   "cell_type": "markdown",
   "metadata": {},
   "source": [
    "# main"
   ]
  },
  {
   "cell_type": "code",
   "execution_count": 1,
   "metadata": {},
   "outputs": [],
   "source": [
    "import json\n",
    "import requests\n",
    "import popelines\n",
    "import os\n",
    "from main import fix_values, populating_vals, flatten, flatten_dupe_vals\n",
    "from datetime import datetime"
   ]
  },
  {
   "cell_type": "code",
   "execution_count": 2,
   "metadata": {},
   "outputs": [],
   "source": [
    "def fix_values(value, key, reset_key):\n",
    "    if key == reset_key:\n",
    "        new_list = []\n",
    "        for x in value:\n",
    "            value[x][f'{reset_key}_id'] = x\n",
    "            new_list.append(value[x])\n",
    "        return new_list\n",
    "    else:\n",
    "        return value"
   ]
  },
  {
   "cell_type": "code",
   "execution_count": 3,
   "metadata": {},
   "outputs": [],
   "source": [
    "# read endpoint, returns a json file of the HTTP request\n",
    "def read_endpoint(endpoint, headers_set, params_set=None):\n",
    "    try:\n",
    "        response = requests.get(endpoint, headers=headers_set, params=params_set)\n",
    "        response_text = json.loads(response.text)\n",
    "        response.raise_for_status()\n",
    "\n",
    "    except requests.exceptions.HTTPError as err:\n",
    "        print(err)\n",
    "\n",
    "    return response_text"
   ]
  },
  {
   "cell_type": "code",
   "execution_count": 4,
   "metadata": {},
   "outputs": [],
   "source": [
    "# # generate all experiments given a project id\n",
    "# def generate_experiments(project_id, experiment_endpoint, experiment_headers, experiment_params):\n",
    "#     # get all experiments from one project\n",
    "#     j_exp = read_endpoint(endpoint=experiment_endpoint, headers_set=experiment_headers, params_set=experiment_params)\n",
    "\n",
    "#     # loop for all experiments in this project\n",
    "# #     experiment_id_list = []\n",
    "# #     upload_exp_list = []\n",
    "# #     for exp in j_exp:\n",
    "# #         exp['project_id'] = project_id\n",
    "# #         upload_exp_list.append(flatten(exp, {}, ''))\n",
    "# #         experiment_id_list.append(exp['id'])\n",
    "        \n",
    "#     return upload_exp_list, experiment_id_list"
   ]
  },
  {
   "cell_type": "code",
   "execution_count": 5,
   "metadata": {},
   "outputs": [],
   "source": [
    "# generate all projects within account\n",
    "def generate_projects(project_endpoint, project_headers):\n",
    "    # get all projects\n",
    "    j_proj = read_endpoint(endpoint=project_endpoint, headers_set=project_headers)\n",
    "\n",
    "    # store a list of project metadata\n",
    "    return j_proj"
   ]
  },
  {
   "cell_type": "markdown",
   "metadata": {},
   "source": [
    "# load all projects, get project_id's"
   ]
  },
  {
   "cell_type": "code",
   "execution_count": 6,
   "metadata": {},
   "outputs": [],
   "source": [
    "gbq_key = os.environ.get('GOOGLE_ACCOUNT_CREDENTIALS')\n",
    "pope = popelines.popeline(dataset_id='optimizely', service_key_file_loc=gbq_key, directory='.', verbose=False)\n",
    "\n",
    "# Optimizely parameters\n",
    "headers = {\n",
    "    'Authorization': 'Bearer 2:EWAWmaXb4TgtYVU2VvwoEF-9UbJxBahkiFh1633_Oc9nmju7iJis',\n",
    "    'Content-Type': 'application/json',\n",
    "}"
   ]
  },
  {
   "cell_type": "code",
   "execution_count": null,
   "metadata": {},
   "outputs": [],
   "source": [
    "project_endpoint = 'https://api.optimizely.com/v2/projects'"
   ]
  },
  {
   "cell_type": "code",
   "execution_count": null,
   "metadata": {},
   "outputs": [],
   "source": [
    "all_projects = generate_projects(project_endpoint, headers)"
   ]
  },
  {
   "cell_type": "code",
   "execution_count": null,
   "metadata": {},
   "outputs": [],
   "source": [
    "# pope.write_to_json(file_name='../uploads/projects.json', jayson=all_projects, mode='w')"
   ]
  },
  {
   "cell_type": "code",
   "execution_count": null,
   "metadata": {},
   "outputs": [],
   "source": [
    "# pope.write_to_bq(table_name='projects', file_name='../uploads/projects.json', append=True, ignore_unknown_values=False, bq_schema_autodetect=False)\n",
    "# print(\"Successfully uploaded all projects.\")"
   ]
  },
  {
   "cell_type": "code",
   "execution_count": null,
   "metadata": {},
   "outputs": [],
   "source": [
    "project_id_list = []\n",
    "for project in all_projects:\n",
    "    project_id_list.append((project['id']))"
   ]
  },
  {
   "cell_type": "code",
   "execution_count": null,
   "metadata": {},
   "outputs": [],
   "source": [
    "# project_id_list\n"
   ]
  },
  {
   "cell_type": "code",
   "execution_count": null,
   "metadata": {},
   "outputs": [],
   "source": [
    "# project_id_name = []\n",
    "# for project in all_projects:\n",
    "#     project_id_name.append((project['id'], project['name']))"
   ]
  },
  {
   "cell_type": "code",
   "execution_count": null,
   "metadata": {},
   "outputs": [],
   "source": [
    "# project_id_name"
   ]
  },
  {
   "cell_type": "markdown",
   "metadata": {},
   "source": [
    "# load experiments"
   ]
  },
  {
   "cell_type": "code",
   "execution_count": 7,
   "metadata": {},
   "outputs": [],
   "source": [
    "experiment_endpoint = 'https://api.optimizely.com/v2/experiments'\n"
   ]
  },
  {
   "cell_type": "code",
   "execution_count": 45,
   "metadata": {},
   "outputs": [],
   "source": [
    "# experiment_id_list = []\n",
    "# all_exp_list = []\n",
    "\n",
    "# for project_id in project_id_list:\n",
    "    # params include project_id (required) and experiments pulling per each request (default only 25)\n",
    "params = (\n",
    "    ('project_id', 9965963792),\n",
    "    ('per_page', 100),\n",
    ") \n"
   ]
  },
  {
   "cell_type": "code",
   "execution_count": 46,
   "metadata": {
    "scrolled": true
   },
   "outputs": [],
   "source": [
    "exp_list = read_endpoint(endpoint=experiment_endpoint, headers_set=headers, params_set=params)\n",
    "\n"
   ]
  },
  {
   "cell_type": "code",
   "execution_count": 10,
   "metadata": {},
   "outputs": [],
   "source": [
    "experiment_id_list = []"
   ]
  },
  {
   "cell_type": "code",
   "execution_count": 11,
   "metadata": {
    "scrolled": true
   },
   "outputs": [],
   "source": [
    "exp_id_list = []\n",
    "for exp in exp_list:\n",
    "    exp_id_list.append(exp['id'])"
   ]
  },
  {
   "cell_type": "code",
   "execution_count": 12,
   "metadata": {},
   "outputs": [],
   "source": [
    "experiment_id_list.extend(exp_id_list)"
   ]
  },
  {
   "cell_type": "code",
   "execution_count": 47,
   "metadata": {},
   "outputs": [],
   "source": [
    "new = []"
   ]
  },
  {
   "cell_type": "code",
   "execution_count": 73,
   "metadata": {},
   "outputs": [],
   "source": [
    "for e in exp_list:\n",
    "    if e['id'] == 11039523400:\n",
    "        new = e"
   ]
  },
  {
   "cell_type": "code",
   "execution_count": 74,
   "metadata": {},
   "outputs": [],
   "source": [
    "exp=new"
   ]
  },
  {
   "cell_type": "code",
   "execution_count": 75,
   "metadata": {},
   "outputs": [
    {
     "data": {
      "text/plain": [
       "{'allocation_policy': 'manual',\n",
       " 'audience_conditions': 'everyone',\n",
       " 'campaign_id': 11041413439,\n",
       " 'changes': [],\n",
       " 'created': '2018-07-07T22:18:03.362400Z',\n",
       " 'description': 'Switching \"Email\" field to say \"Company Email\" - will lead quality increase and will form conversion be impacted?',\n",
       " 'earliest': '2018-07-07T22:25:27.209360Z',\n",
       " 'holdback': 0,\n",
       " 'id': 11039523400,\n",
       " 'is_classic': False,\n",
       " 'last_modified': '2018-07-10T15:45:19.606040Z',\n",
       " 'latest': '2018-07-08T18:29:55.140960Z',\n",
       " 'metrics': [{'aggregator': 'unique',\n",
       "   'event_id': 10757331770,\n",
       "   'scope': 'visitor',\n",
       "   'winning_direction': 'increasing'},\n",
       "  {'aggregator': 'unique',\n",
       "   'event_id': 10601774395,\n",
       "   'scope': 'visitor',\n",
       "   'winning_direction': 'increasing'},\n",
       "  {'aggregator': 'sum',\n",
       "   'field': 'revenue',\n",
       "   'scope': 'visitor',\n",
       "   'winning_direction': 'increasing'}],\n",
       " 'name': 'FT Sign Up Company Email Field July 7',\n",
       " 'page_ids': [11094440334],\n",
       " 'project_id': 9965963792,\n",
       " 'status': 'paused',\n",
       " 'type': 'a/b',\n",
       " 'variations': [{'actions': [],\n",
       "   'archived': False,\n",
       "   'name': 'Label says \"Email\"',\n",
       "   'status': 'active',\n",
       "   'variation_id': 11059362372,\n",
       "   'weight': 3333},\n",
       "  {'actions': [],\n",
       "   'archived': False,\n",
       "   'name': 'Label says \"Company Email\"',\n",
       "   'status': 'active',\n",
       "   'variation_id': 11064823629,\n",
       "   'weight': 3333},\n",
       "  {'actions': [],\n",
       "   'archived': False,\n",
       "   'name': 'Label says \"Business Email\"',\n",
       "   'status': 'active',\n",
       "   'variation_id': 11047562271,\n",
       "   'weight': 3334}]}"
      ]
     },
     "execution_count": 75,
     "metadata": {},
     "output_type": "execute_result"
    }
   ],
   "source": [
    "exp"
   ]
  },
  {
   "cell_type": "code",
   "execution_count": 76,
   "metadata": {},
   "outputs": [],
   "source": [
    "all_singles = []\n",
    "nested_key_list = []\n",
    "for k,v in exp.items():\n",
    "    if isinstance(v, list):\n",
    "        nested_key_list.append(k)\n",
    "\n",
    "single_layer_experiment = {}    \n",
    "for k,v in exp.items():\n",
    "    if k not in nested_key_list:\n",
    "        k = k.replace('-', '_')\n",
    "        single_layer_experiment[k] = exp[k]\n",
    "single_layer_experiment['upload_ts'] = str(datetime.now())\n",
    "\n",
    "\n",
    "all_singles.append(flatten(single_layer_experiment, {}, ''))\n"
   ]
  },
  {
   "cell_type": "code",
   "execution_count": 77,
   "metadata": {},
   "outputs": [
    {
     "data": {
      "text/plain": [
       "[{'allocation_policy': 'manual',\n",
       "  'audience_conditions': 'everyone',\n",
       "  'campaign_id': 11041413439,\n",
       "  'created': '2018-07-07T22:18:03.362400Z',\n",
       "  'description': 'Switching \"Email\" field to say \"Company Email\" - will lead quality increase and will form conversion be impacted?',\n",
       "  'earliest': '2018-07-07T22:25:27.209360Z',\n",
       "  'holdback': 0,\n",
       "  'id': 11039523400,\n",
       "  'is_classic': False,\n",
       "  'last_modified': '2018-07-10T15:45:19.606040Z',\n",
       "  'latest': '2018-07-08T18:29:55.140960Z',\n",
       "  'name': 'FT Sign Up Company Email Field July 7',\n",
       "  'project_id': 9965963792,\n",
       "  'status': 'paused',\n",
       "  'type': 'a/b',\n",
       "  'upload_ts': '2019-02-20 15:05:27.285798'}]"
      ]
     },
     "execution_count": 77,
     "metadata": {},
     "output_type": "execute_result"
    }
   ],
   "source": [
    "all_singles"
   ]
  },
  {
   "cell_type": "code",
   "execution_count": 81,
   "metadata": {},
   "outputs": [
    {
     "name": "stdout",
     "output_type": "stream",
     "text": [
      "{'allocation_policy': 'manual', 'audience_conditions': 'everyone', 'campaign_id': 11041413439, 'created': '2018-07-07T22:18:03.362400Z', 'description': 'Switching \"Email\" field to say \"Company Email\" - will lead quality increase and will form conversion be impacted?', 'earliest': '2018-07-07T22:25:27.209360Z', 'holdback': 0, 'id': 11039523400, 'is_classic': False, 'last_modified': '2018-07-10T15:45:19.606040Z', 'latest': '2018-07-08T18:29:55.140960Z', 'metrics_aggregator': 'unique', 'metrics_event_id': 10757331770, 'metrics_scope': 'visitor', 'metrics_winning_direction': 'increasing', 'name': 'FT Sign Up Company Email Field July 7', 'project_id': 9965963792, 'status': 'paused', 'type': 'a/b', 'variations_archived': False, 'variations_name': 'Label says \"Business Email\"', 'variations_status': 'active', 'variations_variation_id': 11047562271, 'variations_weight': 3334}\n",
      "{'allocation_policy': 'manual', 'audience_conditions': 'everyone', 'campaign_id': 11041413439, 'created': '2018-07-07T22:18:03.362400Z', 'description': 'Switching \"Email\" field to say \"Company Email\" - will lead quality increase and will form conversion be impacted?', 'earliest': '2018-07-07T22:25:27.209360Z', 'holdback': 0, 'id': 11039523400, 'is_classic': False, 'last_modified': '2018-07-10T15:45:19.606040Z', 'latest': '2018-07-08T18:29:55.140960Z', 'metrics_aggregator': 'unique', 'metrics_event_id': 10601774395, 'metrics_scope': 'visitor', 'metrics_winning_direction': 'increasing', 'name': 'FT Sign Up Company Email Field July 7', 'project_id': 9965963792, 'status': 'paused', 'type': 'a/b', 'variations_archived': False, 'variations_name': 'Label says \"Business Email\"', 'variations_status': 'active', 'variations_variation_id': 11047562271, 'variations_weight': 3334}\n",
      "{'allocation_policy': 'manual', 'audience_conditions': 'everyone', 'campaign_id': 11041413439, 'created': '2018-07-07T22:18:03.362400Z', 'description': 'Switching \"Email\" field to say \"Company Email\" - will lead quality increase and will form conversion be impacted?', 'earliest': '2018-07-07T22:25:27.209360Z', 'holdback': 0, 'id': 11039523400, 'is_classic': False, 'last_modified': '2018-07-10T15:45:19.606040Z', 'latest': '2018-07-08T18:29:55.140960Z', 'metrics_aggregator': 'sum', 'metrics_field': 'revenue', 'metrics_scope': 'visitor', 'metrics_winning_direction': 'increasing', 'name': 'FT Sign Up Company Email Field July 7', 'project_id': 9965963792, 'status': 'paused', 'type': 'a/b', 'variations_archived': False, 'variations_name': 'Label says \"Business Email\"', 'variations_status': 'active', 'variations_variation_id': 11047562271, 'variations_weight': 3334}\n"
     ]
    }
   ],
   "source": [
    "# nested part into separate tables:\n",
    "# metrics table:\n",
    " \n",
    "flattened_metric = []\n",
    "for element in exp['metrics']:\n",
    "    flattened_metric.append(element)\n",
    "\n",
    "updated_metric = populating_vals(outer_dict=exp, inner_flattened_list=flattened_metric, destination_key='metrics')\n",
    "new_flattened_metric = flatten_dupe_vals(vals=updated_metric, key='metrics')\n",
    "\n",
    "metric_list = []\n",
    "# for metric in new_flattened_metric:\n",
    "#     print(metric)\n",
    "#     metric_dict = {}\n",
    "#     metric_dict['metrics_aggregator'] = metric['metrics_aggregator']\n",
    "#     metric_dict['metrics_event_id'] = metric['metrics_event_id']\n",
    "#     metric_dict['metrics_scope'] =  metric['metrics_scope']\n",
    "#     metric_dict['metrics_winning_direction'] = metric['metrics_winning_direction']\n",
    "#     metric_dict['experiment_id'] = exp['id']\n",
    "#     metric_dict['upload_ts'] = str(datetime.now())\n",
    "#     metric_list.append(metric_dict)\n"
   ]
  },
  {
   "cell_type": "code",
   "execution_count": 84,
   "metadata": {},
   "outputs": [
    {
     "data": {
      "text/plain": [
       "[{'allocation_policy': 'manual',\n",
       "  'audience_conditions': 'everyone',\n",
       "  'campaign_id': 11041413439,\n",
       "  'created': '2018-07-07T22:18:03.362400Z',\n",
       "  'description': 'Switching \"Email\" field to say \"Company Email\" - will lead quality increase and will form conversion be impacted?',\n",
       "  'earliest': '2018-07-07T22:25:27.209360Z',\n",
       "  'holdback': 0,\n",
       "  'id': 11039523400,\n",
       "  'is_classic': False,\n",
       "  'last_modified': '2018-07-10T15:45:19.606040Z',\n",
       "  'latest': '2018-07-08T18:29:55.140960Z',\n",
       "  'metrics_aggregator': 'unique',\n",
       "  'metrics_event_id': 10757331770,\n",
       "  'metrics_scope': 'visitor',\n",
       "  'metrics_winning_direction': 'increasing',\n",
       "  'name': 'FT Sign Up Company Email Field July 7',\n",
       "  'project_id': 9965963792,\n",
       "  'status': 'paused',\n",
       "  'type': 'a/b',\n",
       "  'variations_archived': False,\n",
       "  'variations_name': 'Label says \"Business Email\"',\n",
       "  'variations_status': 'active',\n",
       "  'variations_variation_id': 11047562271,\n",
       "  'variations_weight': 3334},\n",
       " {'allocation_policy': 'manual',\n",
       "  'audience_conditions': 'everyone',\n",
       "  'campaign_id': 11041413439,\n",
       "  'created': '2018-07-07T22:18:03.362400Z',\n",
       "  'description': 'Switching \"Email\" field to say \"Company Email\" - will lead quality increase and will form conversion be impacted?',\n",
       "  'earliest': '2018-07-07T22:25:27.209360Z',\n",
       "  'holdback': 0,\n",
       "  'id': 11039523400,\n",
       "  'is_classic': False,\n",
       "  'last_modified': '2018-07-10T15:45:19.606040Z',\n",
       "  'latest': '2018-07-08T18:29:55.140960Z',\n",
       "  'metrics_aggregator': 'unique',\n",
       "  'metrics_event_id': 10601774395,\n",
       "  'metrics_scope': 'visitor',\n",
       "  'metrics_winning_direction': 'increasing',\n",
       "  'name': 'FT Sign Up Company Email Field July 7',\n",
       "  'project_id': 9965963792,\n",
       "  'status': 'paused',\n",
       "  'type': 'a/b',\n",
       "  'variations_archived': False,\n",
       "  'variations_name': 'Label says \"Business Email\"',\n",
       "  'variations_status': 'active',\n",
       "  'variations_variation_id': 11047562271,\n",
       "  'variations_weight': 3334},\n",
       " {'allocation_policy': 'manual',\n",
       "  'audience_conditions': 'everyone',\n",
       "  'campaign_id': 11041413439,\n",
       "  'created': '2018-07-07T22:18:03.362400Z',\n",
       "  'description': 'Switching \"Email\" field to say \"Company Email\" - will lead quality increase and will form conversion be impacted?',\n",
       "  'earliest': '2018-07-07T22:25:27.209360Z',\n",
       "  'holdback': 0,\n",
       "  'id': 11039523400,\n",
       "  'is_classic': False,\n",
       "  'last_modified': '2018-07-10T15:45:19.606040Z',\n",
       "  'latest': '2018-07-08T18:29:55.140960Z',\n",
       "  'metrics_aggregator': 'sum',\n",
       "  'metrics_field': 'revenue',\n",
       "  'metrics_scope': 'visitor',\n",
       "  'metrics_winning_direction': 'increasing',\n",
       "  'name': 'FT Sign Up Company Email Field July 7',\n",
       "  'project_id': 9965963792,\n",
       "  'status': 'paused',\n",
       "  'type': 'a/b',\n",
       "  'variations_archived': False,\n",
       "  'variations_name': 'Label says \"Business Email\"',\n",
       "  'variations_status': 'active',\n",
       "  'variations_variation_id': 11047562271,\n",
       "  'variations_weight': 3334}]"
      ]
     },
     "execution_count": 84,
     "metadata": {},
     "output_type": "execute_result"
    }
   ],
   "source": [
    "new_flattened_metric"
   ]
  },
  {
   "cell_type": "code",
   "execution_count": 87,
   "metadata": {
    "scrolled": true
   },
   "outputs": [
    {
     "name": "stdout",
     "output_type": "stream",
     "text": [
      "Processing experiment 10756790433\n",
      "Processing experiment 10796678057\n",
      "Processing experiment 10800885728\n",
      "Processing experiment 10815382176\n",
      "Processing experiment 10945903729\n",
      "Processing experiment 10955300529\n",
      "Processing experiment 11039523400\n",
      "Processing experiment 11938601024\n",
      "Processing experiment 11966791385\n",
      "Processing experiment 11992110033\n"
     ]
    }
   ],
   "source": [
    "metrics_table = []\n",
    "for exp in exp_list:\n",
    "    print(f\"Processing experiment {exp['id']}\")\n",
    "\n",
    "    # single layer fields:\n",
    "    nested_key_list = []\n",
    "    for k,v in exp.items():\n",
    "        if isinstance(v, list) or isinstance(v, dict):\n",
    "            nested_key_list.append(k)\n",
    "\n",
    "    single_layer_experiment = {}    \n",
    "    for k,v in exp.items():\n",
    "        if k not in nested_key_list:\n",
    "            k = k.replace('-', '_')\n",
    "            single_layer_experiment[k] = exp[k]\n",
    "    single_layer_experiment['upload_ts'] = str(datetime.now())\n",
    "\n",
    "    all_singles.append(flatten(single_layer_experiment, {}, ''))\n",
    "\n",
    "    # nested part into separate tables:\n",
    "    # metrics table:\n",
    "\n",
    "    flattened_metric = []\n",
    "    for element in exp['metrics']:\n",
    "        flattened_metric.append(element)\n",
    "\n",
    "    updated_metric = populating_vals(outer_dict=exp, inner_flattened_list=flattened_metric, destination_key='metrics')\n",
    "    new_flattened_metric = flatten_dupe_vals(vals=updated_metric, key='metrics')\n",
    "\n",
    "    metric_list = []\n",
    "    for metric in new_flattened_metric:\n",
    "        metric_dict = {}\n",
    "        metric_dict['metrics_aggregator'] = metric['metrics_aggregator']\n",
    "        if 'metrics_event_id' in metric.keys():\n",
    "            metric_dict['metrics_event_id'] = metric['metrics_event_id']\n",
    "        metric_dict['metrics_scope'] =  metric['metrics_scope']\n",
    "        metric_dict['metrics_winning_direction'] = metric['metrics_winning_direction']\n",
    "        metric_dict['experiment_id'] = exp['id']\n",
    "        metric_dict['upload_ts'] = str(datetime.now())\n",
    "        metric_list.append(metric_dict)\n",
    "        \n",
    "    metrics_table.extend(metric_list)\n",
    "    "
   ]
  },
  {
   "cell_type": "code",
   "execution_count": 205,
   "metadata": {},
   "outputs": [
    {
     "name": "stdout",
     "output_type": "stream",
     "text": [
      "Processing experiment 10756790433\n",
      "Processing experiment 10756790433\n",
      "Processing experiment 10796678057\n",
      "Processing experiment 10796678057\n",
      "Processing experiment 10800885728\n",
      "Processing experiment 10800885728\n",
      "Processing experiment 10815382176\n",
      "Processing experiment 10815382176\n",
      "Processing experiment 10945903729\n",
      "Processing experiment 10945903729\n",
      "Processing experiment 10955300529\n",
      "Processing experiment 10955300529\n",
      "Processing experiment 11039523400\n",
      "Processing experiment 11039523400\n",
      "Processing experiment 11938601024\n",
      "Processing experiment 11938601024\n",
      "Processing experiment 11966791385\n",
      "Processing experiment 11966791385\n",
      "Processing experiment 11992110033\n",
      "Processing experiment 11992110033\n"
     ]
    }
   ],
   "source": [
    "variations_table = []\n",
    "for exp in exp_list:\n",
    "    print(f\"Processing experiment {exp['id']}\")\n",
    "\n",
    "    variations = {}\n",
    "    # for exp in exp_list:\n",
    "\n",
    "    print(f\"Processing experiment {exp['id']}\")\n",
    "\n",
    "    variations['experiment_id'] = exp['id']\n",
    "    variations['variations'] = exp['variations']\n",
    "\n",
    "    flattened_variations = []\n",
    "\n",
    "    for var in exp['variations']:\n",
    "        flattened_actions = []\n",
    "        if len(var['actions']) > 0:\n",
    "            for action in var['actions']:\n",
    "                flattened_changes = []\n",
    "                for element in action['changes']:\n",
    "                    flattened_changes.append(element)\n",
    "                # Replace old 'changes' with new 'flattened_changes'\n",
    "                updated_changes = populating_vals(outer_dict=action, inner_flattened_list=flattened_changes, destination_key='changes')\n",
    "                new_flattened_changes = flatten_dupe_vals(vals=updated_changes, key='changes')\n",
    "\n",
    "                update_actions = populating_vals(outer_dict=var, inner_flattened_list=new_flattened_changes, destination_key='actions')\n",
    "                flat = flatten_dupe_vals(vals=update_actions, key='actions')\n",
    "                flattened_actions.extend(flat)\n",
    "\n",
    "        else:\n",
    "            other_flat = {}\n",
    "            for k,v in var.items():\n",
    "                if k != 'actions':\n",
    "                    other_flat['actions'] = []\n",
    "                    other_flat[k] = v\n",
    "            flat = [other_flat]\n",
    "            flattened_actions.extend(flat)\n",
    "\n",
    "        update_variations = populating_vals(outer_dict=variations, inner_flattened_list=flattened_actions, destination_key='variations')\n",
    "        flattened_variations.extend(flatten_dupe_vals(vals=update_variations, key='variations'))\n",
    "\n",
    "    variations_table.extend(flattened_variations)\n",
    "    \n",
    "    "
   ]
  },
  {
   "cell_type": "code",
   "execution_count": 210,
   "metadata": {},
   "outputs": [
    {
     "name": "stdout",
     "output_type": "stream",
     "text": [
      "{'experiment_id': 10945903729, 'variations_archived': False, 'variations_name': 'Carousel', 'variations_status': 'active', 'variations_variation_id': 10957172552, 'variations_weight': 5000}\n",
      "{'experiment_id': 10945903729, 'variations_actions_changes_async': False, 'variations_actions_changes_attributes_remove': True, 'variations_actions_changes_id': '28A7EB85-7201-4E8A-842F-AFCDC2F4259E', 'variations_actions_changes_rearrange_operator': 'before', 'variations_actions_changes_rearrange_insertSelector': '', 'variations_actions_changes_selector': '.banner-container', 'variations_actions_changes_type': 'attribute', 'variations_actions_page_id': 10758740651, 'variations_actions_share_link': 'http://freetrial.infusionsoft.com/setup?optimizely_token=1023b14998b0975f176cb8cf234dca953e6cb5016d957a058d1a8c7652d7d3fc&optimizely_x=10939992988&optimizely_x_audiences=10964343480&optimizely_preview_layer_ids=10993460826&optimizely_snippet=s3-9965963792', 'variations_archived': False, 'variations_name': 'No Carousel', 'variations_status': 'active', 'variations_variation_id': 10939992988, 'variations_weight': 5000}\n"
     ]
    }
   ],
   "source": [
    "for v in variations_table:\n",
    "    if v['experiment_id'] == 10945903729:\n",
    "        print(v)\n"
   ]
  },
  {
   "cell_type": "code",
   "execution_count": 143,
   "metadata": {},
   "outputs": [
    {
     "data": {
      "text/plain": [
       "[{'actions': [],\n",
       "  'archived': False,\n",
       "  'name': 'Original',\n",
       "  'status': 'active',\n",
       "  'variation_id': 11994110041,\n",
       "  'weight': 5000},\n",
       " {'actions': [{'changes': [{'async': False,\n",
       "      'attributes': {'href': 'https://freetrial.infusionsoft.com/signup/2'},\n",
       "      'css': {},\n",
       "      'dependencies': [],\n",
       "      'id': 'CAE0BD33-7160-429C-BA16-A6A7E73F558A',\n",
       "      'rearrange': {'insertSelector': '', 'operator': 'before'},\n",
       "      'selector': '.homepage-hero-ft-cta',\n",
       "      'type': 'attribute'}],\n",
       "    'page_id': 11933141690,\n",
       "    'share_link': 'http://www.infusionsoft.com?optimizely_token=1023b14998b0975f176cb8cf234dca953e6cb5016d957a058d1a8c7652d7d3fc&optimizely_x=11970581627&optimizely_x_audiences=&optimizely_preview_layer_ids=11935062681&optimizely_snippet=s3-9965963792'}],\n",
       "  'archived': False,\n",
       "  'name': 'Redirect FT CTA to freetrial.infusionsoft.com/signup/2',\n",
       "  'status': 'active',\n",
       "  'variation_id': 11970581627,\n",
       "  'weight': 5000}]"
      ]
     },
     "execution_count": 143,
     "metadata": {},
     "output_type": "execute_result"
    }
   ],
   "source": [
    "exp['variations']"
   ]
  },
  {
   "cell_type": "code",
   "execution_count": 63,
   "metadata": {},
   "outputs": [
    {
     "data": {
      "text/plain": [
       "{'activation_type': 'url_changed',\n",
       " 'conditions': '[\"and\", [\"or\", {\"match_type\": \"simple\", \"type\": \"url\", \"value\": \"freetrial.infusionsoft.com/setup\"}, {\"match_type\": \"simple\", \"type\": \"url\", \"value\": \"freetrial.infusionsoft.com/signup\"}]]',\n",
       " 'edit_url': 'freetrial.infusionsoft.com/setup',\n",
       " 'key': '9965963792_url_targeting_for_ft_signup_variations',\n",
       " 'page_id': 10752650977}"
      ]
     },
     "execution_count": 63,
     "metadata": {},
     "output_type": "execute_result"
    }
   ],
   "source": [
    "exp['url_targeting']"
   ]
  },
  {
   "cell_type": "code",
   "execution_count": 58,
   "metadata": {
    "scrolled": true
   },
   "outputs": [
    {
     "data": {
      "text/plain": [
       "{'experiment_id': 10756790433,\n",
       " 'url_targeting_activation_type': 'url_changed',\n",
       " 'url_targeting_conditions': '[\"and\", [\"or\", {\"match_type\": \"simple\", \"type\": \"url\", \"value\": \"freetrial.infusionsoft.com/setup\"}, {\"match_type\": \"simple\", \"type\": \"url\", \"value\": \"freetrial.infusionsoft.com/signup\"}]]',\n",
       " 'url_targeting_edit_url': 'freetrial.infusionsoft.com/setup',\n",
       " 'url_targeting_key': '9965963792_url_targeting_for_ft_signup_variations',\n",
       " 'url_targeting_page_id': 10752650977}"
      ]
     },
     "execution_count": 58,
     "metadata": {},
     "output_type": "execute_result"
    }
   ],
   "source": [
    "expanded_exp"
   ]
  },
  {
   "cell_type": "code",
   "execution_count": null,
   "metadata": {},
   "outputs": [],
   "source": []
  },
  {
   "cell_type": "code",
   "execution_count": null,
   "metadata": {},
   "outputs": [],
   "source": []
  },
  {
   "cell_type": "code",
   "execution_count": null,
   "metadata": {},
   "outputs": [],
   "source": [
    "# expanded_exp['experiment_id'] = exp['id']\n",
    "# expanded_exp['variations'] = exp['variations']\n"
   ]
  },
  {
   "cell_type": "code",
   "execution_count": null,
   "metadata": {},
   "outputs": [],
   "source": []
  },
  {
   "cell_type": "code",
   "execution_count": null,
   "metadata": {},
   "outputs": [],
   "source": [
    "flattened_variations = []\n",
    "\n",
    "for var in expanded_exp['variations']:\n",
    "    flattened_actions = []\n",
    "    for action in var['actions']:\n",
    "        print(action)\n",
    "#         flattened_changes = []\n",
    "#         for element in action['changes']:\n",
    "#             flattened_changes.append(element)\n",
    "\n",
    "        # Replace old 'timeseries' with new 'flattened_timeseries'\n",
    "#         updated_changes = populating_vals(outer_dict=action, inner_flattened_list=flattened_changes, destination_key='changes')\n",
    "#         new_flattened_changes = flatten_dupe_vals(vals=updated_changes, key='changes')\n",
    "\n",
    "#     update_actions = populating_vals(outer_dict=var, inner_flattened_list=new_flattened_changes, destination_key='actions')\n",
    "#     flattened_actions.extend(flatten_dupe_vals(vals=update_actions, key='actions'))  \n",
    "\n",
    "# update_variations = populating_vals(outer_dict=expanded_exp, inner_flattened_list=flattened_actions, destination_key='variations')\n",
    "# flattened_variations.extend(flatten_dupe_vals(vals=update_variations, key='variations'))\n",
    "\n",
    "# expanded_variations = flattened_variations"
   ]
  },
  {
   "cell_type": "code",
   "execution_count": null,
   "metadata": {},
   "outputs": [],
   "source": [
    "flattened_changes"
   ]
  },
  {
   "cell_type": "markdown",
   "metadata": {},
   "source": [
    "## One table for all single layer fields"
   ]
  },
  {
   "cell_type": "code",
   "execution_count": null,
   "metadata": {},
   "outputs": [],
   "source": [
    "nested_key_list = []"
   ]
  },
  {
   "cell_type": "code",
   "execution_count": null,
   "metadata": {},
   "outputs": [],
   "source": [
    "for k,v in exp_list[0].items():\n",
    "    if isinstance(v, list) or isinstance(v, dict):\n",
    "        nested_key_list.append(k)"
   ]
  },
  {
   "cell_type": "code",
   "execution_count": null,
   "metadata": {},
   "outputs": [],
   "source": [
    "nested_key_list"
   ]
  },
  {
   "cell_type": "code",
   "execution_count": null,
   "metadata": {},
   "outputs": [],
   "source": [
    "single_layer_experiment = {}"
   ]
  },
  {
   "cell_type": "code",
   "execution_count": null,
   "metadata": {},
   "outputs": [],
   "source": [
    "for k,v in exp_list[0].items():\n",
    "    if k not in nested_key_list:\n",
    "        single_layer_experiment[k] = exp_list[0][k]\n",
    "        "
   ]
  },
  {
   "cell_type": "code",
   "execution_count": null,
   "metadata": {},
   "outputs": [],
   "source": [
    "single_layer_experiment"
   ]
  },
  {
   "cell_type": "code",
   "execution_count": null,
   "metadata": {},
   "outputs": [],
   "source": [
    "all_singles = []"
   ]
  },
  {
   "cell_type": "code",
   "execution_count": null,
   "metadata": {},
   "outputs": [],
   "source": [
    "all_singles.append(single_layer_experiment)"
   ]
  },
  {
   "cell_type": "code",
   "execution_count": null,
   "metadata": {},
   "outputs": [],
   "source": [
    "all_singles"
   ]
  },
  {
   "cell_type": "markdown",
   "metadata": {},
   "source": [
    "## Expand nested part manually into separate tables:"
   ]
  },
  {
   "cell_type": "code",
   "execution_count": null,
   "metadata": {},
   "outputs": [],
   "source": [
    "expanded_j_list = []"
   ]
  },
  {
   "cell_type": "code",
   "execution_count": null,
   "metadata": {},
   "outputs": [],
   "source": [
    "for exp in j_exp:\n",
    "\n",
    "    expanded_exp = {}\n",
    "    \n",
    "    expanded_exp['experiment_id'] = exp['id']\n",
    "    expanded_exp['changes'] = exp['changes']\n",
    "\n",
    "    expanded_metrics = {}\n",
    "    expanded_metrics['experiment_id'] = exp['id']\n",
    "    expanded_metrics['metrics'] = exp['metrics']\n",
    "    expanded_exp['metrics'] = flatten_dupe_vals(vals=expanded_metrics, key='metrics')\n",
    "\n",
    "    if 'url_targeting' in exp.keys():\n",
    "        expanded_exp['experiment_id'] = exp['id']\n",
    "        expanded_exp['url_targeting'] = exp['url_targeting']\n",
    "        expanded_exp = flatten(expanded_exp, {}, '')\n",
    "    \n",
    "    expanded_exp['experiment_id'] = exp['id']\n",
    "    expanded_exp['variations'] = exp['variations']\n",
    "    \n",
    "    flattened_variations = []\n",
    "    \n",
    "    for var in expanded_exp['variations']:\n",
    "        flattened_actions = []\n",
    "        for action in var['actions']:\n",
    "            flattened_changes = []\n",
    "            for element in action['changes']:\n",
    "                flattened_changes.append(element)\n",
    "\n",
    "            # Replace old 'timeseries' with new 'flattened_timeseries'\n",
    "            updated_changes = populating_vals(outer_dict=action, inner_flattened_list=flattened_changes, destination_key='changes')\n",
    "            new_flattened_changes = flatten_dupe_vals(vals=updated_changes, key='changes')\n",
    "\n",
    "        update_actions = populating_vals(outer_dict=var, inner_flattened_list=new_flattened_changes, destination_key='actions')\n",
    "        flattened_actions.extend(flatten_dupe_vals(vals=update_actions, key='actions'))  \n",
    "\n",
    "    update_variations = populating_vals(outer_dict=expanded_exp, inner_flattened_list=flattened_actions, destination_key='variations')\n",
    "    flattened_variations.extend(flatten_dupe_vals(vals=update_variations, key='variations'))\n",
    "    \n",
    "    expanded_variations = flattened_variations\n",
    "    \n",
    "    expanded_exp = expanded_variations\n",
    "    expanded_j_list.extend(expanded_exp)\n",
    "    "
   ]
  },
  {
   "cell_type": "code",
   "execution_count": null,
   "metadata": {},
   "outputs": [],
   "source": [
    "type(expanded_j_list[12]['variations_actions_changes_value'])"
   ]
  },
  {
   "cell_type": "code",
   "execution_count": null,
   "metadata": {},
   "outputs": [],
   "source": []
  },
  {
   "cell_type": "markdown",
   "metadata": {},
   "source": [
    "# results timeseries"
   ]
  },
  {
   "cell_type": "code",
   "execution_count": null,
   "metadata": {
    "scrolled": true
   },
   "outputs": [],
   "source": [
    "# experiment_id_list"
   ]
  },
  {
   "cell_type": "code",
   "execution_count": null,
   "metadata": {},
   "outputs": [],
   "source": [
    "# example of no results\n",
    "# result_endpoint = 'https://api.optimizely.com/v2/experiments/11479333433/timeseries'\n",
    "# example of normal time series\n",
    "result_endpoint = 'https://api.optimizely.com/v2/experiments/11477653122/timeseries'\n",
    "# example of \n",
    "# result_endpoint = f'https://api.optimizely.com/v2/experiments/{experiment_id}/timeseries'\n",
    "\n"
   ]
  },
  {
   "cell_type": "code",
   "execution_count": null,
   "metadata": {},
   "outputs": [],
   "source": [
    "response_ts = requests.get(result_endpoint, headers=headers)\n",
    "\n",
    "# if '' then the experiment has not started yet\n",
    "if response_ts.text == '':\n",
    "    j_ts = {'experiment_id': experiment_id}\n",
    "elif 'bad' in response_ts.text:\n",
    "    j_ts = {'experiment_id': experiment_id}\n",
    "else:\n",
    "    j_ts = json.loads(response_ts.text)\n",
    "\n",
    "new_j_ts = pope.fix_json_values(callback=fix_values, obj=j_ts, reset_key='results')\n"
   ]
  },
  {
   "cell_type": "code",
   "execution_count": null,
   "metadata": {},
   "outputs": [],
   "source": [
    "flattened_j_ts = []\n",
    "\n",
    "flattened_metrics = []\n",
    "for metric in new_j_ts['metrics']:\n",
    "    if 'results' in metric.keys():\n",
    "        for ts in metric['results']:\n",
    "            flattened_timeseries = []\n",
    "            for element in ts['timeseries']:\n",
    "                element['upload_ts'] = str(datetime.now())\n",
    "                flattened_timeseries.append(flatten(element, {}, ''))\n",
    "\n",
    "            # Replace old 'timeseries' with new 'flattened_timeseries'\n",
    "            updated_results = populating_vals(outer_dict=ts, inner_flattened_list=flattened_timeseries, destination_key='timeseries')\n",
    "            flattened_results = flatten_dupe_vals(vals=updated_results, key='timeseries')\n",
    "\n",
    "        # Replace old 'metrics' with new 'flattened_results'\n",
    "        update_metrics = populating_vals(outer_dict=metric, inner_flattened_list=flattened_results, destination_key='results')\n",
    "        flattened_metrics.extend(flatten_dupe_vals(vals=update_metrics, key='results'))\n",
    "\n",
    "    else:\n",
    "        flattened_metrics = [flatten(new_j_ts, {}, '')]\n",
    "\n",
    "update_new_j_ts = populating_vals(outer_dict=new_j_ts, inner_flattened_list=flattened_metrics, destination_key='metrics')\n",
    "flattened_j_ts.extend(flatten_dupe_vals(vals=update_new_j_ts, key='metrics'))\n",
    "\n"
   ]
  },
  {
   "cell_type": "code",
   "execution_count": null,
   "metadata": {},
   "outputs": [],
   "source": [
    "j_ts"
   ]
  },
  {
   "cell_type": "code",
   "execution_count": null,
   "metadata": {},
   "outputs": [],
   "source": [
    "flattened_j_ts"
   ]
  },
  {
   "cell_type": "code",
   "execution_count": null,
   "metadata": {},
   "outputs": [],
   "source": [
    "new_j_ts['metrics']\n",
    "\n",
    "\n",
    "            "
   ]
  },
  {
   "cell_type": "markdown",
   "metadata": {},
   "source": [
    "# testing"
   ]
  },
  {
   "cell_type": "code",
   "execution_count": 216,
   "metadata": {},
   "outputs": [],
   "source": [
    "from generate_original import read_endpoint, generate_projects, generate_experiments"
   ]
  },
  {
   "cell_type": "code",
   "execution_count": 217,
   "metadata": {},
   "outputs": [
    {
     "name": "stderr",
     "output_type": "stream",
     "text": [
      "INFO:root:Writing projects to BQ from file ../uploads/projects.json\n"
     ]
    },
    {
     "name": "stdout",
     "output_type": "stream",
     "text": [
      "2019-02-20 16:37:59,479 - root - Writing projects to BQ from file ../uploads/projects.json\n",
      "2019-02-20 16:37:59,479 - root - Writing projects to BQ from file ../uploads/projects.json\n",
      "2019-02-20 16:37:59,479 - root - Writing projects to BQ from file ../uploads/projects.json\n",
      "2019-02-20 16:37:59,479 - root - Writing projects to BQ from file ../uploads/projects.json\n",
      "Processing experiment 10756790433\n",
      "Processing experiment 10796678057\n",
      "Processing experiment 10800885728\n",
      "Processing experiment 10815382176\n",
      "Processing experiment 10945903729\n",
      "Processing experiment 10955300529\n",
      "Processing experiment 11039523400\n",
      "Processing experiment 11938601024\n",
      "Processing experiment 11966791385\n",
      "Processing experiment 11992110033\n",
      "Processing experiment 10488931082\n",
      "Processing experiment 10545851126\n",
      "Processing experiment 10556110251\n",
      "Processing experiment 10564323775\n",
      "Processing experiment 10605041742\n",
      "Processing experiment 10622090898\n",
      "Processing experiment 10666463868\n",
      "Processing experiment 10675031376\n",
      "Processing experiment 10681551672\n",
      "Processing experiment 10683631399\n",
      "Processing experiment 10715090552\n",
      "Processing experiment 10733622163\n",
      "Processing experiment 10797220881\n",
      "Processing experiment 10797550884\n",
      "Processing experiment 10805332324\n",
      "Processing experiment 10844011372\n",
      "Processing experiment 10854082584\n",
      "Processing experiment 10882272812\n",
      "Processing experiment 11011180459\n",
      "Processing experiment 11066932017\n",
      "Processing experiment 11085711684\n",
      "Processing experiment 11087580674\n",
      "Processing experiment 11174107321\n",
      "Processing experiment 11189744252\n",
      "Processing experiment 11191727326\n",
      "Processing experiment 11191905720\n",
      "Processing experiment 11199410199\n",
      "Processing experiment 11206301430\n",
      "Processing experiment 11308083317\n",
      "Processing experiment 11334340375\n",
      "Processing experiment 11356331084\n",
      "Processing experiment 11367191147\n",
      "Processing experiment 11378763890\n",
      "Processing experiment 11396076650\n",
      "Processing experiment 11404885421\n",
      "Processing experiment 11406773739\n",
      "Processing experiment 11432181239\n",
      "Processing experiment 11474010139\n",
      "Processing experiment 11482931694\n",
      "Processing experiment 11556750451\n",
      "Processing experiment 11562826019\n",
      "Processing experiment 11570380944\n",
      "Processing experiment 11657860282\n",
      "Processing experiment 11713452853\n",
      "Processing experiment 11720710615\n",
      "Processing experiment 11722600722\n",
      "Processing experiment 12016386767\n",
      "Processing experiment 12096030597\n",
      "Processing experiment 12117040288\n",
      "Processing experiment 12132980378\n",
      "Processing experiment 12166698246\n",
      "Processing experiment 12169545706\n",
      "Processing experiment 12239002639\n",
      "Processing experiment 12240020740\n",
      "Processing experiment 12275901710\n",
      "Processing experiment 12337280003\n",
      "Processing experiment 12850290083\n",
      "Processing experiment 12903040293\n",
      "Processing experiment 13026380185\n",
      "Processing experiment 13026390548\n",
      "Processing experiment 13559460138\n",
      "Processing experiment 11377370874\n",
      "Processing experiment 12107582952\n",
      "Processing experiment 12632940119\n",
      "Processing experiment 12722820205\n",
      "Processing experiment 12743540432\n",
      "Processing experiment 12746930280\n",
      "Processing experiment 10702922345\n",
      "Processing experiment 10731441129\n",
      "Processing experiment 10758540726\n",
      "Processing experiment 10798551869\n",
      "Processing experiment 10799420505\n",
      "Processing experiment 10801250617\n",
      "Processing experiment 10801721220\n",
      "Processing experiment 10803332939\n",
      "Processing experiment 10852321017\n",
      "Processing experiment 10856511191\n",
      "Processing experiment 10898400714\n",
      "Processing experiment 10931942839\n",
      "Processing experiment 11041487001\n",
      "Processing experiment 11056280896\n",
      "Processing experiment 11069055177\n",
      "Processing experiment 11072573730\n",
      "Processing experiment 11076630667\n",
      "Processing experiment 11088880005\n",
      "Processing experiment 11095671052\n",
      "Processing experiment 11477653122\n",
      "Processing experiment 11479333433\n",
      "Processing experiment 11568940229\n",
      "Processing experiment 12281101588\n",
      "Processing experiment 12615470432\n",
      "Processing experiment 12619380698\n",
      "Processing experiment 12813120687\n",
      "Processing experiment 12900000180\n",
      "Processing experiment 10898650266\n",
      "Processing experiment 11355070013\n",
      "Processing experiment 11365136008\n",
      "Processing experiment 11372936237\n",
      "Processing experiment 11402551541\n"
     ]
    }
   ],
   "source": [
    "if not os.environ.get('GOOGLE_ACCOUNT_CREDENTIALS'):\n",
    "    os.environ['GOOGLE_ACCOUNT_CREDENTIALS'] = '/home/engineering/keyfile.json'\n",
    "gbq_key = os.environ.get('GOOGLE_ACCOUNT_CREDENTIALS')\n",
    "\n",
    "############################################### Instantiating Popelines #######################################\n",
    "pope = popelines.popeline(dataset_id='optimizely', service_key_file_loc=gbq_key, directory='.', verbose=False)\n",
    "\n",
    "# Optimizely parameters\n",
    "headers = {\n",
    "    'Authorization': 'Bearer 2:EWAWmaXb4TgtYVU2VvwoEF-9UbJxBahkiFh1633_Oc9nmju7iJis',\n",
    "}\n",
    "\n",
    "# endpoints\n",
    "project_endpoint = 'https://api.optimizely.com/v2/projects'\n",
    "experiment_endpoint = 'https://api.optimizely.com/v2/experiments'\n",
    "\n",
    "\n",
    "############################################### generate and upload all projects ##############################\n",
    "all_projects = generate_projects(project_endpoint, headers)\n",
    "for project in all_projects:\n",
    "    project['upload_ts'] = str(datetime.now())\n",
    "\n",
    "# upload projects \n",
    "pope.write_to_json(file_name='../uploads/projects.json', jayson=all_projects, mode='w')\n",
    "pope.write_to_bq(table_name='projects', file_name='../uploads/projects.json', append=True, ignore_unknown_values=False, bq_schema_autodetect=False)\n",
    "\n",
    "\n",
    "############################################### generate and upload all experiments ##############################\n",
    "# get a list of project_id from all_projects\n",
    "project_id_list = []\n",
    "for project in all_projects:\n",
    "    project_id_list.append(project['id'])\n",
    "\n",
    "# to accumulate all experiment_id, for \n",
    "experiment_id_list = []\n",
    "origin_single_table = []\n",
    "origin_metrics_table = []\n",
    "origin_variations_table = []\n",
    "\n",
    "# loop over all project_id_list to get experiments within each project\n",
    "for project_id in project_id_list:\n",
    "    # params include project_id (required) and experiments pulling per each request (default only 25)\n",
    "    params = (\n",
    "        ('project_id', project_id),\n",
    "        ('per_page', 100),\n",
    "    ) \n",
    "\n",
    "    exp_list = read_endpoint(endpoint=experiment_endpoint, headers_set=headers, params_set=params)\n",
    "    exp_id_list = []\n",
    "    for exp in exp_list:\n",
    "        exp_id_list.append(exp['id'])\n",
    "    experiment_id_list.extend(exp_id_list)\n",
    "\n",
    "    all_singles, metrics_table, variations_table = generate_experiments(exp_list)\n",
    "    origin_single_table.extend(all_singles)\n",
    "    origin_metrics_table.extend(metrics_table)\n",
    "    origin_variations_table.extend(variations_table)\n",
    "\n",
    "pope.write_to_json(file_name='../uploads/origin_experiments_single_fields.json', jayson=origin_single_table, mode='w')  \n",
    "pope.write_to_json(file_name='../uploads/origin_experiments_metrics_table.json', jayson=origin_metrics_table, mode='w')\n",
    "pope.write_to_json(file_name='../uploads/origin_experiments_variations_table.json', jayson=origin_variations_table, mode='w')\n",
    "\n",
    "\n",
    "\n"
   ]
  },
  {
   "cell_type": "code",
   "execution_count": 286,
   "metadata": {},
   "outputs": [
    {
     "name": "stdout",
     "output_type": "stream",
     "text": [
      "{'allocation_policy': 'manual', 'audience_conditions': 'everyone', 'campaign_id': 12924840378, 'created': '2019-01-11T20:53:13.619200Z', 'description': 'uggggggh', 'holdback': 0, 'id': 12900000180, 'is_classic': False, 'last_modified': '2019-01-11T22:23:30.846912Z', 'name': 'Pro Form', 'project_id': 10429921250, 'status': 'not_started', 'type': 'a/b', 'upload_ts': '2019-02-20 16:38:16.474970'}\n"
     ]
    }
   ],
   "source": [
    "for e in origin_single_table:\n",
    "    if e['id'] == 12900000180:\n",
    "        print(e)"
   ]
  },
  {
   "cell_type": "code",
   "execution_count": 222,
   "metadata": {},
   "outputs": [
    {
     "name": "stdout",
     "output_type": "stream",
     "text": [
      "{'metrics_aggregator': 'unique', 'metrics_event_id': 12097935537, 'metrics_scope': 'visitor', 'metrics_winning_direction': 'increasing', 'experiment_id': 12900000180, 'upload_ts': '2019-02-20 16:38:16.475534'}\n",
      "{'metrics_aggregator': 'unique', 'metrics_event_id': 12854240292, 'metrics_scope': 'visitor', 'metrics_winning_direction': 'increasing', 'experiment_id': 12900000180, 'upload_ts': '2019-02-20 16:38:16.475538'}\n",
      "{'metrics_aggregator': 'bounce', 'metrics_event_id': 12796030371, 'metrics_scope': 'event', 'metrics_winning_direction': 'decreasing', 'experiment_id': 12900000180, 'upload_ts': '2019-02-20 16:38:16.475540'}\n",
      "{'metrics_aggregator': 'unique', 'metrics_event_id': 12837180433, 'metrics_scope': 'visitor', 'metrics_winning_direction': 'increasing', 'experiment_id': 12900000180, 'upload_ts': '2019-02-20 16:38:16.475543'}\n"
     ]
    }
   ],
   "source": [
    "for m in origin_metrics_table:\n",
    "    if m['experiment_id'] == 12900000180:\n",
    "        print(m)"
   ]
  },
  {
   "cell_type": "code",
   "execution_count": 229,
   "metadata": {},
   "outputs": [],
   "source": [
    "l = []\n",
    "for v in origin_variations_table:\n",
    "    if v['experiment_id'] == 12900000180:\n",
    "        l.append(v['variations_name'])"
   ]
  },
  {
   "cell_type": "code",
   "execution_count": 231,
   "metadata": {},
   "outputs": [
    {
     "data": {
      "text/plain": [
       "15"
      ]
     },
     "execution_count": 231,
     "metadata": {},
     "output_type": "execute_result"
    }
   ],
   "source": [
    "l"
   ]
  },
  {
   "cell_type": "code",
   "execution_count": 287,
   "metadata": {},
   "outputs": [
    {
     "data": {
      "text/plain": [
       "[{'allocation_policy': 'manual',\n",
       "  'audience_conditions': 'everyone',\n",
       "  'campaign_id': 10880750271,\n",
       "  'changes': [],\n",
       "  'created': '2018-06-19T21:14:50.593989Z',\n",
       "  'description': 'That existing copy \"Get it together,\" \"Make it personal,\" & \"Cash it in\" is more effective than the Close more business version. ',\n",
       "  'earliest': '2018-06-22T16:34:45.276504Z',\n",
       "  'holdback': 0,\n",
       "  'id': 10898650266,\n",
       "  'is_classic': False,\n",
       "  'last_modified': '2018-11-08T20:25:59.779273Z',\n",
       "  'latest': '2018-11-08T20:26:00.704897Z',\n",
       "  'metrics': [{'aggregator': 'unique',\n",
       "    'event_id': 10894182018,\n",
       "    'scope': 'visitor',\n",
       "    'winning_direction': 'increasing'}],\n",
       "  'name': \"Homepage - Close More Business CTA - Jun '18\",\n",
       "  'project_id': 10849384554,\n",
       "  'status': 'paused',\n",
       "  'type': 'a/b',\n",
       "  'url_targeting': {'activation_type': 'immediate',\n",
       "   'conditions': '[\"and\", [\"or\", {\"match_type\": \"simple\", \"type\": \"url\", \"value\": \"https://www.infusionsoft.com/\"}]]',\n",
       "   'edit_url': 'https://www.infusionsoft.com/',\n",
       "   'key': '10849384554_url_targeting_for_homepage_copy_test',\n",
       "   'page_id': 10904280495},\n",
       "  'variations': [{'actions': [],\n",
       "    'archived': False,\n",
       "    'name': 'Cash it in (Control)',\n",
       "    'status': 'active',\n",
       "    'variation_id': 10892600564,\n",
       "    'weight': 5000},\n",
       "   {'actions': [{'changes': [{'async': False,\n",
       "        'attributes': {'html': 'Close more business '},\n",
       "        'css': {},\n",
       "        'dependencies': [],\n",
       "        'id': '49C3EDB0-5D7A-4340-BC87-AEFA3EC4351F',\n",
       "        'rearrange': {'insertSelector': '', 'operator': 'before'},\n",
       "        'selector': '.vertical-spacing h3',\n",
       "        'type': 'attribute'},\n",
       "       {'async': False,\n",
       "        'attributes': {},\n",
       "        'css': {},\n",
       "        'dependencies': [],\n",
       "        'id': 'C6F86979-5CA5-4FB0-95DB-B689C1A598A0',\n",
       "        'rearrange': {'insertSelector': '', 'operator': 'before'},\n",
       "        'selector': '.vertical-spacing a.small-expanded',\n",
       "        'type': 'attribute'},\n",
       "       {'async': False,\n",
       "        'attributes': {'html': 'Automatically send emails to leads to keep your business top of mind until they’re ready to buy.'},\n",
       "        'css': {},\n",
       "        'dependencies': [],\n",
       "        'id': '4B96ED61-63F9-474D-9260-6DF7BC68842D',\n",
       "        'rearrange': {'insertSelector': '', 'operator': 'before'},\n",
       "        'selector': '.vertical-spacing p',\n",
       "        'type': 'attribute'}],\n",
       "      'page_id': 10904280495,\n",
       "      'share_link': 'https://www.infusionsoft.com/?optimizely_token=6a0cd7c0f158734fa5a2e6efc0fa7fbac151cb789b5fc32f516807aa27103e7c&optimizely_x=10884660427&optimizely_x_audiences=&optimizely_preview_layer_ids=10880750271&optimizely_snippet=s3-10849384554'}],\n",
       "    'archived': False,\n",
       "    'name': 'Close more business',\n",
       "    'status': 'active',\n",
       "    'variation_id': 10884660427,\n",
       "    'weight': 5000}]},\n",
       " {'allocation_policy': 'manual',\n",
       "  'audience_conditions': 'everyone',\n",
       "  'campaign_id': 11327152268,\n",
       "  'changes': [],\n",
       "  'created': '2018-08-20T19:37:38.171430Z',\n",
       "  'description': 'Replacing existing subhead: \"52% of consumers prefer marketing that is personalized.\" with \\n71% of consumers said they prefer marketing that\\'s tailored to their personalized interests and shopping habits.\\nThe theory is that a stronger stat will lead to higher conversion than the control. \\n1,051 pageviews from April 17 thru July 1. Looking to double that in half the time. ',\n",
       "  'earliest': '2018-08-20T20:04:55.634630Z',\n",
       "  'holdback': 0,\n",
       "  'id': 11355070013,\n",
       "  'is_classic': False,\n",
       "  'last_modified': '2018-11-08T20:25:57.563998Z',\n",
       "  'latest': '2018-11-08T20:25:58.553839Z',\n",
       "  'metrics': [{'aggregator': 'unique',\n",
       "    'event_id': 11333491595,\n",
       "    'scope': 'visitor',\n",
       "    'winning_direction': 'increasing'}],\n",
       "  'name': \"Homepage - Personalization CTA - Aug '18\",\n",
       "  'project_id': 10849384554,\n",
       "  'status': 'paused',\n",
       "  'type': 'a/b',\n",
       "  'url_targeting': {'activation_type': 'immediate',\n",
       "   'conditions': '[\"and\", [\"or\", {\"match_type\": \"simple\", \"type\": \"url\", \"value\": \"https://www.infusionsoft.com/\"}]]',\n",
       "   'edit_url': 'https://www.infusionsoft.com/',\n",
       "   'key': '10849384554_url_targeting_for_home_page_test_2',\n",
       "   'page_id': 11351130894},\n",
       "  'variations': [{'actions': [],\n",
       "    'archived': False,\n",
       "    'name': 'Control: 52% of consumers',\n",
       "    'status': 'active',\n",
       "    'variation_id': 11340236640,\n",
       "    'weight': 5000},\n",
       "   {'actions': [{'changes': [{'async': False,\n",
       "        'attributes': {'html': \"71% of consumers said they prefer marketing that's tailored to their personalized interests and shopping habits.\"},\n",
       "        'css': {},\n",
       "        'dependencies': [],\n",
       "        'id': 'EB8688D9-9CB0-49B4-B3D1-BD457D6EFD9F',\n",
       "        'rearrange': {'insertSelector': '', 'operator': 'before'},\n",
       "        'selector': 'section:nth-of-type(2) p',\n",
       "        'type': 'attribute'},\n",
       "       {'async': False,\n",
       "        'attributes': {},\n",
       "        'css': {},\n",
       "        'dependencies': [],\n",
       "        'id': '2F618491-21CC-4055-A144-B7EE037223C1',\n",
       "        'rearrange': {'insertSelector': '', 'operator': 'before'},\n",
       "        'selector': 'section:nth-of-type(2) a.small-expanded',\n",
       "        'type': 'attribute'}],\n",
       "      'page_id': 11351130894,\n",
       "      'share_link': 'https://www.infusionsoft.com/?optimizely_token=6a0cd7c0f158734fa5a2e6efc0fa7fbac151cb789b5fc32f516807aa27103e7c&optimizely_x=11322463414&optimizely_x_audiences=&optimizely_preview_layer_ids=11327152268&optimizely_snippet=s3-10849384554'}],\n",
       "    'archived': False,\n",
       "    'name': \"71% of consumers said they prefer marketing that's tailored\",\n",
       "    'status': 'active',\n",
       "    'variation_id': 11322463414,\n",
       "    'weight': 5000}]},\n",
       " {'allocation_policy': 'manual',\n",
       "  'audience_conditions': 'everyone',\n",
       "  'campaign_id': 11396257350,\n",
       "  'changes': [],\n",
       "  'created': '2018-09-05T16:17:14.973290Z',\n",
       "  'earliest': '2018-09-05T16:43:44.018500Z',\n",
       "  'holdback': 0,\n",
       "  'id': 11365136008,\n",
       "  'is_classic': False,\n",
       "  'last_modified': '2018-10-03T23:43:45.670753Z',\n",
       "  'latest': '2018-10-03T23:43:46.542826Z',\n",
       "  'metrics': [{'aggregator': 'unique',\n",
       "    'event_id': 11376015268,\n",
       "    'scope': 'visitor',\n",
       "    'winning_direction': 'increasing'}],\n",
       "  'name': \"BSB - CTA on 'How to Keep Your Emails Out of the Gmail Promotions Tab'\",\n",
       "  'project_id': 10849384554,\n",
       "  'status': 'paused',\n",
       "  'type': 'a/b',\n",
       "  'url_targeting': {'activation_type': 'immediate',\n",
       "   'conditions': '[\"and\", [\"or\", {\"match_type\": \"simple\", \"type\": \"url\", \"value\": \"https://www.infusionsoft.com/business-success-blog/marketing/email-marketing/how-to-keep-your-emails-out-of-the-gmail-promotions-tab\"}]]',\n",
       "   'edit_url': 'https://www.infusionsoft.com/business-success-blog/marketing/email-marketing/how-to-keep-your-emails-out-of-the-gmail-promotions-tab',\n",
       "   'key': '10849384554_url_targeting_for_bsb__cta_on_26_ideas_to_get_your_n_1_1',\n",
       "   'page_id': 11368698312},\n",
       "  'variations': [{'actions': [],\n",
       "    'archived': False,\n",
       "    'name': 'Email templates (Control)',\n",
       "    'status': 'active',\n",
       "    'variation_id': 11372694220,\n",
       "    'weight': 3333},\n",
       "   {'actions': [{'changes': [{'async': True,\n",
       "        'dependencies': [],\n",
       "        'id': '64796a2e20d8465ca4f739853ea1fcbd',\n",
       "        'src': '/actions/c92937a1ef8afd95df28042fcd4373afb3576f8e7ad14a9243fa948a1b11ab5c.js',\n",
       "        'type': 'custom_code',\n",
       "        'value': 'window.marketoFormRedirects = window.marketoFormRedirects || {};\\nmarketoFormRedirects.cta_link_url = \"https://assets.infusionsoft.com/image/upload/v1517613916/personalize-automation-worksheet_akr19z.pdf\";\\nwindow.mktoModalBtnText = \"Download now\";'},\n",
       "       {'async': False,\n",
       "        'attributes': {'html': \"Don't sound like a robot. Learn how you can easily personalize automated emails. \"},\n",
       "        'css': {},\n",
       "        'dependencies': [],\n",
       "        'id': '32b1b16fa9db487b846c129d522f3078',\n",
       "        'rearrange': {'insertSelector': '', 'operator': 'before'},\n",
       "        'selector': '#modal_asset_form h4',\n",
       "        'type': 'attribute'},\n",
       "       {'async': False,\n",
       "        'attributes': {'html': 'Learn how you can easily personalize automated emails.'},\n",
       "        'css': {},\n",
       "        'dependencies': [],\n",
       "        'id': 'd8d4f2188f1644cfa36c86356ac21a49',\n",
       "        'rearrange': {'insertSelector': '', 'operator': 'before'},\n",
       "        'selector': '#modal_asset_form p:nth-of-type(2)',\n",
       "        'type': 'attribute'},\n",
       "       {'async': False,\n",
       "        'attributes': {'html': '<div class=\"grid-x grid-padding-x grid-padding-y align-middle\"> <div class=\"cell small-12 medium-6\"> <div class=\"inline-cta__copy\"> <p class=\"bolded-text\">Free Cheatsheet</p>\\n<h5>20 Ways to Personalize Automated Emails</h5>\\n</div> <button class=\"button inline-cta__button\" data-remodal-target=\"modal_asset_form\" data-button-text=\"Get your free cheatsheet\">Get your free cheatsheet</button> </div> <div class=\"cell small-12 medium-6\"> <img src=\"//assets.infusionsoft.com/image/upload/w_800,f_auto/v1531154151/interactive_ebooks/Guide%20thumbnail%20images/Guides-email-marketing.jpg\" alt=\"personalize automated emails\"> </div> </div>'},\n",
       "        'css': {},\n",
       "        'dependencies': [],\n",
       "        'id': 'E3B50887-F5D7-4578-9BAF-C4FE8F6CAB2E',\n",
       "        'rearrange': {'insertSelector': '', 'operator': 'before'},\n",
       "        'selector': '.inline-cta',\n",
       "        'type': 'attribute'}],\n",
       "      'page_id': 11368698312,\n",
       "      'share_link': 'https://www.infusionsoft.com/business-success-blog/marketing/email-marketing/how-to-keep-your-emails-out-of-the-gmail-promotions-tab?optimizely_token=6a0cd7c0f158734fa5a2e6efc0fa7fbac151cb789b5fc32f516807aa27103e7c&optimizely_x=11375538179&optimizely_x_audiences=&optimizely_preview_layer_ids=11396257350&optimizely_snippet=s3-10849384554'}],\n",
       "    'archived': False,\n",
       "    'name': 'Cheatsheet w/ image',\n",
       "    'status': 'active',\n",
       "    'variation_id': 11375538179,\n",
       "    'weight': 3333},\n",
       "   {'actions': [{'changes': [{'async': True,\n",
       "        'dependencies': [],\n",
       "        'id': '49F14CC3-0077-43F4-8C51-86DE34BFAA83',\n",
       "        'src': '/actions/cca63b7c152dbfc05b675b7f1bc228086c121448f02ec628588b118f9277e362.js',\n",
       "        'type': 'custom_code',\n",
       "        'value': 'window.marketoFormRedirects = window.marketoFormRedirects || {};\\nmarketoFormRedirects.cta_link_url = \"https://assets.infusionsoft.com/image/upload/v1517613916/personalize-automation-worksheet_akr19z.pdf\";\\nwindow.mktoModalBtnText = \"Download now\";'},\n",
       "       {'async': False,\n",
       "        'attributes': {'html': \"Don't sound like a robot. Learn how you can easily personalize automated emails. \"},\n",
       "        'css': {},\n",
       "        'dependencies': [],\n",
       "        'id': '152CB3BB-760E-4EA0-A47E-5570E5512841',\n",
       "        'rearrange': {'insertSelector': '', 'operator': 'before'},\n",
       "        'selector': '#modal_asset_form h4',\n",
       "        'type': 'attribute'},\n",
       "       {'async': False,\n",
       "        'attributes': {'html': 'Learn how you can easily personalize automated emails.'},\n",
       "        'css': {},\n",
       "        'dependencies': [],\n",
       "        'id': 'B41385FF-915F-46EA-9761-D173D8437723',\n",
       "        'rearrange': {'insertSelector': '', 'operator': 'before'},\n",
       "        'selector': '#modal_asset_form p:nth-of-type(2)',\n",
       "        'type': 'attribute'},\n",
       "       {'async': False,\n",
       "        'attributes': {'class': '',\n",
       "         'html': '<p><button class=\"button small inline-button\" data-remodal-target=\"modal_asset_form\" data-button-text=\"Personalize Automated Emails: Free Cheatsheet\"> Personalize Automated Emails: Free Cheatsheet </button></p>'},\n",
       "        'css': {},\n",
       "        'dependencies': [],\n",
       "        'id': '72267D82-D895-47C9-8A70-CC231E0895E6',\n",
       "        'rearrange': {'insertSelector': '', 'operator': 'before'},\n",
       "        'selector': '.inline-cta',\n",
       "        'type': 'attribute'}],\n",
       "      'page_id': 11368698312,\n",
       "      'share_link': 'https://www.infusionsoft.com/business-success-blog/marketing/email-marketing/how-to-keep-your-emails-out-of-the-gmail-promotions-tab?optimizely_token=6a0cd7c0f158734fa5a2e6efc0fa7fbac151cb789b5fc32f516807aa27103e7c&optimizely_x=11384102517&optimizely_x_audiences=&optimizely_preview_layer_ids=11396257350&optimizely_snippet=s3-10849384554'}],\n",
       "    'archived': False,\n",
       "    'name': 'Cheatsheet w/o image',\n",
       "    'status': 'active',\n",
       "    'variation_id': 11384102517,\n",
       "    'weight': 3334}]},\n",
       " {'allocation_policy': 'manual',\n",
       "  'audience_conditions': 'everyone',\n",
       "  'campaign_id': 11382649788,\n",
       "  'changes': [],\n",
       "  'created': '2018-09-05T15:57:34.576210Z',\n",
       "  'earliest': '2018-09-05T16:40:35.295180Z',\n",
       "  'holdback': 0,\n",
       "  'id': 11372936237,\n",
       "  'is_classic': False,\n",
       "  'last_modified': '2018-10-03T23:43:50.882836Z',\n",
       "  'latest': '2018-10-03T23:43:51.728564Z',\n",
       "  'metrics': [{'aggregator': 'unique',\n",
       "    'event_id': 11376015268,\n",
       "    'scope': 'visitor',\n",
       "    'winning_direction': 'increasing'}],\n",
       "  'name': \"BSB - CTA on '26 Ideas To Get Your Next Sales Promotion Noticed'\",\n",
       "  'project_id': 10849384554,\n",
       "  'status': 'paused',\n",
       "  'type': 'a/b',\n",
       "  'url_targeting': {'activation_type': 'immediate',\n",
       "   'conditions': '[\"and\", [\"or\", {\"match_type\": \"simple\", \"type\": \"url\", \"value\": \"https://www.infusionsoft.com/business-success-blog/sales/e-commerce/26-best-examples-of-sales-promotions-to-inspire-your-next-offer\"}]]',\n",
       "   'edit_url': 'https://www.infusionsoft.com/business-success-blog/sales/e-commerce/26-best-examples-of-sales-promotions-to-inspire-your-next-offer',\n",
       "   'key': '10849384554_url_targeting_for_bsb__cta_on_26_ideas_to_get_your_n',\n",
       "   'page_id': 11354118400},\n",
       "  'variations': [{'actions': [],\n",
       "    'archived': False,\n",
       "    'name': 'Flash Sale Promo CTA (Control)',\n",
       "    'status': 'active',\n",
       "    'variation_id': 11380769579,\n",
       "    'weight': 3333},\n",
       "   {'actions': [{'changes': [{'async': True,\n",
       "        'dependencies': [],\n",
       "        'id': '3962DD07-7C39-4ED8-AAEF-76145C99621D',\n",
       "        'src': '/actions/ecd7119401e7c977daef03c1d230c27ad4a96798b242ff6ed416f458151f2e04.js',\n",
       "        'type': 'custom_code',\n",
       "        'value': 'window.marketoFormRedirects = window.marketoFormRedirects || {};\\nmarketoFormRedirects.cta_link_url = \"https://assets.infusionsoft.com/image/upload/v1535480908/assets/MS-7650_10_Email_Templates_gated_asset.pdf\";\\nwindow.mktoModalBtnText = \"Download now\";'},\n",
       "       {'async': False,\n",
       "        'attributes': {'html': '<div class=\"inline-cta\"> <div class=\"grid-x grid-padding-x grid-padding-y align-middle\"> <div class=\"cell small-12 medium-6\"> <div class=\"inline-cta__copy\"> <p class=\"bolded-text\">Free Templates</p>\\n<h5>10 Email Templates You Need to Close the Sale</h5>\\n</div> <button class=\"button inline-cta__button\" data-remodal-target=\"modal_asset_form\" data-button-text=\"Get your free templates\">Get your free templates</button> </div> <div class=\"cell small-12 medium-6\"> <img src=\"//assets.infusionsoft.com/image/upload/w_800,f_auto/v1531154152/interactive_ebooks/Guide%20thumbnail%20images/Guides-payments.jpg\" alt=\"10 email templates for closing sales\"> </div> </div> </div>'},\n",
       "        'css': {},\n",
       "        'dependencies': [],\n",
       "        'id': '69A89F3D-A17E-41A3-82A3-AF9B64AA8163',\n",
       "        'rearrange': {'insertSelector': '', 'operator': 'before'},\n",
       "        'selector': '#blog_article_body p:nth-of-type(4)',\n",
       "        'type': 'attribute'},\n",
       "       {'async': False,\n",
       "        'attributes': {'html': \"Break through writer's block with these email templates. \"},\n",
       "        'css': {},\n",
       "        'dependencies': [],\n",
       "        'id': '8EA736B1-7115-4186-8E0B-C97583FEC818',\n",
       "        'rearrange': {'insertSelector': '', 'operator': 'before'},\n",
       "        'selector': '#modal_asset_form h4',\n",
       "        'type': 'attribute'},\n",
       "       {'async': False,\n",
       "        'attributes': {'html': '10 sales related email templates that you can copy, paste, and use as a starting point. '},\n",
       "        'css': {},\n",
       "        'dependencies': [],\n",
       "        'id': '6E8D5518-A6D3-425A-9E39-55A53CAF5651',\n",
       "        'rearrange': {'insertSelector': '', 'operator': 'before'},\n",
       "        'selector': '#modal_asset_form p:nth-of-type(2)',\n",
       "        'type': 'attribute'}],\n",
       "      'page_id': 11354118400,\n",
       "      'share_link': 'https://www.infusionsoft.com/business-success-blog/sales/e-commerce/26-best-examples-of-sales-promotions-to-inspire-your-next-offer?optimizely_token=6a0cd7c0f158734fa5a2e6efc0fa7fbac151cb789b5fc32f516807aa27103e7c&optimizely_x=11383892775&optimizely_x_audiences=&optimizely_preview_layer_ids=11382649788&optimizely_snippet=s3-10849384554'}],\n",
       "    'archived': False,\n",
       "    'name': 'Ten Email Templates w/ image',\n",
       "    'status': 'active',\n",
       "    'variation_id': 11383892775,\n",
       "    'weight': 3333},\n",
       "   {'actions': [{'changes': [{'async': True,\n",
       "        'dependencies': [],\n",
       "        'id': 'DB2583CF-8CE3-437C-8797-3C9F4DF50201',\n",
       "        'src': '/actions/6b3faf1abc22dadfd56929ae98055062a7e43b8eec9b9d7cacc40c22b862b37a.js',\n",
       "        'type': 'custom_code',\n",
       "        'value': 'window.marketoFormRedirects = window.marketoFormRedirects || {};\\nmarketoFormRedirects.cta_link_url = \"https://assets.infusionsoft.com/image/upload/v1535480908/assets/MS-7650_10_Email_Templates_gated_asset.pdf\";\\nwindow.mktoModalBtnText = \"Download now\";'},\n",
       "       {'async': False,\n",
       "        'attributes': {'html': \"Break through writer's block with these email templates. \"},\n",
       "        'css': {},\n",
       "        'dependencies': [],\n",
       "        'id': '5183ADC0-4582-4545-B7F5-4D44DF76B7EE',\n",
       "        'rearrange': {'insertSelector': '', 'operator': 'before'},\n",
       "        'selector': '#modal_asset_form h4',\n",
       "        'type': 'attribute'},\n",
       "       {'async': False,\n",
       "        'attributes': {'html': '10 sales related email templates that you can copy, paste, and use as a starting point. '},\n",
       "        'css': {},\n",
       "        'dependencies': [],\n",
       "        'id': '9E2572FC-6C86-41F0-A491-41F96C1F1534',\n",
       "        'rearrange': {'insertSelector': '', 'operator': 'before'},\n",
       "        'selector': '#modal_asset_form p:nth-of-type(2)',\n",
       "        'type': 'attribute'},\n",
       "       {'async': False,\n",
       "        'attributes': {'html': '10 Free Sales Email Templates'},\n",
       "        'css': {},\n",
       "        'dependencies': [],\n",
       "        'id': '08374AAD-8542-49C5-BF6E-3541CC9181D8',\n",
       "        'rearrange': {'insertSelector': '', 'operator': 'before'},\n",
       "        'selector': 'button.inline-button',\n",
       "        'type': 'attribute'}],\n",
       "      'page_id': 11354118400,\n",
       "      'share_link': 'https://www.infusionsoft.com/business-success-blog/sales/e-commerce/26-best-examples-of-sales-promotions-to-inspire-your-next-offer?optimizely_token=6a0cd7c0f158734fa5a2e6efc0fa7fbac151cb789b5fc32f516807aa27103e7c&optimizely_x=11416280867&optimizely_x_audiences=&optimizely_preview_layer_ids=11382649788&optimizely_snippet=s3-10849384554'}],\n",
       "    'archived': False,\n",
       "    'name': 'Ten Email Templates w/o image',\n",
       "    'status': 'active',\n",
       "    'variation_id': 11416280867,\n",
       "    'weight': 3334}]},\n",
       " {'allocation_policy': 'manual',\n",
       "  'audience_conditions': 'everyone',\n",
       "  'campaign_id': 11354066784,\n",
       "  'changes': [],\n",
       "  'created': '2018-09-05T16:10:54.054430Z',\n",
       "  'earliest': '2018-09-05T16:42:17.233880Z',\n",
       "  'holdback': 0,\n",
       "  'id': 11402551541,\n",
       "  'is_classic': False,\n",
       "  'last_modified': '2018-10-03T23:43:48.562195Z',\n",
       "  'latest': '2018-10-03T23:43:49.914375Z',\n",
       "  'metrics': [{'aggregator': 'unique',\n",
       "    'event_id': 11376015268,\n",
       "    'scope': 'visitor',\n",
       "    'winning_direction': 'increasing'}],\n",
       "  'name': \"BSB - CTA on 'How to Effectively Respond to Customer Complaints'\",\n",
       "  'project_id': 10849384554,\n",
       "  'status': 'paused',\n",
       "  'type': 'a/b',\n",
       "  'url_targeting': {'activation_type': 'immediate',\n",
       "   'conditions': '[\"and\", [\"or\", {\"match_type\": \"simple\", \"type\": \"url\", \"value\": \"https://www.infusionsoft.com/business-success-blog/customer-service/customer-experience/how-to-respond-to-customer-complaints\"}]]',\n",
       "   'edit_url': 'https://www.infusionsoft.com/business-success-blog/customer-service/customer-experience/how-to-respond-to-customer-complaints',\n",
       "   'key': '10849384554_url_targeting_for_bsb__cta_on_26_ideas_to_get_your_n_1',\n",
       "   'page_id': 11398910300},\n",
       "  'variations': [{'actions': [],\n",
       "    'archived': False,\n",
       "    'name': 'Free Guide (Control)',\n",
       "    'status': 'active',\n",
       "    'variation_id': 11396315769,\n",
       "    'weight': 3333},\n",
       "   {'actions': [{'changes': [{'async': True,\n",
       "        'dependencies': [],\n",
       "        'id': 'ae39e3dcad4e4e83b90f32b98f2a24f8',\n",
       "        'src': '/actions/03f9e8c723da2ca684af24353d40057fce6fa84e29d57f1618f4bc42c895908d.js',\n",
       "        'type': 'custom_code',\n",
       "        'value': 'window.marketoFormRedirects = window.marketoFormRedirects || {};\\nmarketoFormRedirects.cta_link_url = \"https://assets.infusionsoft.com/image/upload/v1536163955/assets/Customer_Avatar_template.pdf\";\\nwindow.mktoModalBtnText = \"Download now\";'},\n",
       "       {'async': False,\n",
       "        'attributes': {'html': '<div class=\"inline-cta\"> <div class=\"grid-x grid-padding-x grid-padding-y align-middle\"> <div class=\"cell small-12 medium-6\"> <div class=\"inline-cta__copy\"> <p class=\"bolded-text\">Free Template</p>\\n<h5>Create Your Customer Avatar</h5>\\n</div> <button class=\"button inline-cta__button\" data-remodal-target=\"modal_asset_form\" data-button-text=\"Get your free template\">Get your free template</button> </div> <div class=\"cell small-12 medium-6\"> <img src=\"//assets.infusionsoft.com/image/upload/w_800,f_auto/v1531154152/interactive_ebooks/Guide%20thumbnail%20images/Guides-CRM.jpg\" alt=\"customer avatar template\"> </div> </div> </div>'},\n",
       "        'css': {},\n",
       "        'dependencies': [],\n",
       "        'id': 'a15aadc4e7024d0183a0df0f57601ae1',\n",
       "        'rearrange': {'insertSelector': '', 'operator': 'before'},\n",
       "        'selector': '#blog_article_body p:nth-of-type(4)',\n",
       "        'type': 'attribute'},\n",
       "       {'async': False,\n",
       "        'attributes': {'html': 'Be more effective and connect better with your customers.'},\n",
       "        'css': {},\n",
       "        'dependencies': [],\n",
       "        'id': '9eb3bf2a31274e8c949240d25b0ce7d6',\n",
       "        'rearrange': {'insertSelector': '', 'operator': 'before'},\n",
       "        'selector': '#modal_asset_form h4',\n",
       "        'type': 'attribute'},\n",
       "       {'async': False,\n",
       "        'attributes': {'html': 'Buyer persona, marketing persona, or customer avatar - no matter what you call it, we can help you better target your customer. '},\n",
       "        'css': {},\n",
       "        'dependencies': [],\n",
       "        'id': 'e38d8deb8e054268a30cbe11baababf8',\n",
       "        'rearrange': {'insertSelector': '', 'operator': 'before'},\n",
       "        'selector': '#modal_asset_form p:nth-of-type(2)',\n",
       "        'type': 'attribute'}],\n",
       "      'page_id': 11398910300,\n",
       "      'share_link': 'https://www.infusionsoft.com/business-success-blog/customer-service/customer-experience/how-to-respond-to-customer-complaints?optimizely_token=6a0cd7c0f158734fa5a2e6efc0fa7fbac151cb789b5fc32f516807aa27103e7c&optimizely_x=11365566229&optimizely_x_audiences=&optimizely_preview_layer_ids=11354066784&optimizely_snippet=s3-10849384554'}],\n",
       "    'archived': False,\n",
       "    'name': 'Free Template w/ image',\n",
       "    'status': 'active',\n",
       "    'variation_id': 11365566229,\n",
       "    'weight': 3333},\n",
       "   {'actions': [{'changes': [{'async': True,\n",
       "        'dependencies': [],\n",
       "        'id': '968DD795-FF2F-42DA-B391-6439648903A4',\n",
       "        'src': '/actions/5180e767fed4241d605ef93d3a96be9d393b57d8ad45e703fcd198e8d0cac4da.js',\n",
       "        'type': 'custom_code',\n",
       "        'value': 'window.marketoFormRedirects = window.marketoFormRedirects || {};\\nmarketoFormRedirects.cta_link_url = \"https://assets.infusionsoft.com/image/upload/v1536163955/assets/Customer_Avatar_template.pdf\";\\nwindow.mktoModalBtnText = \"Download now\";'},\n",
       "       {'async': False,\n",
       "        'attributes': {'html': 'Be more effective and connect better with your customers.'},\n",
       "        'css': {},\n",
       "        'dependencies': [],\n",
       "        'id': 'EE50ED9C-2DA4-4D87-876B-522CFCBB8AF8',\n",
       "        'rearrange': {'insertSelector': '', 'operator': 'before'},\n",
       "        'selector': '#modal_asset_form h4',\n",
       "        'type': 'attribute'},\n",
       "       {'async': False,\n",
       "        'attributes': {'html': 'Buyer persona, marketing persona, or customer avatar - no matter what you call it, we can help you better target your customer. '},\n",
       "        'css': {},\n",
       "        'dependencies': [],\n",
       "        'id': '915C484E-97D3-470C-B838-233195FE4E0B',\n",
       "        'rearrange': {'insertSelector': '', 'operator': 'before'},\n",
       "        'selector': '#modal_asset_form p:nth-of-type(2)',\n",
       "        'type': 'attribute'},\n",
       "       {'async': False,\n",
       "        'attributes': {'html': 'Free Customer Avatar Template'},\n",
       "        'css': {},\n",
       "        'dependencies': [],\n",
       "        'id': '19084EAD-DAA3-4C45-9B6B-6834969D6147',\n",
       "        'rearrange': {'insertSelector': '', 'operator': 'before'},\n",
       "        'selector': 'button.small.inline-button',\n",
       "        'type': 'attribute'}],\n",
       "      'page_id': 11398910300,\n",
       "      'share_link': 'https://www.infusionsoft.com/business-success-blog/customer-service/customer-experience/how-to-respond-to-customer-complaints?optimizely_token=6a0cd7c0f158734fa5a2e6efc0fa7fbac151cb789b5fc32f516807aa27103e7c&optimizely_x=11388339167&optimizely_x_audiences=&optimizely_preview_layer_ids=11354066784&optimizely_snippet=s3-10849384554'}],\n",
       "    'archived': False,\n",
       "    'name': 'Free Template w/o image',\n",
       "    'status': 'active',\n",
       "    'variation_id': 11388339167,\n",
       "    'weight': 3334}]}]"
      ]
     },
     "execution_count": 287,
     "metadata": {},
     "output_type": "execute_result"
    }
   ],
   "source": [
    "exp_list"
   ]
  },
  {
   "cell_type": "code",
   "execution_count": 289,
   "metadata": {},
   "outputs": [
    {
     "name": "stdout",
     "output_type": "stream",
     "text": [
      "10898650266\n",
      "11355070013\n",
      "11365136008\n",
      "11372936237\n",
      "11402551541\n"
     ]
    }
   ],
   "source": [
    "for e in exp_list:\n",
    "    print(e['id'])"
   ]
  },
  {
   "cell_type": "code",
   "execution_count": 283,
   "metadata": {},
   "outputs": [
    {
     "data": {
      "text/plain": [
       "{'allocation_policy': 'manual',\n",
       " 'audience_conditions': 'everyone',\n",
       " 'campaign_id': 11354066784,\n",
       " 'changes': [],\n",
       " 'created': '2018-09-05T16:10:54.054430Z',\n",
       " 'earliest': '2018-09-05T16:42:17.233880Z',\n",
       " 'holdback': 0,\n",
       " 'id': 11402551541,\n",
       " 'is_classic': False,\n",
       " 'last_modified': '2018-10-03T23:43:48.562195Z',\n",
       " 'latest': '2018-10-03T23:43:49.914375Z',\n",
       " 'metrics': [{'aggregator': 'unique',\n",
       "   'event_id': 11376015268,\n",
       "   'scope': 'visitor',\n",
       "   'winning_direction': 'increasing'}],\n",
       " 'name': \"BSB - CTA on 'How to Effectively Respond to Customer Complaints'\",\n",
       " 'project_id': 10849384554,\n",
       " 'status': 'paused',\n",
       " 'type': 'a/b',\n",
       " 'url_targeting': {'activation_type': 'immediate',\n",
       "  'conditions': '[\"and\", [\"or\", {\"match_type\": \"simple\", \"type\": \"url\", \"value\": \"https://www.infusionsoft.com/business-success-blog/customer-service/customer-experience/how-to-respond-to-customer-complaints\"}]]',\n",
       "  'edit_url': 'https://www.infusionsoft.com/business-success-blog/customer-service/customer-experience/how-to-respond-to-customer-complaints',\n",
       "  'key': '10849384554_url_targeting_for_bsb__cta_on_26_ideas_to_get_your_n_1',\n",
       "  'page_id': 11398910300},\n",
       " 'variations': [{'actions': [],\n",
       "   'archived': False,\n",
       "   'name': 'Free Guide (Control)',\n",
       "   'status': 'active',\n",
       "   'variation_id': 11396315769,\n",
       "   'weight': 3333},\n",
       "  {'actions': [{'changes': [{'async': True,\n",
       "       'dependencies': [],\n",
       "       'id': 'ae39e3dcad4e4e83b90f32b98f2a24f8',\n",
       "       'src': '/actions/03f9e8c723da2ca684af24353d40057fce6fa84e29d57f1618f4bc42c895908d.js',\n",
       "       'type': 'custom_code',\n",
       "       'value': 'window.marketoFormRedirects = window.marketoFormRedirects || {};\\nmarketoFormRedirects.cta_link_url = \"https://assets.infusionsoft.com/image/upload/v1536163955/assets/Customer_Avatar_template.pdf\";\\nwindow.mktoModalBtnText = \"Download now\";'},\n",
       "      {'async': False,\n",
       "       'attributes': {'html': '<div class=\"inline-cta\"> <div class=\"grid-x grid-padding-x grid-padding-y align-middle\"> <div class=\"cell small-12 medium-6\"> <div class=\"inline-cta__copy\"> <p class=\"bolded-text\">Free Template</p>\\n<h5>Create Your Customer Avatar</h5>\\n</div> <button class=\"button inline-cta__button\" data-remodal-target=\"modal_asset_form\" data-button-text=\"Get your free template\">Get your free template</button> </div> <div class=\"cell small-12 medium-6\"> <img src=\"//assets.infusionsoft.com/image/upload/w_800,f_auto/v1531154152/interactive_ebooks/Guide%20thumbnail%20images/Guides-CRM.jpg\" alt=\"customer avatar template\"> </div> </div> </div>'},\n",
       "       'css': {},\n",
       "       'dependencies': [],\n",
       "       'id': 'a15aadc4e7024d0183a0df0f57601ae1',\n",
       "       'rearrange': {'insertSelector': '', 'operator': 'before'},\n",
       "       'selector': '#blog_article_body p:nth-of-type(4)',\n",
       "       'type': 'attribute'},\n",
       "      {'async': False,\n",
       "       'attributes': {'html': 'Be more effective and connect better with your customers.'},\n",
       "       'css': {},\n",
       "       'dependencies': [],\n",
       "       'id': '9eb3bf2a31274e8c949240d25b0ce7d6',\n",
       "       'rearrange': {'insertSelector': '', 'operator': 'before'},\n",
       "       'selector': '#modal_asset_form h4',\n",
       "       'type': 'attribute'},\n",
       "      {'async': False,\n",
       "       'attributes': {'html': 'Buyer persona, marketing persona, or customer avatar - no matter what you call it, we can help you better target your customer. '},\n",
       "       'css': {},\n",
       "       'dependencies': [],\n",
       "       'id': 'e38d8deb8e054268a30cbe11baababf8',\n",
       "       'rearrange': {'insertSelector': '', 'operator': 'before'},\n",
       "       'selector': '#modal_asset_form p:nth-of-type(2)',\n",
       "       'type': 'attribute'}],\n",
       "     'page_id': 11398910300,\n",
       "     'share_link': 'https://www.infusionsoft.com/business-success-blog/customer-service/customer-experience/how-to-respond-to-customer-complaints?optimizely_token=6a0cd7c0f158734fa5a2e6efc0fa7fbac151cb789b5fc32f516807aa27103e7c&optimizely_x=11365566229&optimizely_x_audiences=&optimizely_preview_layer_ids=11354066784&optimizely_snippet=s3-10849384554'}],\n",
       "   'archived': False,\n",
       "   'name': 'Free Template w/ image',\n",
       "   'status': 'active',\n",
       "   'variation_id': 11365566229,\n",
       "   'weight': 3333},\n",
       "  {'actions': [{'changes': [{'async': True,\n",
       "       'dependencies': [],\n",
       "       'id': '968DD795-FF2F-42DA-B391-6439648903A4',\n",
       "       'src': '/actions/5180e767fed4241d605ef93d3a96be9d393b57d8ad45e703fcd198e8d0cac4da.js',\n",
       "       'type': 'custom_code',\n",
       "       'value': 'window.marketoFormRedirects = window.marketoFormRedirects || {};\\nmarketoFormRedirects.cta_link_url = \"https://assets.infusionsoft.com/image/upload/v1536163955/assets/Customer_Avatar_template.pdf\";\\nwindow.mktoModalBtnText = \"Download now\";'},\n",
       "      {'async': False,\n",
       "       'attributes': {'html': 'Be more effective and connect better with your customers.'},\n",
       "       'css': {},\n",
       "       'dependencies': [],\n",
       "       'id': 'EE50ED9C-2DA4-4D87-876B-522CFCBB8AF8',\n",
       "       'rearrange': {'insertSelector': '', 'operator': 'before'},\n",
       "       'selector': '#modal_asset_form h4',\n",
       "       'type': 'attribute'},\n",
       "      {'async': False,\n",
       "       'attributes': {'html': 'Buyer persona, marketing persona, or customer avatar - no matter what you call it, we can help you better target your customer. '},\n",
       "       'css': {},\n",
       "       'dependencies': [],\n",
       "       'id': '915C484E-97D3-470C-B838-233195FE4E0B',\n",
       "       'rearrange': {'insertSelector': '', 'operator': 'before'},\n",
       "       'selector': '#modal_asset_form p:nth-of-type(2)',\n",
       "       'type': 'attribute'},\n",
       "      {'async': False,\n",
       "       'attributes': {'html': 'Free Customer Avatar Template'},\n",
       "       'css': {},\n",
       "       'dependencies': [],\n",
       "       'id': '19084EAD-DAA3-4C45-9B6B-6834969D6147',\n",
       "       'rearrange': {'insertSelector': '', 'operator': 'before'},\n",
       "       'selector': 'button.small.inline-button',\n",
       "       'type': 'attribute'}],\n",
       "     'page_id': 11398910300,\n",
       "     'share_link': 'https://www.infusionsoft.com/business-success-blog/customer-service/customer-experience/how-to-respond-to-customer-complaints?optimizely_token=6a0cd7c0f158734fa5a2e6efc0fa7fbac151cb789b5fc32f516807aa27103e7c&optimizely_x=11388339167&optimizely_x_audiences=&optimizely_preview_layer_ids=11354066784&optimizely_snippet=s3-10849384554'}],\n",
       "   'archived': False,\n",
       "   'name': 'Free Template w/o image',\n",
       "   'status': 'active',\n",
       "   'variation_id': 11388339167,\n",
       "   'weight': 3334}]}"
      ]
     },
     "execution_count": 283,
     "metadata": {},
     "output_type": "execute_result"
    }
   ],
   "source": [
    "exp"
   ]
  },
  {
   "cell_type": "code",
   "execution_count": 281,
   "metadata": {},
   "outputs": [],
   "source": [
    "variations = {}\n",
    "variations['experiment_id'] = exp['id']\n",
    "variations['variations'] = exp['variations']\n",
    "\n",
    "flattened_variations = []\n",
    "\n",
    "for var in exp['variations']:\n",
    "    flattened_actions = []\n",
    "    if len(var['actions']) > 0:\n",
    "        for action in var['actions']:\n",
    "            flattened_changes = []\n",
    "            for element in action['changes']:\n",
    "                flattened_changes.append(element)\n",
    "            # Replace old 'changes' with new 'flattened_changes'\n",
    "            updated_changes = populating_vals(outer_dict=action, inner_flattened_list=flattened_changes, destination_key='changes')\n",
    "            new_flattened_changes = flatten_dupe_vals(vals=updated_changes, key='changes')\n",
    "\n",
    "        update_actions = populating_vals(outer_dict=var, inner_flattened_list=new_flattened_changes, destination_key='actions')\n",
    "        flat = flatten_dupe_vals(vals=update_actions, key='actions')\n",
    "        \n",
    "        flattened_actions.extend(flat)\n",
    "\n",
    "    else:\n",
    "        other_flat = {}\n",
    "        for k,v in var.items():\n",
    "            if k != 'actions':\n",
    "                other_flat['actions'] = []\n",
    "                other_flat[k] = v\n",
    "        flat = [other_flat]\n",
    "    \n",
    "        flattened_actions.extend(flat)\n",
    "\n",
    "    update_variations = populating_vals(outer_dict=variations, inner_flattened_list=flattened_actions, destination_key='variations')\n",
    "    flattened_variations.extend(flatten_dupe_vals(vals=update_variations, key='variations'))\n",
    "    "
   ]
  },
  {
   "cell_type": "code",
   "execution_count": 284,
   "metadata": {
    "scrolled": true
   },
   "outputs": [
    {
     "data": {
      "text/plain": [
       "9"
      ]
     },
     "execution_count": 284,
     "metadata": {},
     "output_type": "execute_result"
    }
   ],
   "source": [
    "len(flattened_variations)"
   ]
  },
  {
   "cell_type": "code",
   "execution_count": 285,
   "metadata": {},
   "outputs": [
    {
     "name": "stdout",
     "output_type": "stream",
     "text": [
      "11396315769\n",
      "11365566229\n",
      "11365566229\n",
      "11365566229\n",
      "11365566229\n",
      "11388339167\n",
      "11388339167\n",
      "11388339167\n",
      "11388339167\n"
     ]
    }
   ],
   "source": [
    "for v in flattened_variations:\n",
    "    print(v['variations_variation_id'])"
   ]
  },
  {
   "cell_type": "code",
   "execution_count": 269,
   "metadata": {},
   "outputs": [
    {
     "name": "stdout",
     "output_type": "stream",
     "text": [
      "Free Guide (Control)\n",
      "Free Template w/ image\n",
      "Free Template w/ image\n",
      "Free Template w/ image\n",
      "Free Template w/ image\n",
      "Free Template w/o image\n",
      "Free Template w/o image\n",
      "Free Template w/o image\n",
      "Free Template w/o image\n"
     ]
    }
   ],
   "source": [
    "for v in flattened_variations:\n",
    "    print(v['variations_name'])"
   ]
  },
  {
   "cell_type": "code",
   "execution_count": 270,
   "metadata": {},
   "outputs": [
    {
     "name": "stdout",
     "output_type": "stream",
     "text": [
      "ae39e3dcad4e4e83b90f32b98f2a24f8\n",
      "a15aadc4e7024d0183a0df0f57601ae1\n",
      "9eb3bf2a31274e8c949240d25b0ce7d6\n",
      "e38d8deb8e054268a30cbe11baababf8\n",
      "968DD795-FF2F-42DA-B391-6439648903A4\n",
      "EE50ED9C-2DA4-4D87-876B-522CFCBB8AF8\n",
      "915C484E-97D3-470C-B838-233195FE4E0B\n",
      "19084EAD-DAA3-4C45-9B6B-6834969D6147\n"
     ]
    }
   ],
   "source": [
    "for v in flattened_variations:\n",
    "    if 'variations_actions_changes_id' in v.keys():\n",
    "        print(v['variations_actions_changes_id'])"
   ]
  },
  {
   "cell_type": "code",
   "execution_count": null,
   "metadata": {},
   "outputs": [],
   "source": []
  }
 ],
 "metadata": {
  "kernelspec": {
   "display_name": "Python 3",
   "language": "python",
   "name": "python3"
  },
  "language_info": {
   "codemirror_mode": {
    "name": "ipython",
    "version": 3
   },
   "file_extension": ".py",
   "mimetype": "text/x-python",
   "name": "python",
   "nbconvert_exporter": "python",
   "pygments_lexer": "ipython3",
   "version": "3.6.4"
  }
 },
 "nbformat": 4,
 "nbformat_minor": 2
}
