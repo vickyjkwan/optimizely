{
 "cells": [
  {
   "cell_type": "markdown",
   "metadata": {},
   "source": [
    "# main"
   ]
  },
  {
   "cell_type": "code",
   "execution_count": 49,
   "metadata": {},
   "outputs": [],
   "source": [
    "import json\n",
    "import requests\n",
    "import popelines\n",
    "import os\n",
    "from main import fix_values, populating_vals, flatten, flatten_dupe_vals"
   ]
  },
  {
   "cell_type": "code",
   "execution_count": 2,
   "metadata": {},
   "outputs": [],
   "source": [
    "def fix_values(value, key, reset_key):\n",
    "    if key == reset_key:\n",
    "        new_list = []\n",
    "        for x in value:\n",
    "            value[x][f'{reset_key}_id'] = x\n",
    "            new_list.append(value[x])\n",
    "        return new_list\n",
    "    else:\n",
    "        return value"
   ]
  },
  {
   "cell_type": "code",
   "execution_count": 3,
   "metadata": {},
   "outputs": [],
   "source": [
    "# read endpoint, returns a json file of the HTTP request\n",
    "def read_endpoint(endpoint, headers_set, params_set=None):\n",
    "    try:\n",
    "        response = requests.get(endpoint, headers=headers_set, params=params_set)\n",
    "        response_text = json.loads(response.text)\n",
    "        response.raise_for_status()\n",
    "\n",
    "    except requests.exceptions.HTTPError as err:\n",
    "        print(err)\n",
    "\n",
    "    return response_text"
   ]
  },
  {
   "cell_type": "code",
   "execution_count": 4,
   "metadata": {},
   "outputs": [],
   "source": [
    "# generate all experiments given a project id\n",
    "def generate_experiments(project_id, experiment_endpoint, experiment_headers, experiment_params):\n",
    "    # get all experiments from one project\n",
    "    j_exp = read_endpoint(endpoint=experiment_endpoint, headers_set=experiment_headers, params_set=experiment_params)\n",
    "\n",
    "    # loop for all experiments in this project\n",
    "    experiment_id_list = []\n",
    "    upload_exp_list = []\n",
    "    for exp in j_exp:\n",
    "        exp['project_id'] = project_id\n",
    "        upload_exp_list.append(flatten(exp, {}, ''))\n",
    "        experiment_id_list.append(exp['id'])\n",
    "        \n",
    "    return upload_exp_list, experiment_id_list"
   ]
  },
  {
   "cell_type": "code",
   "execution_count": 5,
   "metadata": {},
   "outputs": [],
   "source": [
    "# generate all projects within account\n",
    "def generate_projects(project_endpoint, project_headers):\n",
    "    # get all projects\n",
    "    j_proj = read_endpoint(endpoint=project_endpoint, headers_set=project_headers)\n",
    "\n",
    "    # store a list of project metadata\n",
    "    return j_proj"
   ]
  },
  {
   "cell_type": "markdown",
   "metadata": {},
   "source": [
    "# load all projects, get project_id's"
   ]
  },
  {
   "cell_type": "code",
   "execution_count": 89,
   "metadata": {},
   "outputs": [],
   "source": [
    "gbq_key = os.environ.get('GOOGLE_ACCOUNT_CREDENTIALS')\n",
    "pope = popelines.popeline(dataset_id='optimizely', service_key_file_loc=gbq_key, directory='.', verbose=False)\n",
    "\n",
    "# Optimizely parameters\n",
    "headers = {\n",
    "    'Authorization': 'Bearer 2:EWAWmaXb4TgtYVU2VvwoEF-9UbJxBahkiFh1633_Oc9nmju7iJis',\n",
    "    'Content-Type': 'application/json',\n",
    "}"
   ]
  },
  {
   "cell_type": "code",
   "execution_count": 77,
   "metadata": {},
   "outputs": [],
   "source": [
    "project_endpoint = 'https://api.optimizely.com/v2/projects'"
   ]
  },
  {
   "cell_type": "code",
   "execution_count": 78,
   "metadata": {},
   "outputs": [],
   "source": [
    "all_projects = generate_projects(project_endpoint, headers)"
   ]
  },
  {
   "cell_type": "code",
   "execution_count": null,
   "metadata": {},
   "outputs": [],
   "source": [
    "# pope.write_to_json(file_name='../uploads/projects.json', jayson=all_projects, mode='w')"
   ]
  },
  {
   "cell_type": "code",
   "execution_count": null,
   "metadata": {},
   "outputs": [],
   "source": [
    "# pope.write_to_bq(table_name='projects', file_name='../uploads/projects.json', append=True, ignore_unknown_values=False, bq_schema_autodetect=False)\n",
    "# print(\"Successfully uploaded all projects.\")"
   ]
  },
  {
   "cell_type": "code",
   "execution_count": 79,
   "metadata": {},
   "outputs": [],
   "source": [
    "project_id_list = []\n",
    "for project in all_projects:\n",
    "    project_id_list.append((project['id']))"
   ]
  },
  {
   "cell_type": "code",
   "execution_count": 80,
   "metadata": {},
   "outputs": [
    {
     "data": {
      "text/plain": [
       "[9965963792, 10347872424, 10427612860, 10429921250, 10849384554]"
      ]
     },
     "execution_count": 80,
     "metadata": {},
     "output_type": "execute_result"
    }
   ],
   "source": [
    "project_id_list\n"
   ]
  },
  {
   "cell_type": "code",
   "execution_count": 81,
   "metadata": {},
   "outputs": [],
   "source": [
    "project_id_name = []\n",
    "for project in all_projects:\n",
    "    project_id_name.append((project['id'], project['name']))"
   ]
  },
  {
   "cell_type": "code",
   "execution_count": 82,
   "metadata": {},
   "outputs": [
    {
     "data": {
      "text/plain": [
       "[(9965963792, 'Onboarding'),\n",
       " (10347872424, 'Corporate Website'),\n",
       " (10427612860, 'Marketo Pages'),\n",
       " (10429921250, 'Corporate Website - Landing Pages'),\n",
       " (10849384554, 'Corporate Website - Copy')]"
      ]
     },
     "execution_count": 82,
     "metadata": {},
     "output_type": "execute_result"
    }
   ],
   "source": [
    "project_id_name"
   ]
  },
  {
   "cell_type": "markdown",
   "metadata": {},
   "source": [
    "# load experiments"
   ]
  },
  {
   "cell_type": "code",
   "execution_count": 83,
   "metadata": {},
   "outputs": [],
   "source": [
    "experiment_endpoint = 'https://api.optimizely.com/v2/experiments'\n"
   ]
  },
  {
   "cell_type": "code",
   "execution_count": 84,
   "metadata": {},
   "outputs": [
    {
     "name": "stderr",
     "output_type": "stream",
     "text": [
      "INFO:root:Writing experiments to BQ from file ../uploads/experiments.json\n"
     ]
    },
    {
     "name": "stdout",
     "output_type": "stream",
     "text": [
      "2019-02-14 16:36:21,365 - root - Writing experiments to BQ from file ../uploads/experiments.json\n",
      "Successfully uploaded experiments for project 9965963792\n"
     ]
    },
    {
     "name": "stderr",
     "output_type": "stream",
     "text": [
      "INFO:root:Writing experiments to BQ from file ../uploads/experiments.json\n"
     ]
    },
    {
     "name": "stdout",
     "output_type": "stream",
     "text": [
      "2019-02-14 16:36:30,932 - root - Writing experiments to BQ from file ../uploads/experiments.json\n",
      "Successfully uploaded experiments for project 10347872424\n"
     ]
    },
    {
     "name": "stderr",
     "output_type": "stream",
     "text": [
      "INFO:root:Writing experiments to BQ from file ../uploads/experiments.json\n"
     ]
    },
    {
     "name": "stdout",
     "output_type": "stream",
     "text": [
      "2019-02-14 16:36:35,594 - root - Writing experiments to BQ from file ../uploads/experiments.json\n",
      "Successfully uploaded experiments for project 10427612860\n"
     ]
    },
    {
     "name": "stderr",
     "output_type": "stream",
     "text": [
      "INFO:root:Writing experiments to BQ from file ../uploads/experiments.json\n"
     ]
    },
    {
     "name": "stdout",
     "output_type": "stream",
     "text": [
      "2019-02-14 16:36:44,673 - root - Writing experiments to BQ from file ../uploads/experiments.json\n",
      "Successfully uploaded experiments for project 10429921250\n"
     ]
    },
    {
     "name": "stderr",
     "output_type": "stream",
     "text": [
      "INFO:root:Writing experiments to BQ from file ../uploads/experiments.json\n"
     ]
    },
    {
     "name": "stdout",
     "output_type": "stream",
     "text": [
      "2019-02-14 16:36:49,731 - root - Writing experiments to BQ from file ../uploads/experiments.json\n",
      "Successfully uploaded experiments for project 10849384554\n"
     ]
    }
   ],
   "source": [
    "experiment_id_list = []\n",
    "\n",
    "for project_id in project_id_list:\n",
    "    # params include project_id (required) and experiments pulling per each request (default only 25)\n",
    "    params = (\n",
    "        ('project_id', project_id),\n",
    "        ('per_page', 100),\n",
    "    ) \n",
    "\n",
    "    exp_list, exp_id_list = generate_experiments(project_id, experiment_endpoint, headers, params)\n",
    "    experiment_id_list.extend(exp_id_list)\n",
    "    \n",
    "    # upload experiments\n",
    "    pope.write_to_json(file_name='../uploads/experiments.json', jayson=exp_list, mode='w')\n",
    "    pope.write_to_bq(table_name='experiments', file_name='../uploads/experiments.json', append=True, ignore_unknown_values=False, bq_schema_autodetect=False)\n",
    "    print(f\"Successfully uploaded experiments for project {project_id}\")"
   ]
  },
  {
   "cell_type": "markdown",
   "metadata": {},
   "source": [
    "# results timeseries"
   ]
  },
  {
   "cell_type": "code",
   "execution_count": 93,
   "metadata": {
    "scrolled": true
   },
   "outputs": [
    {
     "data": {
      "text/plain": [
       "[10756790433,\n",
       " 10796678057,\n",
       " 10800885728,\n",
       " 10815382176,\n",
       " 10945903729,\n",
       " 10955300529,\n",
       " 11039523400,\n",
       " 11938601024,\n",
       " 11966791385,\n",
       " 11992110033,\n",
       " 10488931082,\n",
       " 10545851126,\n",
       " 10556110251,\n",
       " 10564323775,\n",
       " 10605041742,\n",
       " 10622090898,\n",
       " 10666463868,\n",
       " 10675031376,\n",
       " 10681551672,\n",
       " 10683631399,\n",
       " 10715090552,\n",
       " 10733622163,\n",
       " 10797220881,\n",
       " 10797550884,\n",
       " 10805332324,\n",
       " 10844011372,\n",
       " 10854082584,\n",
       " 10882272812,\n",
       " 11011180459,\n",
       " 11066932017,\n",
       " 11085711684,\n",
       " 11087580674,\n",
       " 11174107321,\n",
       " 11189744252,\n",
       " 11191727326,\n",
       " 11191905720,\n",
       " 11199410199,\n",
       " 11206301430,\n",
       " 11308083317,\n",
       " 11334340375,\n",
       " 11356331084,\n",
       " 11367191147,\n",
       " 11378763890,\n",
       " 11396076650,\n",
       " 11404885421,\n",
       " 11406773739,\n",
       " 11432181239,\n",
       " 11474010139,\n",
       " 11482931694,\n",
       " 11556750451,\n",
       " 11562826019,\n",
       " 11570380944,\n",
       " 11657860282,\n",
       " 11713452853,\n",
       " 11720710615,\n",
       " 11722600722,\n",
       " 12016386767,\n",
       " 12096030597,\n",
       " 12117040288,\n",
       " 12132980378,\n",
       " 12166698246,\n",
       " 12169545706,\n",
       " 12239002639,\n",
       " 12240020740,\n",
       " 12275901710,\n",
       " 12337280003,\n",
       " 12850290083,\n",
       " 12903040293,\n",
       " 13026380185,\n",
       " 13026390548,\n",
       " 13559460138,\n",
       " 11377370874,\n",
       " 12107582952,\n",
       " 12632940119,\n",
       " 12722820205,\n",
       " 12743540432,\n",
       " 12746930280,\n",
       " 10702922345,\n",
       " 10731441129,\n",
       " 10758540726,\n",
       " 10798551869,\n",
       " 10799420505,\n",
       " 10801250617,\n",
       " 10801721220,\n",
       " 10803332939,\n",
       " 10852321017,\n",
       " 10856511191,\n",
       " 10898400714,\n",
       " 10931942839,\n",
       " 11041487001,\n",
       " 11056280896,\n",
       " 11069055177,\n",
       " 11072573730,\n",
       " 11076630667,\n",
       " 11088880005,\n",
       " 11095671052,\n",
       " 11477653122,\n",
       " 11479333433,\n",
       " 11568940229,\n",
       " 12281101588,\n",
       " 12615470432,\n",
       " 12619380698,\n",
       " 12813120687,\n",
       " 12900000180,\n",
       " 10898650266,\n",
       " 11355070013,\n",
       " 11365136008,\n",
       " 11372936237,\n",
       " 11402551541]"
      ]
     },
     "execution_count": 93,
     "metadata": {},
     "output_type": "execute_result"
    }
   ],
   "source": [
    "experiment_id_list"
   ]
  },
  {
   "cell_type": "code",
   "execution_count": 97,
   "metadata": {},
   "outputs": [],
   "source": [
    "result_endpoint = f'https://api.optimizely.com/v2/experiments/10854082584/timeseries'"
   ]
  },
  {
   "cell_type": "code",
   "execution_count": 91,
   "metadata": {},
   "outputs": [],
   "source": [
    "response_ts = requests.get(result_endpoint, headers=headers)\n",
    "\n",
    "# if '' then the experiment has not started yet\n",
    "if response_ts.text == '':\n",
    "    j_ts = {'experiment_id': experiment_id}\n",
    "elif 'bad' in response_ts.text:\n",
    "    j_ts = {'experiment_id': experiment_id}\n",
    "else:\n",
    "    j_ts = json.loads(response_ts.text)\n",
    "\n",
    "new_j_ts = pope.fix_json_values(callback=fix_values, obj=j_ts, reset_key='results')\n"
   ]
  },
  {
   "cell_type": "code",
   "execution_count": 66,
   "metadata": {},
   "outputs": [],
   "source": [
    "from datetime import datetime"
   ]
  },
  {
   "cell_type": "code",
   "execution_count": 67,
   "metadata": {},
   "outputs": [
    {
     "ename": "KeyError",
     "evalue": "'metrics'",
     "output_type": "error",
     "traceback": [
      "\u001b[0;31m---------------------------------------------------------------------------\u001b[0m",
      "\u001b[0;31mKeyError\u001b[0m                                  Traceback (most recent call last)",
      "\u001b[0;32m<ipython-input-67-11a43d7bcceb>\u001b[0m in \u001b[0;36m<module>\u001b[0;34m()\u001b[0m\n\u001b[1;32m      1\u001b[0m \u001b[0mflattened_metrics\u001b[0m \u001b[0;34m=\u001b[0m \u001b[0;34m[\u001b[0m\u001b[0;34m]\u001b[0m\u001b[0;34m\u001b[0m\u001b[0m\n\u001b[0;32m----> 2\u001b[0;31m \u001b[0;32mfor\u001b[0m \u001b[0mmetric\u001b[0m \u001b[0;32min\u001b[0m \u001b[0mnew_j_ts\u001b[0m\u001b[0;34m[\u001b[0m\u001b[0;34m'metrics'\u001b[0m\u001b[0;34m]\u001b[0m\u001b[0;34m:\u001b[0m\u001b[0;34m\u001b[0m\u001b[0m\n\u001b[0m\u001b[1;32m      3\u001b[0m     \u001b[0;32mfor\u001b[0m \u001b[0mts\u001b[0m \u001b[0;32min\u001b[0m \u001b[0mmetric\u001b[0m\u001b[0;34m[\u001b[0m\u001b[0;34m'results'\u001b[0m\u001b[0;34m]\u001b[0m\u001b[0;34m:\u001b[0m\u001b[0;34m\u001b[0m\u001b[0m\n\u001b[1;32m      4\u001b[0m         \u001b[0mflattened_timeseries\u001b[0m \u001b[0;34m=\u001b[0m \u001b[0;34m[\u001b[0m\u001b[0;34m]\u001b[0m\u001b[0;34m\u001b[0m\u001b[0m\n\u001b[1;32m      5\u001b[0m         \u001b[0;32mfor\u001b[0m \u001b[0melement\u001b[0m \u001b[0;32min\u001b[0m \u001b[0mts\u001b[0m\u001b[0;34m[\u001b[0m\u001b[0;34m'timeseries'\u001b[0m\u001b[0;34m]\u001b[0m\u001b[0;34m:\u001b[0m\u001b[0;34m\u001b[0m\u001b[0m\n",
      "\u001b[0;31mKeyError\u001b[0m: 'metrics'"
     ]
    }
   ],
   "source": [
    "flattened_metrics = []\n",
    "for metric in new_j_ts['metrics']:\n",
    "    for ts in metric['results']:\n",
    "        flattened_timeseries = []\n",
    "        for element in ts['timeseries']:\n",
    "            element['upload_ts'] = str(datetime.now())\n",
    "            flattened_timeseries.append(flatten(element, {}, ''))\n",
    "\n",
    "        # Replace old 'timeseries' with new 'flattened_timeseries'\n",
    "        updated_results = populating_vals(outer_dict=ts, inner_flattened_list=flattened_timeseries, destination_key='timeseries')\n",
    "        flattened_results = flatten_dupe_vals(vals=updated_results, key='timeseries')\n",
    "\n",
    "    # Replace old 'metrics' with new 'flattened_results'\n",
    "    update_metrics = populating_vals(outer_dict=metric, inner_flattened_list=flattened_results, destination_key='results')\n",
    "    flattened_metrics.extend(flatten_dupe_vals(vals=update_metrics, key='results'))\n",
    "    "
   ]
  },
  {
   "cell_type": "code",
   "execution_count": 68,
   "metadata": {},
   "outputs": [
    {
     "data": {
      "text/plain": [
       "[]"
      ]
     },
     "execution_count": 68,
     "metadata": {},
     "output_type": "execute_result"
    }
   ],
   "source": [
    "flattened_metrics"
   ]
  },
  {
   "cell_type": "code",
   "execution_count": 98,
   "metadata": {},
   "outputs": [],
   "source": [
    "response_ts = requests.get(result_endpoint, headers=headers)"
   ]
  },
  {
   "cell_type": "code",
   "execution_count": 102,
   "metadata": {},
   "outputs": [
    {
     "data": {
      "text/plain": [
       "True"
      ]
     },
     "execution_count": 102,
     "metadata": {},
     "output_type": "execute_result"
    }
   ],
   "source": [
    "'bad' in response_ts.text"
   ]
  },
  {
   "cell_type": "code",
   "execution_count": null,
   "metadata": {},
   "outputs": [],
   "source": []
  }
 ],
 "metadata": {
  "kernelspec": {
   "display_name": "Python 3",
   "language": "python",
   "name": "python3"
  },
  "language_info": {
   "codemirror_mode": {
    "name": "ipython",
    "version": 3
   },
   "file_extension": ".py",
   "mimetype": "text/x-python",
   "name": "python",
   "nbconvert_exporter": "python",
   "pygments_lexer": "ipython3",
   "version": "3.6.4"
  }
 },
 "nbformat": 4,
 "nbformat_minor": 2
}
