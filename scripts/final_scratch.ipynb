{
 "cells": [
  {
   "cell_type": "markdown",
   "metadata": {},
   "source": [
    "# main"
   ]
  },
  {
   "cell_type": "code",
   "execution_count": 1,
   "metadata": {},
   "outputs": [],
   "source": [
    "import json\n",
    "import requests\n",
    "from main import flatten\n",
    "import popelines\n",
    "import os"
   ]
  },
  {
   "cell_type": "code",
   "execution_count": 2,
   "metadata": {},
   "outputs": [],
   "source": [
    "def fix_values(value, key, reset_key):\n",
    "    if key == reset_key:\n",
    "        new_list = []\n",
    "        for x in value:\n",
    "            value[x][f'{reset_key}_id'] = x\n",
    "            new_list.append(value[x])\n",
    "        return new_list\n",
    "    else:\n",
    "        return value"
   ]
  },
  {
   "cell_type": "code",
   "execution_count": 3,
   "metadata": {},
   "outputs": [],
   "source": [
    "# read endpoint, returns a json file of the HTTP request\n",
    "def read_endpoint(endpoint, headers_set, params_set=None):\n",
    "    try:\n",
    "        response = requests.get(endpoint, headers=headers_set, params=params_set)\n",
    "        response_text = json.loads(response.text)\n",
    "        response.raise_for_status()\n",
    "\n",
    "    except requests.exceptions.HTTPError as err:\n",
    "        print(err)\n",
    "\n",
    "    return response_text"
   ]
  },
  {
   "cell_type": "code",
   "execution_count": 4,
   "metadata": {},
   "outputs": [],
   "source": [
    "# generate all experiments given a project id\n",
    "def generate_experiments(project_id, experiment_endpoint, experiment_headers, experiment_params):\n",
    "    # get all experiments from one project\n",
    "    j_exp = read_endpoint(endpoint=experiment_endpoint, headers_set=experiment_headers, params_set=experiment_params)\n",
    "\n",
    "    # loop for all experiments in this project\n",
    "    experiment_id_list = []\n",
    "    upload_exp_list = []\n",
    "    for exp in j_exp:\n",
    "        exp['project_id'] = project_id\n",
    "        upload_exp_list.append(flatten(exp, {}, ''))\n",
    "        experiment_id_list.append(exp['id'])\n",
    "        \n",
    "    return upload_exp_list, experiment_id_list"
   ]
  },
  {
   "cell_type": "code",
   "execution_count": 5,
   "metadata": {},
   "outputs": [],
   "source": [
    "# generate all projects within account\n",
    "def generate_projects(project_endpoint, project_headers):\n",
    "    # get all projects\n",
    "    j_proj = read_endpoint(endpoint=project_endpoint, headers_set=project_headers)\n",
    "\n",
    "    # store a list of project metadata\n",
    "    return j_proj"
   ]
  },
  {
   "cell_type": "markdown",
   "metadata": {},
   "source": [
    "# load all projects, get project_id's"
   ]
  },
  {
   "cell_type": "code",
   "execution_count": 6,
   "metadata": {},
   "outputs": [],
   "source": [
    "gbq_key = os.environ.get('GOOGLE_ACCOUNT_CREDENTIALS')\n",
    "pope = popelines.popeline(dataset_id='optimizely', service_key_file_loc=gbq_key, directory='.', verbose=False)\n",
    "\n",
    "# Optimizely parameters\n",
    "headers = {\n",
    "    'Authorization': 'Bearer 2:EWAWmaXb4TgtYVU2VvwoEF-9UbJxBahkiFh1633_Oc9nmju7iJis',\n",
    "}"
   ]
  },
  {
   "cell_type": "code",
   "execution_count": 7,
   "metadata": {},
   "outputs": [],
   "source": [
    "project_endpoint = 'https://api.optimizely.com/v2/projects'"
   ]
  },
  {
   "cell_type": "code",
   "execution_count": 8,
   "metadata": {},
   "outputs": [],
   "source": [
    "all_projects = generate_projects(project_endpoint, headers)"
   ]
  },
  {
   "cell_type": "code",
   "execution_count": 9,
   "metadata": {},
   "outputs": [],
   "source": [
    "pope.write_to_json(file_name='../uploads/projects.json', jayson=all_projects, mode='w')"
   ]
  },
  {
   "cell_type": "code",
   "execution_count": 10,
   "metadata": {},
   "outputs": [
    {
     "name": "stderr",
     "output_type": "stream",
     "text": [
      "INFO:root:Writing projects to BQ from file ../uploads/projects.json\n"
     ]
    },
    {
     "name": "stdout",
     "output_type": "stream",
     "text": [
      "2019-01-31 22:08:21,258 - root - Writing projects to BQ from file ../uploads/projects.json\n",
      "Successfully uploaded all projects.\n"
     ]
    }
   ],
   "source": [
    "pope.write_to_bq(table_name='projects', file_name='../uploads/projects.json', append=True, ignore_unknown_values=False, bq_schema_autodetect=False)\n",
    "print(\"Successfully uploaded all projects.\")"
   ]
  },
  {
   "cell_type": "code",
   "execution_count": 11,
   "metadata": {},
   "outputs": [],
   "source": [
    "project_id_list = []\n",
    "for project in all_projects:\n",
    "    project_id_list.append((project['id']))"
   ]
  },
  {
   "cell_type": "code",
   "execution_count": 12,
   "metadata": {},
   "outputs": [
    {
     "data": {
      "text/plain": [
       "[9965963792, 10347872424, 10427612860, 10429921250, 10849384554]"
      ]
     },
     "execution_count": 12,
     "metadata": {},
     "output_type": "execute_result"
    }
   ],
   "source": [
    "project_id_list\n"
   ]
  },
  {
   "cell_type": "code",
   "execution_count": null,
   "metadata": {},
   "outputs": [],
   "source": [
    "project_id_name = []\n",
    "for project in all_projects:\n",
    "    project_id_name.append((project['id'], project['name']))"
   ]
  },
  {
   "cell_type": "code",
   "execution_count": null,
   "metadata": {},
   "outputs": [],
   "source": [
    "project_id_name"
   ]
  },
  {
   "cell_type": "markdown",
   "metadata": {},
   "source": [
    "# load experiments"
   ]
  },
  {
   "cell_type": "code",
   "execution_count": 13,
   "metadata": {},
   "outputs": [],
   "source": [
    "experiment_endpoint = 'https://api.optimizely.com/v2/experiments'\n"
   ]
  },
  {
   "cell_type": "code",
   "execution_count": 16,
   "metadata": {},
   "outputs": [
    {
     "name": "stderr",
     "output_type": "stream",
     "text": [
      "INFO:root:Writing experiments to BQ from file ../uploads/experiments.json\n"
     ]
    },
    {
     "name": "stdout",
     "output_type": "stream",
     "text": [
      "2019-01-31 22:08:59,238 - root - Writing experiments to BQ from file ../uploads/experiments.json\n",
      "Successfully uploaded experiments for project 9965963792\n"
     ]
    },
    {
     "name": "stderr",
     "output_type": "stream",
     "text": [
      "INFO:root:Writing experiments to BQ from file ../uploads/experiments.json\n"
     ]
    },
    {
     "name": "stdout",
     "output_type": "stream",
     "text": [
      "2019-01-31 22:09:06,461 - root - Writing experiments to BQ from file ../uploads/experiments.json\n",
      "Successfully uploaded experiments for project 10347872424\n"
     ]
    },
    {
     "name": "stderr",
     "output_type": "stream",
     "text": [
      "INFO:root:Writing experiments to BQ from file ../uploads/experiments.json\n"
     ]
    },
    {
     "name": "stdout",
     "output_type": "stream",
     "text": [
      "2019-01-31 22:09:13,348 - root - Writing experiments to BQ from file ../uploads/experiments.json\n",
      "Successfully uploaded experiments for project 10427612860\n"
     ]
    },
    {
     "name": "stderr",
     "output_type": "stream",
     "text": [
      "INFO:root:Writing experiments to BQ from file ../uploads/experiments.json\n"
     ]
    },
    {
     "name": "stdout",
     "output_type": "stream",
     "text": [
      "2019-01-31 22:09:20,124 - root - Writing experiments to BQ from file ../uploads/experiments.json\n",
      "Successfully uploaded experiments for project 10429921250\n"
     ]
    },
    {
     "name": "stderr",
     "output_type": "stream",
     "text": [
      "INFO:root:Writing experiments to BQ from file ../uploads/experiments.json\n"
     ]
    },
    {
     "name": "stdout",
     "output_type": "stream",
     "text": [
      "2019-01-31 22:09:25,139 - root - Writing experiments to BQ from file ../uploads/experiments.json\n",
      "Successfully uploaded experiments for project 10849384554\n"
     ]
    }
   ],
   "source": [
    "experiment_id_list = []\n",
    "\n",
    "for project_id in project_id_list:\n",
    "    # params include project_id (required) and experiments pulling per each request (default only 25)\n",
    "    params = (\n",
    "        ('project_id', project_id),\n",
    "        ('per_page', 100),\n",
    "    ) \n",
    "\n",
    "    exp_list, exp_id_list = generate_experiments(project_id, experiment_endpoint, headers, params)\n",
    "    experiment_id_list.extend(exp_id_list)\n",
    "    \n",
    "    # upload experiments\n",
    "    pope.write_to_json(file_name='../uploads/experiments.json', jayson=exp_list, mode='w')\n",
    "    pope.write_to_bq(table_name='experiments', file_name='../uploads/experiments.json', append=True, ignore_unknown_values=False, bq_schema_autodetect=False)\n",
    "    print(f\"Successfully uploaded experiments for project {project_id}\")"
   ]
  },
  {
   "cell_type": "markdown",
   "metadata": {},
   "source": [
    "# results timeseries"
   ]
  },
  {
   "cell_type": "code",
   "execution_count": 17,
   "metadata": {},
   "outputs": [
    {
     "data": {
      "text/plain": [
       "108"
      ]
     },
     "execution_count": 17,
     "metadata": {},
     "output_type": "execute_result"
    }
   ],
   "source": [
    "len(experiment_id_list)"
   ]
  },
  {
   "cell_type": "code",
   "execution_count": 19,
   "metadata": {},
   "outputs": [],
   "source": [
    "result_endpoint = f'https://api.optimizely.com/v2/experiments/{experiment_id}/timeseries'"
   ]
  },
  {
   "cell_type": "code",
   "execution_count": null,
   "metadata": {},
   "outputs": [
    {
     "name": "stderr",
     "output_type": "stream",
     "text": [
      "INFO:root:Writing results to BQ from file ../uploads/origin_results.json\n"
     ]
    },
    {
     "name": "stdout",
     "output_type": "stream",
     "text": [
      "2019-01-31 22:09:45,176 - root - Writing results to BQ from file ../uploads/origin_results.json\n",
      "Successfully uploaded result time series for experiment 10756790433\n"
     ]
    },
    {
     "name": "stderr",
     "output_type": "stream",
     "text": [
      "INFO:root:Writing results to BQ from file ../uploads/origin_results.json\n"
     ]
    },
    {
     "name": "stdout",
     "output_type": "stream",
     "text": [
      "2019-01-31 22:09:59,715 - root - Writing results to BQ from file ../uploads/origin_results.json\n",
      "Successfully uploaded result time series for experiment 10796678057\n"
     ]
    },
    {
     "name": "stderr",
     "output_type": "stream",
     "text": [
      "INFO:root:Writing results to BQ from file ../uploads/origin_results.json\n"
     ]
    },
    {
     "name": "stdout",
     "output_type": "stream",
     "text": [
      "2019-01-31 22:10:05,442 - root - Writing results to BQ from file ../uploads/origin_results.json\n",
      "Successfully uploaded result time series for experiment 10800885728\n"
     ]
    },
    {
     "name": "stderr",
     "output_type": "stream",
     "text": [
      "INFO:root:Writing results to BQ from file ../uploads/origin_results.json\n"
     ]
    },
    {
     "name": "stdout",
     "output_type": "stream",
     "text": [
      "2019-01-31 22:10:11,899 - root - Writing results to BQ from file ../uploads/origin_results.json\n",
      "Successfully uploaded result time series for experiment 10815382176\n"
     ]
    },
    {
     "name": "stderr",
     "output_type": "stream",
     "text": [
      "INFO:root:Writing results to BQ from file ../uploads/origin_results.json\n"
     ]
    },
    {
     "name": "stdout",
     "output_type": "stream",
     "text": [
      "2019-01-31 22:10:17,205 - root - Writing results to BQ from file ../uploads/origin_results.json\n",
      "Successfully uploaded result time series for experiment 10945903729\n"
     ]
    },
    {
     "name": "stderr",
     "output_type": "stream",
     "text": [
      "INFO:root:Writing results to BQ from file ../uploads/origin_results.json\n"
     ]
    },
    {
     "name": "stdout",
     "output_type": "stream",
     "text": [
      "2019-01-31 22:10:25,293 - root - Writing results to BQ from file ../uploads/origin_results.json\n",
      "Successfully uploaded result time series for experiment 10955300529\n"
     ]
    },
    {
     "name": "stderr",
     "output_type": "stream",
     "text": [
      "INFO:root:Writing results to BQ from file ../uploads/origin_results.json\n"
     ]
    },
    {
     "name": "stdout",
     "output_type": "stream",
     "text": [
      "2019-01-31 22:10:34,455 - root - Writing results to BQ from file ../uploads/origin_results.json\n",
      "Successfully uploaded result time series for experiment 11039523400\n"
     ]
    },
    {
     "name": "stderr",
     "output_type": "stream",
     "text": [
      "INFO:root:Writing results to BQ from file ../uploads/origin_results.json\n"
     ]
    },
    {
     "name": "stdout",
     "output_type": "stream",
     "text": [
      "2019-01-31 22:10:41,084 - root - Writing results to BQ from file ../uploads/origin_results.json\n",
      "Successfully uploaded result time series for experiment 11938601024\n"
     ]
    },
    {
     "name": "stderr",
     "output_type": "stream",
     "text": [
      "INFO:root:Writing results to BQ from file ../uploads/origin_results.json\n"
     ]
    },
    {
     "name": "stdout",
     "output_type": "stream",
     "text": [
      "2019-01-31 22:10:47,723 - root - Writing results to BQ from file ../uploads/origin_results.json\n",
      "Successfully uploaded result time series for experiment 11966791385\n"
     ]
    },
    {
     "name": "stderr",
     "output_type": "stream",
     "text": [
      "INFO:root:Writing results to BQ from file ../uploads/origin_results.json\n"
     ]
    },
    {
     "name": "stdout",
     "output_type": "stream",
     "text": [
      "2019-01-31 22:10:57,470 - root - Writing results to BQ from file ../uploads/origin_results.json\n",
      "Successfully uploaded result time series for experiment 11992110033\n"
     ]
    },
    {
     "name": "stderr",
     "output_type": "stream",
     "text": [
      "INFO:root:Writing results to BQ from file ../uploads/origin_results.json\n"
     ]
    },
    {
     "name": "stdout",
     "output_type": "stream",
     "text": [
      "2019-01-31 22:11:05,154 - root - Writing results to BQ from file ../uploads/origin_results.json\n",
      "Successfully uploaded result time series for experiment 10488931082\n"
     ]
    },
    {
     "name": "stderr",
     "output_type": "stream",
     "text": [
      "INFO:root:Writing results to BQ from file ../uploads/origin_results.json\n"
     ]
    },
    {
     "name": "stdout",
     "output_type": "stream",
     "text": [
      "2019-01-31 22:11:11,740 - root - Writing results to BQ from file ../uploads/origin_results.json\n",
      "Successfully uploaded result time series for experiment 10545851126\n"
     ]
    },
    {
     "name": "stderr",
     "output_type": "stream",
     "text": [
      "INFO:root:Writing results to BQ from file ../uploads/origin_results.json\n"
     ]
    },
    {
     "name": "stdout",
     "output_type": "stream",
     "text": [
      "2019-01-31 22:11:18,979 - root - Writing results to BQ from file ../uploads/origin_results.json\n",
      "Successfully uploaded result time series for experiment 10556110251\n"
     ]
    },
    {
     "name": "stderr",
     "output_type": "stream",
     "text": [
      "INFO:root:Writing results to BQ from file ../uploads/origin_results.json\n"
     ]
    },
    {
     "name": "stdout",
     "output_type": "stream",
     "text": [
      "2019-01-31 22:11:26,858 - root - Writing results to BQ from file ../uploads/origin_results.json\n",
      "Successfully uploaded result time series for experiment 10564323775\n"
     ]
    },
    {
     "name": "stderr",
     "output_type": "stream",
     "text": [
      "INFO:root:Writing results to BQ from file ../uploads/origin_results.json\n"
     ]
    },
    {
     "name": "stdout",
     "output_type": "stream",
     "text": [
      "2019-01-31 22:11:32,700 - root - Writing results to BQ from file ../uploads/origin_results.json\n"
     ]
    }
   ],
   "source": [
    "for experiment_id in experiment_id_list:\n",
    "        response_ts = requests.get(result_endpoint, headers=headers)\n",
    "\n",
    "        # if '' then the experiment has not started yet\n",
    "        if response_ts.text == '':\n",
    "            j_ts = {'experiment_id': experiment_id}\n",
    "        else:\n",
    "            j_ts = json.loads(response_ts.text)\n",
    "\n",
    "        new_j_ts = pope.fix_json_values(callback=fix_values, obj=j_ts, reset_key='results')\n",
    "\n",
    "        flattened_metrics = []\n",
    "        for metric in new_j_ts['metrics']:\n",
    "            for result in metric['results']:\n",
    "                for timeseries in result['timeseries']:\n",
    "                    new_dict = {}\n",
    "                    new_dict['aggregator'] = metric['aggregator']\n",
    "                    new_dict['event_id'] = metric['event_id']\n",
    "                    new_dict['name'] = metric['name']\n",
    "                    new_dict['scope'] = metric['scope']\n",
    "                    new_dict['winning_direction'] = metric['winning_direction']\n",
    "\n",
    "                    new_dict['result_is_baseline'] = result['is_baseline']\n",
    "                    new_dict['result_level'] = result['level']\n",
    "                    new_dict['result_name'] = result['name']\n",
    "                    new_dict['result_variation_id'] = result['variation_id']\n",
    "                    new_dict['result_id'] = result['results_id']\n",
    "                    \n",
    "                    new_dict['time_series_rate'] = timeseries['rate']\n",
    "                    new_dict['time_series_time'] = timeseries['time']\n",
    "                    new_dict['time_series_value'] = timeseries['value']\n",
    "                    new_dict['time_series_samples'] = timeseries['samples']\n",
    "                    new_dict['time_series_variance'] = timeseries['variance']\n",
    "\n",
    "                    flattened_metrics.append(new_dict)\n",
    "        new_j_ts['metrics'] = flattened_metrics\n",
    "\n",
    "        pope.write_to_json(file_name='../uploads/origin_results.json', jayson=[new_j_ts], mode='w')\n",
    "        pope.write_to_bq(table_name='results', file_name='../uploads/origin_results.json', append=True, ignore_unknown_values=False, bq_schema_autodetect=False)\n",
    "        print(f\"Successfully uploaded result time series for experiment {experiment_id}\")\n",
    "        "
   ]
  },
  {
   "cell_type": "code",
   "execution_count": null,
   "metadata": {},
   "outputs": [],
   "source": []
  }
 ],
 "metadata": {
  "kernelspec": {
   "display_name": "Python 3",
   "language": "python",
   "name": "python3"
  },
  "language_info": {
   "codemirror_mode": {
    "name": "ipython",
    "version": 3
   },
   "file_extension": ".py",
   "mimetype": "text/x-python",
   "name": "python",
   "nbconvert_exporter": "python",
   "pygments_lexer": "ipython3",
   "version": "3.6.4"
  }
 },
 "nbformat": 4,
 "nbformat_minor": 2
}
