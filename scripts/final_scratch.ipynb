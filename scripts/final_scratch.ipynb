{
 "cells": [
  {
   "cell_type": "markdown",
   "metadata": {},
   "source": [
    "# main"
   ]
  },
  {
   "cell_type": "code",
   "execution_count": 1,
   "metadata": {},
   "outputs": [],
   "source": [
    "import json\n",
    "import requests\n",
    "from main import flatten\n",
    "import popelines\n",
    "import os"
   ]
  },
  {
   "cell_type": "code",
   "execution_count": 2,
   "metadata": {},
   "outputs": [],
   "source": [
    "def fix_values(value, key, reset_key):\n",
    "    if key == reset_key:\n",
    "        new_list = []\n",
    "        for x in value:\n",
    "            value[x][f'{reset_key}_id'] = x\n",
    "            new_list.append(value[x])\n",
    "        return new_list\n",
    "    else:\n",
    "        return value"
   ]
  },
  {
   "cell_type": "code",
   "execution_count": 3,
   "metadata": {},
   "outputs": [],
   "source": [
    "# read endpoint, returns a json file of the HTTP request\n",
    "def read_endpoint(endpoint, headers_set, params_set=None):\n",
    "    try:\n",
    "        response = requests.get(endpoint, headers=headers_set, params=params_set)\n",
    "        response_text = json.loads(response.text)\n",
    "        response.raise_for_status()\n",
    "\n",
    "    except requests.exceptions.HTTPError as err:\n",
    "        print(err)\n",
    "\n",
    "    return response_text"
   ]
  },
  {
   "cell_type": "code",
   "execution_count": 4,
   "metadata": {},
   "outputs": [],
   "source": [
    "# generate all experiments given a project id\n",
    "def generate_experiments(project_id, experiment_endpoint, experiment_headers, experiment_params):\n",
    "    # get all experiments from one project\n",
    "    j_exp = read_endpoint(endpoint=experiment_endpoint, headers_set=experiment_headers, params_set=experiment_params)\n",
    "\n",
    "    # loop for all experiments in this project\n",
    "    experiment_id_list = []\n",
    "    upload_exp_list = []\n",
    "    for exp in j_exp:\n",
    "        exp['project_id'] = project_id\n",
    "        upload_exp_list.append(flatten(exp, {}, ''))\n",
    "        experiment_id_list.append(exp['id'])\n",
    "        \n",
    "    return upload_exp_list, experiment_id_list"
   ]
  },
  {
   "cell_type": "code",
   "execution_count": 5,
   "metadata": {},
   "outputs": [],
   "source": [
    "# generate all projects within account\n",
    "def generate_projects(project_endpoint, project_headers):\n",
    "    # get all projects\n",
    "    j_proj = read_endpoint(endpoint=project_endpoint, headers_set=project_headers)\n",
    "\n",
    "    # store a list of project metadata\n",
    "    return j_proj"
   ]
  },
  {
   "cell_type": "markdown",
   "metadata": {},
   "source": [
    "# load all projects, get project_id's"
   ]
  },
  {
   "cell_type": "code",
   "execution_count": 6,
   "metadata": {},
   "outputs": [],
   "source": [
    "gbq_key = os.environ.get('GOOGLE_ACCOUNT_CREDENTIALS')\n",
    "pope = popelines.popeline(dataset_id='optimizely', service_key_file_loc=gbq_key, directory='.', verbose=False)\n",
    "\n",
    "# Optimizely parameters\n",
    "headers = {\n",
    "    'Authorization': 'Bearer 2:EWAWmaXb4TgtYVU2VvwoEF-9UbJxBahkiFh1633_Oc9nmju7iJis',\n",
    "}"
   ]
  },
  {
   "cell_type": "code",
   "execution_count": 7,
   "metadata": {},
   "outputs": [],
   "source": [
    "project_endpoint = 'https://api.optimizely.com/v2/projects'"
   ]
  },
  {
   "cell_type": "code",
   "execution_count": 8,
   "metadata": {},
   "outputs": [],
   "source": [
    "all_projects = generate_projects(project_endpoint, headers)"
   ]
  },
  {
   "cell_type": "code",
   "execution_count": 9,
   "metadata": {},
   "outputs": [],
   "source": [
    "pope.write_to_json(file_name='../uploads/projects.json', jayson=all_projects, mode='w')"
   ]
  },
  {
   "cell_type": "code",
   "execution_count": 10,
   "metadata": {},
   "outputs": [
    {
     "name": "stderr",
     "output_type": "stream",
     "text": [
      "INFO:root:Writing projects to BQ from file ../uploads/projects.json\n"
     ]
    },
    {
     "name": "stdout",
     "output_type": "stream",
     "text": [
      "2019-01-31 22:08:21,258 - root - Writing projects to BQ from file ../uploads/projects.json\n",
      "Successfully uploaded all projects.\n"
     ]
    }
   ],
   "source": [
    "pope.write_to_bq(table_name='projects', file_name='../uploads/projects.json', append=True, ignore_unknown_values=False, bq_schema_autodetect=False)\n",
    "print(\"Successfully uploaded all projects.\")"
   ]
  },
  {
   "cell_type": "code",
   "execution_count": 11,
   "metadata": {},
   "outputs": [],
   "source": [
    "project_id_list = []\n",
    "for project in all_projects:\n",
    "    project_id_list.append((project['id']))"
   ]
  },
  {
   "cell_type": "code",
   "execution_count": 12,
   "metadata": {},
   "outputs": [
    {
     "data": {
      "text/plain": [
       "[9965963792, 10347872424, 10427612860, 10429921250, 10849384554]"
      ]
     },
     "execution_count": 12,
     "metadata": {},
     "output_type": "execute_result"
    }
   ],
   "source": [
    "project_id_list\n"
   ]
  },
  {
   "cell_type": "code",
   "execution_count": null,
   "metadata": {},
   "outputs": [],
   "source": [
    "project_id_name = []\n",
    "for project in all_projects:\n",
    "    project_id_name.append((project['id'], project['name']))"
   ]
  },
  {
   "cell_type": "code",
   "execution_count": null,
   "metadata": {},
   "outputs": [],
   "source": [
    "project_id_name"
   ]
  },
  {
   "cell_type": "markdown",
   "metadata": {},
   "source": [
    "# load experiments"
   ]
  },
  {
   "cell_type": "code",
   "execution_count": 13,
   "metadata": {},
   "outputs": [],
   "source": [
    "experiment_endpoint = 'https://api.optimizely.com/v2/experiments'\n"
   ]
  },
  {
   "cell_type": "code",
   "execution_count": 16,
   "metadata": {},
   "outputs": [
    {
     "name": "stderr",
     "output_type": "stream",
     "text": [
      "INFO:root:Writing experiments to BQ from file ../uploads/experiments.json\n"
     ]
    },
    {
     "name": "stdout",
     "output_type": "stream",
     "text": [
      "2019-01-31 22:08:59,238 - root - Writing experiments to BQ from file ../uploads/experiments.json\n",
      "Successfully uploaded experiments for project 9965963792\n"
     ]
    },
    {
     "name": "stderr",
     "output_type": "stream",
     "text": [
      "INFO:root:Writing experiments to BQ from file ../uploads/experiments.json\n"
     ]
    },
    {
     "name": "stdout",
     "output_type": "stream",
     "text": [
      "2019-01-31 22:09:06,461 - root - Writing experiments to BQ from file ../uploads/experiments.json\n",
      "Successfully uploaded experiments for project 10347872424\n"
     ]
    },
    {
     "name": "stderr",
     "output_type": "stream",
     "text": [
      "INFO:root:Writing experiments to BQ from file ../uploads/experiments.json\n"
     ]
    },
    {
     "name": "stdout",
     "output_type": "stream",
     "text": [
      "2019-01-31 22:09:13,348 - root - Writing experiments to BQ from file ../uploads/experiments.json\n",
      "Successfully uploaded experiments for project 10427612860\n"
     ]
    },
    {
     "name": "stderr",
     "output_type": "stream",
     "text": [
      "INFO:root:Writing experiments to BQ from file ../uploads/experiments.json\n"
     ]
    },
    {
     "name": "stdout",
     "output_type": "stream",
     "text": [
      "2019-01-31 22:09:20,124 - root - Writing experiments to BQ from file ../uploads/experiments.json\n",
      "Successfully uploaded experiments for project 10429921250\n"
     ]
    },
    {
     "name": "stderr",
     "output_type": "stream",
     "text": [
      "INFO:root:Writing experiments to BQ from file ../uploads/experiments.json\n"
     ]
    },
    {
     "name": "stdout",
     "output_type": "stream",
     "text": [
      "2019-01-31 22:09:25,139 - root - Writing experiments to BQ from file ../uploads/experiments.json\n",
      "Successfully uploaded experiments for project 10849384554\n"
     ]
    }
   ],
   "source": [
    "experiment_id_list = []\n",
    "\n",
    "for project_id in project_id_list:\n",
    "    # params include project_id (required) and experiments pulling per each request (default only 25)\n",
    "    params = (\n",
    "        ('project_id', project_id),\n",
    "        ('per_page', 100),\n",
    "    ) \n",
    "\n",
    "    exp_list, exp_id_list = generate_experiments(project_id, experiment_endpoint, headers, params)\n",
    "    experiment_id_list.extend(exp_id_list)\n",
    "    \n",
    "    # upload experiments\n",
    "    pope.write_to_json(file_name='../uploads/experiments.json', jayson=exp_list, mode='w')\n",
    "    pope.write_to_bq(table_name='experiments', file_name='../uploads/experiments.json', append=True, ignore_unknown_values=False, bq_schema_autodetect=False)\n",
    "    print(f\"Successfully uploaded experiments for project {project_id}\")"
   ]
  },
  {
   "cell_type": "markdown",
   "metadata": {},
   "source": [
    "# results timeseries"
   ]
  },
  {
   "cell_type": "code",
   "execution_count": 17,
   "metadata": {},
   "outputs": [
    {
     "data": {
      "text/plain": [
       "108"
      ]
     },
     "execution_count": 17,
     "metadata": {},
     "output_type": "execute_result"
    }
   ],
   "source": [
    "len(experiment_id_list)"
   ]
  },
  {
   "cell_type": "code",
   "execution_count": 19,
   "metadata": {},
   "outputs": [],
   "source": [
    "result_endpoint = f'https://api.optimizely.com/v2/experiments/{experiment_id}/timeseries'"
   ]
  },
  {
   "cell_type": "code",
   "execution_count": 20,
   "metadata": {},
   "outputs": [
    {
     "name": "stderr",
     "output_type": "stream",
     "text": [
      "INFO:root:Writing results to BQ from file ../uploads/origin_results.json\n"
     ]
    },
    {
     "name": "stdout",
     "output_type": "stream",
     "text": [
      "2019-01-31 22:09:45,176 - root - Writing results to BQ from file ../uploads/origin_results.json\n",
      "Successfully uploaded result time series for experiment 10756790433\n"
     ]
    },
    {
     "name": "stderr",
     "output_type": "stream",
     "text": [
      "INFO:root:Writing results to BQ from file ../uploads/origin_results.json\n"
     ]
    },
    {
     "name": "stdout",
     "output_type": "stream",
     "text": [
      "2019-01-31 22:09:59,715 - root - Writing results to BQ from file ../uploads/origin_results.json\n",
      "Successfully uploaded result time series for experiment 10796678057\n"
     ]
    },
    {
     "name": "stderr",
     "output_type": "stream",
     "text": [
      "INFO:root:Writing results to BQ from file ../uploads/origin_results.json\n"
     ]
    },
    {
     "name": "stdout",
     "output_type": "stream",
     "text": [
      "2019-01-31 22:10:05,442 - root - Writing results to BQ from file ../uploads/origin_results.json\n",
      "Successfully uploaded result time series for experiment 10800885728\n"
     ]
    },
    {
     "name": "stderr",
     "output_type": "stream",
     "text": [
      "INFO:root:Writing results to BQ from file ../uploads/origin_results.json\n"
     ]
    },
    {
     "name": "stdout",
     "output_type": "stream",
     "text": [
      "2019-01-31 22:10:11,899 - root - Writing results to BQ from file ../uploads/origin_results.json\n",
      "Successfully uploaded result time series for experiment 10815382176\n"
     ]
    },
    {
     "name": "stderr",
     "output_type": "stream",
     "text": [
      "INFO:root:Writing results to BQ from file ../uploads/origin_results.json\n"
     ]
    },
    {
     "name": "stdout",
     "output_type": "stream",
     "text": [
      "2019-01-31 22:10:17,205 - root - Writing results to BQ from file ../uploads/origin_results.json\n",
      "Successfully uploaded result time series for experiment 10945903729\n"
     ]
    },
    {
     "name": "stderr",
     "output_type": "stream",
     "text": [
      "INFO:root:Writing results to BQ from file ../uploads/origin_results.json\n"
     ]
    },
    {
     "name": "stdout",
     "output_type": "stream",
     "text": [
      "2019-01-31 22:10:25,293 - root - Writing results to BQ from file ../uploads/origin_results.json\n",
      "Successfully uploaded result time series for experiment 10955300529\n"
     ]
    },
    {
     "name": "stderr",
     "output_type": "stream",
     "text": [
      "INFO:root:Writing results to BQ from file ../uploads/origin_results.json\n"
     ]
    },
    {
     "name": "stdout",
     "output_type": "stream",
     "text": [
      "2019-01-31 22:10:34,455 - root - Writing results to BQ from file ../uploads/origin_results.json\n",
      "Successfully uploaded result time series for experiment 11039523400\n"
     ]
    },
    {
     "name": "stderr",
     "output_type": "stream",
     "text": [
      "INFO:root:Writing results to BQ from file ../uploads/origin_results.json\n"
     ]
    },
    {
     "name": "stdout",
     "output_type": "stream",
     "text": [
      "2019-01-31 22:10:41,084 - root - Writing results to BQ from file ../uploads/origin_results.json\n",
      "Successfully uploaded result time series for experiment 11938601024\n"
     ]
    },
    {
     "name": "stderr",
     "output_type": "stream",
     "text": [
      "INFO:root:Writing results to BQ from file ../uploads/origin_results.json\n"
     ]
    },
    {
     "name": "stdout",
     "output_type": "stream",
     "text": [
      "2019-01-31 22:10:47,723 - root - Writing results to BQ from file ../uploads/origin_results.json\n",
      "Successfully uploaded result time series for experiment 11966791385\n"
     ]
    },
    {
     "name": "stderr",
     "output_type": "stream",
     "text": [
      "INFO:root:Writing results to BQ from file ../uploads/origin_results.json\n"
     ]
    },
    {
     "name": "stdout",
     "output_type": "stream",
     "text": [
      "2019-01-31 22:10:57,470 - root - Writing results to BQ from file ../uploads/origin_results.json\n",
      "Successfully uploaded result time series for experiment 11992110033\n"
     ]
    },
    {
     "name": "stderr",
     "output_type": "stream",
     "text": [
      "INFO:root:Writing results to BQ from file ../uploads/origin_results.json\n"
     ]
    },
    {
     "name": "stdout",
     "output_type": "stream",
     "text": [
      "2019-01-31 22:11:05,154 - root - Writing results to BQ from file ../uploads/origin_results.json\n",
      "Successfully uploaded result time series for experiment 10488931082\n"
     ]
    },
    {
     "name": "stderr",
     "output_type": "stream",
     "text": [
      "INFO:root:Writing results to BQ from file ../uploads/origin_results.json\n"
     ]
    },
    {
     "name": "stdout",
     "output_type": "stream",
     "text": [
      "2019-01-31 22:11:11,740 - root - Writing results to BQ from file ../uploads/origin_results.json\n",
      "Successfully uploaded result time series for experiment 10545851126\n"
     ]
    },
    {
     "name": "stderr",
     "output_type": "stream",
     "text": [
      "INFO:root:Writing results to BQ from file ../uploads/origin_results.json\n"
     ]
    },
    {
     "name": "stdout",
     "output_type": "stream",
     "text": [
      "2019-01-31 22:11:18,979 - root - Writing results to BQ from file ../uploads/origin_results.json\n",
      "Successfully uploaded result time series for experiment 10556110251\n"
     ]
    },
    {
     "name": "stderr",
     "output_type": "stream",
     "text": [
      "INFO:root:Writing results to BQ from file ../uploads/origin_results.json\n"
     ]
    },
    {
     "name": "stdout",
     "output_type": "stream",
     "text": [
      "2019-01-31 22:11:26,858 - root - Writing results to BQ from file ../uploads/origin_results.json\n",
      "Successfully uploaded result time series for experiment 10564323775\n"
     ]
    },
    {
     "name": "stderr",
     "output_type": "stream",
     "text": [
      "INFO:root:Writing results to BQ from file ../uploads/origin_results.json\n"
     ]
    },
    {
     "name": "stdout",
     "output_type": "stream",
     "text": [
      "2019-01-31 22:11:32,700 - root - Writing results to BQ from file ../uploads/origin_results.json\n",
      "Successfully uploaded result time series for experiment 10605041742\n"
     ]
    },
    {
     "name": "stderr",
     "output_type": "stream",
     "text": [
      "INFO:root:Writing results to BQ from file ../uploads/origin_results.json\n"
     ]
    },
    {
     "name": "stdout",
     "output_type": "stream",
     "text": [
      "2019-01-31 22:11:42,851 - root - Writing results to BQ from file ../uploads/origin_results.json\n",
      "Successfully uploaded result time series for experiment 10622090898\n"
     ]
    },
    {
     "name": "stderr",
     "output_type": "stream",
     "text": [
      "INFO:root:Writing results to BQ from file ../uploads/origin_results.json\n"
     ]
    },
    {
     "name": "stdout",
     "output_type": "stream",
     "text": [
      "2019-01-31 22:11:49,687 - root - Writing results to BQ from file ../uploads/origin_results.json\n",
      "Successfully uploaded result time series for experiment 10666463868\n"
     ]
    },
    {
     "name": "stderr",
     "output_type": "stream",
     "text": [
      "INFO:root:Writing results to BQ from file ../uploads/origin_results.json\n"
     ]
    },
    {
     "name": "stdout",
     "output_type": "stream",
     "text": [
      "2019-01-31 22:11:56,561 - root - Writing results to BQ from file ../uploads/origin_results.json\n",
      "Successfully uploaded result time series for experiment 10675031376\n"
     ]
    },
    {
     "name": "stderr",
     "output_type": "stream",
     "text": [
      "INFO:root:Writing results to BQ from file ../uploads/origin_results.json\n"
     ]
    },
    {
     "name": "stdout",
     "output_type": "stream",
     "text": [
      "2019-01-31 22:12:03,643 - root - Writing results to BQ from file ../uploads/origin_results.json\n",
      "Successfully uploaded result time series for experiment 10681551672\n"
     ]
    },
    {
     "name": "stderr",
     "output_type": "stream",
     "text": [
      "INFO:root:Writing results to BQ from file ../uploads/origin_results.json\n"
     ]
    },
    {
     "name": "stdout",
     "output_type": "stream",
     "text": [
      "2019-01-31 22:12:10,434 - root - Writing results to BQ from file ../uploads/origin_results.json\n",
      "Successfully uploaded result time series for experiment 10683631399\n"
     ]
    },
    {
     "name": "stderr",
     "output_type": "stream",
     "text": [
      "INFO:root:Writing results to BQ from file ../uploads/origin_results.json\n"
     ]
    },
    {
     "name": "stdout",
     "output_type": "stream",
     "text": [
      "2019-01-31 22:12:19,601 - root - Writing results to BQ from file ../uploads/origin_results.json\n",
      "Successfully uploaded result time series for experiment 10715090552\n"
     ]
    },
    {
     "name": "stderr",
     "output_type": "stream",
     "text": [
      "INFO:root:Writing results to BQ from file ../uploads/origin_results.json\n"
     ]
    },
    {
     "name": "stdout",
     "output_type": "stream",
     "text": [
      "2019-01-31 22:12:26,638 - root - Writing results to BQ from file ../uploads/origin_results.json\n",
      "Successfully uploaded result time series for experiment 10733622163\n"
     ]
    },
    {
     "name": "stderr",
     "output_type": "stream",
     "text": [
      "INFO:root:Writing results to BQ from file ../uploads/origin_results.json\n"
     ]
    },
    {
     "name": "stdout",
     "output_type": "stream",
     "text": [
      "2019-01-31 22:12:32,837 - root - Writing results to BQ from file ../uploads/origin_results.json\n",
      "Successfully uploaded result time series for experiment 10797220881\n"
     ]
    },
    {
     "name": "stderr",
     "output_type": "stream",
     "text": [
      "INFO:root:Writing results to BQ from file ../uploads/origin_results.json\n"
     ]
    },
    {
     "name": "stdout",
     "output_type": "stream",
     "text": [
      "2019-01-31 22:12:39,377 - root - Writing results to BQ from file ../uploads/origin_results.json\n",
      "Successfully uploaded result time series for experiment 10797550884\n"
     ]
    },
    {
     "name": "stderr",
     "output_type": "stream",
     "text": [
      "INFO:root:Writing results to BQ from file ../uploads/origin_results.json\n"
     ]
    },
    {
     "name": "stdout",
     "output_type": "stream",
     "text": [
      "2019-01-31 22:12:48,912 - root - Writing results to BQ from file ../uploads/origin_results.json\n",
      "Successfully uploaded result time series for experiment 10805332324\n"
     ]
    },
    {
     "name": "stderr",
     "output_type": "stream",
     "text": [
      "INFO:root:Writing results to BQ from file ../uploads/origin_results.json\n"
     ]
    },
    {
     "name": "stdout",
     "output_type": "stream",
     "text": [
      "2019-01-31 22:12:55,668 - root - Writing results to BQ from file ../uploads/origin_results.json\n",
      "Successfully uploaded result time series for experiment 10844011372\n"
     ]
    },
    {
     "name": "stderr",
     "output_type": "stream",
     "text": [
      "INFO:root:Writing results to BQ from file ../uploads/origin_results.json\n"
     ]
    },
    {
     "name": "stdout",
     "output_type": "stream",
     "text": [
      "2019-01-31 22:13:03,584 - root - Writing results to BQ from file ../uploads/origin_results.json\n",
      "Successfully uploaded result time series for experiment 10854082584\n"
     ]
    },
    {
     "name": "stderr",
     "output_type": "stream",
     "text": [
      "INFO:root:Writing results to BQ from file ../uploads/origin_results.json\n"
     ]
    },
    {
     "name": "stdout",
     "output_type": "stream",
     "text": [
      "2019-01-31 22:13:09,948 - root - Writing results to BQ from file ../uploads/origin_results.json\n",
      "Successfully uploaded result time series for experiment 10882272812\n"
     ]
    },
    {
     "name": "stderr",
     "output_type": "stream",
     "text": [
      "INFO:root:Writing results to BQ from file ../uploads/origin_results.json\n"
     ]
    },
    {
     "name": "stdout",
     "output_type": "stream",
     "text": [
      "2019-01-31 22:13:18,019 - root - Writing results to BQ from file ../uploads/origin_results.json\n",
      "Successfully uploaded result time series for experiment 11011180459\n"
     ]
    },
    {
     "name": "stderr",
     "output_type": "stream",
     "text": [
      "INFO:root:Writing results to BQ from file ../uploads/origin_results.json\n"
     ]
    },
    {
     "name": "stdout",
     "output_type": "stream",
     "text": [
      "2019-01-31 22:13:24,919 - root - Writing results to BQ from file ../uploads/origin_results.json\n",
      "Successfully uploaded result time series for experiment 11066932017\n"
     ]
    },
    {
     "name": "stderr",
     "output_type": "stream",
     "text": [
      "INFO:root:Writing results to BQ from file ../uploads/origin_results.json\n"
     ]
    },
    {
     "name": "stdout",
     "output_type": "stream",
     "text": [
      "2019-01-31 22:13:33,930 - root - Writing results to BQ from file ../uploads/origin_results.json\n",
      "Successfully uploaded result time series for experiment 11085711684\n"
     ]
    },
    {
     "name": "stderr",
     "output_type": "stream",
     "text": [
      "INFO:root:Writing results to BQ from file ../uploads/origin_results.json\n"
     ]
    },
    {
     "name": "stdout",
     "output_type": "stream",
     "text": [
      "2019-01-31 22:13:40,790 - root - Writing results to BQ from file ../uploads/origin_results.json\n",
      "Successfully uploaded result time series for experiment 11087580674\n"
     ]
    },
    {
     "name": "stderr",
     "output_type": "stream",
     "text": [
      "INFO:root:Writing results to BQ from file ../uploads/origin_results.json\n"
     ]
    },
    {
     "name": "stdout",
     "output_type": "stream",
     "text": [
      "2019-01-31 22:13:47,034 - root - Writing results to BQ from file ../uploads/origin_results.json\n",
      "Successfully uploaded result time series for experiment 11174107321\n"
     ]
    },
    {
     "name": "stderr",
     "output_type": "stream",
     "text": [
      "INFO:root:Writing results to BQ from file ../uploads/origin_results.json\n"
     ]
    },
    {
     "name": "stdout",
     "output_type": "stream",
     "text": [
      "2019-01-31 22:13:54,714 - root - Writing results to BQ from file ../uploads/origin_results.json\n",
      "Successfully uploaded result time series for experiment 11189744252\n"
     ]
    },
    {
     "name": "stderr",
     "output_type": "stream",
     "text": [
      "INFO:root:Writing results to BQ from file ../uploads/origin_results.json\n"
     ]
    },
    {
     "name": "stdout",
     "output_type": "stream",
     "text": [
      "2019-01-31 22:14:00,760 - root - Writing results to BQ from file ../uploads/origin_results.json\n",
      "Successfully uploaded result time series for experiment 11191727326\n"
     ]
    },
    {
     "name": "stderr",
     "output_type": "stream",
     "text": [
      "INFO:root:Writing results to BQ from file ../uploads/origin_results.json\n"
     ]
    },
    {
     "name": "stdout",
     "output_type": "stream",
     "text": [
      "2019-01-31 22:14:10,614 - root - Writing results to BQ from file ../uploads/origin_results.json\n",
      "Successfully uploaded result time series for experiment 11191905720\n"
     ]
    },
    {
     "name": "stderr",
     "output_type": "stream",
     "text": [
      "INFO:root:Writing results to BQ from file ../uploads/origin_results.json\n"
     ]
    },
    {
     "name": "stdout",
     "output_type": "stream",
     "text": [
      "2019-01-31 22:14:18,916 - root - Writing results to BQ from file ../uploads/origin_results.json\n",
      "Successfully uploaded result time series for experiment 11199410199\n"
     ]
    },
    {
     "name": "stderr",
     "output_type": "stream",
     "text": [
      "INFO:root:Writing results to BQ from file ../uploads/origin_results.json\n"
     ]
    },
    {
     "name": "stdout",
     "output_type": "stream",
     "text": [
      "2019-01-31 22:14:25,767 - root - Writing results to BQ from file ../uploads/origin_results.json\n",
      "Successfully uploaded result time series for experiment 11206301430\n"
     ]
    },
    {
     "name": "stderr",
     "output_type": "stream",
     "text": [
      "INFO:root:Writing results to BQ from file ../uploads/origin_results.json\n"
     ]
    },
    {
     "name": "stdout",
     "output_type": "stream",
     "text": [
      "2019-01-31 22:14:33,349 - root - Writing results to BQ from file ../uploads/origin_results.json\n",
      "Successfully uploaded result time series for experiment 11308083317\n"
     ]
    },
    {
     "name": "stderr",
     "output_type": "stream",
     "text": [
      "INFO:root:Writing results to BQ from file ../uploads/origin_results.json\n"
     ]
    },
    {
     "name": "stdout",
     "output_type": "stream",
     "text": [
      "2019-01-31 22:14:40,199 - root - Writing results to BQ from file ../uploads/origin_results.json\n",
      "Successfully uploaded result time series for experiment 11334340375\n"
     ]
    },
    {
     "name": "stderr",
     "output_type": "stream",
     "text": [
      "INFO:root:Writing results to BQ from file ../uploads/origin_results.json\n"
     ]
    },
    {
     "name": "stdout",
     "output_type": "stream",
     "text": [
      "2019-01-31 22:14:47,649 - root - Writing results to BQ from file ../uploads/origin_results.json\n",
      "Successfully uploaded result time series for experiment 11356331084\n"
     ]
    },
    {
     "name": "stderr",
     "output_type": "stream",
     "text": [
      "INFO:root:Writing results to BQ from file ../uploads/origin_results.json\n"
     ]
    },
    {
     "name": "stdout",
     "output_type": "stream",
     "text": [
      "2019-01-31 22:14:56,588 - root - Writing results to BQ from file ../uploads/origin_results.json\n",
      "Successfully uploaded result time series for experiment 11367191147\n"
     ]
    },
    {
     "name": "stderr",
     "output_type": "stream",
     "text": [
      "INFO:root:Writing results to BQ from file ../uploads/origin_results.json\n"
     ]
    },
    {
     "name": "stdout",
     "output_type": "stream",
     "text": [
      "2019-01-31 22:15:03,444 - root - Writing results to BQ from file ../uploads/origin_results.json\n",
      "Successfully uploaded result time series for experiment 11378763890\n"
     ]
    },
    {
     "name": "stderr",
     "output_type": "stream",
     "text": [
      "INFO:root:Writing results to BQ from file ../uploads/origin_results.json\n"
     ]
    },
    {
     "name": "stdout",
     "output_type": "stream",
     "text": [
      "2019-01-31 22:15:09,894 - root - Writing results to BQ from file ../uploads/origin_results.json\n",
      "Successfully uploaded result time series for experiment 11396076650\n"
     ]
    },
    {
     "name": "stderr",
     "output_type": "stream",
     "text": [
      "INFO:root:Writing results to BQ from file ../uploads/origin_results.json\n"
     ]
    },
    {
     "name": "stdout",
     "output_type": "stream",
     "text": [
      "2019-01-31 22:15:16,974 - root - Writing results to BQ from file ../uploads/origin_results.json\n",
      "Successfully uploaded result time series for experiment 11404885421\n"
     ]
    },
    {
     "name": "stderr",
     "output_type": "stream",
     "text": [
      "INFO:root:Writing results to BQ from file ../uploads/origin_results.json\n"
     ]
    },
    {
     "name": "stdout",
     "output_type": "stream",
     "text": [
      "2019-01-31 22:15:23,414 - root - Writing results to BQ from file ../uploads/origin_results.json\n",
      "Successfully uploaded result time series for experiment 11406773739\n"
     ]
    },
    {
     "name": "stderr",
     "output_type": "stream",
     "text": [
      "INFO:root:Writing results to BQ from file ../uploads/origin_results.json\n"
     ]
    },
    {
     "name": "stdout",
     "output_type": "stream",
     "text": [
      "2019-01-31 22:15:31,706 - root - Writing results to BQ from file ../uploads/origin_results.json\n",
      "Successfully uploaded result time series for experiment 11432181239\n"
     ]
    },
    {
     "name": "stderr",
     "output_type": "stream",
     "text": [
      "INFO:root:Writing results to BQ from file ../uploads/origin_results.json\n"
     ]
    },
    {
     "name": "stdout",
     "output_type": "stream",
     "text": [
      "2019-01-31 22:15:40,303 - root - Writing results to BQ from file ../uploads/origin_results.json\n",
      "Successfully uploaded result time series for experiment 11474010139\n"
     ]
    },
    {
     "name": "stderr",
     "output_type": "stream",
     "text": [
      "INFO:root:Writing results to BQ from file ../uploads/origin_results.json\n"
     ]
    },
    {
     "name": "stdout",
     "output_type": "stream",
     "text": [
      "2019-01-31 22:15:46,560 - root - Writing results to BQ from file ../uploads/origin_results.json\n",
      "Successfully uploaded result time series for experiment 11482931694\n"
     ]
    },
    {
     "name": "stderr",
     "output_type": "stream",
     "text": [
      "INFO:root:Writing results to BQ from file ../uploads/origin_results.json\n"
     ]
    },
    {
     "name": "stdout",
     "output_type": "stream",
     "text": [
      "2019-01-31 22:15:52,690 - root - Writing results to BQ from file ../uploads/origin_results.json\n",
      "Successfully uploaded result time series for experiment 11556750451\n"
     ]
    },
    {
     "name": "stderr",
     "output_type": "stream",
     "text": [
      "INFO:root:Writing results to BQ from file ../uploads/origin_results.json\n"
     ]
    },
    {
     "name": "stdout",
     "output_type": "stream",
     "text": [
      "2019-01-31 22:15:58,823 - root - Writing results to BQ from file ../uploads/origin_results.json\n",
      "Successfully uploaded result time series for experiment 11562826019\n"
     ]
    },
    {
     "name": "stderr",
     "output_type": "stream",
     "text": [
      "INFO:root:Writing results to BQ from file ../uploads/origin_results.json\n"
     ]
    },
    {
     "name": "stdout",
     "output_type": "stream",
     "text": [
      "2019-01-31 22:16:05,409 - root - Writing results to BQ from file ../uploads/origin_results.json\n",
      "Successfully uploaded result time series for experiment 11570380944\n"
     ]
    },
    {
     "name": "stderr",
     "output_type": "stream",
     "text": [
      "INFO:root:Writing results to BQ from file ../uploads/origin_results.json\n"
     ]
    },
    {
     "name": "stdout",
     "output_type": "stream",
     "text": [
      "2019-01-31 22:16:13,496 - root - Writing results to BQ from file ../uploads/origin_results.json\n",
      "Successfully uploaded result time series for experiment 11657860282\n"
     ]
    },
    {
     "name": "stderr",
     "output_type": "stream",
     "text": [
      "INFO:root:Writing results to BQ from file ../uploads/origin_results.json\n"
     ]
    },
    {
     "name": "stdout",
     "output_type": "stream",
     "text": [
      "2019-01-31 22:16:21,887 - root - Writing results to BQ from file ../uploads/origin_results.json\n",
      "Successfully uploaded result time series for experiment 11713452853\n"
     ]
    },
    {
     "name": "stderr",
     "output_type": "stream",
     "text": [
      "INFO:root:Writing results to BQ from file ../uploads/origin_results.json\n"
     ]
    },
    {
     "name": "stdout",
     "output_type": "stream",
     "text": [
      "2019-01-31 22:16:30,256 - root - Writing results to BQ from file ../uploads/origin_results.json\n",
      "Successfully uploaded result time series for experiment 11720710615\n"
     ]
    },
    {
     "name": "stderr",
     "output_type": "stream",
     "text": [
      "INFO:root:Writing results to BQ from file ../uploads/origin_results.json\n"
     ]
    },
    {
     "name": "stdout",
     "output_type": "stream",
     "text": [
      "2019-01-31 22:16:39,480 - root - Writing results to BQ from file ../uploads/origin_results.json\n",
      "Successfully uploaded result time series for experiment 11722600722\n"
     ]
    },
    {
     "name": "stderr",
     "output_type": "stream",
     "text": [
      "INFO:root:Writing results to BQ from file ../uploads/origin_results.json\n"
     ]
    },
    {
     "name": "stdout",
     "output_type": "stream",
     "text": [
      "2019-01-31 22:16:47,277 - root - Writing results to BQ from file ../uploads/origin_results.json\n",
      "Successfully uploaded result time series for experiment 12016386767\n"
     ]
    },
    {
     "name": "stderr",
     "output_type": "stream",
     "text": [
      "INFO:root:Writing results to BQ from file ../uploads/origin_results.json\n"
     ]
    },
    {
     "name": "stdout",
     "output_type": "stream",
     "text": [
      "2019-01-31 22:16:54,276 - root - Writing results to BQ from file ../uploads/origin_results.json\n",
      "Successfully uploaded result time series for experiment 12096030597\n"
     ]
    },
    {
     "name": "stderr",
     "output_type": "stream",
     "text": [
      "INFO:root:Writing results to BQ from file ../uploads/origin_results.json\n"
     ]
    },
    {
     "name": "stdout",
     "output_type": "stream",
     "text": [
      "2019-01-31 22:17:00,811 - root - Writing results to BQ from file ../uploads/origin_results.json\n",
      "Successfully uploaded result time series for experiment 12117040288\n"
     ]
    },
    {
     "name": "stderr",
     "output_type": "stream",
     "text": [
      "INFO:root:Writing results to BQ from file ../uploads/origin_results.json\n"
     ]
    },
    {
     "name": "stdout",
     "output_type": "stream",
     "text": [
      "2019-01-31 22:17:08,666 - root - Writing results to BQ from file ../uploads/origin_results.json\n",
      "Successfully uploaded result time series for experiment 12132980378\n"
     ]
    },
    {
     "name": "stderr",
     "output_type": "stream",
     "text": [
      "INFO:root:Writing results to BQ from file ../uploads/origin_results.json\n"
     ]
    },
    {
     "name": "stdout",
     "output_type": "stream",
     "text": [
      "2019-01-31 22:17:17,275 - root - Writing results to BQ from file ../uploads/origin_results.json\n",
      "Successfully uploaded result time series for experiment 12166698246\n"
     ]
    },
    {
     "name": "stderr",
     "output_type": "stream",
     "text": [
      "INFO:root:Writing results to BQ from file ../uploads/origin_results.json\n"
     ]
    },
    {
     "name": "stdout",
     "output_type": "stream",
     "text": [
      "2019-01-31 22:17:23,940 - root - Writing results to BQ from file ../uploads/origin_results.json\n",
      "Successfully uploaded result time series for experiment 12169545706\n"
     ]
    },
    {
     "name": "stderr",
     "output_type": "stream",
     "text": [
      "INFO:root:Writing results to BQ from file ../uploads/origin_results.json\n"
     ]
    },
    {
     "name": "stdout",
     "output_type": "stream",
     "text": [
      "2019-01-31 22:17:34,272 - root - Writing results to BQ from file ../uploads/origin_results.json\n",
      "Successfully uploaded result time series for experiment 12239002639\n"
     ]
    },
    {
     "name": "stderr",
     "output_type": "stream",
     "text": [
      "INFO:root:Writing results to BQ from file ../uploads/origin_results.json\n"
     ]
    },
    {
     "name": "stdout",
     "output_type": "stream",
     "text": [
      "2019-01-31 22:17:40,206 - root - Writing results to BQ from file ../uploads/origin_results.json\n",
      "Successfully uploaded result time series for experiment 12240020740\n"
     ]
    },
    {
     "name": "stderr",
     "output_type": "stream",
     "text": [
      "INFO:root:Writing results to BQ from file ../uploads/origin_results.json\n"
     ]
    },
    {
     "name": "stdout",
     "output_type": "stream",
     "text": [
      "2019-01-31 22:17:47,493 - root - Writing results to BQ from file ../uploads/origin_results.json\n",
      "Successfully uploaded result time series for experiment 12275901710\n"
     ]
    },
    {
     "name": "stderr",
     "output_type": "stream",
     "text": [
      "INFO:root:Writing results to BQ from file ../uploads/origin_results.json\n"
     ]
    },
    {
     "name": "stdout",
     "output_type": "stream",
     "text": [
      "2019-01-31 22:17:53,336 - root - Writing results to BQ from file ../uploads/origin_results.json\n",
      "Successfully uploaded result time series for experiment 12337280003\n"
     ]
    },
    {
     "name": "stderr",
     "output_type": "stream",
     "text": [
      "INFO:root:Writing results to BQ from file ../uploads/origin_results.json\n"
     ]
    },
    {
     "name": "stdout",
     "output_type": "stream",
     "text": [
      "2019-01-31 22:18:01,111 - root - Writing results to BQ from file ../uploads/origin_results.json\n",
      "Successfully uploaded result time series for experiment 12850290083\n"
     ]
    },
    {
     "name": "stderr",
     "output_type": "stream",
     "text": [
      "INFO:root:Writing results to BQ from file ../uploads/origin_results.json\n"
     ]
    },
    {
     "name": "stdout",
     "output_type": "stream",
     "text": [
      "2019-01-31 22:18:07,165 - root - Writing results to BQ from file ../uploads/origin_results.json\n",
      "Successfully uploaded result time series for experiment 12903040293\n"
     ]
    },
    {
     "name": "stderr",
     "output_type": "stream",
     "text": [
      "INFO:root:Writing results to BQ from file ../uploads/origin_results.json\n"
     ]
    },
    {
     "name": "stdout",
     "output_type": "stream",
     "text": [
      "2019-01-31 22:18:13,302 - root - Writing results to BQ from file ../uploads/origin_results.json\n",
      "Successfully uploaded result time series for experiment 13026380185\n"
     ]
    },
    {
     "name": "stderr",
     "output_type": "stream",
     "text": [
      "INFO:root:Writing results to BQ from file ../uploads/origin_results.json\n"
     ]
    },
    {
     "name": "stdout",
     "output_type": "stream",
     "text": [
      "2019-01-31 22:18:21,487 - root - Writing results to BQ from file ../uploads/origin_results.json\n",
      "Successfully uploaded result time series for experiment 13026390548\n"
     ]
    },
    {
     "name": "stderr",
     "output_type": "stream",
     "text": [
      "INFO:root:Writing results to BQ from file ../uploads/origin_results.json\n"
     ]
    },
    {
     "name": "stdout",
     "output_type": "stream",
     "text": [
      "2019-01-31 22:18:27,424 - root - Writing results to BQ from file ../uploads/origin_results.json\n",
      "Successfully uploaded result time series for experiment 11377370874\n"
     ]
    },
    {
     "name": "stderr",
     "output_type": "stream",
     "text": [
      "INFO:root:Writing results to BQ from file ../uploads/origin_results.json\n"
     ]
    },
    {
     "name": "stdout",
     "output_type": "stream",
     "text": [
      "2019-01-31 22:18:37,580 - root - Writing results to BQ from file ../uploads/origin_results.json\n",
      "Successfully uploaded result time series for experiment 12107582952\n"
     ]
    },
    {
     "name": "stderr",
     "output_type": "stream",
     "text": [
      "INFO:root:Writing results to BQ from file ../uploads/origin_results.json\n"
     ]
    },
    {
     "name": "stdout",
     "output_type": "stream",
     "text": [
      "2019-01-31 22:18:43,187 - root - Writing results to BQ from file ../uploads/origin_results.json\n",
      "Successfully uploaded result time series for experiment 12632940119\n"
     ]
    },
    {
     "name": "stderr",
     "output_type": "stream",
     "text": [
      "INFO:root:Writing results to BQ from file ../uploads/origin_results.json\n"
     ]
    },
    {
     "name": "stdout",
     "output_type": "stream",
     "text": [
      "2019-01-31 22:18:49,751 - root - Writing results to BQ from file ../uploads/origin_results.json\n",
      "Successfully uploaded result time series for experiment 12722820205\n"
     ]
    },
    {
     "name": "stderr",
     "output_type": "stream",
     "text": [
      "INFO:root:Writing results to BQ from file ../uploads/origin_results.json\n"
     ]
    },
    {
     "name": "stdout",
     "output_type": "stream",
     "text": [
      "2019-01-31 22:18:57,015 - root - Writing results to BQ from file ../uploads/origin_results.json\n",
      "Successfully uploaded result time series for experiment 12743540432\n"
     ]
    },
    {
     "name": "stderr",
     "output_type": "stream",
     "text": [
      "INFO:root:Writing results to BQ from file ../uploads/origin_results.json\n"
     ]
    },
    {
     "name": "stdout",
     "output_type": "stream",
     "text": [
      "2019-01-31 22:19:03,870 - root - Writing results to BQ from file ../uploads/origin_results.json\n",
      "Successfully uploaded result time series for experiment 12746930280\n"
     ]
    },
    {
     "name": "stderr",
     "output_type": "stream",
     "text": [
      "INFO:root:Writing results to BQ from file ../uploads/origin_results.json\n"
     ]
    },
    {
     "name": "stdout",
     "output_type": "stream",
     "text": [
      "2019-01-31 22:19:10,639 - root - Writing results to BQ from file ../uploads/origin_results.json\n",
      "Successfully uploaded result time series for experiment 10702922345\n"
     ]
    },
    {
     "name": "stderr",
     "output_type": "stream",
     "text": [
      "INFO:root:Writing results to BQ from file ../uploads/origin_results.json\n"
     ]
    },
    {
     "name": "stdout",
     "output_type": "stream",
     "text": [
      "2019-01-31 22:19:17,993 - root - Writing results to BQ from file ../uploads/origin_results.json\n",
      "Successfully uploaded result time series for experiment 10731441129\n"
     ]
    },
    {
     "name": "stderr",
     "output_type": "stream",
     "text": [
      "INFO:root:Writing results to BQ from file ../uploads/origin_results.json\n"
     ]
    },
    {
     "name": "stdout",
     "output_type": "stream",
     "text": [
      "2019-01-31 22:19:26,003 - root - Writing results to BQ from file ../uploads/origin_results.json\n",
      "Successfully uploaded result time series for experiment 10758540726\n"
     ]
    },
    {
     "name": "stderr",
     "output_type": "stream",
     "text": [
      "INFO:root:Writing results to BQ from file ../uploads/origin_results.json\n"
     ]
    },
    {
     "name": "stdout",
     "output_type": "stream",
     "text": [
      "2019-01-31 22:19:34,415 - root - Writing results to BQ from file ../uploads/origin_results.json\n",
      "Successfully uploaded result time series for experiment 10798551869\n"
     ]
    },
    {
     "name": "stderr",
     "output_type": "stream",
     "text": [
      "INFO:root:Writing results to BQ from file ../uploads/origin_results.json\n"
     ]
    },
    {
     "name": "stdout",
     "output_type": "stream",
     "text": [
      "2019-01-31 22:19:42,279 - root - Writing results to BQ from file ../uploads/origin_results.json\n",
      "Successfully uploaded result time series for experiment 10799420505\n"
     ]
    },
    {
     "name": "stderr",
     "output_type": "stream",
     "text": [
      "INFO:root:Writing results to BQ from file ../uploads/origin_results.json\n"
     ]
    },
    {
     "name": "stdout",
     "output_type": "stream",
     "text": [
      "2019-01-31 22:19:48,849 - root - Writing results to BQ from file ../uploads/origin_results.json\n",
      "Successfully uploaded result time series for experiment 10801250617\n"
     ]
    },
    {
     "name": "stderr",
     "output_type": "stream",
     "text": [
      "INFO:root:Writing results to BQ from file ../uploads/origin_results.json\n"
     ]
    },
    {
     "name": "stdout",
     "output_type": "stream",
     "text": [
      "2019-01-31 22:19:57,438 - root - Writing results to BQ from file ../uploads/origin_results.json\n",
      "Successfully uploaded result time series for experiment 10801721220\n"
     ]
    },
    {
     "name": "stderr",
     "output_type": "stream",
     "text": [
      "INFO:root:Writing results to BQ from file ../uploads/origin_results.json\n"
     ]
    },
    {
     "name": "stdout",
     "output_type": "stream",
     "text": [
      "2019-01-31 22:20:06,260 - root - Writing results to BQ from file ../uploads/origin_results.json\n",
      "Successfully uploaded result time series for experiment 10803332939\n"
     ]
    },
    {
     "name": "stderr",
     "output_type": "stream",
     "text": [
      "INFO:root:Writing results to BQ from file ../uploads/origin_results.json\n"
     ]
    },
    {
     "name": "stdout",
     "output_type": "stream",
     "text": [
      "2019-01-31 22:20:12,782 - root - Writing results to BQ from file ../uploads/origin_results.json\n",
      "Successfully uploaded result time series for experiment 10852321017\n"
     ]
    },
    {
     "name": "stderr",
     "output_type": "stream",
     "text": [
      "INFO:root:Writing results to BQ from file ../uploads/origin_results.json\n"
     ]
    },
    {
     "name": "stdout",
     "output_type": "stream",
     "text": [
      "2019-01-31 22:20:18,741 - root - Writing results to BQ from file ../uploads/origin_results.json\n",
      "Successfully uploaded result time series for experiment 10856511191\n"
     ]
    },
    {
     "name": "stderr",
     "output_type": "stream",
     "text": [
      "INFO:root:Writing results to BQ from file ../uploads/origin_results.json\n"
     ]
    },
    {
     "name": "stdout",
     "output_type": "stream",
     "text": [
      "2019-01-31 22:20:24,506 - root - Writing results to BQ from file ../uploads/origin_results.json\n",
      "Successfully uploaded result time series for experiment 10898400714\n"
     ]
    },
    {
     "name": "stderr",
     "output_type": "stream",
     "text": [
      "INFO:root:Writing results to BQ from file ../uploads/origin_results.json\n"
     ]
    },
    {
     "name": "stdout",
     "output_type": "stream",
     "text": [
      "2019-01-31 22:20:33,339 - root - Writing results to BQ from file ../uploads/origin_results.json\n",
      "Successfully uploaded result time series for experiment 10931942839\n"
     ]
    },
    {
     "name": "stderr",
     "output_type": "stream",
     "text": [
      "INFO:root:Writing results to BQ from file ../uploads/origin_results.json\n"
     ]
    },
    {
     "name": "stdout",
     "output_type": "stream",
     "text": [
      "2019-01-31 22:20:40,852 - root - Writing results to BQ from file ../uploads/origin_results.json\n",
      "Successfully uploaded result time series for experiment 11041487001\n"
     ]
    },
    {
     "name": "stderr",
     "output_type": "stream",
     "text": [
      "INFO:root:Writing results to BQ from file ../uploads/origin_results.json\n"
     ]
    },
    {
     "name": "stdout",
     "output_type": "stream",
     "text": [
      "2019-01-31 22:20:49,472 - root - Writing results to BQ from file ../uploads/origin_results.json\n",
      "Successfully uploaded result time series for experiment 11056280896\n"
     ]
    },
    {
     "name": "stderr",
     "output_type": "stream",
     "text": [
      "INFO:root:Writing results to BQ from file ../uploads/origin_results.json\n"
     ]
    },
    {
     "name": "stdout",
     "output_type": "stream",
     "text": [
      "2019-01-31 22:20:57,754 - root - Writing results to BQ from file ../uploads/origin_results.json\n",
      "Successfully uploaded result time series for experiment 11069055177\n"
     ]
    },
    {
     "name": "stderr",
     "output_type": "stream",
     "text": [
      "INFO:root:Writing results to BQ from file ../uploads/origin_results.json\n"
     ]
    },
    {
     "name": "stdout",
     "output_type": "stream",
     "text": [
      "2019-01-31 22:21:03,356 - root - Writing results to BQ from file ../uploads/origin_results.json\n",
      "Successfully uploaded result time series for experiment 11072573730\n"
     ]
    },
    {
     "name": "stderr",
     "output_type": "stream",
     "text": [
      "INFO:root:Writing results to BQ from file ../uploads/origin_results.json\n"
     ]
    },
    {
     "name": "stdout",
     "output_type": "stream",
     "text": [
      "2019-01-31 22:21:09,736 - root - Writing results to BQ from file ../uploads/origin_results.json\n",
      "Successfully uploaded result time series for experiment 11076630667\n"
     ]
    },
    {
     "name": "stderr",
     "output_type": "stream",
     "text": [
      "INFO:root:Writing results to BQ from file ../uploads/origin_results.json\n"
     ]
    },
    {
     "name": "stdout",
     "output_type": "stream",
     "text": [
      "2019-01-31 22:21:15,281 - root - Writing results to BQ from file ../uploads/origin_results.json\n",
      "Successfully uploaded result time series for experiment 11088880005\n"
     ]
    },
    {
     "name": "stderr",
     "output_type": "stream",
     "text": [
      "INFO:root:Writing results to BQ from file ../uploads/origin_results.json\n"
     ]
    },
    {
     "name": "stdout",
     "output_type": "stream",
     "text": [
      "2019-01-31 22:21:23,149 - root - Writing results to BQ from file ../uploads/origin_results.json\n",
      "Successfully uploaded result time series for experiment 11095671052\n"
     ]
    },
    {
     "name": "stderr",
     "output_type": "stream",
     "text": [
      "INFO:root:Writing results to BQ from file ../uploads/origin_results.json\n"
     ]
    },
    {
     "name": "stdout",
     "output_type": "stream",
     "text": [
      "2019-01-31 22:21:29,289 - root - Writing results to BQ from file ../uploads/origin_results.json\n",
      "Successfully uploaded result time series for experiment 11477653122\n"
     ]
    },
    {
     "name": "stderr",
     "output_type": "stream",
     "text": [
      "INFO:root:Writing results to BQ from file ../uploads/origin_results.json\n"
     ]
    },
    {
     "name": "stdout",
     "output_type": "stream",
     "text": [
      "2019-01-31 22:21:35,895 - root - Writing results to BQ from file ../uploads/origin_results.json\n",
      "Successfully uploaded result time series for experiment 11479333433\n"
     ]
    },
    {
     "name": "stderr",
     "output_type": "stream",
     "text": [
      "INFO:root:Writing results to BQ from file ../uploads/origin_results.json\n"
     ]
    },
    {
     "name": "stdout",
     "output_type": "stream",
     "text": [
      "2019-01-31 22:21:42,811 - root - Writing results to BQ from file ../uploads/origin_results.json\n",
      "Successfully uploaded result time series for experiment 11568940229\n"
     ]
    },
    {
     "name": "stderr",
     "output_type": "stream",
     "text": [
      "INFO:root:Writing results to BQ from file ../uploads/origin_results.json\n"
     ]
    },
    {
     "name": "stdout",
     "output_type": "stream",
     "text": [
      "2019-01-31 22:21:49,063 - root - Writing results to BQ from file ../uploads/origin_results.json\n",
      "Successfully uploaded result time series for experiment 12281101588\n"
     ]
    },
    {
     "name": "stderr",
     "output_type": "stream",
     "text": [
      "INFO:root:Writing results to BQ from file ../uploads/origin_results.json\n"
     ]
    },
    {
     "name": "stdout",
     "output_type": "stream",
     "text": [
      "2019-01-31 22:21:54,979 - root - Writing results to BQ from file ../uploads/origin_results.json\n",
      "Successfully uploaded result time series for experiment 12615470432\n"
     ]
    },
    {
     "name": "stderr",
     "output_type": "stream",
     "text": [
      "INFO:root:Writing results to BQ from file ../uploads/origin_results.json\n"
     ]
    },
    {
     "name": "stdout",
     "output_type": "stream",
     "text": [
      "2019-01-31 22:22:01,972 - root - Writing results to BQ from file ../uploads/origin_results.json\n",
      "Successfully uploaded result time series for experiment 12619380698\n"
     ]
    },
    {
     "name": "stderr",
     "output_type": "stream",
     "text": [
      "INFO:root:Writing results to BQ from file ../uploads/origin_results.json\n"
     ]
    },
    {
     "name": "stdout",
     "output_type": "stream",
     "text": [
      "2019-01-31 22:22:09,025 - root - Writing results to BQ from file ../uploads/origin_results.json\n",
      "Successfully uploaded result time series for experiment 12813120687\n"
     ]
    },
    {
     "name": "stderr",
     "output_type": "stream",
     "text": [
      "INFO:root:Writing results to BQ from file ../uploads/origin_results.json\n"
     ]
    },
    {
     "name": "stdout",
     "output_type": "stream",
     "text": [
      "2019-01-31 22:22:14,733 - root - Writing results to BQ from file ../uploads/origin_results.json\n",
      "Successfully uploaded result time series for experiment 12900000180\n"
     ]
    },
    {
     "name": "stderr",
     "output_type": "stream",
     "text": [
      "INFO:root:Writing results to BQ from file ../uploads/origin_results.json\n"
     ]
    },
    {
     "name": "stdout",
     "output_type": "stream",
     "text": [
      "2019-01-31 22:22:20,866 - root - Writing results to BQ from file ../uploads/origin_results.json\n",
      "Successfully uploaded result time series for experiment 10898650266\n"
     ]
    },
    {
     "name": "stderr",
     "output_type": "stream",
     "text": [
      "INFO:root:Writing results to BQ from file ../uploads/origin_results.json\n"
     ]
    },
    {
     "name": "stdout",
     "output_type": "stream",
     "text": [
      "2019-01-31 22:22:27,249 - root - Writing results to BQ from file ../uploads/origin_results.json\n",
      "Successfully uploaded result time series for experiment 11355070013\n"
     ]
    },
    {
     "name": "stderr",
     "output_type": "stream",
     "text": [
      "INFO:root:Writing results to BQ from file ../uploads/origin_results.json\n"
     ]
    },
    {
     "name": "stdout",
     "output_type": "stream",
     "text": [
      "2019-01-31 22:22:35,468 - root - Writing results to BQ from file ../uploads/origin_results.json\n",
      "Successfully uploaded result time series for experiment 11365136008\n"
     ]
    },
    {
     "name": "stderr",
     "output_type": "stream",
     "text": [
      "INFO:root:Writing results to BQ from file ../uploads/origin_results.json\n"
     ]
    },
    {
     "name": "stdout",
     "output_type": "stream",
     "text": [
      "2019-01-31 22:23:06,362 - root - Writing results to BQ from file ../uploads/origin_results.json\n",
      "Successfully uploaded result time series for experiment 11372936237\n"
     ]
    },
    {
     "name": "stderr",
     "output_type": "stream",
     "text": [
      "INFO:root:Writing results to BQ from file ../uploads/origin_results.json\n"
     ]
    },
    {
     "name": "stdout",
     "output_type": "stream",
     "text": [
      "2019-01-31 22:23:14,263 - root - Writing results to BQ from file ../uploads/origin_results.json\n",
      "Successfully uploaded result time series for experiment 11402551541\n"
     ]
    }
   ],
   "source": [
    "for experiment_id in experiment_id_list:\n",
    "        response_ts = requests.get(result_endpoint, headers=headers)\n",
    "\n",
    "        # if '' then the experiment has not started yet\n",
    "        if response_ts.text == '':\n",
    "            j_ts = {'experiment_id': experiment_id}\n",
    "        else:\n",
    "            j_ts = json.loads(response_ts.text)\n",
    "\n",
    "        new_j_ts = pope.fix_json_values(callback=fix_values, obj=j_ts, reset_key='results')\n",
    "\n",
    "        flattened_metrics = []\n",
    "        for metric in new_j_ts['metrics']:\n",
    "            for result in metric['results']:\n",
    "                for timeseries in result['timeseries']:\n",
    "                    new_dict = {}\n",
    "                    new_dict['aggregator'] = metric['aggregator']\n",
    "                    new_dict['event_id'] = metric['event_id']\n",
    "                    new_dict['name'] = metric['name']\n",
    "                    new_dict['scope'] = metric['scope']\n",
    "                    new_dict['winning_direction'] = metric['winning_direction']\n",
    "\n",
    "                    new_dict['result_is_baseline'] = result['is_baseline']\n",
    "                    new_dict['result_level'] = result['level']\n",
    "                    new_dict['result_name'] = result['name']\n",
    "                    new_dict['result_variation_id'] = result['variation_id']\n",
    "                    new_dict['result_id'] = result['results_id']\n",
    "                    \n",
    "                    new_dict['time_series_rate'] = timeseries['rate']\n",
    "                    new_dict['time_series_time'] = timeseries['time']\n",
    "                    new_dict['time_series_value'] = timeseries['value']\n",
    "                    new_dict['time_series_samples'] = timeseries['samples']\n",
    "                    new_dict['time_series_variance'] = timeseries['variance']\n",
    "\n",
    "                    flattened_metrics.append(new_dict)\n",
    "        new_j_ts['metrics'] = flattened_metrics\n",
    "\n",
    "        pope.write_to_json(file_name='../uploads/origin_results.json', jayson=[new_j_ts], mode='w')\n",
    "        pope.write_to_bq(table_name='results', file_name='../uploads/origin_results.json', append=True, ignore_unknown_values=False, bq_schema_autodetect=False)\n",
    "        print(f\"Successfully uploaded result time series for experiment {experiment_id}\")\n",
    "        "
   ]
  },
  {
   "cell_type": "code",
   "execution_count": null,
   "metadata": {},
   "outputs": [],
   "source": []
  }
 ],
 "metadata": {
  "kernelspec": {
   "display_name": "Python 3",
   "language": "python",
   "name": "python3"
  },
  "language_info": {
   "codemirror_mode": {
    "name": "ipython",
    "version": 3
   },
   "file_extension": ".py",
   "mimetype": "text/x-python",
   "name": "python",
   "nbconvert_exporter": "python",
   "pygments_lexer": "ipython3",
   "version": "3.6.4"
  }
 },
 "nbformat": 4,
 "nbformat_minor": 2
}
