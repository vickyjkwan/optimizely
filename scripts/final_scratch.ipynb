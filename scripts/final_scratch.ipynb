{
 "cells": [
  {
   "cell_type": "markdown",
   "metadata": {},
   "source": [
    "# main"
   ]
  },
  {
   "cell_type": "code",
   "execution_count": 1,
   "metadata": {},
   "outputs": [],
   "source": [
    "import json\n",
    "import requests\n",
    "import popelines\n",
    "import os\n",
    "from main import fix_values, populating_vals, flatten, flatten_dupe_vals\n",
    "from datetime import datetime"
   ]
  },
  {
   "cell_type": "code",
   "execution_count": 2,
   "metadata": {},
   "outputs": [],
   "source": [
    "def fix_values(value, key, reset_key):\n",
    "    if key == reset_key:\n",
    "        new_list = []\n",
    "        for x in value:\n",
    "            value[x][f'{reset_key}_id'] = x\n",
    "            new_list.append(value[x])\n",
    "        return new_list\n",
    "    else:\n",
    "        return value"
   ]
  },
  {
   "cell_type": "code",
   "execution_count": 3,
   "metadata": {},
   "outputs": [],
   "source": [
    "# read endpoint, returns a json file of the HTTP request\n",
    "def read_endpoint(endpoint, headers_set, params_set=None):\n",
    "    try:\n",
    "        response = requests.get(endpoint, headers=headers_set, params=params_set)\n",
    "        response_text = json.loads(response.text)\n",
    "        response.raise_for_status()\n",
    "\n",
    "    except requests.exceptions.HTTPError as err:\n",
    "        print(err)\n",
    "\n",
    "    return response_text"
   ]
  },
  {
   "cell_type": "code",
   "execution_count": 4,
   "metadata": {},
   "outputs": [],
   "source": [
    "# # generate all experiments given a project id\n",
    "# def generate_experiments(project_id, experiment_endpoint, experiment_headers, experiment_params):\n",
    "#     # get all experiments from one project\n",
    "#     j_exp = read_endpoint(endpoint=experiment_endpoint, headers_set=experiment_headers, params_set=experiment_params)\n",
    "\n",
    "#     # loop for all experiments in this project\n",
    "# #     experiment_id_list = []\n",
    "# #     upload_exp_list = []\n",
    "# #     for exp in j_exp:\n",
    "# #         exp['project_id'] = project_id\n",
    "# #         upload_exp_list.append(flatten(exp, {}, ''))\n",
    "# #         experiment_id_list.append(exp['id'])\n",
    "        \n",
    "#     return upload_exp_list, experiment_id_list"
   ]
  },
  {
   "cell_type": "code",
   "execution_count": 5,
   "metadata": {},
   "outputs": [],
   "source": [
    "# generate all projects within account\n",
    "def generate_projects(project_endpoint, project_headers):\n",
    "    # get all projects\n",
    "    j_proj = read_endpoint(endpoint=project_endpoint, headers_set=project_headers)\n",
    "\n",
    "    # store a list of project metadata\n",
    "    return j_proj"
   ]
  },
  {
   "cell_type": "markdown",
   "metadata": {},
   "source": [
    "# load all projects, get project_id's"
   ]
  },
  {
   "cell_type": "code",
   "execution_count": 6,
   "metadata": {},
   "outputs": [],
   "source": [
    "gbq_key = os.environ.get('GOOGLE_ACCOUNT_CREDENTIALS')\n",
    "pope = popelines.popeline(dataset_id='optimizely', service_key_file_loc=gbq_key, directory='.', verbose=False)\n",
    "\n",
    "# Optimizely parameters\n",
    "headers = {\n",
    "    'Authorization': 'Bearer 2:EWAWmaXb4TgtYVU2VvwoEF-9UbJxBahkiFh1633_Oc9nmju7iJis',\n",
    "    'Content-Type': 'application/json',\n",
    "}"
   ]
  },
  {
   "cell_type": "code",
   "execution_count": null,
   "metadata": {},
   "outputs": [],
   "source": [
    "project_endpoint = 'https://api.optimizely.com/v2/projects'"
   ]
  },
  {
   "cell_type": "code",
   "execution_count": null,
   "metadata": {},
   "outputs": [],
   "source": [
    "all_projects = generate_projects(project_endpoint, headers)"
   ]
  },
  {
   "cell_type": "code",
   "execution_count": null,
   "metadata": {},
   "outputs": [],
   "source": [
    "# pope.write_to_json(file_name='../uploads/projects.json', jayson=all_projects, mode='w')"
   ]
  },
  {
   "cell_type": "code",
   "execution_count": null,
   "metadata": {},
   "outputs": [],
   "source": [
    "# pope.write_to_bq(table_name='projects', file_name='../uploads/projects.json', append=True, ignore_unknown_values=False, bq_schema_autodetect=False)\n",
    "# print(\"Successfully uploaded all projects.\")"
   ]
  },
  {
   "cell_type": "code",
   "execution_count": null,
   "metadata": {},
   "outputs": [],
   "source": [
    "project_id_list = []\n",
    "for project in all_projects:\n",
    "    project_id_list.append((project['id']))"
   ]
  },
  {
   "cell_type": "code",
   "execution_count": null,
   "metadata": {},
   "outputs": [],
   "source": [
    "# project_id_list\n"
   ]
  },
  {
   "cell_type": "code",
   "execution_count": null,
   "metadata": {},
   "outputs": [],
   "source": [
    "# project_id_name = []\n",
    "# for project in all_projects:\n",
    "#     project_id_name.append((project['id'], project['name']))"
   ]
  },
  {
   "cell_type": "code",
   "execution_count": null,
   "metadata": {},
   "outputs": [],
   "source": [
    "# project_id_name"
   ]
  },
  {
   "cell_type": "markdown",
   "metadata": {},
   "source": [
    "# load experiments"
   ]
  },
  {
   "cell_type": "code",
   "execution_count": 7,
   "metadata": {},
   "outputs": [],
   "source": [
    "experiment_endpoint = 'https://api.optimizely.com/v2/experiments'\n"
   ]
  },
  {
   "cell_type": "code",
   "execution_count": 8,
   "metadata": {},
   "outputs": [],
   "source": [
    "# experiment_id_list = []\n",
    "# all_exp_list = []\n",
    "\n",
    "# for project_id in project_id_list:\n",
    "    # params include project_id (required) and experiments pulling per each request (default only 25)\n",
    "params = (\n",
    "    ('project_id', 10429921250),\n",
    "    ('per_page', 100),\n",
    ") \n"
   ]
  },
  {
   "cell_type": "code",
   "execution_count": 9,
   "metadata": {
    "scrolled": true
   },
   "outputs": [],
   "source": [
    "exp_list = read_endpoint(endpoint=experiment_endpoint, headers_set=headers, params_set=params)\n",
    "\n"
   ]
  },
  {
   "cell_type": "code",
   "execution_count": 10,
   "metadata": {},
   "outputs": [],
   "source": [
    "experiment_id_list = []"
   ]
  },
  {
   "cell_type": "code",
   "execution_count": 11,
   "metadata": {
    "scrolled": true
   },
   "outputs": [],
   "source": [
    "exp_id_list = []\n",
    "for exp in exp_list:\n",
    "    exp_id_list.append(exp['id'])"
   ]
  },
  {
   "cell_type": "code",
   "execution_count": 12,
   "metadata": {},
   "outputs": [],
   "source": [
    "experiment_id_list.extend(exp_id_list)"
   ]
  },
  {
   "cell_type": "code",
   "execution_count": 13,
   "metadata": {},
   "outputs": [],
   "source": [
    "new = []"
   ]
  },
  {
   "cell_type": "code",
   "execution_count": 14,
   "metadata": {},
   "outputs": [],
   "source": [
    "for e in exp_list:\n",
    "    if e['id'] == 12900000180:\n",
    "        new = e"
   ]
  },
  {
   "cell_type": "code",
   "execution_count": 15,
   "metadata": {},
   "outputs": [],
   "source": [
    "exp=new"
   ]
  },
  {
   "cell_type": "code",
   "execution_count": 16,
   "metadata": {},
   "outputs": [
    {
     "data": {
      "text/plain": [
       "[{'actions': [{'changes': [],\n",
       "    'page_id': 12913320166,\n",
       "    'share_link': 'https://www.infusionsoft.com/lp/pro?optimizely_token=55f79c78a70a14b39e50dfccbdd0bd18aae4d29f44bb23785ad20033d995fdde&optimizely_x=12899560202&optimizely_x_audiences=&optimizely_preview_layer_ids=12924840378&optimizely_snippet=s3-10429921250#modal_infusionsoft_pro_demo'}],\n",
       "  'archived': False,\n",
       "  'name': 'Original',\n",
       "  'status': 'active',\n",
       "  'variation_id': 12899560202,\n",
       "  'weight': 5000},\n",
       " {'actions': [{'changes': [{'async': False,\n",
       "      'attributes': {'html': '<div class=\"mktoFieldDescriptor\">\\n  <div class=\"mktoFieldWrap mktoRequiredField\">\\n    <label for=\"mktoForm_3200_Email\" class=\"\"></label>\\n    <div class=\"field-suggestion\">\\n      <input id=\"mktoForm_3200_Email\" name=\"Email\" placeholder=\"Email Address\" maxlength=\"255\" type=\"email\" class=\"\" required=\"required\">\\n      <div class=\"field-suggestion__dropdown\">&nbsp;</div>\\n    </div>\\n  </div>\\n</div>'},\n",
       "      'css': {},\n",
       "      'dependencies': [],\n",
       "      'id': '43966C04-848B-4BF6-9B7E-B3C227042BED',\n",
       "      'rearrange': {'insertSelector': '', 'operator': 'before'},\n",
       "      'selector': '#mktoForm_3200 > div:nth-of-type(4)',\n",
       "      'type': 'attribute'},\n",
       "     {'async': False,\n",
       "      'attributes': {'remove': True},\n",
       "      'css': {},\n",
       "      'dependencies': [],\n",
       "      'id': '3299A1B4-C1A2-448C-A773-250ED808B353',\n",
       "      'rearrange': {'insertSelector': '', 'operator': 'before'},\n",
       "      'selector': '.how-you-heard',\n",
       "      'type': 'attribute'},\n",
       "     {'async': False,\n",
       "      'attributes': {'style': 'background-image: url(\"data:image/png;base64,iVBORw0KGgoAAAANSUhEUgAAACAAAAAgCAYAAABzenr0AAAAAXNSR0IArs4c6QAAAfBJREFUWAntVk1OwkAUZkoDKza4Utm61iP0AqyIDXahN2BjwiHYGU+gizap4QDuegWN7lyCbMSlCQjU7yO0TOlAi6GwgJc0fT/fzPfmzet0crmD7HsFBAvQbrcrw+Gw5fu+AfOYvgylJ4TwCoVCs1ardYTruqfj8fgV5OUMSVVT93VdP9dAzpVvm5wJHZFbg2LQ2pEYOlZ/oiDvwNcsFoseY4PBwMCrhaeCJyKWZU37KOJcYdi27QdhcuuBIb073BvTNL8ln4NeeR6NRi/wxZKQcGurQs5oNhqLshzVTMBewW/LMU3TTNlO0ieTiStjYhUIyi6DAp0xbEdgTt+LE0aCKQw24U4llsCs4ZRJrYopB6RwqnpA1YQ5NGFZ1YQ41Z5S8IQQdP5laEBRJcD4Vj5DEsW2gE6s6g3d/YP/g+BDnT7GNi2qCjTwGd6riBzHaaCEd3Js01vwCPIbmWBRx1nwAN/1ov+/drgFWIlfKpVukyYihtgkXNp4mABK+1GtVr+SBhJDbBIubVw+Cd/TDgKO2DPiN3YUo6y/nDCNEIsqTKH1en2tcwA9FKEItyDi3aIh8Gl1sRrVnSDzNFDJT1bAy5xpOYGn5fP5JuL95ZjMIn1ya7j5dPGfv0A5eAnpZUY3n5jXcoec5J67D9q+VuAPM47D3XaSeL4AAAAASUVORK5CYII=\"); background-repeat: no-repeat; background-attachment: scroll; background-size: 16px 18px; background-position: 98% 50%;\\nmargin-bottom: 1rem;\\nheight: 3rem;'},\n",
       "      'css': {},\n",
       "      'dependencies': [],\n",
       "      'id': '691E8163-B93D-4E12-AA09-0DCCCDC4F0D7',\n",
       "      'rearrange': {'insertSelector': '', 'operator': 'before'},\n",
       "      'selector': '#mktoForm_3200_FirstName',\n",
       "      'type': 'attribute'},\n",
       "     {'async': False,\n",
       "      'attributes': {'style': 'margin-bottom: 1rem;\\nheight: 3rem;'},\n",
       "      'css': {},\n",
       "      'dependencies': [],\n",
       "      'id': '556F651E-F106-4054-8DC5-DE2693D2C49C',\n",
       "      'rearrange': {'insertSelector': '', 'operator': 'before'},\n",
       "      'selector': '#mktoForm_3200 > div:nth-of-type(3)',\n",
       "      'type': 'attribute'},\n",
       "     {'async': False,\n",
       "      'attributes': {'style': 'margin-bottom: 1rem;\\nheight: 3rem;'},\n",
       "      'css': {},\n",
       "      'dependencies': [],\n",
       "      'id': '3B38799A-B78D-4EAA-A082-5FDC416342D6',\n",
       "      'rearrange': {'insertSelector': '', 'operator': 'before'},\n",
       "      'selector': '#mktoForm_3200_Company',\n",
       "      'type': 'attribute'},\n",
       "     {'async': False,\n",
       "      'attributes': {'style': 'margin-bottom: 1rem;\\nheight: 3rem;'},\n",
       "      'css': {},\n",
       "      'dependencies': [],\n",
       "      'id': 'E4BC43EB-8CBC-4491-9E3B-C960A6158F93',\n",
       "      'rearrange': {'insertSelector': '', 'operator': 'before'},\n",
       "      'selector': '#mktoForm_3200_Phone',\n",
       "      'type': 'attribute'},\n",
       "     {'async': False,\n",
       "      'attributes': {'style': 'margin-bottom: 1rem;\\nheight: 3rem;'},\n",
       "      'css': {},\n",
       "      'dependencies': [],\n",
       "      'id': '105DF064-B6DA-4232-902C-9F8895DDA047',\n",
       "      'rearrange': {'insertSelector': '', 'operator': 'before'},\n",
       "      'selector': '#mktoForm_3200_Email',\n",
       "      'type': 'attribute'},\n",
       "     {'async': False,\n",
       "      'attributes': {'style': 'margin-bottom: 1rem;'},\n",
       "      'css': {},\n",
       "      'dependencies': [],\n",
       "      'id': 'B9B4F6F9-4B1A-4C7E-8CFE-65EC8658FC2C',\n",
       "      'rearrange': {'insertSelector': '', 'operator': 'before'},\n",
       "      'selector': '.field-suggestion',\n",
       "      'type': 'attribute'},\n",
       "     {'async': False,\n",
       "      'attributes': {'style': 'text-align: center;'},\n",
       "      'css': {},\n",
       "      'dependencies': [],\n",
       "      'id': '5A84C5F7-9B0D-4B1F-9E9F-8DEFCED5C9EA',\n",
       "      'rearrange': {'insertSelector': '', 'operator': 'before'},\n",
       "      'selector': 'div:nth-of-type(70)',\n",
       "      'type': 'attribute'},\n",
       "     {'async': False,\n",
       "      'attributes': {'remove': True},\n",
       "      'css': {},\n",
       "      'dependencies': [],\n",
       "      'id': '23503F2B-197E-44B2-9C72-5FE3DBAFF788',\n",
       "      'rearrange': {'insertSelector': '', 'operator': 'before'},\n",
       "      'selector': 'div:nth-of-type(5) label',\n",
       "      'type': 'attribute'},\n",
       "     {'async': False,\n",
       "      'attributes': {'remove': True},\n",
       "      'css': {},\n",
       "      'dependencies': [],\n",
       "      'id': 'CA52F0DB-FEC6-4B38-BCC9-066CC0E999FD',\n",
       "      'rearrange': {'insertSelector': '', 'operator': 'before'},\n",
       "      'selector': 'div:nth-of-type(2) label',\n",
       "      'type': 'attribute'},\n",
       "     {'async': False,\n",
       "      'attributes': {'remove': True},\n",
       "      'css': {},\n",
       "      'dependencies': [],\n",
       "      'id': '755D3710-5808-4FEA-BC0E-F4CE9D1A14C6',\n",
       "      'rearrange': {'insertSelector': '', 'operator': 'before'},\n",
       "      'selector': 'div:nth-of-type(6) label',\n",
       "      'type': 'attribute'},\n",
       "     {'async': False,\n",
       "      'attributes': {'html': '<div class=\"mktoFieldDescriptor\">\\n  <div class=\"mktoFieldWrap mktoRequiredField\">\\n \\n    <input id=\"mktoForm_3200_LastName\" name=\"LastName\" placeholder=\"Last Name\" maxlength=\"255\" type=\"text\" class=\"\" required=\"required\" style=\"\">\\n  </div>\\n</div>'},\n",
       "      'css': {},\n",
       "      'dependencies': [],\n",
       "      'id': '2D2D2D23-9A2C-4555-85D7-6FBBE309461E',\n",
       "      'rearrange': {'insertSelector': '', 'operator': 'before'},\n",
       "      'selector': '#mktoForm_3200 > div:nth-of-type(3)',\n",
       "      'type': 'attribute'},\n",
       "     {'async': False,\n",
       "      'attributes': {'style': 'max-width: 35rem;'},\n",
       "      'css': {},\n",
       "      'dependencies': [],\n",
       "      'id': '4E64589C-CC2C-45CE-8A36-888F7AD5E015',\n",
       "      'rearrange': {'insertSelector': '', 'operator': 'before'},\n",
       "      'selector': '#modal_infusionsoft_pro_demo',\n",
       "      'type': 'attribute'},\n",
       "     {'async': False,\n",
       "      'attributes': {'style': 'height: 3rem;'},\n",
       "      'css': {},\n",
       "      'dependencies': [],\n",
       "      'id': '0364022F-3C52-402C-BCC2-2D79E2A19813',\n",
       "      'rearrange': {'insertSelector': '', 'operator': 'before'},\n",
       "      'selector': '#mktoForm_3200_LastName',\n",
       "      'type': 'attribute'}],\n",
       "    'page_id': 12913320166,\n",
       "    'share_link': 'https://www.infusionsoft.com/lp/pro?optimizely_token=55f79c78a70a14b39e50dfccbdd0bd18aae4d29f44bb23785ad20033d995fdde&optimizely_x=12911410243&optimizely_x_audiences=&optimizely_preview_layer_ids=12924840378&optimizely_snippet=s3-10429921250#modal_infusionsoft_pro_demo'}],\n",
       "  'archived': False,\n",
       "  'name': 'Sanely designed form',\n",
       "  'status': 'active',\n",
       "  'variation_id': 12911410243,\n",
       "  'weight': 5000}]"
      ]
     },
     "execution_count": 16,
     "metadata": {},
     "output_type": "execute_result"
    }
   ],
   "source": [
    "exp['variations']"
   ]
  },
  {
   "cell_type": "markdown",
   "metadata": {},
   "source": [
    "# single layer table"
   ]
  },
  {
   "cell_type": "code",
   "execution_count": null,
   "metadata": {},
   "outputs": [],
   "source": [
    "all_singles = []\n",
    "nested_key_list = []\n",
    "for k,v in exp.items():\n",
    "    if isinstance(v, list):\n",
    "        nested_key_list.append(k)\n",
    "\n",
    "single_layer_experiment = {}    \n",
    "for k,v in exp.items():\n",
    "    if k not in nested_key_list:\n",
    "        k = k.replace('-', '_')\n",
    "        single_layer_experiment[k] = exp[k]\n",
    "single_layer_experiment['upload_ts'] = str(datetime.now())\n",
    "\n",
    "\n",
    "all_singles.append(flatten(single_layer_experiment, {}, ''))\n"
   ]
  },
  {
   "cell_type": "code",
   "execution_count": null,
   "metadata": {},
   "outputs": [],
   "source": [
    "all_singles"
   ]
  },
  {
   "cell_type": "markdown",
   "metadata": {},
   "source": [
    "# unnested metrics table"
   ]
  },
  {
   "cell_type": "code",
   "execution_count": null,
   "metadata": {
    "scrolled": true
   },
   "outputs": [],
   "source": [
    "metrics_table = []\n",
    "for exp in exp_list:\n",
    "    print(f\"Processing experiment {exp['id']}\")\n",
    "\n",
    "    # single layer fields:\n",
    "    nested_key_list = []\n",
    "    for k,v in exp.items():\n",
    "        if isinstance(v, list) or isinstance(v, dict):\n",
    "            nested_key_list.append(k)\n",
    "\n",
    "    single_layer_experiment = {}    \n",
    "    for k,v in exp.items():\n",
    "        if k not in nested_key_list:\n",
    "            k = k.replace('-', '_')\n",
    "            single_layer_experiment[k] = exp[k]\n",
    "    single_layer_experiment['upload_ts'] = str(datetime.now())\n",
    "\n",
    "    all_singles.append(flatten(single_layer_experiment, {}, ''))\n",
    "\n",
    "    # nested part into separate tables:\n",
    "    # metrics table:\n",
    "\n",
    "    flattened_metric = []\n",
    "    for element in exp['metrics']:\n",
    "        flattened_metric.append(element)\n",
    "\n",
    "    updated_metric = populating_vals(outer_dict=exp, inner_flattened_list=flattened_metric, destination_key='metrics')\n",
    "    new_flattened_metric = flatten_dupe_vals(vals=updated_metric, key='metrics')\n",
    "\n",
    "    metric_list = []\n",
    "    for metric in new_flattened_metric:\n",
    "        metric_dict = {}\n",
    "        metric_dict['metrics_aggregator'] = metric['metrics_aggregator']\n",
    "        if 'metrics_event_id' in metric.keys():\n",
    "            metric_dict['metrics_event_id'] = metric['metrics_event_id']\n",
    "        metric_dict['metrics_scope'] =  metric['metrics_scope']\n",
    "        metric_dict['metrics_winning_direction'] = metric['metrics_winning_direction']\n",
    "        metric_dict['experiment_id'] = exp['id']\n",
    "        metric_dict['upload_ts'] = str(datetime.now())\n",
    "        metric_list.append(metric_dict)\n",
    "        \n",
    "    metrics_table.extend(metric_list)\n",
    "    "
   ]
  },
  {
   "cell_type": "code",
   "execution_count": null,
   "metadata": {},
   "outputs": [],
   "source": [
    "# nested part into separate tables:\n",
    "# metrics table:\n",
    "\n",
    "flattened_metric = []\n",
    "for element in exp['metrics']:\n",
    "    flattened_metric.append(element)\n",
    "\n",
    "updated_metric = populating_vals(outer_dict=exp, inner_flattened_list=flattened_metric, destination_key='metrics')\n",
    "new_flattened_metric = flatten_dupe_vals(vals=updated_metric, key='metrics')\n",
    "\n",
    "metric_list = []\n",
    "for metric in new_flattened_metric:\n",
    "    metric_dict = {}\n",
    "    metric_dict['metrics_aggregator'] = metric['metrics_aggregator']\n",
    "    if 'metrics_event_id' in metric.keys():\n",
    "        metric_dict['metrics_event_id'] = metric['metrics_event_id']\n",
    "    metric_dict['metrics_scope'] =  metric['metrics_scope']\n",
    "    metric_dict['metrics_winning_direction'] = metric['metrics_winning_direction']\n",
    "    metric_dict['experiment_id'] = exp['id']\n",
    "    metric_dict['upload_ts'] = str(datetime.now())\n",
    "    metric_list.append(metric_dict)"
   ]
  },
  {
   "cell_type": "code",
   "execution_count": null,
   "metadata": {},
   "outputs": [],
   "source": [
    "metric_list"
   ]
  },
  {
   "cell_type": "markdown",
   "metadata": {},
   "source": [
    "# unnested variations table"
   ]
  },
  {
   "cell_type": "code",
   "execution_count": null,
   "metadata": {
    "scrolled": true
   },
   "outputs": [],
   "source": [
    "variations_table = []\n",
    "for exp in exp_list:\n",
    "    print(f\"Processing experiment {exp['id']}\")\n",
    "\n",
    "    variations = {}\n",
    "    # for exp in exp_list:\n",
    "\n",
    "    print(f\"Processing experiment {exp['id']}\")\n",
    "\n",
    "    variations['experiment_id'] = exp['id']\n",
    "    variations['variations'] = exp['variations']\n",
    "\n",
    "    flattened_variations = []\n",
    "\n",
    "    for var in exp['variations']:\n",
    "        flattened_actions = []\n",
    "        if len(var['actions']) > 0:\n",
    "            for action in var['actions']:\n",
    "                flattened_changes = []\n",
    "                for element in action['changes']:\n",
    "                    flattened_changes.append(element)\n",
    "                # Replace old 'changes' with new 'flattened_changes'\n",
    "                updated_changes = populating_vals(outer_dict=action, inner_flattened_list=flattened_changes, destination_key='changes')\n",
    "                new_flattened_changes = flatten_dupe_vals(vals=updated_changes, key='changes')\n",
    "\n",
    "                update_actions = populating_vals(outer_dict=var, inner_flattened_list=new_flattened_changes, destination_key='actions')\n",
    "                flat = flatten_dupe_vals(vals=update_actions, key='actions')\n",
    "                flattened_actions.extend(flat)\n",
    "\n",
    "        else:\n",
    "            other_flat = {}\n",
    "            for k,v in var.items():\n",
    "                if k != 'actions':\n",
    "                    other_flat['actions'] = []\n",
    "                    other_flat[k] = v\n",
    "            flat = [other_flat]\n",
    "            flattened_actions.extend(flat)\n",
    "\n",
    "        update_variations = populating_vals(outer_dict=variations, inner_flattened_list=flattened_actions, destination_key='variations')\n",
    "        flattened_variations.extend(flatten_dupe_vals(vals=update_variations, key='variations'))\n",
    "\n",
    "    variations_table.extend(flattened_variations)\n",
    "    \n",
    "    "
   ]
  },
  {
   "cell_type": "code",
   "execution_count": 17,
   "metadata": {
    "scrolled": true
   },
   "outputs": [
    {
     "name": "stdout",
     "output_type": "stream",
     "text": [
      "Processing experiment 12900000180\n"
     ]
    }
   ],
   "source": [
    "variations = {}\n",
    "# for exp in exp_list:\n",
    "\n",
    "print(f\"Processing experiment {exp['id']}\")\n",
    "\n",
    "variations['experiment_id'] = exp['id']\n",
    "variations['variations'] = exp['variations']\n",
    "\n"
   ]
  },
  {
   "cell_type": "code",
   "execution_count": 18,
   "metadata": {},
   "outputs": [
    {
     "data": {
      "text/plain": [
       "[{'actions': [{'changes': [],\n",
       "    'page_id': 12913320166,\n",
       "    'share_link': 'https://www.infusionsoft.com/lp/pro?optimizely_token=55f79c78a70a14b39e50dfccbdd0bd18aae4d29f44bb23785ad20033d995fdde&optimizely_x=12899560202&optimizely_x_audiences=&optimizely_preview_layer_ids=12924840378&optimizely_snippet=s3-10429921250#modal_infusionsoft_pro_demo'}],\n",
       "  'archived': False,\n",
       "  'name': 'Original',\n",
       "  'status': 'active',\n",
       "  'variation_id': 12899560202,\n",
       "  'weight': 5000},\n",
       " {'actions': [{'changes': [{'async': False,\n",
       "      'attributes': {'html': '<div class=\"mktoFieldDescriptor\">\\n  <div class=\"mktoFieldWrap mktoRequiredField\">\\n    <label for=\"mktoForm_3200_Email\" class=\"\"></label>\\n    <div class=\"field-suggestion\">\\n      <input id=\"mktoForm_3200_Email\" name=\"Email\" placeholder=\"Email Address\" maxlength=\"255\" type=\"email\" class=\"\" required=\"required\">\\n      <div class=\"field-suggestion__dropdown\">&nbsp;</div>\\n    </div>\\n  </div>\\n</div>'},\n",
       "      'css': {},\n",
       "      'dependencies': [],\n",
       "      'id': '43966C04-848B-4BF6-9B7E-B3C227042BED',\n",
       "      'rearrange': {'insertSelector': '', 'operator': 'before'},\n",
       "      'selector': '#mktoForm_3200 > div:nth-of-type(4)',\n",
       "      'type': 'attribute'},\n",
       "     {'async': False,\n",
       "      'attributes': {'remove': True},\n",
       "      'css': {},\n",
       "      'dependencies': [],\n",
       "      'id': '3299A1B4-C1A2-448C-A773-250ED808B353',\n",
       "      'rearrange': {'insertSelector': '', 'operator': 'before'},\n",
       "      'selector': '.how-you-heard',\n",
       "      'type': 'attribute'},\n",
       "     {'async': False,\n",
       "      'attributes': {'style': 'background-image: url(\"data:image/png;base64,iVBORw0KGgoAAAANSUhEUgAAACAAAAAgCAYAAABzenr0AAAAAXNSR0IArs4c6QAAAfBJREFUWAntVk1OwkAUZkoDKza4Utm61iP0AqyIDXahN2BjwiHYGU+gizap4QDuegWN7lyCbMSlCQjU7yO0TOlAi6GwgJc0fT/fzPfmzet0crmD7HsFBAvQbrcrw+Gw5fu+AfOYvgylJ4TwCoVCs1ardYTruqfj8fgV5OUMSVVT93VdP9dAzpVvm5wJHZFbg2LQ2pEYOlZ/oiDvwNcsFoseY4PBwMCrhaeCJyKWZU37KOJcYdi27QdhcuuBIb073BvTNL8ln4NeeR6NRi/wxZKQcGurQs5oNhqLshzVTMBewW/LMU3TTNlO0ieTiStjYhUIyi6DAp0xbEdgTt+LE0aCKQw24U4llsCs4ZRJrYopB6RwqnpA1YQ5NGFZ1YQ41Z5S8IQQdP5laEBRJcD4Vj5DEsW2gE6s6g3d/YP/g+BDnT7GNi2qCjTwGd6riBzHaaCEd3Js01vwCPIbmWBRx1nwAN/1ov+/drgFWIlfKpVukyYihtgkXNp4mABK+1GtVr+SBhJDbBIubVw+Cd/TDgKO2DPiN3YUo6y/nDCNEIsqTKH1en2tcwA9FKEItyDi3aIh8Gl1sRrVnSDzNFDJT1bAy5xpOYGn5fP5JuL95ZjMIn1ya7j5dPGfv0A5eAnpZUY3n5jXcoec5J67D9q+VuAPM47D3XaSeL4AAAAASUVORK5CYII=\"); background-repeat: no-repeat; background-attachment: scroll; background-size: 16px 18px; background-position: 98% 50%;\\nmargin-bottom: 1rem;\\nheight: 3rem;'},\n",
       "      'css': {},\n",
       "      'dependencies': [],\n",
       "      'id': '691E8163-B93D-4E12-AA09-0DCCCDC4F0D7',\n",
       "      'rearrange': {'insertSelector': '', 'operator': 'before'},\n",
       "      'selector': '#mktoForm_3200_FirstName',\n",
       "      'type': 'attribute'},\n",
       "     {'async': False,\n",
       "      'attributes': {'style': 'margin-bottom: 1rem;\\nheight: 3rem;'},\n",
       "      'css': {},\n",
       "      'dependencies': [],\n",
       "      'id': '556F651E-F106-4054-8DC5-DE2693D2C49C',\n",
       "      'rearrange': {'insertSelector': '', 'operator': 'before'},\n",
       "      'selector': '#mktoForm_3200 > div:nth-of-type(3)',\n",
       "      'type': 'attribute'},\n",
       "     {'async': False,\n",
       "      'attributes': {'style': 'margin-bottom: 1rem;\\nheight: 3rem;'},\n",
       "      'css': {},\n",
       "      'dependencies': [],\n",
       "      'id': '3B38799A-B78D-4EAA-A082-5FDC416342D6',\n",
       "      'rearrange': {'insertSelector': '', 'operator': 'before'},\n",
       "      'selector': '#mktoForm_3200_Company',\n",
       "      'type': 'attribute'},\n",
       "     {'async': False,\n",
       "      'attributes': {'style': 'margin-bottom: 1rem;\\nheight: 3rem;'},\n",
       "      'css': {},\n",
       "      'dependencies': [],\n",
       "      'id': 'E4BC43EB-8CBC-4491-9E3B-C960A6158F93',\n",
       "      'rearrange': {'insertSelector': '', 'operator': 'before'},\n",
       "      'selector': '#mktoForm_3200_Phone',\n",
       "      'type': 'attribute'},\n",
       "     {'async': False,\n",
       "      'attributes': {'style': 'margin-bottom: 1rem;\\nheight: 3rem;'},\n",
       "      'css': {},\n",
       "      'dependencies': [],\n",
       "      'id': '105DF064-B6DA-4232-902C-9F8895DDA047',\n",
       "      'rearrange': {'insertSelector': '', 'operator': 'before'},\n",
       "      'selector': '#mktoForm_3200_Email',\n",
       "      'type': 'attribute'},\n",
       "     {'async': False,\n",
       "      'attributes': {'style': 'margin-bottom: 1rem;'},\n",
       "      'css': {},\n",
       "      'dependencies': [],\n",
       "      'id': 'B9B4F6F9-4B1A-4C7E-8CFE-65EC8658FC2C',\n",
       "      'rearrange': {'insertSelector': '', 'operator': 'before'},\n",
       "      'selector': '.field-suggestion',\n",
       "      'type': 'attribute'},\n",
       "     {'async': False,\n",
       "      'attributes': {'style': 'text-align: center;'},\n",
       "      'css': {},\n",
       "      'dependencies': [],\n",
       "      'id': '5A84C5F7-9B0D-4B1F-9E9F-8DEFCED5C9EA',\n",
       "      'rearrange': {'insertSelector': '', 'operator': 'before'},\n",
       "      'selector': 'div:nth-of-type(70)',\n",
       "      'type': 'attribute'},\n",
       "     {'async': False,\n",
       "      'attributes': {'remove': True},\n",
       "      'css': {},\n",
       "      'dependencies': [],\n",
       "      'id': '23503F2B-197E-44B2-9C72-5FE3DBAFF788',\n",
       "      'rearrange': {'insertSelector': '', 'operator': 'before'},\n",
       "      'selector': 'div:nth-of-type(5) label',\n",
       "      'type': 'attribute'},\n",
       "     {'async': False,\n",
       "      'attributes': {'remove': True},\n",
       "      'css': {},\n",
       "      'dependencies': [],\n",
       "      'id': 'CA52F0DB-FEC6-4B38-BCC9-066CC0E999FD',\n",
       "      'rearrange': {'insertSelector': '', 'operator': 'before'},\n",
       "      'selector': 'div:nth-of-type(2) label',\n",
       "      'type': 'attribute'},\n",
       "     {'async': False,\n",
       "      'attributes': {'remove': True},\n",
       "      'css': {},\n",
       "      'dependencies': [],\n",
       "      'id': '755D3710-5808-4FEA-BC0E-F4CE9D1A14C6',\n",
       "      'rearrange': {'insertSelector': '', 'operator': 'before'},\n",
       "      'selector': 'div:nth-of-type(6) label',\n",
       "      'type': 'attribute'},\n",
       "     {'async': False,\n",
       "      'attributes': {'html': '<div class=\"mktoFieldDescriptor\">\\n  <div class=\"mktoFieldWrap mktoRequiredField\">\\n \\n    <input id=\"mktoForm_3200_LastName\" name=\"LastName\" placeholder=\"Last Name\" maxlength=\"255\" type=\"text\" class=\"\" required=\"required\" style=\"\">\\n  </div>\\n</div>'},\n",
       "      'css': {},\n",
       "      'dependencies': [],\n",
       "      'id': '2D2D2D23-9A2C-4555-85D7-6FBBE309461E',\n",
       "      'rearrange': {'insertSelector': '', 'operator': 'before'},\n",
       "      'selector': '#mktoForm_3200 > div:nth-of-type(3)',\n",
       "      'type': 'attribute'},\n",
       "     {'async': False,\n",
       "      'attributes': {'style': 'max-width: 35rem;'},\n",
       "      'css': {},\n",
       "      'dependencies': [],\n",
       "      'id': '4E64589C-CC2C-45CE-8A36-888F7AD5E015',\n",
       "      'rearrange': {'insertSelector': '', 'operator': 'before'},\n",
       "      'selector': '#modal_infusionsoft_pro_demo',\n",
       "      'type': 'attribute'},\n",
       "     {'async': False,\n",
       "      'attributes': {'style': 'height: 3rem;'},\n",
       "      'css': {},\n",
       "      'dependencies': [],\n",
       "      'id': '0364022F-3C52-402C-BCC2-2D79E2A19813',\n",
       "      'rearrange': {'insertSelector': '', 'operator': 'before'},\n",
       "      'selector': '#mktoForm_3200_LastName',\n",
       "      'type': 'attribute'}],\n",
       "    'page_id': 12913320166,\n",
       "    'share_link': 'https://www.infusionsoft.com/lp/pro?optimizely_token=55f79c78a70a14b39e50dfccbdd0bd18aae4d29f44bb23785ad20033d995fdde&optimizely_x=12911410243&optimizely_x_audiences=&optimizely_preview_layer_ids=12924840378&optimizely_snippet=s3-10429921250#modal_infusionsoft_pro_demo'}],\n",
       "  'archived': False,\n",
       "  'name': 'Sanely designed form',\n",
       "  'status': 'active',\n",
       "  'variation_id': 12911410243,\n",
       "  'weight': 5000}]"
      ]
     },
     "execution_count": 18,
     "metadata": {},
     "output_type": "execute_result"
    }
   ],
   "source": [
    "exp['variations']"
   ]
  },
  {
   "cell_type": "code",
   "execution_count": 28,
   "metadata": {},
   "outputs": [],
   "source": [
    "flattened_variations = []\n",
    "\n",
    "for var in exp['variations']:\n",
    "    flattened_actions = []\n",
    "\n",
    "    if len(var['actions']) > 0:\n",
    "        \n",
    "        for action in var['actions']:\n",
    "            \n",
    "            flattened_changes = []\n",
    "            \n",
    "            if action['changes'] != []:\n",
    "                for element in action['changes']:\n",
    "                    flattened_changes.append(element)\n",
    "                # Replace old 'changes' with new 'flattened_changes'\n",
    "                updated_changes = populating_vals(outer_dict=action, inner_flattened_list=flattened_changes, destination_key='changes')\n",
    "                new_flattened_changes = flatten_dupe_vals(vals=updated_changes, key='changes')\n",
    "\n",
    "                update_actions = populating_vals(outer_dict=var, inner_flattened_list=new_flattened_changes, destination_key='actions')\n",
    "                flat = flatten_dupe_vals(vals=update_actions, key='actions')\n",
    "                flattened_actions.extend(flat)\n",
    "                \n",
    "            else:\n",
    "                new_actions = flatten_dupe_vals(vals=var, key='actions')\n",
    "                flattened_actions.extend(new_actions)\n",
    "\n",
    "\n",
    "    update_variations = populating_vals(outer_dict=variations, inner_flattened_list=flattened_actions, destination_key='variations')\n",
    "    flattened_variations.extend(flatten_dupe_vals(vals=update_variations, key='variations'))\n",
    "\n",
    "    \n",
    "    "
   ]
  },
  {
   "cell_type": "code",
   "execution_count": 31,
   "metadata": {},
   "outputs": [
    {
     "data": {
      "text/plain": [
       "[{'experiment_id': 12900000180,\n",
       "  'variations_actions_page_id': 12913320166,\n",
       "  'variations_actions_share_link': 'https://www.infusionsoft.com/lp/pro?optimizely_token=55f79c78a70a14b39e50dfccbdd0bd18aae4d29f44bb23785ad20033d995fdde&optimizely_x=12899560202&optimizely_x_audiences=&optimizely_preview_layer_ids=12924840378&optimizely_snippet=s3-10429921250#modal_infusionsoft_pro_demo',\n",
       "  'variations_archived': False,\n",
       "  'variations_name': 'Original',\n",
       "  'variations_status': 'active',\n",
       "  'variations_variation_id': 12899560202,\n",
       "  'variations_weight': 5000},\n",
       " {'experiment_id': 12900000180,\n",
       "  'variations_actions_changes_async': False,\n",
       "  'variations_actions_changes_attributes_html': '<div class=\"mktoFieldDescriptor\">\\n  <div class=\"mktoFieldWrap mktoRequiredField\">\\n    <label for=\"mktoForm_3200_Email\" class=\"\"></label>\\n    <div class=\"field-suggestion\">\\n      <input id=\"mktoForm_3200_Email\" name=\"Email\" placeholder=\"Email Address\" maxlength=\"255\" type=\"email\" class=\"\" required=\"required\">\\n      <div class=\"field-suggestion__dropdown\">&nbsp;</div>\\n    </div>\\n  </div>\\n</div>',\n",
       "  'variations_actions_changes_id': '43966C04-848B-4BF6-9B7E-B3C227042BED',\n",
       "  'variations_actions_changes_rearrange_insertSelector': '',\n",
       "  'variations_actions_changes_rearrange_operator': 'before',\n",
       "  'variations_actions_changes_selector': '#mktoForm_3200 > div:nth-of-type(4)',\n",
       "  'variations_actions_changes_type': 'attribute',\n",
       "  'variations_actions_page_id': 12913320166,\n",
       "  'variations_actions_share_link': 'https://www.infusionsoft.com/lp/pro?optimizely_token=55f79c78a70a14b39e50dfccbdd0bd18aae4d29f44bb23785ad20033d995fdde&optimizely_x=12911410243&optimizely_x_audiences=&optimizely_preview_layer_ids=12924840378&optimizely_snippet=s3-10429921250#modal_infusionsoft_pro_demo',\n",
       "  'variations_archived': False,\n",
       "  'variations_name': 'Sanely designed form',\n",
       "  'variations_status': 'active',\n",
       "  'variations_variation_id': 12911410243,\n",
       "  'variations_weight': 5000},\n",
       " {'experiment_id': 12900000180,\n",
       "  'variations_actions_changes_async': False,\n",
       "  'variations_actions_changes_attributes_remove': True,\n",
       "  'variations_actions_changes_id': '3299A1B4-C1A2-448C-A773-250ED808B353',\n",
       "  'variations_actions_changes_rearrange_insertSelector': '',\n",
       "  'variations_actions_changes_rearrange_operator': 'before',\n",
       "  'variations_actions_changes_selector': '.how-you-heard',\n",
       "  'variations_actions_changes_type': 'attribute',\n",
       "  'variations_actions_page_id': 12913320166,\n",
       "  'variations_actions_share_link': 'https://www.infusionsoft.com/lp/pro?optimizely_token=55f79c78a70a14b39e50dfccbdd0bd18aae4d29f44bb23785ad20033d995fdde&optimizely_x=12911410243&optimizely_x_audiences=&optimizely_preview_layer_ids=12924840378&optimizely_snippet=s3-10429921250#modal_infusionsoft_pro_demo',\n",
       "  'variations_archived': False,\n",
       "  'variations_name': 'Sanely designed form',\n",
       "  'variations_status': 'active',\n",
       "  'variations_variation_id': 12911410243,\n",
       "  'variations_weight': 5000},\n",
       " {'experiment_id': 12900000180,\n",
       "  'variations_actions_changes_async': False,\n",
       "  'variations_actions_changes_attributes_style': 'background-image: url(\"data:image/png;base64,iVBORw0KGgoAAAANSUhEUgAAACAAAAAgCAYAAABzenr0AAAAAXNSR0IArs4c6QAAAfBJREFUWAntVk1OwkAUZkoDKza4Utm61iP0AqyIDXahN2BjwiHYGU+gizap4QDuegWN7lyCbMSlCQjU7yO0TOlAi6GwgJc0fT/fzPfmzet0crmD7HsFBAvQbrcrw+Gw5fu+AfOYvgylJ4TwCoVCs1ardYTruqfj8fgV5OUMSVVT93VdP9dAzpVvm5wJHZFbg2LQ2pEYOlZ/oiDvwNcsFoseY4PBwMCrhaeCJyKWZU37KOJcYdi27QdhcuuBIb073BvTNL8ln4NeeR6NRi/wxZKQcGurQs5oNhqLshzVTMBewW/LMU3TTNlO0ieTiStjYhUIyi6DAp0xbEdgTt+LE0aCKQw24U4llsCs4ZRJrYopB6RwqnpA1YQ5NGFZ1YQ41Z5S8IQQdP5laEBRJcD4Vj5DEsW2gE6s6g3d/YP/g+BDnT7GNi2qCjTwGd6riBzHaaCEd3Js01vwCPIbmWBRx1nwAN/1ov+/drgFWIlfKpVukyYihtgkXNp4mABK+1GtVr+SBhJDbBIubVw+Cd/TDgKO2DPiN3YUo6y/nDCNEIsqTKH1en2tcwA9FKEItyDi3aIh8Gl1sRrVnSDzNFDJT1bAy5xpOYGn5fP5JuL95ZjMIn1ya7j5dPGfv0A5eAnpZUY3n5jXcoec5J67D9q+VuAPM47D3XaSeL4AAAAASUVORK5CYII=\"); background-repeat: no-repeat; background-attachment: scroll; background-size: 16px 18px; background-position: 98% 50%;\\nmargin-bottom: 1rem;\\nheight: 3rem;',\n",
       "  'variations_actions_changes_id': '691E8163-B93D-4E12-AA09-0DCCCDC4F0D7',\n",
       "  'variations_actions_changes_rearrange_insertSelector': '',\n",
       "  'variations_actions_changes_rearrange_operator': 'before',\n",
       "  'variations_actions_changes_selector': '#mktoForm_3200_FirstName',\n",
       "  'variations_actions_changes_type': 'attribute',\n",
       "  'variations_actions_page_id': 12913320166,\n",
       "  'variations_actions_share_link': 'https://www.infusionsoft.com/lp/pro?optimizely_token=55f79c78a70a14b39e50dfccbdd0bd18aae4d29f44bb23785ad20033d995fdde&optimizely_x=12911410243&optimizely_x_audiences=&optimizely_preview_layer_ids=12924840378&optimizely_snippet=s3-10429921250#modal_infusionsoft_pro_demo',\n",
       "  'variations_archived': False,\n",
       "  'variations_name': 'Sanely designed form',\n",
       "  'variations_status': 'active',\n",
       "  'variations_variation_id': 12911410243,\n",
       "  'variations_weight': 5000},\n",
       " {'experiment_id': 12900000180,\n",
       "  'variations_actions_changes_async': False,\n",
       "  'variations_actions_changes_attributes_style': 'margin-bottom: 1rem;\\nheight: 3rem;',\n",
       "  'variations_actions_changes_id': '556F651E-F106-4054-8DC5-DE2693D2C49C',\n",
       "  'variations_actions_changes_rearrange_insertSelector': '',\n",
       "  'variations_actions_changes_rearrange_operator': 'before',\n",
       "  'variations_actions_changes_selector': '#mktoForm_3200 > div:nth-of-type(3)',\n",
       "  'variations_actions_changes_type': 'attribute',\n",
       "  'variations_actions_page_id': 12913320166,\n",
       "  'variations_actions_share_link': 'https://www.infusionsoft.com/lp/pro?optimizely_token=55f79c78a70a14b39e50dfccbdd0bd18aae4d29f44bb23785ad20033d995fdde&optimizely_x=12911410243&optimizely_x_audiences=&optimizely_preview_layer_ids=12924840378&optimizely_snippet=s3-10429921250#modal_infusionsoft_pro_demo',\n",
       "  'variations_archived': False,\n",
       "  'variations_name': 'Sanely designed form',\n",
       "  'variations_status': 'active',\n",
       "  'variations_variation_id': 12911410243,\n",
       "  'variations_weight': 5000},\n",
       " {'experiment_id': 12900000180,\n",
       "  'variations_actions_changes_async': False,\n",
       "  'variations_actions_changes_attributes_style': 'margin-bottom: 1rem;\\nheight: 3rem;',\n",
       "  'variations_actions_changes_id': '3B38799A-B78D-4EAA-A082-5FDC416342D6',\n",
       "  'variations_actions_changes_rearrange_insertSelector': '',\n",
       "  'variations_actions_changes_rearrange_operator': 'before',\n",
       "  'variations_actions_changes_selector': '#mktoForm_3200_Company',\n",
       "  'variations_actions_changes_type': 'attribute',\n",
       "  'variations_actions_page_id': 12913320166,\n",
       "  'variations_actions_share_link': 'https://www.infusionsoft.com/lp/pro?optimizely_token=55f79c78a70a14b39e50dfccbdd0bd18aae4d29f44bb23785ad20033d995fdde&optimizely_x=12911410243&optimizely_x_audiences=&optimizely_preview_layer_ids=12924840378&optimizely_snippet=s3-10429921250#modal_infusionsoft_pro_demo',\n",
       "  'variations_archived': False,\n",
       "  'variations_name': 'Sanely designed form',\n",
       "  'variations_status': 'active',\n",
       "  'variations_variation_id': 12911410243,\n",
       "  'variations_weight': 5000},\n",
       " {'experiment_id': 12900000180,\n",
       "  'variations_actions_changes_async': False,\n",
       "  'variations_actions_changes_attributes_style': 'margin-bottom: 1rem;\\nheight: 3rem;',\n",
       "  'variations_actions_changes_id': 'E4BC43EB-8CBC-4491-9E3B-C960A6158F93',\n",
       "  'variations_actions_changes_rearrange_insertSelector': '',\n",
       "  'variations_actions_changes_rearrange_operator': 'before',\n",
       "  'variations_actions_changes_selector': '#mktoForm_3200_Phone',\n",
       "  'variations_actions_changes_type': 'attribute',\n",
       "  'variations_actions_page_id': 12913320166,\n",
       "  'variations_actions_share_link': 'https://www.infusionsoft.com/lp/pro?optimizely_token=55f79c78a70a14b39e50dfccbdd0bd18aae4d29f44bb23785ad20033d995fdde&optimizely_x=12911410243&optimizely_x_audiences=&optimizely_preview_layer_ids=12924840378&optimizely_snippet=s3-10429921250#modal_infusionsoft_pro_demo',\n",
       "  'variations_archived': False,\n",
       "  'variations_name': 'Sanely designed form',\n",
       "  'variations_status': 'active',\n",
       "  'variations_variation_id': 12911410243,\n",
       "  'variations_weight': 5000},\n",
       " {'experiment_id': 12900000180,\n",
       "  'variations_actions_changes_async': False,\n",
       "  'variations_actions_changes_attributes_style': 'margin-bottom: 1rem;\\nheight: 3rem;',\n",
       "  'variations_actions_changes_id': '105DF064-B6DA-4232-902C-9F8895DDA047',\n",
       "  'variations_actions_changes_rearrange_insertSelector': '',\n",
       "  'variations_actions_changes_rearrange_operator': 'before',\n",
       "  'variations_actions_changes_selector': '#mktoForm_3200_Email',\n",
       "  'variations_actions_changes_type': 'attribute',\n",
       "  'variations_actions_page_id': 12913320166,\n",
       "  'variations_actions_share_link': 'https://www.infusionsoft.com/lp/pro?optimizely_token=55f79c78a70a14b39e50dfccbdd0bd18aae4d29f44bb23785ad20033d995fdde&optimizely_x=12911410243&optimizely_x_audiences=&optimizely_preview_layer_ids=12924840378&optimizely_snippet=s3-10429921250#modal_infusionsoft_pro_demo',\n",
       "  'variations_archived': False,\n",
       "  'variations_name': 'Sanely designed form',\n",
       "  'variations_status': 'active',\n",
       "  'variations_variation_id': 12911410243,\n",
       "  'variations_weight': 5000},\n",
       " {'experiment_id': 12900000180,\n",
       "  'variations_actions_changes_async': False,\n",
       "  'variations_actions_changes_attributes_style': 'margin-bottom: 1rem;',\n",
       "  'variations_actions_changes_id': 'B9B4F6F9-4B1A-4C7E-8CFE-65EC8658FC2C',\n",
       "  'variations_actions_changes_rearrange_insertSelector': '',\n",
       "  'variations_actions_changes_rearrange_operator': 'before',\n",
       "  'variations_actions_changes_selector': '.field-suggestion',\n",
       "  'variations_actions_changes_type': 'attribute',\n",
       "  'variations_actions_page_id': 12913320166,\n",
       "  'variations_actions_share_link': 'https://www.infusionsoft.com/lp/pro?optimizely_token=55f79c78a70a14b39e50dfccbdd0bd18aae4d29f44bb23785ad20033d995fdde&optimizely_x=12911410243&optimizely_x_audiences=&optimizely_preview_layer_ids=12924840378&optimizely_snippet=s3-10429921250#modal_infusionsoft_pro_demo',\n",
       "  'variations_archived': False,\n",
       "  'variations_name': 'Sanely designed form',\n",
       "  'variations_status': 'active',\n",
       "  'variations_variation_id': 12911410243,\n",
       "  'variations_weight': 5000},\n",
       " {'experiment_id': 12900000180,\n",
       "  'variations_actions_changes_async': False,\n",
       "  'variations_actions_changes_attributes_style': 'text-align: center;',\n",
       "  'variations_actions_changes_id': '5A84C5F7-9B0D-4B1F-9E9F-8DEFCED5C9EA',\n",
       "  'variations_actions_changes_rearrange_insertSelector': '',\n",
       "  'variations_actions_changes_rearrange_operator': 'before',\n",
       "  'variations_actions_changes_selector': 'div:nth-of-type(70)',\n",
       "  'variations_actions_changes_type': 'attribute',\n",
       "  'variations_actions_page_id': 12913320166,\n",
       "  'variations_actions_share_link': 'https://www.infusionsoft.com/lp/pro?optimizely_token=55f79c78a70a14b39e50dfccbdd0bd18aae4d29f44bb23785ad20033d995fdde&optimizely_x=12911410243&optimizely_x_audiences=&optimizely_preview_layer_ids=12924840378&optimizely_snippet=s3-10429921250#modal_infusionsoft_pro_demo',\n",
       "  'variations_archived': False,\n",
       "  'variations_name': 'Sanely designed form',\n",
       "  'variations_status': 'active',\n",
       "  'variations_variation_id': 12911410243,\n",
       "  'variations_weight': 5000},\n",
       " {'experiment_id': 12900000180,\n",
       "  'variations_actions_changes_async': False,\n",
       "  'variations_actions_changes_attributes_remove': True,\n",
       "  'variations_actions_changes_id': '23503F2B-197E-44B2-9C72-5FE3DBAFF788',\n",
       "  'variations_actions_changes_rearrange_insertSelector': '',\n",
       "  'variations_actions_changes_rearrange_operator': 'before',\n",
       "  'variations_actions_changes_selector': 'div:nth-of-type(5) label',\n",
       "  'variations_actions_changes_type': 'attribute',\n",
       "  'variations_actions_page_id': 12913320166,\n",
       "  'variations_actions_share_link': 'https://www.infusionsoft.com/lp/pro?optimizely_token=55f79c78a70a14b39e50dfccbdd0bd18aae4d29f44bb23785ad20033d995fdde&optimizely_x=12911410243&optimizely_x_audiences=&optimizely_preview_layer_ids=12924840378&optimizely_snippet=s3-10429921250#modal_infusionsoft_pro_demo',\n",
       "  'variations_archived': False,\n",
       "  'variations_name': 'Sanely designed form',\n",
       "  'variations_status': 'active',\n",
       "  'variations_variation_id': 12911410243,\n",
       "  'variations_weight': 5000},\n",
       " {'experiment_id': 12900000180,\n",
       "  'variations_actions_changes_async': False,\n",
       "  'variations_actions_changes_attributes_remove': True,\n",
       "  'variations_actions_changes_id': 'CA52F0DB-FEC6-4B38-BCC9-066CC0E999FD',\n",
       "  'variations_actions_changes_rearrange_insertSelector': '',\n",
       "  'variations_actions_changes_rearrange_operator': 'before',\n",
       "  'variations_actions_changes_selector': 'div:nth-of-type(2) label',\n",
       "  'variations_actions_changes_type': 'attribute',\n",
       "  'variations_actions_page_id': 12913320166,\n",
       "  'variations_actions_share_link': 'https://www.infusionsoft.com/lp/pro?optimizely_token=55f79c78a70a14b39e50dfccbdd0bd18aae4d29f44bb23785ad20033d995fdde&optimizely_x=12911410243&optimizely_x_audiences=&optimizely_preview_layer_ids=12924840378&optimizely_snippet=s3-10429921250#modal_infusionsoft_pro_demo',\n",
       "  'variations_archived': False,\n",
       "  'variations_name': 'Sanely designed form',\n",
       "  'variations_status': 'active',\n",
       "  'variations_variation_id': 12911410243,\n",
       "  'variations_weight': 5000},\n",
       " {'experiment_id': 12900000180,\n",
       "  'variations_actions_changes_async': False,\n",
       "  'variations_actions_changes_attributes_remove': True,\n",
       "  'variations_actions_changes_id': '755D3710-5808-4FEA-BC0E-F4CE9D1A14C6',\n",
       "  'variations_actions_changes_rearrange_insertSelector': '',\n",
       "  'variations_actions_changes_rearrange_operator': 'before',\n",
       "  'variations_actions_changes_selector': 'div:nth-of-type(6) label',\n",
       "  'variations_actions_changes_type': 'attribute',\n",
       "  'variations_actions_page_id': 12913320166,\n",
       "  'variations_actions_share_link': 'https://www.infusionsoft.com/lp/pro?optimizely_token=55f79c78a70a14b39e50dfccbdd0bd18aae4d29f44bb23785ad20033d995fdde&optimizely_x=12911410243&optimizely_x_audiences=&optimizely_preview_layer_ids=12924840378&optimizely_snippet=s3-10429921250#modal_infusionsoft_pro_demo',\n",
       "  'variations_archived': False,\n",
       "  'variations_name': 'Sanely designed form',\n",
       "  'variations_status': 'active',\n",
       "  'variations_variation_id': 12911410243,\n",
       "  'variations_weight': 5000},\n",
       " {'experiment_id': 12900000180,\n",
       "  'variations_actions_changes_async': False,\n",
       "  'variations_actions_changes_attributes_html': '<div class=\"mktoFieldDescriptor\">\\n  <div class=\"mktoFieldWrap mktoRequiredField\">\\n \\n    <input id=\"mktoForm_3200_LastName\" name=\"LastName\" placeholder=\"Last Name\" maxlength=\"255\" type=\"text\" class=\"\" required=\"required\" style=\"\">\\n  </div>\\n</div>',\n",
       "  'variations_actions_changes_id': '2D2D2D23-9A2C-4555-85D7-6FBBE309461E',\n",
       "  'variations_actions_changes_rearrange_insertSelector': '',\n",
       "  'variations_actions_changes_rearrange_operator': 'before',\n",
       "  'variations_actions_changes_selector': '#mktoForm_3200 > div:nth-of-type(3)',\n",
       "  'variations_actions_changes_type': 'attribute',\n",
       "  'variations_actions_page_id': 12913320166,\n",
       "  'variations_actions_share_link': 'https://www.infusionsoft.com/lp/pro?optimizely_token=55f79c78a70a14b39e50dfccbdd0bd18aae4d29f44bb23785ad20033d995fdde&optimizely_x=12911410243&optimizely_x_audiences=&optimizely_preview_layer_ids=12924840378&optimizely_snippet=s3-10429921250#modal_infusionsoft_pro_demo',\n",
       "  'variations_archived': False,\n",
       "  'variations_name': 'Sanely designed form',\n",
       "  'variations_status': 'active',\n",
       "  'variations_variation_id': 12911410243,\n",
       "  'variations_weight': 5000},\n",
       " {'experiment_id': 12900000180,\n",
       "  'variations_actions_changes_async': False,\n",
       "  'variations_actions_changes_attributes_style': 'max-width: 35rem;',\n",
       "  'variations_actions_changes_id': '4E64589C-CC2C-45CE-8A36-888F7AD5E015',\n",
       "  'variations_actions_changes_rearrange_insertSelector': '',\n",
       "  'variations_actions_changes_rearrange_operator': 'before',\n",
       "  'variations_actions_changes_selector': '#modal_infusionsoft_pro_demo',\n",
       "  'variations_actions_changes_type': 'attribute',\n",
       "  'variations_actions_page_id': 12913320166,\n",
       "  'variations_actions_share_link': 'https://www.infusionsoft.com/lp/pro?optimizely_token=55f79c78a70a14b39e50dfccbdd0bd18aae4d29f44bb23785ad20033d995fdde&optimizely_x=12911410243&optimizely_x_audiences=&optimizely_preview_layer_ids=12924840378&optimizely_snippet=s3-10429921250#modal_infusionsoft_pro_demo',\n",
       "  'variations_archived': False,\n",
       "  'variations_name': 'Sanely designed form',\n",
       "  'variations_status': 'active',\n",
       "  'variations_variation_id': 12911410243,\n",
       "  'variations_weight': 5000},\n",
       " {'experiment_id': 12900000180,\n",
       "  'variations_actions_changes_async': False,\n",
       "  'variations_actions_changes_attributes_style': 'height: 3rem;',\n",
       "  'variations_actions_changes_id': '0364022F-3C52-402C-BCC2-2D79E2A19813',\n",
       "  'variations_actions_changes_rearrange_insertSelector': '',\n",
       "  'variations_actions_changes_rearrange_operator': 'before',\n",
       "  'variations_actions_changes_selector': '#mktoForm_3200_LastName',\n",
       "  'variations_actions_changes_type': 'attribute',\n",
       "  'variations_actions_page_id': 12913320166,\n",
       "  'variations_actions_share_link': 'https://www.infusionsoft.com/lp/pro?optimizely_token=55f79c78a70a14b39e50dfccbdd0bd18aae4d29f44bb23785ad20033d995fdde&optimizely_x=12911410243&optimizely_x_audiences=&optimizely_preview_layer_ids=12924840378&optimizely_snippet=s3-10429921250#modal_infusionsoft_pro_demo',\n",
       "  'variations_archived': False,\n",
       "  'variations_name': 'Sanely designed form',\n",
       "  'variations_status': 'active',\n",
       "  'variations_variation_id': 12911410243,\n",
       "  'variations_weight': 5000}]"
      ]
     },
     "execution_count": 31,
     "metadata": {},
     "output_type": "execute_result"
    }
   ],
   "source": [
    "flattened_variations"
   ]
  },
  {
   "cell_type": "markdown",
   "metadata": {},
   "source": [
    "### Testing flatten_dupe_vals"
   ]
  },
  {
   "cell_type": "code",
   "execution_count": null,
   "metadata": {},
   "outputs": [],
   "source": [
    "# new_flattened_test = flatten_dupe_vals(vals=test, key='actions')\n",
    "vals = test\n",
    "key = 'actions'"
   ]
  },
  {
   "cell_type": "code",
   "execution_count": null,
   "metadata": {},
   "outputs": [],
   "source": [
    "duped_results = []\n",
    "for element in vals[key]:\n",
    "    ts_dict = populating_vals(outer_dict=vals, inner_flattened_list=element, destination_key=key)\n",
    "    duped_results.append(ts_dict)\n",
    "\n"
   ]
  },
  {
   "cell_type": "code",
   "execution_count": null,
   "metadata": {},
   "outputs": [],
   "source": [
    "duped_results"
   ]
  },
  {
   "cell_type": "code",
   "execution_count": null,
   "metadata": {},
   "outputs": [],
   "source": [
    "flattened_results = []\n",
    "for element in duped_results:\n",
    "    flattened_results.append(flatten(element, {}, ''))"
   ]
  },
  {
   "cell_type": "code",
   "execution_count": null,
   "metadata": {},
   "outputs": [],
   "source": [
    "flatten(duped_results[0], {}, '')"
   ]
  },
  {
   "cell_type": "markdown",
   "metadata": {},
   "source": [
    "### It is the flatten function that f*cked things up"
   ]
  },
  {
   "cell_type": "code",
   "execution_count": null,
   "metadata": {},
   "outputs": [],
   "source": [
    "duped_results[0]"
   ]
  },
  {
   "cell_type": "code",
   "execution_count": null,
   "metadata": {},
   "outputs": [],
   "source": [
    "# corrected flatten\n",
    "def flatten(jayson, acc, prefix):\n",
    "    if isinstance(jayson, dict):\n",
    "        for k,v in jayson.items():\n",
    "            if prefix:\n",
    "                prefix_k = prefix + \"_\" + k\n",
    "            else: \n",
    "                prefix_k = k\n",
    "            prefix_k = prefix_k.replace('-', '_')\n",
    "            \n",
    "            if isinstance(v, dict):\n",
    "                flatten(v, acc, prefix_k)\n",
    "            elif isinstance(v, list):\n",
    "                if v != []:\n",
    "                    for j in v:\n",
    "                        flatten(j, acc, prefix_k)\n",
    "                else:\n",
    "                    acc[prefix_k] = v\n",
    "            else:\n",
    "                acc[prefix_k] = v\n",
    "        return acc \n",
    "    else:\n",
    "        return acc"
   ]
  },
  {
   "cell_type": "code",
   "execution_count": null,
   "metadata": {},
   "outputs": [],
   "source": [
    "flatten(duped_results[0], {}, '')"
   ]
  },
  {
   "cell_type": "markdown",
   "metadata": {},
   "source": [
    "### Thus fixing the missing changes issue!"
   ]
  },
  {
   "cell_type": "code",
   "execution_count": null,
   "metadata": {},
   "outputs": [],
   "source": [
    "flattened_variations = []\n",
    "\n",
    "for var in expanded_exp['variations']:\n",
    "    flattened_actions = []\n",
    "    for action in var['actions']:\n",
    "        print(action)\n",
    "#         flattened_changes = []\n",
    "#         for element in action['changes']:\n",
    "#             flattened_changes.append(element)\n",
    "\n",
    "        # Replace old 'timeseries' with new 'flattened_timeseries'\n",
    "#         updated_changes = populating_vals(outer_dict=action, inner_flattened_list=flattened_changes, destination_key='changes')\n",
    "#         new_flattened_changes = flatten_dupe_vals(vals=updated_changes, key='changes')\n",
    "\n",
    "#     update_actions = populating_vals(outer_dict=var, inner_flattened_list=new_flattened_changes, destination_key='actions')\n",
    "#     flattened_actions.extend(flatten_dupe_vals(vals=update_actions, key='actions'))  \n",
    "\n",
    "# update_variations = populating_vals(outer_dict=expanded_exp, inner_flattened_list=flattened_actions, destination_key='variations')\n",
    "# flattened_variations.extend(flatten_dupe_vals(vals=update_variations, key='variations'))\n",
    "\n",
    "# expanded_variations = flattened_variations"
   ]
  },
  {
   "cell_type": "code",
   "execution_count": null,
   "metadata": {},
   "outputs": [],
   "source": [
    "flattened_changes"
   ]
  },
  {
   "cell_type": "markdown",
   "metadata": {},
   "source": [
    "# results timeseries"
   ]
  },
  {
   "cell_type": "code",
   "execution_count": null,
   "metadata": {
    "scrolled": true
   },
   "outputs": [],
   "source": [
    "# experiment_id_list"
   ]
  },
  {
   "cell_type": "code",
   "execution_count": null,
   "metadata": {},
   "outputs": [],
   "source": [
    "# example of no results\n",
    "# result_endpoint = 'https://api.optimizely.com/v2/experiments/11479333433/timeseries'\n",
    "# example of normal time series\n",
    "result_endpoint = 'https://api.optimizely.com/v2/experiments/11477653122/timeseries'\n",
    "# example of \n",
    "# result_endpoint = f'https://api.optimizely.com/v2/experiments/{experiment_id}/timeseries'\n",
    "\n"
   ]
  },
  {
   "cell_type": "code",
   "execution_count": null,
   "metadata": {},
   "outputs": [],
   "source": [
    "response_ts = requests.get(result_endpoint, headers=headers)\n",
    "\n",
    "# if '' then the experiment has not started yet\n",
    "if response_ts.text == '':\n",
    "    j_ts = {'experiment_id': experiment_id}\n",
    "elif 'bad' in response_ts.text:\n",
    "    j_ts = {'experiment_id': experiment_id}\n",
    "else:\n",
    "    j_ts = json.loads(response_ts.text)\n",
    "\n",
    "new_j_ts = pope.fix_json_values(callback=fix_values, obj=j_ts, reset_key='results')\n"
   ]
  },
  {
   "cell_type": "code",
   "execution_count": null,
   "metadata": {},
   "outputs": [],
   "source": [
    "flattened_j_ts = []\n",
    "\n",
    "flattened_metrics = []\n",
    "for metric in new_j_ts['metrics']:\n",
    "    if 'results' in metric.keys():\n",
    "        for ts in metric['results']:\n",
    "            flattened_timeseries = []\n",
    "            for element in ts['timeseries']:\n",
    "                element['upload_ts'] = str(datetime.now())\n",
    "                flattened_timeseries.append(flatten(element, {}, ''))\n",
    "\n",
    "            # Replace old 'timeseries' with new 'flattened_timeseries'\n",
    "            updated_results = populating_vals(outer_dict=ts, inner_flattened_list=flattened_timeseries, destination_key='timeseries')\n",
    "            flattened_results = flatten_dupe_vals(vals=updated_results, key='timeseries')\n",
    "\n",
    "        # Replace old 'metrics' with new 'flattened_results'\n",
    "        update_metrics = populating_vals(outer_dict=metric, inner_flattened_list=flattened_results, destination_key='results')\n",
    "        flattened_metrics.extend(flatten_dupe_vals(vals=update_metrics, key='results'))\n",
    "\n",
    "    else:\n",
    "        flattened_metrics = [flatten(new_j_ts, {}, '')]\n",
    "\n",
    "update_new_j_ts = populating_vals(outer_dict=new_j_ts, inner_flattened_list=flattened_metrics, destination_key='metrics')\n",
    "flattened_j_ts.extend(flatten_dupe_vals(vals=update_new_j_ts, key='metrics'))\n",
    "\n"
   ]
  },
  {
   "cell_type": "code",
   "execution_count": null,
   "metadata": {},
   "outputs": [],
   "source": [
    "j_ts"
   ]
  },
  {
   "cell_type": "code",
   "execution_count": null,
   "metadata": {},
   "outputs": [],
   "source": [
    "flattened_j_ts"
   ]
  },
  {
   "cell_type": "code",
   "execution_count": null,
   "metadata": {},
   "outputs": [],
   "source": [
    "new_j_ts['metrics']\n",
    "\n",
    "\n",
    "            "
   ]
  },
  {
   "cell_type": "markdown",
   "metadata": {},
   "source": [
    "# testing"
   ]
  },
  {
   "cell_type": "code",
   "execution_count": null,
   "metadata": {},
   "outputs": [],
   "source": [
    "from generate_original import read_endpoint, generate_projects, generate_experiments"
   ]
  },
  {
   "cell_type": "code",
   "execution_count": null,
   "metadata": {},
   "outputs": [],
   "source": [
    "if not os.environ.get('GOOGLE_ACCOUNT_CREDENTIALS'):\n",
    "    os.environ['GOOGLE_ACCOUNT_CREDENTIALS'] = '/home/engineering/keyfile.json'\n",
    "gbq_key = os.environ.get('GOOGLE_ACCOUNT_CREDENTIALS')\n",
    "\n",
    "############################################### Instantiating Popelines #######################################\n",
    "pope = popelines.popeline(dataset_id='optimizely', service_key_file_loc=gbq_key, directory='.', verbose=False)\n",
    "\n",
    "# Optimizely parameters\n",
    "headers = {\n",
    "    'Authorization': 'Bearer 2:EWAWmaXb4TgtYVU2VvwoEF-9UbJxBahkiFh1633_Oc9nmju7iJis',\n",
    "}\n",
    "\n",
    "# endpoints\n",
    "project_endpoint = 'https://api.optimizely.com/v2/projects'\n",
    "experiment_endpoint = 'https://api.optimizely.com/v2/experiments'\n",
    "\n",
    "\n",
    "############################################### generate and upload all projects ##############################\n",
    "all_projects = generate_projects(project_endpoint, headers)\n",
    "for project in all_projects:\n",
    "    project['upload_ts'] = str(datetime.now())\n",
    "\n",
    "# upload projects \n",
    "pope.write_to_json(file_name='../uploads/projects.json', jayson=all_projects, mode='w')\n",
    "pope.write_to_bq(table_name='projects', file_name='../uploads/projects.json', append=True, ignore_unknown_values=False, bq_schema_autodetect=False)\n",
    "\n",
    "\n",
    "############################################### generate and upload all experiments ##############################\n",
    "# get a list of project_id from all_projects\n",
    "project_id_list = []\n",
    "for project in all_projects:\n",
    "    project_id_list.append(project['id'])\n",
    "\n",
    "# to accumulate all experiment_id, for \n",
    "experiment_id_list = []\n",
    "origin_single_table = []\n",
    "origin_metrics_table = []\n",
    "origin_variations_table = []\n",
    "\n",
    "# loop over all project_id_list to get experiments within each project\n",
    "for project_id in project_id_list:\n",
    "    # params include project_id (required) and experiments pulling per each request (default only 25)\n",
    "    params = (\n",
    "        ('project_id', project_id),\n",
    "        ('per_page', 100),\n",
    "    ) \n",
    "\n",
    "    exp_list = read_endpoint(endpoint=experiment_endpoint, headers_set=headers, params_set=params)\n",
    "    exp_id_list = []\n",
    "    for exp in exp_list:\n",
    "        exp_id_list.append(exp['id'])\n",
    "    experiment_id_list.extend(exp_id_list)\n",
    "\n",
    "    all_singles, metrics_table, variations_table = generate_experiments(exp_list)\n",
    "    origin_single_table.extend(all_singles)\n",
    "    origin_metrics_table.extend(metrics_table)\n",
    "    origin_variations_table.extend(variations_table)\n",
    "\n",
    "pope.write_to_json(file_name='../uploads/origin_experiments_single_fields.json', jayson=origin_single_table, mode='w')  \n",
    "pope.write_to_json(file_name='../uploads/origin_experiments_metrics_table.json', jayson=origin_metrics_table, mode='w')\n",
    "pope.write_to_json(file_name='../uploads/origin_experiments_variations_table.json', jayson=origin_variations_table, mode='w')\n",
    "\n",
    "\n",
    "\n"
   ]
  },
  {
   "cell_type": "code",
   "execution_count": null,
   "metadata": {},
   "outputs": [],
   "source": [
    "for e in origin_single_table:\n",
    "    if e['id'] == 12900000180:\n",
    "        print(e)"
   ]
  },
  {
   "cell_type": "code",
   "execution_count": null,
   "metadata": {},
   "outputs": [],
   "source": [
    "for m in origin_metrics_table:\n",
    "    if m['experiment_id'] == 12900000180:\n",
    "        print(m)"
   ]
  },
  {
   "cell_type": "code",
   "execution_count": null,
   "metadata": {},
   "outputs": [],
   "source": [
    "l = []\n",
    "for v in origin_variations_table:\n",
    "    if v['experiment_id'] == 12900000180:\n",
    "        l.append(v['variations_name'])"
   ]
  },
  {
   "cell_type": "code",
   "execution_count": null,
   "metadata": {},
   "outputs": [],
   "source": [
    "l"
   ]
  },
  {
   "cell_type": "code",
   "execution_count": null,
   "metadata": {},
   "outputs": [],
   "source": [
    "exp_list"
   ]
  },
  {
   "cell_type": "code",
   "execution_count": null,
   "metadata": {},
   "outputs": [],
   "source": [
    "for e in exp_list:\n",
    "    print(e['id'])"
   ]
  },
  {
   "cell_type": "code",
   "execution_count": null,
   "metadata": {},
   "outputs": [],
   "source": [
    "exp"
   ]
  },
  {
   "cell_type": "code",
   "execution_count": null,
   "metadata": {},
   "outputs": [],
   "source": [
    "variations = {}\n",
    "variations['experiment_id'] = exp['id']\n",
    "variations['variations'] = exp['variations']\n",
    "\n",
    "flattened_variations = []\n",
    "\n",
    "for var in exp['variations']:\n",
    "    flattened_actions = []\n",
    "    if len(var['actions']) > 0:\n",
    "        for action in var['actions']:\n",
    "            flattened_changes = []\n",
    "            for element in action['changes']:\n",
    "                flattened_changes.append(element)\n",
    "            # Replace old 'changes' with new 'flattened_changes'\n",
    "            updated_changes = populating_vals(outer_dict=action, inner_flattened_list=flattened_changes, destination_key='changes')\n",
    "            new_flattened_changes = flatten_dupe_vals(vals=updated_changes, key='changes')\n",
    "\n",
    "        update_actions = populating_vals(outer_dict=var, inner_flattened_list=new_flattened_changes, destination_key='actions')\n",
    "        flat = flatten_dupe_vals(vals=update_actions, key='actions')\n",
    "        \n",
    "        flattened_actions.extend(flat)\n",
    "\n",
    "    else:\n",
    "        other_flat = {}\n",
    "        for k,v in var.items():\n",
    "            if k != 'actions':\n",
    "                other_flat['actions'] = []\n",
    "                other_flat[k] = v\n",
    "        flat = [other_flat]\n",
    "    \n",
    "        flattened_actions.extend(flat)\n",
    "\n",
    "    update_variations = populating_vals(outer_dict=variations, inner_flattened_list=flattened_actions, destination_key='variations')\n",
    "    flattened_variations.extend(flatten_dupe_vals(vals=update_variations, key='variations'))\n",
    "    "
   ]
  },
  {
   "cell_type": "code",
   "execution_count": null,
   "metadata": {
    "scrolled": true
   },
   "outputs": [],
   "source": [
    "len(flattened_variations)"
   ]
  },
  {
   "cell_type": "code",
   "execution_count": null,
   "metadata": {},
   "outputs": [],
   "source": [
    "for v in flattened_variations:\n",
    "    print(v['variations_variation_id'])"
   ]
  },
  {
   "cell_type": "code",
   "execution_count": null,
   "metadata": {},
   "outputs": [],
   "source": [
    "for v in flattened_variations:\n",
    "    print(v['variations_name'])"
   ]
  },
  {
   "cell_type": "code",
   "execution_count": null,
   "metadata": {},
   "outputs": [],
   "source": [
    "for v in flattened_variations:\n",
    "    if 'variations_actions_changes_id' in v.keys():\n",
    "        print(v['variations_actions_changes_id'])"
   ]
  },
  {
   "cell_type": "code",
   "execution_count": null,
   "metadata": {},
   "outputs": [],
   "source": []
  }
 ],
 "metadata": {
  "kernelspec": {
   "display_name": "Python 3",
   "language": "python",
   "name": "python3"
  },
  "language_info": {
   "codemirror_mode": {
    "name": "ipython",
    "version": 3
   },
   "file_extension": ".py",
   "mimetype": "text/x-python",
   "name": "python",
   "nbconvert_exporter": "python",
   "pygments_lexer": "ipython3",
   "version": "3.6.4"
  }
 },
 "nbformat": 4,
 "nbformat_minor": 2
}
