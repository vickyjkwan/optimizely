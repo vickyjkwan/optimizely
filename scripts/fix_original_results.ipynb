{
 "cells": [
  {
   "cell_type": "code",
   "execution_count": 1,
   "metadata": {},
   "outputs": [],
   "source": [
    "import json\n",
    "import requests\n",
    "import popelines\n",
    "import os\n",
    "from datetime import datetime\n",
    "from main import fix_values, populating_vals, flatten, flatten_dupe_vals\n",
    "    "
   ]
  },
  {
   "cell_type": "code",
   "execution_count": 2,
   "metadata": {},
   "outputs": [],
   "source": [
    "from generate_original_with_timeseries import read_endpoint\n",
    "# , generate_projects, generate_experiments"
   ]
  },
  {
   "cell_type": "code",
   "execution_count": 3,
   "metadata": {},
   "outputs": [],
   "source": [
    "def generate_results(results_jayson):  \n",
    "    flattened_j_ts = []\n",
    "\n",
    "    for metric in results_jayson['metrics']:\n",
    "\n",
    "        if 'results' in metric.keys():\n",
    "            flattened_results = []\n",
    "            for ts in metric['results']:\n",
    "                flattened_timeseries = []\n",
    "                ts['upload_ts'] = str(datetime.utcnow())\n",
    "                flattened_timeseries.append(flatten(ts, {}, ''))\n",
    "\n",
    "                # Replace old 'metrics' with new 'flattened_results'\n",
    "                update_metrics = populating_vals(outer_dict=metric, inner_flattened_list=flattened_timeseries, destination_key='results')\n",
    "                flattened_results.extend(flatten_dupe_vals(vals=update_metrics, key='results'))\n",
    "\n",
    "        else:\n",
    "            flattened_results = [flatten(results_jayson, {}, '')]\n",
    "\n",
    "        update_new_j_ts = populating_vals(outer_dict=results_jayson, inner_flattened_list=flattened_results, destination_key='metrics')\n",
    "        flattened_j_ts.extend(flatten_dupe_vals(vals=update_new_j_ts, key='metrics'))\n",
    "\n",
    "    return flattened_j_ts\n",
    "\n"
   ]
  },
  {
   "cell_type": "code",
   "execution_count": 4,
   "metadata": {},
   "outputs": [],
   "source": [
    "# ############################################### Keys and Authentication #######################################\n",
    "# if not os.environ.get('GOOGLE_ACCOUNT_CREDENTIALS'):\n",
    "#     os.environ['GOOGLE_ACCOUNT_CREDENTIALS'] = '/home/engineering/keyfile.json'\n",
    "gbq_key = os.environ.get('GOOGLE_ACCOUNT_CREDENTIALS')\n",
    "\n",
    "# directory = str(os.path.abspath(os.path.dirname(__file__)))\n",
    "directory = os.getcwd()\n",
    "\n",
    "############################################### Instantiating Popelines #######################################\n",
    "pope = popelines.popeline(dataset_id='optimizely', service_key_file_loc=gbq_key, directory='.', verbose=False)\n"
   ]
  },
  {
   "cell_type": "code",
   "execution_count": 15,
   "metadata": {},
   "outputs": [],
   "source": [
    "# Optimizely parameters\n",
    "headers = {\n",
    "    'Authorization': 'Bearer 2:EWAWmaXb4TgtYVU2VvwoEF-9UbJxBahkiFh1633_Oc9nmju7iJis',\n",
    "}\n",
    "\n",
    "start_time = '2019-01-20T00:00:00.000Z'\n",
    "\n",
    "end_time = '2019-02-20T00:00:00.000Z'\n"
   ]
  },
  {
   "cell_type": "code",
   "execution_count": 16,
   "metadata": {},
   "outputs": [],
   "source": [
    "params = (\n",
    "#     ('project_id', 13655420480),\n",
    "    ('per_page', 100),\n",
    "    ('start_time', start_time),\n",
    "    ('end_time', end_time),\n",
    ") "
   ]
  },
  {
   "cell_type": "code",
   "execution_count": null,
   "metadata": {},
   "outputs": [],
   "source": [
    "# experiment_id_list = [13559460138, 12746930280]\n",
    "# experiment_id_list = [12746930280]"
   ]
  },
  {
   "cell_type": "code",
   "execution_count": 11,
   "metadata": {},
   "outputs": [],
   "source": [
    "experiment_id = 12746930280"
   ]
  },
  {
   "cell_type": "code",
   "execution_count": 17,
   "metadata": {},
   "outputs": [
    {
     "data": {
      "text/plain": [
       "{'confidence_threshold': 0.95,\n",
       " 'end_time': '2019-02-20T00:00:00.000000Z',\n",
       " 'experiment_id': 12746930280,\n",
       " 'metrics': [{'aggregator': 'unique',\n",
       "   'event_id': 12826470463,\n",
       "   'name': 'CTA - View Guide Now',\n",
       "   'results': {'12741310142': {'is_baseline': True,\n",
       "     'level': 'variation',\n",
       "     'name': 'Original',\n",
       "     'rate': 0.24098557692307693,\n",
       "     'samples': 1664,\n",
       "     'value': 401.0,\n",
       "     'variance': 0.1829115286381287,\n",
       "     'variation_id': '12741310142'},\n",
       "    '12762280184': {'is_baseline': False,\n",
       "     'level': 'variation',\n",
       "     'lift': {'confidence_interval': [-0.09005748155775894,\n",
       "       0.2869717471225631],\n",
       "      'is_significant': False,\n",
       "      'lift_status': 'better',\n",
       "      'significance': 0.5478614851902412,\n",
       "      'value': 0.120905054437078,\n",
       "      'visitors_remaining': 1609},\n",
       "     'name': 'Variation #1',\n",
       "     'rate': 0.2701219512195122,\n",
       "     'samples': 1640,\n",
       "     'value': 443.0,\n",
       "     'variance': 0.1971560826888757,\n",
       "     'variation_id': '12762280184'}},\n",
       "   'scope': 'visitor',\n",
       "   'winning_direction': 'increasing'},\n",
       "  {'aggregator': 'bounce',\n",
       "   'event_id': 12818980502,\n",
       "   'name': 'Bounce Rate',\n",
       "   'results': {'12741310142': {'is_baseline': True,\n",
       "     'level': 'variation',\n",
       "     'name': 'Original',\n",
       "     'rate': 0.8076699593259733,\n",
       "     'samples': 1721,\n",
       "     'value': 1390.0,\n",
       "     'variance': 0.49002833035264204,\n",
       "     'variation_id': '12741310142'},\n",
       "    '12762280184': {'is_baseline': False,\n",
       "     'level': 'variation',\n",
       "     'lift': {'confidence_interval': [-0.11802450986744216,\n",
       "       0.03323030034949723],\n",
       "      'is_significant': False,\n",
       "      'lift_status': 'better',\n",
       "      'significance': 0.34734582972618333,\n",
       "      'value': -0.03196726272827888,\n",
       "      'visitors_remaining': 4173},\n",
       "     'name': 'Variation #1',\n",
       "     'rate': 0.7818509615384616,\n",
       "     'samples': 1664,\n",
       "     'value': 1301.0,\n",
       "     'variance': 0.31719465086445997,\n",
       "     'variation_id': '12762280184'}},\n",
       "   'scope': 'event',\n",
       "   'winning_direction': 'decreasing'}],\n",
       " 'reach': {'baseline_count': 1664,\n",
       "  'baseline_reach': 0.5036319612590799,\n",
       "  'total_count': 3304,\n",
       "  'treatment_count': 1640,\n",
       "  'treatment_reach': 0.4963680387409201,\n",
       "  'variations': {'12741310142': {'count': 1664,\n",
       "    'name': 'Original',\n",
       "    'variation_id': '12741310142',\n",
       "    'variation_reach': 0.5036319612590799},\n",
       "   '12762280184': {'count': 1640,\n",
       "    'name': 'Variation #1',\n",
       "    'variation_id': '12762280184',\n",
       "    'variation_reach': 0.4963680387409201}}},\n",
       " 'start_time': '2019-01-20T00:00:00.000000Z',\n",
       " 'stats_config': {'confidence_level': 0.95,\n",
       "  'difference_type': 'relative',\n",
       "  'epoch_enabled': False}}"
      ]
     },
     "execution_count": 17,
     "metadata": {},
     "output_type": "execute_result"
    }
   ],
   "source": [
    "result_endpoint = f\"https://api.optimizely.com/v2/experiments/{experiment_id}/results\"\n",
    "response_ts = read_endpoint(result_endpoint, headers, params)\n",
    "response_ts\n"
   ]
  },
  {
   "cell_type": "code",
   "execution_count": null,
   "metadata": {},
   "outputs": [],
   "source": [
    "for experiment_id in experiment_id_list:\n",
    "    result_endpoint = f'https://api.optimizely.com/v2/experiments/{experiment_id}/results'\n",
    "    response_ts = read_endpoint(result_endpoint, headers, params)\n",
    "    print(f\"got experiment {experiment_id}\")\n",
    "    # if '' then the experiment has not started yet\n",
    "    if response_ts == '' or 'bad' in response_ts:\n",
    "        j_ts = {'experiment_id': experiment_id}\n",
    "        new_j_ts = j_ts\n",
    "        new_j_ts['upload_ts'] = str(datetime.utcnow())\n",
    "        new_j_ts['metric_calculating_ts'] = end_time\n",
    "#         pope.write_to_json(file_name=f'{directory}/../uploads/no_results.json', jayson=[new_j_ts], mode='w')\n",
    "#         pope.write_to_bq(table_name='results', file_name=f'{directory}/../uploads/no_results.json', append=True, ignore_unknown_values=False, bq_schema_autodetect=False)\n",
    "\n",
    "    else:\n",
    "\n",
    "        new_j_ts = pope.fix_json_values(callback=fix_values, obj=response_ts, reset_key='results')\n",
    "        flattened_j_ts = generate_results(new_j_ts)\n",
    "\n",
    "#         pope.write_to_json(file_name=f'{directory}/../uploads/results.json', jayson=flattened_j_ts, mode='w')\n",
    "#         pope.write_to_bq(table_name='results', file_name=f'{directory}/../uploads/results.json', append=True, ignore_unknown_values=False, bq_schema_autodetect=False)\n",
    "#         print(f\"Successfully uploaded result time series for experiment {experiment_id}\")"
   ]
  },
  {
   "cell_type": "code",
   "execution_count": null,
   "metadata": {},
   "outputs": [],
   "source": [
    "flattened_j_ts"
   ]
  },
  {
   "cell_type": "code",
   "execution_count": null,
   "metadata": {},
   "outputs": [],
   "source": []
  }
 ],
 "metadata": {
  "kernelspec": {
   "display_name": "Python 3",
   "language": "python",
   "name": "python3"
  },
  "language_info": {
   "codemirror_mode": {
    "name": "ipython",
    "version": 3
   },
   "file_extension": ".py",
   "mimetype": "text/x-python",
   "name": "python",
   "nbconvert_exporter": "python",
   "pygments_lexer": "ipython3",
   "version": "3.6.4"
  }
 },
 "nbformat": 4,
 "nbformat_minor": 2
}
