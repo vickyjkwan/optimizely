{
 "cells": [
  {
   "cell_type": "code",
   "execution_count": 2,
   "metadata": {},
   "outputs": [],
   "source": [
    "import json\n",
    "import requests\n",
    "import popelines\n",
    "import os\n",
    "from datetime import datetime, timedelta\n",
    "from main import fix_values, populating_vals, flatten, flatten_dupe_vals"
   ]
  },
  {
   "cell_type": "code",
   "execution_count": 8,
   "metadata": {},
   "outputs": [],
   "source": [
    "from generate_original import read_endpoint, generate_projects\n",
    "# from generate_original import generate_experiments, generate_results"
   ]
  },
  {
   "cell_type": "code",
   "execution_count": 3,
   "metadata": {},
   "outputs": [],
   "source": [
    "gbq_key = os.environ.get('GOOGLE_ACCOUNT_CREDENTIALS')"
   ]
  },
  {
   "cell_type": "code",
   "execution_count": 4,
   "metadata": {},
   "outputs": [],
   "source": [
    "pope = popelines.popeline(dataset_id='optimizely', service_key_file_loc=gbq_key, directory='.', verbose=False)\n"
   ]
  },
  {
   "cell_type": "code",
   "execution_count": 5,
   "metadata": {},
   "outputs": [],
   "source": [
    "headers = {\n",
    "    'Authorization': 'Bearer 2:EWAWmaXb4TgtYVU2VvwoEF-9UbJxBahkiFh1633_Oc9nmju7iJis',\n",
    "}"
   ]
  },
  {
   "cell_type": "markdown",
   "metadata": {},
   "source": [
    "# Update project table"
   ]
  },
  {
   "cell_type": "code",
   "execution_count": 7,
   "metadata": {},
   "outputs": [],
   "source": [
    "# idea is to:\n",
    "# GET [project_id, last_modified_ts]\n",
    "# if new_project_id is not in {project_id} set: add to it\n",
    "# if new_project_id is in {project_id} set: \n",
    "    # if last_modified_ts > bq.last_modified_ts: add [project_id, project_props, last_modified_ts(new), upload_ts]\n",
    "    # else: do nothing"
   ]
  },
  {
   "cell_type": "code",
   "execution_count": 9,
   "metadata": {},
   "outputs": [],
   "source": [
    "project_endpoint = 'https://api.optimizely.com/v2/projects'\n",
    "all_projects = generate_projects(project_endpoint, headers)"
   ]
  },
  {
   "cell_type": "code",
   "execution_count": 43,
   "metadata": {
    "scrolled": true
   },
   "outputs": [],
   "source": [
    "check_project = []\n",
    "for project in all_projects:\n",
    "    check_project.append({'project_id': project['id'], 'last_modified': project['last_modified']})\n"
   ]
  },
  {
   "cell_type": "code",
   "execution_count": 74,
   "metadata": {},
   "outputs": [
    {
     "data": {
      "text/plain": [
       "datetime.datetime(2019, 2, 21, 21, 45, 9, 155050)"
      ]
     },
     "execution_count": 74,
     "metadata": {},
     "output_type": "execute_result"
    }
   ],
   "source": [
    "datetime.strptime(check_project[-1]['last_modified'], '%Y-%m-%dT%H:%M:%S.%fz')"
   ]
  },
  {
   "cell_type": "code",
   "execution_count": 45,
   "metadata": {},
   "outputs": [],
   "source": [
    "# this returns the local time for last upload timestamp of projects\n",
    "# checking the last time this job ran\n",
    "last_upload_ts = pope.find_last_entry('projects', 'upload_ts') + timedelta(hours=-8)"
   ]
  },
  {
   "cell_type": "code",
   "execution_count": 76,
   "metadata": {},
   "outputs": [
    {
     "data": {
      "text/plain": [
       "datetime.datetime(2019, 2, 21, 21, 31, 44, 48589)"
      ]
     },
     "execution_count": 76,
     "metadata": {},
     "output_type": "execute_result"
    }
   ],
   "source": [
    "last_upload_ts.replace(tzinfo=None)"
   ]
  },
  {
   "cell_type": "code",
   "execution_count": 80,
   "metadata": {},
   "outputs": [],
   "source": [
    "# compare each of the project's last_modified timestamp to the above last upload_ts\n",
    "# select only if last_modified > upload_ts\n",
    "update_project_id = []\n",
    "for project in all_projects:\n",
    "    if datetime.strptime(project['last_modified'], '%Y-%m-%dT%H:%M:%S.%fz') > last_upload_ts.replace(tzinfo=None):\n",
    "        update_project_id.append(project['id'])"
   ]
  },
  {
   "cell_type": "code",
   "execution_count": null,
   "metadata": {},
   "outputs": [],
   "source": [
    "# endpoints\n",
    "# single_project_endpoint = f'https://api.optimizely.com/v2/projects/{project_id}'\n",
    "# experiment_endpoint = 'https://api.optimizely.com/v2/experiments'"
   ]
  },
  {
   "cell_type": "code",
   "execution_count": 81,
   "metadata": {},
   "outputs": [
    {
     "data": {
      "text/plain": [
       "[13655420480]"
      ]
     },
     "execution_count": 81,
     "metadata": {},
     "output_type": "execute_result"
    }
   ],
   "source": [
    "update_project_id\n"
   ]
  },
  {
   "cell_type": "code",
   "execution_count": 84,
   "metadata": {},
   "outputs": [],
   "source": [
    "for project_id in update_project_id:\n",
    "    single_project_endpoint = f'https://api.optimizely.com/v2/projects/{project_id}'\n",
    "    project_info = generate_projects(single_project_endpoint, headers)\n",
    "    project_info['upload_ts'] = str(datetime.utcnow())"
   ]
  },
  {
   "cell_type": "code",
   "execution_count": 85,
   "metadata": {},
   "outputs": [
    {
     "data": {
      "text/plain": [
       "{'account_id': 8725961507,\n",
       " 'confidence_threshold': 0.9,\n",
       " 'created': '2019-02-21T20:47:19.634521Z',\n",
       " 'description': 'To test ETL update pipelines',\n",
       " 'id': 13655420480,\n",
       " 'is_classic': False,\n",
       " 'last_modified': '2019-02-21T21:45:09.155050Z',\n",
       " 'name': 'analytics_dev_staging',\n",
       " 'platform': 'web',\n",
       " 'sdks': [],\n",
       " 'status': 'active',\n",
       " 'upload_ts': '2019-02-22 06:47:25.060978',\n",
       " 'web_snippet': {'code_revision': 10,\n",
       "  'enable_force_variation': False,\n",
       "  'exclude_disabled_experiments': False,\n",
       "  'exclude_names': True,\n",
       "  'include_jquery': False,\n",
       "  'ip_anonymization': False,\n",
       "  'js_file_size': 78801,\n",
       "  'library': 'none'}}"
      ]
     },
     "execution_count": 85,
     "metadata": {},
     "output_type": "execute_result"
    }
   ],
   "source": [
    "project_info"
   ]
  },
  {
   "cell_type": "markdown",
   "metadata": {},
   "source": [
    "# Update experiment table"
   ]
  },
  {
   "cell_type": "code",
   "execution_count": null,
   "metadata": {},
   "outputs": [],
   "source": [
    "os.system('say \"completed\"')"
   ]
  },
  {
   "cell_type": "code",
   "execution_count": 37,
   "metadata": {},
   "outputs": [
    {
     "data": {
      "text/plain": [
       "datetime.datetime(2019, 2, 21, 22, 14, 13, 603695)"
      ]
     },
     "execution_count": 37,
     "metadata": {},
     "output_type": "execute_result"
    }
   ],
   "source": [
    "datetime.utcnow() "
   ]
  },
  {
   "cell_type": "markdown",
   "metadata": {},
   "source": [
    "# Update results table"
   ]
  },
  {
   "cell_type": "markdown",
   "metadata": {},
   "source": [
    "# Debug script"
   ]
  },
  {
   "cell_type": "code",
   "execution_count": 2,
   "metadata": {},
   "outputs": [],
   "source": [
    "import requests\n",
    "import popelines\n",
    "import os\n",
    "from datetime import datetime, timedelta\n",
    "from main import fix_values, populating_vals, flatten, flatten_dupe_vals\n",
    "from generate_original import read_endpoint, generate_projects\n"
   ]
  },
  {
   "cell_type": "code",
   "execution_count": 3,
   "metadata": {},
   "outputs": [],
   "source": [
    "# this function checks the last time a job was run on bq,\n",
    "# returns the last-run timestamp for the table\n",
    "def check_bq_ts(table_name, ts_col_name):\n",
    "    last_upload_ts = pope.find_last_entry(table_name, ts_col_name) + timedelta(hours=-8)\n",
    "    return last_upload_ts\n"
   ]
  },
  {
   "cell_type": "code",
   "execution_count": 11,
   "metadata": {},
   "outputs": [],
   "source": [
    "# this function should get timestamp for each entity (project, experiment, or result), from API,\n",
    "# returns only those with a timestamp that is later than the benchmark, benchmark_ts\n",
    "def check_api_ts(api_path, table, ts_col, benchmark_ts):\n",
    "    \n",
    "    # compare each of the project's last_modified timestamp to the above last upload_ts\n",
    "    # select only if last_modified > upload_ts\n",
    "    updating_entity_id = []\n",
    "    if table == 'project':\n",
    "        all_existing = generate_projects(api_path, headers)\n",
    "    # elif table == 'experiment':\n",
    "    #     all_existing = generate_experiment(api_path, headers)\n",
    "    else:\n",
    "        pass\n",
    "\n",
    "    for entity in all_existing:\n",
    "        entity_ts = datetime.strptime(entity[ts_col], '%Y-%m-%dT%H:%M:%S.%fz')\n",
    "        if  entity_ts > benchmark_ts:\n",
    "            updating_entity_id.append((entity['id'], entity_ts))\n",
    "\n",
    "    return updating_entity_id\n"
   ]
  },
  {
   "cell_type": "code",
   "execution_count": 5,
   "metadata": {},
   "outputs": [],
   "source": [
    "# this function gathers all new entity dictionaries in a list, returns a format that is friendly to popelines\n",
    "def generate_new_entity(id_list, api_path, table):\n",
    "    new_json = []\n",
    "    for entity_id in id_list:\n",
    "        if table == 'project':\n",
    "            entity_info = generate_projects(f'{api_path}/{entity_id}', headers)\n",
    "            entity_info['upload_ts'] = str(datetime.utcnow())\n",
    "\n",
    "        # need to add experiment table\n",
    "        else:\n",
    "            pass\n",
    "\n",
    "        new_json.append(entity_info)\n",
    "\n",
    "    return new_json\n"
   ]
  },
  {
   "cell_type": "code",
   "execution_count": 6,
   "metadata": {},
   "outputs": [],
   "source": [
    "gbq_key = os.environ.get('GOOGLE_ACCOUNT_CREDENTIALS')\n",
    "pope = popelines.popeline(dataset_id='optimizely', service_key_file_loc=gbq_key, directory='.', verbose=False)\n",
    "headers = {\n",
    "    'Authorization': 'Bearer 2:EWAWmaXb4TgtYVU2VvwoEF-9UbJxBahkiFh1633_Oc9nmju7iJis',\n",
    "}"
   ]
  },
  {
   "cell_type": "code",
   "execution_count": 7,
   "metadata": {},
   "outputs": [],
   "source": [
    "project_endpoint = 'https://api.optimizely.com/v2/projects'\n"
   ]
  },
  {
   "cell_type": "code",
   "execution_count": 8,
   "metadata": {},
   "outputs": [],
   "source": [
    "# get the timestamp from bq for project table, at which the job was most recently run\n",
    "last_upload_ts = check_bq_ts('update_projects', 'upload_ts')\n"
   ]
  },
  {
   "cell_type": "code",
   "execution_count": 9,
   "metadata": {},
   "outputs": [
    {
     "data": {
      "text/plain": [
       "datetime.datetime(2019, 2, 22, 13, 27, 30, 69315, tzinfo=<UTC>)"
      ]
     },
     "execution_count": 9,
     "metadata": {},
     "output_type": "execute_result"
    }
   ],
   "source": [
    "last_upload_ts"
   ]
  },
  {
   "cell_type": "code",
   "execution_count": 13,
   "metadata": {},
   "outputs": [],
   "source": [
    "new_list = check_api_ts(api_path=project_endpoint, table='project', ts_col='last_modified', benchmark_ts=last_upload_ts.replace(tzinfo=None))\n",
    "\n"
   ]
  },
  {
   "cell_type": "code",
   "execution_count": 14,
   "metadata": {},
   "outputs": [],
   "source": [
    "benchmark_ts = last_upload_ts\n",
    "entity_ts = new_list[0][1]"
   ]
  },
  {
   "cell_type": "code",
   "execution_count": 15,
   "metadata": {},
   "outputs": [
    {
     "data": {
      "text/plain": [
       "datetime.datetime(2019, 2, 22, 13, 27, 30, 69315, tzinfo=<UTC>)"
      ]
     },
     "execution_count": 15,
     "metadata": {},
     "output_type": "execute_result"
    }
   ],
   "source": [
    "benchmark_ts"
   ]
  },
  {
   "cell_type": "code",
   "execution_count": 16,
   "metadata": {},
   "outputs": [
    {
     "data": {
      "text/plain": [
       "datetime.datetime(2019, 2, 22, 18, 49, 13, 10690)"
      ]
     },
     "execution_count": 16,
     "metadata": {},
     "output_type": "execute_result"
    }
   ],
   "source": [
    "entity_ts.timedelta()"
   ]
  },
  {
   "cell_type": "code",
   "execution_count": null,
   "metadata": {},
   "outputs": [],
   "source": [
    "generate_new_entity(id_list=updating_projects, api_path='https://api.optimizely.com/v2/projects', table='project')"
   ]
  },
  {
   "cell_type": "code",
   "execution_count": null,
   "metadata": {},
   "outputs": [],
   "source": [
    "# get projects with last_modified timestamps that are later than the previous ts\n",
    "# getting ready to upload\n",
    "updating_projects = check_api_ts(api_path=project_endpoint, table='project', ts_col='last_modified', benchmark_ts=last_upload_ts.replace(tzinfo=None))\n",
    "updating_projects_json = generate_new_entity(id_list=updating_projects, api_path='https://api.optimizely.com/v2/projects', table='project')\n"
   ]
  }
 ],
 "metadata": {
  "kernelspec": {
   "display_name": "Python 3",
   "language": "python",
   "name": "python3"
  },
  "language_info": {
   "codemirror_mode": {
    "name": "ipython",
    "version": 3
   },
   "file_extension": ".py",
   "mimetype": "text/x-python",
   "name": "python",
   "nbconvert_exporter": "python",
   "pygments_lexer": "ipython3",
   "version": "3.6.4"
  }
 },
 "nbformat": 4,
 "nbformat_minor": 2
}
