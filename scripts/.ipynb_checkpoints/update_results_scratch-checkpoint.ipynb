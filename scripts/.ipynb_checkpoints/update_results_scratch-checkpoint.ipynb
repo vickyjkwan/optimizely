{
 "cells": [
  {
   "cell_type": "code",
   "execution_count": 1,
   "metadata": {},
   "outputs": [],
   "source": [
    "import json\n",
    "import requests\n",
    "import popelines\n",
    "import os\n",
    "from datetime import datetime, timedelta\n",
    "from main import fix_values, populating_vals, flatten, flatten_dupe_vals"
   ]
  },
  {
   "cell_type": "code",
   "execution_count": 2,
   "metadata": {},
   "outputs": [],
   "source": [
    "from generate_original import read_endpoint\n",
    "# from batch_update_projects import check_bq_ts, check_api_ts, generate_new_entity"
   ]
  },
  {
   "cell_type": "code",
   "execution_count": 88,
   "metadata": {},
   "outputs": [],
   "source": [
    "gbq_key = os.environ.get('GOOGLE_ACCOUNT_CREDENTIALS')\n",
    "\n",
    "pope = popelines.popeline(dataset_id='optimizely', service_key_file_loc=gbq_key, directory='.', verbose=False)\n",
    "headers = {\n",
    "    'Authorization': 'Bearer 2:EWAWmaXb4TgtYVU2VvwoEF-9UbJxBahkiFh1633_Oc9nmju7iJis',\n",
    "}\n"
   ]
  },
  {
   "cell_type": "markdown",
   "metadata": {},
   "source": [
    "# getting one result time series from one experiment, with start_time"
   ]
  },
  {
   "cell_type": "markdown",
   "metadata": {},
   "source": [
    "### Game plan as such:\n",
    "1. pick an experiment (id=12746930280)\n",
    "2. set a `start_time` and `end_time`\n",
    "3. request `/results` endpoint"
   ]
  },
  {
   "cell_type": "code",
   "execution_count": 33,
   "metadata": {},
   "outputs": [],
   "source": [
    "exp_id = 12746930280\n",
    "# bq_start_time = '2019-02-20 03:44:56.400 UTC'"
   ]
  },
  {
   "cell_type": "code",
   "execution_count": 75,
   "metadata": {},
   "outputs": [],
   "source": [
    "start_time = '2019-01-08T00:00:00.000000Z'\n",
    "end_time = '2019-01-08T02:00:00.000Z'"
   ]
  },
  {
   "cell_type": "code",
   "execution_count": 109,
   "metadata": {},
   "outputs": [],
   "source": [
    "# result_endpoint = f'https://api.optimizely.com/v2/experiments/{exp_id}/results'\n",
    "timeseries_endpoint = f'https://api.optimizely.com/v2/experiments/{exp_id}/timeseries'\n",
    "# ?start_time=2019-01-08T00:00:00Z&end_time=2019-01-08T12:00:00Z\n"
   ]
  },
  {
   "cell_type": "code",
   "execution_count": 95,
   "metadata": {},
   "outputs": [],
   "source": [
    "params = (\n",
    "#     ('project_id', 13655420480),\n",
    "    ('per_page', 100),\n",
    "    ('start_time', start_time),\n",
    "    ('end_time', end_time),\n",
    ") "
   ]
  },
  {
   "cell_type": "code",
   "execution_count": 110,
   "metadata": {},
   "outputs": [],
   "source": [
    "# response_ts = read_endpoint(result_endpoint, headers, params)\n",
    "response_ts = requests.get(timeseries_endpoint, headers=headers)\n",
    "\n"
   ]
  },
  {
   "cell_type": "code",
   "execution_count": 111,
   "metadata": {},
   "outputs": [
    {
     "data": {
      "text/plain": [
       "{'confidence_threshold': 0.95,\n",
       " 'end_time': '2019-01-08T12:00:00.000000Z',\n",
       " 'experiment_id': 12746930280,\n",
       " 'metrics': [{'aggregator': 'unique',\n",
       "   'event_id': 12826470463,\n",
       "   'name': 'CTA - View Guide Now',\n",
       "   'scope': 'visitor',\n",
       "   'winning_direction': 'increasing'},\n",
       "  {'aggregator': 'bounce',\n",
       "   'event_id': 12818980502,\n",
       "   'name': 'Bounce Rate',\n",
       "   'scope': 'event',\n",
       "   'winning_direction': 'decreasing'}],\n",
       " 'start_time': '2019-01-08T00:00:00.000000Z',\n",
       " 'stats_config': {'confidence_level': 0.95,\n",
       "  'difference_type': 'relative',\n",
       "  'epoch_enabled': False}}"
      ]
     },
     "execution_count": 111,
     "metadata": {},
     "output_type": "execute_result"
    }
   ],
   "source": [
    "json.loads(response_ts.text)"
   ]
  },
  {
   "cell_type": "code",
   "execution_count": null,
   "metadata": {},
   "outputs": [],
   "source": []
  },
  {
   "cell_type": "code",
   "execution_count": null,
   "metadata": {},
   "outputs": [],
   "source": []
  },
  {
   "cell_type": "code",
   "execution_count": null,
   "metadata": {},
   "outputs": [],
   "source": []
  },
  {
   "cell_type": "code",
   "execution_count": 12,
   "metadata": {},
   "outputs": [],
   "source": [
    "new_j_ts = pope.fix_json_values(callback=fix_values, obj=response_ts, reset_key='results')"
   ]
  },
  {
   "cell_type": "code",
   "execution_count": 14,
   "metadata": {
    "scrolled": true
   },
   "outputs": [],
   "source": [
    "results_jayson = new_j_ts"
   ]
  },
  {
   "cell_type": "code",
   "execution_count": 15,
   "metadata": {},
   "outputs": [],
   "source": [
    "flattened_j_ts = []\n",
    "flattened_metrics = []\n",
    "\n",
    "for metric in results_jayson['metrics']:\n",
    "\n",
    "    if 'results' in metric.keys():\n",
    "        flattened_results = []\n",
    "        for ts in metric['results']:\n",
    "            flattened_timeseries = []\n",
    "            ts['upload_ts'] = str(datetime.utcnow())\n",
    "            flattened_timeseries.append(flatten(ts, {}, ''))\n",
    "\n",
    "        # Replace old 'metrics' with new 'flattened_results'\n",
    "        update_metrics = populating_vals(outer_dict=metric, inner_flattened_list=flattened_timeseries, destination_key='results')\n",
    "        flattened_metrics.extend(flatten_dupe_vals(vals=update_metrics, key='results'))\n",
    "\n",
    "    else:\n",
    "        flattened_metrics = [flatten(results_jayson, {}, '')]\n",
    "\n",
    "update_new_j_ts = populating_vals(outer_dict=results_jayson, inner_flattened_list=flattened_metrics, destination_key='metrics')\n",
    "flattened_j_ts.extend(flatten_dupe_vals(vals=update_new_j_ts, key='metrics'))\n"
   ]
  },
  {
   "cell_type": "code",
   "execution_count": 30,
   "metadata": {},
   "outputs": [],
   "source": [
    "def generate_results(results_jayson, calc_ts):  \n",
    "    # flattened_j_ts = []\n",
    "    # flattened_metrics = []\n",
    "\n",
    "    # for metric in results_jayson['metrics']:\n",
    "        \n",
    "    #     if 'results' in metric.keys():\n",
    "    #         flattened_results = []\n",
    "    #         for ts in metric['results']:\n",
    "\n",
    "    #             for element in ts['timeseries']:\n",
    "    #                 flattened_timeseries = []\n",
    "    #                 element['upload_ts'] = str(datetime.utcnow())\n",
    "    #                 flattened_timeseries.append(flatten(element, {}, ''))\n",
    "\n",
    "    #                 # Replace old 'timeseries' with new 'flattened_timeseries'\n",
    "    #                 updated_results = populating_vals(outer_dict=ts, inner_flattened_list=flattened_timeseries, destination_key='timeseries')\n",
    "    #                 flattened_results.extend(flatten_dupe_vals(vals=updated_results, key='timeseries'))\n",
    "\n",
    "    #         # Replace old 'metrics' with new 'flattened_results'\n",
    "    #         update_metrics = populating_vals(outer_dict=metric, inner_flattened_list=flattened_results, destination_key='results')\n",
    "    #         flattened_metrics.extend(flatten_dupe_vals(vals=update_metrics, key='results'))\n",
    "\n",
    "    #     else:\n",
    "    #         flattened_metrics = [flatten(results_jayson, {}, '')]\n",
    "    \n",
    "    # update_new_j_ts = populating_vals(outer_dict=results_jayson, inner_flattened_list=flattened_metrics, destination_key='metrics')\n",
    "    # flattened_j_ts.extend(flatten_dupe_vals(vals=update_new_j_ts, key='metrics'))\n",
    "\n",
    "    flattened_j_ts = []\n",
    "    flattened_metrics = []\n",
    "\n",
    "    for metric in results_jayson['metrics']:\n",
    "\n",
    "        if 'results' in metric.keys():\n",
    "            flattened_results = []\n",
    "            for ts in metric['results']:\n",
    "                flattened_timeseries = []\n",
    "                ts['upload_ts'] = str(datetime.utcnow())\n",
    "                ts['metric_calculating_ts'] = calc_ts\n",
    "                flattened_timeseries.append(flatten(ts, {}, ''))\n",
    "\n",
    "            # Replace old 'metrics' with new 'flattened_results'\n",
    "            update_metrics = populating_vals(outer_dict=metric, inner_flattened_list=flattened_timeseries, destination_key='results')\n",
    "            flattened_metrics.extend(flatten_dupe_vals(vals=update_metrics, key='results'))\n",
    "\n",
    "        else:\n",
    "            flattened_metrics = [flatten(results_jayson, {}, '')]\n",
    "\n",
    "    update_new_j_ts = populating_vals(outer_dict=results_jayson, inner_flattened_list=flattened_metrics, destination_key='metrics')\n",
    "    flattened_j_ts.extend(flatten_dupe_vals(vals=update_new_j_ts, key='metrics'))\n",
    "\n",
    "    return flattened_j_ts"
   ]
  },
  {
   "cell_type": "code",
   "execution_count": 19,
   "metadata": {},
   "outputs": [
    {
     "data": {
      "text/plain": [
       "[{'confidence_threshold': 0.95,\n",
       "  'end_time': '2019-02-26T00:00:00.000000Z',\n",
       "  'experiment_id': 12746930280,\n",
       "  'metrics_aggregator': 'unique',\n",
       "  'metrics_event_id': 12826470463,\n",
       "  'metrics_name': 'CTA - View Guide Now',\n",
       "  'metrics_results_is_baseline': True,\n",
       "  'metrics_results_level': 'variation',\n",
       "  'metrics_results_name': 'Original',\n",
       "  'metrics_results_rate': 0.0,\n",
       "  'metrics_results_results_id': '12741310142',\n",
       "  'metrics_results_samples': 3,\n",
       "  'metrics_results_upload_ts': '2019-02-28 00:02:29.873129',\n",
       "  'metrics_results_value': 0.0,\n",
       "  'metrics_results_variance': 0.0,\n",
       "  'metrics_results_variation_id': '12741310142',\n",
       "  'metrics_scope': 'visitor',\n",
       "  'metrics_winning_direction': 'increasing',\n",
       "  'reach_baseline_count': 3,\n",
       "  'reach_baseline_reach': 1.0,\n",
       "  'reach_total_count': 3,\n",
       "  'reach_treatment_count': 0,\n",
       "  'reach_treatment_reach': 0.0,\n",
       "  'reach_variations_12741310142_count': 3,\n",
       "  'reach_variations_12741310142_name': 'Original',\n",
       "  'reach_variations_12741310142_variation_id': '12741310142',\n",
       "  'reach_variations_12741310142_variation_reach': 1.0,\n",
       "  'start_time': '2019-02-25T00:00:00.000000Z',\n",
       "  'stats_config_confidence_level': 0.95,\n",
       "  'stats_config_difference_type': 'relative',\n",
       "  'stats_config_epoch_enabled': False},\n",
       " {'confidence_threshold': 0.95,\n",
       "  'end_time': '2019-02-26T00:00:00.000000Z',\n",
       "  'experiment_id': 12746930280,\n",
       "  'metrics_aggregator': 'bounce',\n",
       "  'metrics_event_id': 12818980502,\n",
       "  'metrics_name': 'Bounce Rate',\n",
       "  'metrics_results_is_baseline': True,\n",
       "  'metrics_results_level': 'variation',\n",
       "  'metrics_results_name': 'Original',\n",
       "  'metrics_results_results_id': '12741310142',\n",
       "  'metrics_results_samples': 0,\n",
       "  'metrics_results_upload_ts': '2019-02-28 00:02:29.873169',\n",
       "  'metrics_results_value': 0.0,\n",
       "  'metrics_results_variance': 0.0,\n",
       "  'metrics_results_variation_id': '12741310142',\n",
       "  'metrics_scope': 'event',\n",
       "  'metrics_winning_direction': 'decreasing',\n",
       "  'reach_baseline_count': 3,\n",
       "  'reach_baseline_reach': 1.0,\n",
       "  'reach_total_count': 3,\n",
       "  'reach_treatment_count': 0,\n",
       "  'reach_treatment_reach': 0.0,\n",
       "  'reach_variations_12741310142_count': 3,\n",
       "  'reach_variations_12741310142_name': 'Original',\n",
       "  'reach_variations_12741310142_variation_id': '12741310142',\n",
       "  'reach_variations_12741310142_variation_reach': 1.0,\n",
       "  'start_time': '2019-02-25T00:00:00.000000Z',\n",
       "  'stats_config_confidence_level': 0.95,\n",
       "  'stats_config_difference_type': 'relative',\n",
       "  'stats_config_epoch_enabled': False}]"
      ]
     },
     "execution_count": 19,
     "metadata": {},
     "output_type": "execute_result"
    }
   ],
   "source": [
    "generate_results(new_j_ts)"
   ]
  },
  {
   "cell_type": "markdown",
   "metadata": {},
   "source": [
    "# loop exp_id, get all results"
   ]
  },
  {
   "cell_type": "code",
   "execution_count": 20,
   "metadata": {},
   "outputs": [],
   "source": [
    "experiment_id_list = [13559460138, 12746930280]"
   ]
  },
  {
   "cell_type": "code",
   "execution_count": 21,
   "metadata": {},
   "outputs": [],
   "source": [
    "start_time = '2019-02-25T00:00:00.000Z'\n",
    "end_time = '2019-02-26T00:00:00.000Z'"
   ]
  },
  {
   "cell_type": "code",
   "execution_count": 22,
   "metadata": {},
   "outputs": [],
   "source": [
    "params = (\n",
    "#     ('project_id', 13655420480),\n",
    "    ('per_page', 100),\n",
    "    ('start_time', start_time),\n",
    "    ('end_time', end_time),\n",
    ") "
   ]
  },
  {
   "cell_type": "code",
   "execution_count": null,
   "metadata": {},
   "outputs": [],
   "source": []
  },
  {
   "cell_type": "code",
   "execution_count": 31,
   "metadata": {},
   "outputs": [
    {
     "name": "stdout",
     "output_type": "stream",
     "text": [
      "got experiment 13559460138\n",
      "got experiment 12746930280\n"
     ]
    }
   ],
   "source": [
    "for experiment_id in experiment_id_list:\n",
    "    result_endpoint = f'https://api.optimizely.com/v2/experiments/{experiment_id}/results'\n",
    "    response_ts = read_endpoint(result_endpoint, headers, params)\n",
    "    print(f\"got experiment {experiment_id}\")\n",
    "    # if '' then the experiment has not started yet\n",
    "    if response_ts == '' or 'bad' in response_ts:\n",
    "        j_ts = {'experiment_id': experiment_id}\n",
    "        new_j_ts = j_ts\n",
    "        new_j_ts['upload_ts'] = str(datetime.utcnow())\n",
    "        new_j_ts['metric_calculating_ts'] = end_time\n",
    "#         pope.write_to_json(file_name=f'{directory}/../uploads/no_results.json', jayson=[new_j_ts], mode='w')\n",
    "#         pope.write_to_bq(table_name='results', file_name=f'{directory}/../uploads/no_results.json', append=True, ignore_unknown_values=False, bq_schema_autodetect=False)\n",
    "\n",
    "    else:\n",
    "\n",
    "        new_j_ts = pope.fix_json_values(callback=fix_values, obj=response_ts, reset_key='results')\n",
    "        flattened_j_ts = generate_results(new_j_ts, calc_ts=end_time)\n",
    "\n",
    "#         pope.write_to_json(file_name=f'{directory}/../uploads/results.json', jayson=flattened_j_ts, mode='w')\n",
    "#         pope.write_to_bq(table_name='results', file_name=f'{directory}/../uploads/results.json', append=True, ignore_unknown_values=False, bq_schema_autodetect=False)\n",
    "#         print(f\"Successfully uploaded result time series for experiment {experiment_id}\")"
   ]
  },
  {
   "cell_type": "code",
   "execution_count": 32,
   "metadata": {},
   "outputs": [
    {
     "data": {
      "text/plain": [
       "[{'confidence_threshold': 0.95,\n",
       "  'end_time': '2019-02-26T00:00:00.000000Z',\n",
       "  'experiment_id': 12746930280,\n",
       "  'metrics_aggregator': 'unique',\n",
       "  'metrics_event_id': 12826470463,\n",
       "  'metrics_name': 'CTA - View Guide Now',\n",
       "  'metrics_results_is_baseline': True,\n",
       "  'metrics_results_level': 'variation',\n",
       "  'metrics_results_metric_calculating_ts': '2019-02-26T00:00:00.000Z',\n",
       "  'metrics_results_name': 'Original',\n",
       "  'metrics_results_rate': 0.0,\n",
       "  'metrics_results_results_id': '12741310142',\n",
       "  'metrics_results_samples': 3,\n",
       "  'metrics_results_upload_ts': '2019-02-28 00:08:08.083485',\n",
       "  'metrics_results_value': 0.0,\n",
       "  'metrics_results_variance': 0.0,\n",
       "  'metrics_results_variation_id': '12741310142',\n",
       "  'metrics_scope': 'visitor',\n",
       "  'metrics_winning_direction': 'increasing',\n",
       "  'reach_baseline_count': 3,\n",
       "  'reach_baseline_reach': 1.0,\n",
       "  'reach_total_count': 3,\n",
       "  'reach_treatment_count': 0,\n",
       "  'reach_treatment_reach': 0.0,\n",
       "  'reach_variations_12741310142_count': 3,\n",
       "  'reach_variations_12741310142_name': 'Original',\n",
       "  'reach_variations_12741310142_variation_id': '12741310142',\n",
       "  'reach_variations_12741310142_variation_reach': 1.0,\n",
       "  'start_time': '2019-02-25T00:00:00.000000Z',\n",
       "  'stats_config_confidence_level': 0.95,\n",
       "  'stats_config_difference_type': 'relative',\n",
       "  'stats_config_epoch_enabled': False},\n",
       " {'confidence_threshold': 0.95,\n",
       "  'end_time': '2019-02-26T00:00:00.000000Z',\n",
       "  'experiment_id': 12746930280,\n",
       "  'metrics_aggregator': 'bounce',\n",
       "  'metrics_event_id': 12818980502,\n",
       "  'metrics_name': 'Bounce Rate',\n",
       "  'metrics_results_is_baseline': True,\n",
       "  'metrics_results_level': 'variation',\n",
       "  'metrics_results_metric_calculating_ts': '2019-02-26T00:00:00.000Z',\n",
       "  'metrics_results_name': 'Original',\n",
       "  'metrics_results_results_id': '12741310142',\n",
       "  'metrics_results_samples': 0,\n",
       "  'metrics_results_upload_ts': '2019-02-28 00:08:08.083540',\n",
       "  'metrics_results_value': 0.0,\n",
       "  'metrics_results_variance': 0.0,\n",
       "  'metrics_results_variation_id': '12741310142',\n",
       "  'metrics_scope': 'event',\n",
       "  'metrics_winning_direction': 'decreasing',\n",
       "  'reach_baseline_count': 3,\n",
       "  'reach_baseline_reach': 1.0,\n",
       "  'reach_total_count': 3,\n",
       "  'reach_treatment_count': 0,\n",
       "  'reach_treatment_reach': 0.0,\n",
       "  'reach_variations_12741310142_count': 3,\n",
       "  'reach_variations_12741310142_name': 'Original',\n",
       "  'reach_variations_12741310142_variation_id': '12741310142',\n",
       "  'reach_variations_12741310142_variation_reach': 1.0,\n",
       "  'start_time': '2019-02-25T00:00:00.000000Z',\n",
       "  'stats_config_confidence_level': 0.95,\n",
       "  'stats_config_difference_type': 'relative',\n",
       "  'stats_config_epoch_enabled': False}]"
      ]
     },
     "execution_count": 32,
     "metadata": {},
     "output_type": "execute_result"
    }
   ],
   "source": [
    "flattened_j_ts"
   ]
  },
  {
   "cell_type": "code",
   "execution_count": null,
   "metadata": {},
   "outputs": [],
   "source": []
  }
 ],
 "metadata": {
  "kernelspec": {
   "display_name": "Python 3",
   "language": "python",
   "name": "python3"
  },
  "language_info": {
   "codemirror_mode": {
    "name": "ipython",
    "version": 3
   },
   "file_extension": ".py",
   "mimetype": "text/x-python",
   "name": "python",
   "nbconvert_exporter": "python",
   "pygments_lexer": "ipython3",
   "version": "3.6.4"
  }
 },
 "nbformat": 4,
 "nbformat_minor": 2
}
