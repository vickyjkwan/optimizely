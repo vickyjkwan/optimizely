{
 "cells": [
  {
   "cell_type": "code",
   "execution_count": null,
   "metadata": {},
   "outputs": [],
   "source": [
    "import json\n",
    "import requests\n",
    "import popelines\n",
    "import os\n",
    "from datetime import datetime, timedelta\n",
    "from main import fix_values, populating_vals, flatten, flatten_dupe_vals\n",
    "from generate_original_with_timeseries import read_endpoint, generate_results\n",
    "from generate_original_results import results_generator"
   ]
  },
  {
   "cell_type": "code",
   "execution_count": null,
   "metadata": {},
   "outputs": [],
   "source": [
    "# ############################################### Keys and Authentication #######################################\n",
    "# if not os.environ.get('GOOGLE_ACCOUNT_CREDENTIALS'):\n",
    "#     os.environ['GOOGLE_ACCOUNT_CREDENTIALS'] = '/home/engineering/keyfile.json'\n",
    "gbq_key = os.environ.get('GOOGLE_ACCOUNT_CREDENTIALS')\n",
    "\n",
    "# directory = str(os.path.abspath(os.path.dirname(__file__)))\n",
    "directory = os.getcwd()\n",
    "\n",
    "############################################### Instantiating Popelines #######################################\n",
    "pope = popelines.popeline(dataset_id='optimizely', service_key_file_loc=gbq_key, directory='.', verbose=False)\n",
    "\n",
    "# Optimizely parameters\n",
    "headers = {\n",
    "    'Authorization': 'Bearer 2:EWAWmaXb4TgtYVU2VvwoEF-9UbJxBahkiFh1633_Oc9nmju7iJis',\n",
    "}\n",
    "\n",
    "params = (\n",
    "    ('per_page', 100),\n",
    ")\n",
    "\n",
    "query = open(f'{directory}/existing_experiments.sql').read()\n",
    "results = pope.bq_query(query)"
   ]
  },
  {
   "cell_type": "code",
   "execution_count": null,
   "metadata": {},
   "outputs": [],
   "source": [
    "# results"
   ]
  },
  {
   "cell_type": "code",
   "execution_count": null,
   "metadata": {},
   "outputs": [],
   "source": [
    "# a little clean up before sending hourly calls\n",
    "all_exp = []\n",
    "for result in results:\n",
    "    details = {}\n",
    "    details['id'] = result['id']\n",
    "    if result['earliest'] is None:\n",
    "        # details['earliest'] = None\n",
    "        details['earliest'] = None\n",
    "        details['status'] = 'experiment_archived'\n",
    "    else:\n",
    "        details['earliest'] = result['earliest']\n",
    "        details['status'] = result['status']\n",
    "    details['last_modified'] = result['last_modified']\n",
    "    all_exp.append(details)"
   ]
  },
  {
   "cell_type": "code",
   "execution_count": null,
   "metadata": {},
   "outputs": [],
   "source": [
    "exp_results = []\n",
    "for exp in all_exp:\n",
    "    if exp['status'] == 'archived' or exp['status'] == 'experiment_archived':  \n",
    "        if exp['earliest'] is not None:\n",
    "            start_timestamp = datetime.strftime(exp['earliest'], '%Y-%m-%dT%H:%M:%SZ')[:14] + str('00:00Z')\n",
    "        else:\n",
    "            start_timestamp = '2018-01-01T00:00:00Z'\n",
    "        end_timestamp = datetime.strftime(exp['last_modified'], '%Y-%m-%dT%H:%M:%SZ')[:14] + str('00:00Z')\n",
    "        exp_results.extend(results_generator(start_timestamp, end_timestamp, experiment_id=exp['id'], headers=headers, params=params))\n",
    "\n",
    "    elif exp['status'] == 'not_started':\n",
    "        print('no results to be backfilled')\n",
    "\n",
    "    elif exp['status'] == 'running':\n",
    "        if exp['earliest'] is not None:\n",
    "            start_timestamp = datetime.strftime(exp['earliest'], '%Y-%m-%dT%H:%M:%SZ')[:14] + str('00:00Z')\n",
    "        else:\n",
    "            start_timestamp = '2018-01-01T00:00:00Z'\n",
    "        end_timestamp = datetime.strftime(datetime.now(), '%Y-%m-%dT%H:%M:%SZ')\n",
    "        exp_results.extend(results_generator(start_timestamp, end_timestamp, experiment_id=exp['id'], headers=headers, params=params))\n",
    "\n",
    "    elif exp['status'] == 'paused':\n",
    "        if exp['earliest'] is not None:\n",
    "            start_timestamp = datetime.strftime(exp['earliest'], '%Y-%m-%dT%H:%M:%SZ')[:14] + str('00:00Z')\n",
    "        else:\n",
    "            start_timestamp = '2018-01-01T00:00:00Z'\n",
    "        end_timestamp = datetime.strftime(exp['last_modified'], '%Y-%m-%dT%H:%M:%SZ')[:14] + str('00:00Z')\n",
    "        exp_results.extend(results_generator(start_timestamp, end_timestamp, experiment_id=exp['id'], headers=headers, params=params))\n",
    "\n",
    "    else:\n",
    "        print(f\"Experiment {exp['id']} shows a new experiment status. Need to investigate.\")"
   ]
  },
  {
   "cell_type": "code",
   "execution_count": null,
   "metadata": {},
   "outputs": [],
   "source": []
  },
  {
   "cell_type": "code",
   "execution_count": null,
   "metadata": {},
   "outputs": [],
   "source": []
  }
 ],
 "metadata": {
  "kernelspec": {
   "display_name": "Python 3",
   "language": "python",
   "name": "python3"
  },
  "language_info": {
   "codemirror_mode": {
    "name": "ipython",
    "version": 3
   },
   "file_extension": ".py",
   "mimetype": "text/x-python",
   "name": "python",
   "nbconvert_exporter": "python",
   "pygments_lexer": "ipython3",
   "version": "3.6.4"
  }
 },
 "nbformat": 4,
 "nbformat_minor": 2
}
