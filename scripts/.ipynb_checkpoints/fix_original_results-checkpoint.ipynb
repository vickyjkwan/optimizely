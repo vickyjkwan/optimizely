{
 "cells": [
  {
   "cell_type": "code",
   "execution_count": 1,
   "metadata": {},
   "outputs": [],
   "source": [
    "import json\n",
    "import requests\n",
    "import popelines\n",
    "import os\n",
    "from datetime import datetime, timedelta\n",
    "from main import fix_values, populating_vals, flatten, flatten_dupe_vals\n",
    "    "
   ]
  },
  {
   "cell_type": "code",
   "execution_count": 2,
   "metadata": {},
   "outputs": [],
   "source": [
    "from generate_original_with_timeseries import read_endpoint, generate_results"
   ]
  },
  {
   "cell_type": "code",
   "execution_count": 3,
   "metadata": {},
   "outputs": [],
   "source": [
    "# ############################################### Keys and Authentication #######################################\n",
    "# if not os.environ.get('GOOGLE_ACCOUNT_CREDENTIALS'):\n",
    "#     os.environ['GOOGLE_ACCOUNT_CREDENTIALS'] = '/home/engineering/keyfile.json'\n",
    "gbq_key = os.environ.get('GOOGLE_ACCOUNT_CREDENTIALS')\n",
    "\n",
    "# directory = str(os.path.abspath(os.path.dirname(__file__)))\n",
    "directory = os.getcwd()\n",
    "\n",
    "############################################### Instantiating Popelines #######################################\n",
    "pope = popelines.popeline(dataset_id='optimizely', service_key_file_loc=gbq_key, directory='.', verbose=False)\n"
   ]
  },
  {
   "cell_type": "code",
   "execution_count": 4,
   "metadata": {},
   "outputs": [],
   "source": [
    "# Optimizely parameters\n",
    "headers = {\n",
    "    'Authorization': 'Bearer 2:EWAWmaXb4TgtYVU2VvwoEF-9UbJxBahkiFh1633_Oc9nmju7iJis',\n",
    "}\n"
   ]
  },
  {
   "cell_type": "code",
   "execution_count": 5,
   "metadata": {},
   "outputs": [],
   "source": [
    "params = (\n",
    "    ('per_page', 100),\n",
    ") "
   ]
  },
  {
   "cell_type": "code",
   "execution_count": 6,
   "metadata": {},
   "outputs": [],
   "source": [
    "query = open(f'{directory}/existing_experiments.sql').read()"
   ]
  },
  {
   "cell_type": "code",
   "execution_count": 7,
   "metadata": {},
   "outputs": [],
   "source": [
    "def results_generator(start_timestamp, end_timestamp, experiment_id):\n",
    "    now = datetime.strptime(start_timestamp, '%Y-%m-%dT%H:%M:%SZ')\n",
    "    exp_results = []\n",
    "    \n",
    "    while now <= datetime.strptime(end_timestamp,'%Y-%m-%dT%H:%M:%SZ'):\n",
    "        start_ts = datetime.strftime(now, '%Y-%m-%dT%H:%M:%SZ')\n",
    "        end_ts = datetime.strftime(now + timedelta(hours=1), '%Y-%m-%dT%H:%M:%SZ')\n",
    "        params = (\n",
    "            ('per_page', 100),\n",
    "        ) \n",
    "\n",
    "        result_endpoint = f\"https://api.optimizely.com/v2/experiments/{experiment_id}/results?start_time={start_ts}&end_time={end_ts}\"\n",
    "        response_ts = read_endpoint(result_endpoint, headers, params)\n",
    "        print(f\"got experiment {experiment_id}\")\n",
    "\n",
    "        # if '' then the experiment has not started yet\n",
    "        if response_ts == '' or 'bad' in response_ts:\n",
    "            j_ts = {'experiment_id': experiment_id}\n",
    "            new_j_ts = j_ts\n",
    "            new_j_ts['upload_ts'] = str(datetime.utcnow())\n",
    "            new_j_ts['metric_calculating_ts'] = end_ts\n",
    "            exp_results.extend(new_j_ts)\n",
    "\n",
    "        else:\n",
    "\n",
    "            new_j_ts = pope.fix_json_values(callback=fix_values, obj=response_ts, reset_key='results')\n",
    "            newer_j_ts = pope.fix_json_values(callback=fix_values, obj=new_j_ts, reset_key='variations')\n",
    "            flattened_j_ts = generate_results(newer_j_ts)\n",
    "            exp_results.extend(flattened_j_ts)\n",
    "\n",
    "        now += timedelta(hours=1)\n",
    "        \n",
    "    return exp_results"
   ]
  },
  {
   "cell_type": "markdown",
   "metadata": {},
   "source": [
    "# testing experiment status"
   ]
  },
  {
   "cell_type": "code",
   "execution_count": 8,
   "metadata": {},
   "outputs": [],
   "source": [
    "results = pope.bq_query(query)"
   ]
  },
  {
   "cell_type": "code",
   "execution_count": 14,
   "metadata": {},
   "outputs": [],
   "source": [
    "all_exp = []\n",
    "for result in results:\n",
    "    details = {}\n",
    "    details['id'] = result['id']\n",
    "    if result['earliest'] is None:\n",
    "        details['earliest'] = ''\n",
    "        details['status'] = 'experiment_archived'\n",
    "    else:\n",
    "        details['earliest'] = result['earliest']\n",
    "        details['status'] = result['status']\n",
    "    details['last_modified'] = result['last_modified']\n",
    "    all_exp.append(details)"
   ]
  },
  {
   "cell_type": "code",
   "execution_count": 15,
   "metadata": {
    "scrolled": true
   },
   "outputs": [
    {
     "ename": "TypeError",
     "evalue": "'datetime.datetime' object is not subscriptable",
     "output_type": "error",
     "traceback": [
      "\u001b[0;31m---------------------------------------------------------------------------\u001b[0m",
      "\u001b[0;31mTypeError\u001b[0m                                 Traceback (most recent call last)",
      "\u001b[0;32m<ipython-input-15-8b622999ed58>\u001b[0m in \u001b[0;36m<module>\u001b[0;34m()\u001b[0m\n\u001b[1;32m      3\u001b[0m \u001b[0;34m\u001b[0m\u001b[0m\n\u001b[1;32m      4\u001b[0m         \u001b[0;31m# original:\u001b[0m\u001b[0;34m\u001b[0m\u001b[0;34m\u001b[0m\u001b[0m\n\u001b[0;32m----> 5\u001b[0;31m         \u001b[0mstart_timestamp\u001b[0m \u001b[0;34m=\u001b[0m \u001b[0mdatetime\u001b[0m\u001b[0;34m.\u001b[0m\u001b[0mstrftime\u001b[0m\u001b[0;34m(\u001b[0m\u001b[0mexp\u001b[0m\u001b[0;34m[\u001b[0m\u001b[0;34m'earliest'\u001b[0m\u001b[0;34m]\u001b[0m\u001b[0;34m[\u001b[0m\u001b[0;34m:\u001b[0m\u001b[0;36m14\u001b[0m\u001b[0;34m]\u001b[0m\u001b[0;34m,\u001b[0m \u001b[0;34m'%Y-%m-%dT%H:%M:%SZ'\u001b[0m\u001b[0;34m)\u001b[0m \u001b[0;34m+\u001b[0m \u001b[0mstr\u001b[0m\u001b[0;34m(\u001b[0m\u001b[0;34m'00:00Z'\u001b[0m\u001b[0;34m)\u001b[0m\u001b[0;34m\u001b[0m\u001b[0m\n\u001b[0m\u001b[1;32m      6\u001b[0m         \u001b[0mend_timestamp\u001b[0m \u001b[0;34m=\u001b[0m \u001b[0mdatetime\u001b[0m\u001b[0;34m.\u001b[0m\u001b[0mstrftime\u001b[0m\u001b[0;34m(\u001b[0m\u001b[0mexp\u001b[0m\u001b[0;34m[\u001b[0m\u001b[0;34m'last_modified'\u001b[0m\u001b[0;34m]\u001b[0m\u001b[0;34m[\u001b[0m\u001b[0;34m:\u001b[0m\u001b[0;36m14\u001b[0m\u001b[0;34m]\u001b[0m\u001b[0;34m,\u001b[0m \u001b[0;34m'%Y-%m-%dT%H:%M:%SZ'\u001b[0m\u001b[0;34m)\u001b[0m \u001b[0;34m+\u001b[0m \u001b[0mstr\u001b[0m\u001b[0;34m(\u001b[0m\u001b[0;34m'00:00Z'\u001b[0m\u001b[0;34m)\u001b[0m\u001b[0;34m\u001b[0m\u001b[0m\n\u001b[1;32m      7\u001b[0m         \u001b[0mexp_results\u001b[0m \u001b[0;34m=\u001b[0m \u001b[0mresults_generator\u001b[0m\u001b[0;34m(\u001b[0m\u001b[0mstart_timestamp\u001b[0m\u001b[0;34m,\u001b[0m \u001b[0mend_timestamp\u001b[0m\u001b[0;34m,\u001b[0m \u001b[0mexperiment_id\u001b[0m\u001b[0;34m=\u001b[0m\u001b[0mexp\u001b[0m\u001b[0;34m[\u001b[0m\u001b[0;34m'id'\u001b[0m\u001b[0;34m]\u001b[0m\u001b[0;34m)\u001b[0m\u001b[0;34m\u001b[0m\u001b[0m\n",
      "\u001b[0;31mTypeError\u001b[0m: 'datetime.datetime' object is not subscriptable"
     ]
    }
   ],
   "source": [
    "for exp in all_exp:\n",
    "    if exp['status'] == 'archived' or exp['status'] == 'experiment_archived':\n",
    "        \n",
    "        # original:\n",
    "        start_timestamp = datetime.strftime(exp['earliest'], '%Y-%m-%dT%H:%M:%SZ')[:14] + str('00:00Z')\n",
    "        end_timestamp = datetime.strftime(exp['last_modified'], '%Y-%m-%dT%H:%M:%SZ')[:14] + str('00:00Z')\n",
    "        exp_results = results_generator(start_timestamp, end_timestamp, experiment_id=exp['id'])\n",
    "\n",
    "#         pope.write_to_json(file_name=f'{directory}/../uploads/testing_results.json', jayson=exp_results, mode='w')\n",
    "#         pope.write_to_bq(table_name='testing_results', file_name=f'{directory}/../uploads/testing_results.json', append=True, ignore_unknown_values=False, bq_schema_autodetect=False)    \n",
    "\n",
    "        \n",
    "        # chunk up time lapse by hour, make API calls\n",
    "        # no need to update\n",
    "    elif exp['status'] == 'not_started':\n",
    "        # original: do not append\n",
    "        print('no results to be backfilled')\n",
    "        pass\n",
    "        # update:\n",
    "        # each hour, check status change\n",
    "    #     update_status = NewStatus\n",
    "    elif exp['status'] == 'running':\n",
    "        # original:\n",
    "        start_timestamp = exp['earliest'][:14] + str('00:00Z')\n",
    "        end_timestamp = datetime.strftime(datetime.now(), '%Y-%m-%dT%H:%M:%SZ')\n",
    "        exp_results = results_generator(start_timestamp, end_timestamp, experiment_id=exp['id'])\n",
    "\n",
    "        # update:\n",
    "        # each hour, check status change\n",
    "    #     update_status = NewStatus\n",
    "    elif exp['status'] == 'paused':\n",
    "        # original:\n",
    "        start_timestamp = exp['earliest']\n",
    "        end_timestamp = exp['last_modified']\n",
    "        # update:\n",
    "    #     update_status = NewStatus\n",
    "    else:\n",
    "        print('New experiment status. Need to investigate.')\n",
    "    break\n",
    "\n",
    "pope.write_to_json(file_name=f'{directory}/../uploads/testing_results.json', jayson=exp_results, mode='w')\n",
    "# pope.write_to_bq(table_name='testing_results', file_name=f'{directory}/../uploads/testing_results.json', append=True, ignore_unknown_values=False, bq_schema_autodetect=False)    \n"
   ]
  },
  {
   "cell_type": "code",
   "execution_count": null,
   "metadata": {},
   "outputs": [],
   "source": [
    "pope.write_to_bq(table_name='testing_results', file_name=f'{directory}/../uploads/testing_results.json', append=True, ignore_unknown_values=False, bq_schema_autodetect=False)    \n"
   ]
  }
 ],
 "metadata": {
  "kernelspec": {
   "display_name": "Python 3",
   "language": "python",
   "name": "python3"
  },
  "language_info": {
   "codemirror_mode": {
    "name": "ipython",
    "version": 3
   },
   "file_extension": ".py",
   "mimetype": "text/x-python",
   "name": "python",
   "nbconvert_exporter": "python",
   "pygments_lexer": "ipython3",
   "version": "3.6.4"
  }
 },
 "nbformat": 4,
 "nbformat_minor": 2
}
