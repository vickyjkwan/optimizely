{
 "cells": [
  {
   "cell_type": "code",
   "execution_count": 1,
   "metadata": {},
   "outputs": [],
   "source": [
    "import requests"
   ]
  },
  {
   "cell_type": "code",
   "execution_count": 2,
   "metadata": {},
   "outputs": [],
   "source": [
    "import json"
   ]
  },
  {
   "cell_type": "code",
   "execution_count": 18,
   "metadata": {},
   "outputs": [],
   "source": [
    "from main import flatten, fix_values\n",
    "import os"
   ]
  },
  {
   "cell_type": "code",
   "execution_count": 6,
   "metadata": {},
   "outputs": [],
   "source": [
    "proj_endpoint = 'https://api.optimizely.com/v2/projects'\n",
    "exp_endpoint = 'https://api.optimizely.com/v2/experiments'"
   ]
  },
  {
   "cell_type": "code",
   "execution_count": 7,
   "metadata": {},
   "outputs": [],
   "source": [
    "headers = {\n",
    "    'Authorization': 'Bearer 2:EWAWmaXb4TgtYVU2VvwoEF-9UbJxBahkiFh1633_Oc9nmju7iJis',\n",
    "}"
   ]
  },
  {
   "cell_type": "code",
   "execution_count": 4,
   "metadata": {},
   "outputs": [],
   "source": [
    "def read_endpoint(endpoint, headers_set, params_set=None):\n",
    "    try:\n",
    "        response = requests.get(endpoint, headers=headers_set, params=params_set)\n",
    "        response_text = json.loads(response.text)\n",
    "        response.raise_for_status()\n",
    "\n",
    "    except requests.exceptions.HTTPError as err:\n",
    "        print(err)\n",
    "\n",
    "    return response_text"
   ]
  },
  {
   "cell_type": "code",
   "execution_count": 5,
   "metadata": {},
   "outputs": [],
   "source": [
    "def generate_projects(project_endpoint, project_headers):\n",
    "    # get all projects\n",
    "    j_proj = read_endpoint(endpoint=project_endpoint, headers_set=project_headers)\n",
    "\n",
    "    return j_proj"
   ]
  },
  {
   "cell_type": "code",
   "execution_count": 27,
   "metadata": {
    "scrolled": true
   },
   "outputs": [
    {
     "data": {
      "text/plain": [
       "'2019-02-08 13:42:05.606595'"
      ]
     },
     "execution_count": 27,
     "metadata": {},
     "output_type": "execute_result"
    }
   ],
   "source": [
    "str(datetime.now())"
   ]
  },
  {
   "cell_type": "code",
   "execution_count": 26,
   "metadata": {},
   "outputs": [],
   "source": [
    "from datetime import datetime"
   ]
  },
  {
   "cell_type": "code",
   "execution_count": 32,
   "metadata": {},
   "outputs": [],
   "source": [
    "def generate_experiments(project_id, experiment_endpoint, experiment_headers, experiment_params):\n",
    "    # get all experiments from one project\n",
    "    j_exp = read_endpoint(endpoint=experiment_endpoint, headers_set=experiment_headers, params_set=experiment_params)\n",
    "\n",
    "    # loop for all experiments in this project\n",
    "    experiment_id_list = []\n",
    "    upload_exp_list = []\n",
    "    for exp in j_exp:\n",
    "        exp['project_id'] = project_id\n",
    "        exp['upload_ts'] = str(datetime.now())\n",
    "        upload_exp_list.append(flatten(exp, {}, ''))\n",
    "        experiment_id_list.append(exp['id'])\n",
    "        \n",
    "    return upload_exp_list, experiment_id_list"
   ]
  },
  {
   "cell_type": "code",
   "execution_count": 11,
   "metadata": {},
   "outputs": [],
   "source": [
    "project_id_list = []"
   ]
  },
  {
   "cell_type": "code",
   "execution_count": 12,
   "metadata": {},
   "outputs": [],
   "source": [
    "for p in generate_projects(proj_endpoint, headers):\n",
    "    project_id_list.append(p['id'])"
   ]
  },
  {
   "cell_type": "code",
   "execution_count": 13,
   "metadata": {},
   "outputs": [
    {
     "data": {
      "text/plain": [
       "[9965963792, 10347872424, 10427612860, 10429921250, 10849384554]"
      ]
     },
     "execution_count": 13,
     "metadata": {},
     "output_type": "execute_result"
    }
   ],
   "source": [
    "project_id_list"
   ]
  },
  {
   "cell_type": "code",
   "execution_count": 14,
   "metadata": {},
   "outputs": [],
   "source": [
    "params = (\n",
    "    ('project_id', 9965963792),\n",
    "    ('per_page', 100),\n",
    ") "
   ]
  },
  {
   "cell_type": "code",
   "execution_count": 33,
   "metadata": {},
   "outputs": [],
   "source": [
    "exp_list, exp_id_list = generate_experiments(9965963792, exp_endpoint, headers, params)"
   ]
  },
  {
   "cell_type": "code",
   "execution_count": 24,
   "metadata": {},
   "outputs": [
    {
     "name": "stdout",
     "output_type": "stream",
     "text": [
      "11938601024\n",
      "11966791385\n",
      "11992110033\n"
     ]
    }
   ],
   "source": [
    "for exp in exp_list:\n",
    "    if exp['created'] >= '2018-10-23T17:48:46.952180Z':\n",
    "        print(exp['id'])"
   ]
  },
  {
   "cell_type": "code",
   "execution_count": 28,
   "metadata": {},
   "outputs": [
    {
     "data": {
      "text/plain": [
       "str"
      ]
     },
     "execution_count": 28,
     "metadata": {},
     "output_type": "execute_result"
    }
   ],
   "source": [
    "type(exp_list[0]['created'])"
   ]
  },
  {
   "cell_type": "code",
   "execution_count": 30,
   "metadata": {},
   "outputs": [
    {
     "data": {
      "text/plain": [
       "True"
      ]
     },
     "execution_count": 30,
     "metadata": {},
     "output_type": "execute_result"
    }
   ],
   "source": [
    "exp_list[0]['created'] <= str(datetime.now())"
   ]
  },
  {
   "cell_type": "code",
   "execution_count": 34,
   "metadata": {},
   "outputs": [
    {
     "data": {
      "text/plain": [
       "[{'allocation_policy': 'manual',\n",
       "  'audience_conditions': '[\"and\", {\"audience_id\": 10769441047}]',\n",
       "  'campaign_id': 10755791168,\n",
       "  'created': '2018-05-23T17:48:35.952180Z',\n",
       "  'description': 'Testing alternate experience for FT sign up form',\n",
       "  'earliest': '2018-05-25T17:32:25.742000Z',\n",
       "  'holdback': 0,\n",
       "  'id': 10756790433,\n",
       "  'is_classic': False,\n",
       "  'last_modified': '2018-06-03T04:59:26.187040Z',\n",
       "  'latest': '2018-06-03T04:59:28.088920Z',\n",
       "  'metrics_aggregator': 'unique',\n",
       "  'metrics_event_id': 10769480069,\n",
       "  'metrics_scope': 'visitor',\n",
       "  'metrics_winning_direction': 'increasing',\n",
       "  'name': 'FT Signup Variations',\n",
       "  'project_id': 9965963792,\n",
       "  'status': 'paused',\n",
       "  'type': 'a/b',\n",
       "  'upload_ts': '2019-02-08 13:43:51.990231',\n",
       "  'url_targeting_activation_type': 'url_changed',\n",
       "  'url_targeting_conditions': '[\"and\", [\"or\", {\"match_type\": \"simple\", \"type\": \"url\", \"value\": \"freetrial.infusionsoft.com/setup\"}, {\"match_type\": \"simple\", \"type\": \"url\", \"value\": \"freetrial.infusionsoft.com/signup\"}]]',\n",
       "  'url_targeting_edit_url': 'freetrial.infusionsoft.com/setup',\n",
       "  'url_targeting_key': '9965963792_url_targeting_for_ft_signup_variations',\n",
       "  'url_targeting_page_id': 10752650977,\n",
       "  'variations_actions_changes_async': False,\n",
       "  'variations_actions_changes_attributes_hide': True,\n",
       "  'variations_actions_changes_attributes_html': '<span data-v-d77c2e22=\"\" class=\"\">\\n            Start your 14-day free trial\\n        </span>',\n",
       "  'variations_actions_changes_attributes_remove': True,\n",
       "  'variations_actions_changes_attributes_style': 'flex: 1;\\npadding-left:60px;\\npadding-right: 60px;',\n",
       "  'variations_actions_changes_id': 'C5AEB645-B199-45B0-BDC3-11A2ECAC4751',\n",
       "  'variations_actions_changes_operator': 'prepend',\n",
       "  'variations_actions_changes_rearrange_insertSelector': '',\n",
       "  'variations_actions_changes_rearrange_operator': 'before',\n",
       "  'variations_actions_changes_selector': 'div.content',\n",
       "  'variations_actions_changes_type': 'attribute',\n",
       "  'variations_actions_changes_value': '<div class=\"marketing\" style=\"background-image:url(https://preview.ibb.co/d6qQ38/homepage_make_it_personal.png); background-size:contain; background-repeat: no-repeat; background-position:right bottom;  flex:1; padding:20px\"><h3 style=\"text-align:center;\">Capture more leads on the go</h3>\\n</div>',\n",
       "  'variations_actions_page_id': 10752650977,\n",
       "  'variations_actions_share_link': 'http://freetrial.infusionsoft.com/setup?optimizely_token=1023b14998b0975f176cb8cf234dca953e6cb5016d957a058d1a8c7652d7d3fc&optimizely_x=10766970990&optimizely_x_audiences=10769441047&optimizely_preview_layer_ids=10755791168&optimizely_snippet=s3-9965963792',\n",
       "  'variations_archived': False,\n",
       "  'variations_name': 'Add marketing image',\n",
       "  'variations_status': 'active',\n",
       "  'variations_variation_id': 10766970990,\n",
       "  'variations_weight': 5001},\n",
       " {'allocation_policy': 'manual',\n",
       "  'audience_conditions': '[\"and\", {\"audience_id\": 10769441047}]',\n",
       "  'campaign_id': 10809074208,\n",
       "  'created': '2018-06-04T21:31:35.294940Z',\n",
       "  'description': 'Testing alternate experience for FT sign up form',\n",
       "  'earliest': '2018-06-05T00:21:32.338000Z',\n",
       "  'holdback': 0,\n",
       "  'id': 10796678057,\n",
       "  'is_classic': False,\n",
       "  'last_modified': '2018-06-19T16:51:31.358270Z',\n",
       "  'latest': '2018-06-05T16:37:23.898630Z',\n",
       "  'metrics_aggregator': 'unique',\n",
       "  'metrics_event_id': 10800663636,\n",
       "  'metrics_scope': 'visitor',\n",
       "  'metrics_winning_direction': 'increasing',\n",
       "  'name': 'FT Signup Variations',\n",
       "  'project_id': 9965963792,\n",
       "  'status': 'paused',\n",
       "  'type': 'a/b',\n",
       "  'upload_ts': '2019-02-08 13:43:51.990492',\n",
       "  'url_targeting_activation_type': 'url_changed',\n",
       "  'url_targeting_conditions': '[\"and\", [\"or\", {\"match_type\": \"simple\", \"type\": \"url\", \"value\": \"freetrial.infusionsoft.com/setup\"}, {\"match_type\": \"simple\", \"type\": \"url\", \"value\": \"freetrial.infusionsoft.com/signup\"}]]',\n",
       "  'url_targeting_edit_url': 'freetrial.infusionsoft.com/signup',\n",
       "  'url_targeting_key': '9965963792_url_targeting_for_ft_signup_variations_1',\n",
       "  'url_targeting_page_id': 10828180635,\n",
       "  'variations_actions_changes_async': False,\n",
       "  'variations_actions_changes_attributes_hide': True,\n",
       "  'variations_actions_changes_attributes_html': '<div data-v-5edc1046=\"\" data-v-30fa25b4=\"\" class=\"content signup\">\\n  <div data-v-fd3103e8=\"\" data-v-5edc1046=\"\" class=\"signup\" data-v-30fa25b4=\"\">\\n    <!---->\\n    <form data-v-fd3103e8=\"\" novalidate=\"novalidate\">\\n      <div data-v-fd3103e8=\"\" class=\"text\">\\n        <h2 data-v-fd3103e8=\"\">Start your free trial</h2>\\n        <p data-v-fd3103e8=\"\" style=\"\">Start your trial with one click or complete the form below.\\n      </div>\\n      <a href=\"#\"><img src=\"https://image.ibb.co/krxwyT/btn_google_signin_dark_pressed_web_2x.png\" alt=\"btn_google_signin_dark_pressed_web_2x\" border=\"0\" style=\"width:50%; margin-left:23%; margin-top:20px;\"></a>\\n      <p></p>\\n      <a href=\"#\"><img src=\"https://preview.ibb.co/fgo3xo/17639236_1785253958471956_282550797298827264_n.png\" alt=\"17639236_1785253958471956_282550797298827264_n\" border=\"0\" style=\"width:48%; height:; margin-left:24%\"></a>\\n      <hr>\\n      \\n      <div data-v-48d8e631=\"\" data-v-fd3103e8=\"\" class=\"input-field\">\\n        \\n        <input data-v-48d8e631=\"\" type=\"text\" name=\"fullName\" id=\"fullName\" required=\"required\" placeholder=\"\" maxlength=\"232\" pattern=\".*\" autocomplete=\"on\" class=\"\">\\n        <label data-v-48d8e631=\"\" for=\"fullName\">Full name</label>\\n        <!---->\\n      </div>\\n      <div data-v-48d8e631=\"\" data-v-fd3103e8=\"\" class=\"input-field\">\\n        <input data-v-48d8e631=\"\" type=\"email\" name=\"email\" id=\"email\" required=\"required\" placeholder=\"\" maxlength=\"232\" pattern=\".*\" autocomplete=\"on\" class=\"\">\\n        <label data-v-48d8e631=\"\" for=\"email\">Email</label>\\n        <!---->\\n      </div>\\n      <div data-v-fd3103e8=\"\" class=\"phone-input\">\\n        <div data-v-48d8e631=\"\" class=\"input-field phone-input-field\">\\n          <input data-v-48d8e631=\"\" type=\"tel\" name=\"phone\" id=\"phone\" placeholder=\"\" maxlength=\"30\" pattern=\".*\" autocomplete=\"on\" class=\"\">\\n          <label data-v-48d8e631=\"\" for=\"phone\">Phone</label>\\n          <!---->\\n        </div>\\n      </div>\\n      <div data-v-48d8e631=\"\" data-v-fd3103e8=\"\" class=\"input-field\">\\n        <input data-v-48d8e631=\"\" type=\"password\" name=\"password\" id=\"password\" required=\"required\" placeholder=\"\" maxlength=\"232\" pattern=\".*\" autocomplete=\"on\" class=\"\">\\n        <label data-v-48d8e631=\"\" for=\"password\">Password</label>\\n        <div data-v-48d8e631=\"\" class=\"toggle-password\">\\n          <svg data-v-6f7337fa=\"\" data-v-48d8e631=\"\" class=\"icon\">\\n            <use data-v-6f7337fa=\"\" xlink:href=\"#eye-show\"></use>\\n          </svg>\\n        </div>\\n      </div>\\n      <div data-v-fd3103e8=\"\" class=\"password-help\">\\n        <div data-v-fd3103e8=\"\" class=\"help\">\\n          <svg data-v-6f7337fa=\"\" data-v-fd3103e8=\"\" class=\"icon\">\\n            <use data-v-6f7337fa=\"\" xlink:href=\"#checkmark\"></use>\\n          </svg> <span data-v-fd3103e8=\"\">One uppercase letter</span></div>\\n        <div data-v-fd3103e8=\"\" class=\"help\">\\n          <svg data-v-6f7337fa=\"\" data-v-fd3103e8=\"\" class=\"icon\">\\n            <use data-v-6f7337fa=\"\" xlink:href=\"#checkmark\"></use>\\n          </svg> <span data-v-fd3103e8=\"\">One lowercase letter</span></div>\\n        <div data-v-fd3103e8=\"\" class=\"help\">\\n          <svg data-v-6f7337fa=\"\" data-v-fd3103e8=\"\" class=\"icon\">\\n            <use data-v-6f7337fa=\"\" xlink:href=\"#checkmark\"></use>\\n          </svg> <span data-v-fd3103e8=\"\">One number</span></div>\\n        <div data-v-fd3103e8=\"\" class=\"help\">\\n          <svg data-v-6f7337fa=\"\" data-v-fd3103e8=\"\" class=\"icon\">\\n            <use data-v-6f7337fa=\"\" xlink:href=\"#checkmark\"></use>\\n          </svg> <span data-v-fd3103e8=\"\">7 characters minimum</span></div>\\n      </div>\\n      <br data-v-fd3103e8=\"\">\\n      <div data-v-1decce78=\"\" data-v-fd3103e8=\"\" class=\"button-loading block\">\\n        <button data-v-1decce78=\"\" type=\"submit\" data-qa=\"\" class=\"icon-button block\"><span data-v-1decce78=\"\" class=\"\">\\n            Start my 14-day trial\\n        </span></button> <span data-v-1decce78=\"\" class=\"spinner\" style=\"display: none;\"></span></div>\\n      <!---->\\n    </form>\\n  </div>\\n</div>',\n",
       "  'variations_actions_changes_attributes_remove': True,\n",
       "  'variations_actions_changes_attributes_style': 'display:none\\t',\n",
       "  'variations_actions_changes_id': '3D741065-7C92-4DF2-8E7E-B8906FE66CC3',\n",
       "  'variations_actions_changes_rearrange_insertSelector': '',\n",
       "  'variations_actions_changes_rearrange_operator': 'before',\n",
       "  'variations_actions_changes_selector': '.icon-button',\n",
       "  'variations_actions_changes_type': 'attribute',\n",
       "  'variations_actions_changes_value': 'body .xl .modal-body-inner{\\n\\tflex-direction: row;\\n  justify-content: space-around;\\n}\\n@media only screen and (max-width: 768px) {\\n    .xl .modal-body-inner .marketing{\\n      display:none;\\n    }\\n}',\n",
       "  'variations_actions_page_id': 10828180635,\n",
       "  'variations_actions_share_link': 'http://freetrial.infusionsoft.com/signup?optimizely_token=1023b14998b0975f176cb8cf234dca953e6cb5016d957a058d1a8c7652d7d3fc&optimizely_x=10800232086&optimizely_x_audiences=10769441047&optimizely_preview_layer_ids=10809074208&optimizely_snippet=s3-9965963792',\n",
       "  'variations_archived': False,\n",
       "  'variations_name': 'Social sign up links',\n",
       "  'variations_status': 'active',\n",
       "  'variations_variation_id': 10800232086,\n",
       "  'variations_weight': 5000},\n",
       " {'allocation_policy': 'manual',\n",
       "  'audience_conditions': '[\"and\", {\"audience_id\": 10769441047}]',\n",
       "  'campaign_id': 10794798814,\n",
       "  'created': '2018-06-08T23:52:53.218670Z',\n",
       "  'description': 'Testing alternate experience for FT sign up form',\n",
       "  'earliest': '2018-06-09T03:45:50.776100Z',\n",
       "  'holdback': 0,\n",
       "  'id': 10800885728,\n",
       "  'is_classic': False,\n",
       "  'last_modified': '2018-06-26T15:42:05.488767Z',\n",
       "  'latest': '2018-06-26T15:42:06.744472Z',\n",
       "  'metrics_aggregator': 'unique',\n",
       "  'metrics_event_id': 10835602011,\n",
       "  'metrics_scope': 'visitor',\n",
       "  'metrics_winning_direction': 'increasing',\n",
       "  'name': 'Signup test - June 8 2018',\n",
       "  'project_id': 9965963792,\n",
       "  'status': 'paused',\n",
       "  'type': 'a/b',\n",
       "  'upload_ts': '2019-02-08 13:43:51.990711',\n",
       "  'url_targeting_activation_type': 'url_changed',\n",
       "  'url_targeting_conditions': '[\"and\", [\"or\", {\"match_type\": \"simple\", \"type\": \"url\", \"value\": \"freetrial.infusionsoft.com/setup\"}, {\"match_type\": \"simple\", \"type\": \"url\", \"value\": \"freetrial.infusionsoft.com/signup\"}]]',\n",
       "  'url_targeting_edit_url': 'freetrial.infusionsoft.com/setup',\n",
       "  'url_targeting_key': '9965963792_url_targeting_for_ft_signup_variations_2',\n",
       "  'url_targeting_page_id': 10800487719,\n",
       "  'variations_actions_changes_async': False,\n",
       "  'variations_actions_changes_attributes_hide': True,\n",
       "  'variations_actions_changes_attributes_html': '<span data-v-d77c2e22=\"\" class=\"\">\\n            Start my 14-day free trial\\n        </span>',\n",
       "  'variations_actions_changes_attributes_remove': True,\n",
       "  'variations_actions_changes_attributes_style': 'flex: 1;\\npadding-left:60px;\\npadding-right: 60px;',\n",
       "  'variations_actions_changes_id': '1FB71A36-1544-46A2-89B3-1E4A948EBC90',\n",
       "  'variations_actions_changes_operator': 'append',\n",
       "  'variations_actions_changes_rearrange_insertSelector': '',\n",
       "  'variations_actions_changes_rearrange_operator': 'before',\n",
       "  'variations_actions_changes_selector': 'div.content',\n",
       "  'variations_actions_changes_type': 'insert_html',\n",
       "  'variations_actions_changes_value': '<p style=\"text-align:center; font-size:12px; margin-top:16px;\">No credit card required.</p>\\n<p style=\"text-align:center\"><svg xmlns=\"http://www.w3.org/2000/svg\" width=\"164\" viewBox=\"0 0 220 30\" version=\"1.1\"><desc>Created with Sketch.</desc><defs><polygon points=\"0 29.9 219.5 29.9 219.5 0 0 0\"></polygon></defs><g stroke=\"none\" stroke-width=\"1\" fill=\"none\" fill-rule=\"evenodd\"><g transform=\"translate(-278.000000, -96.000000)\"><g transform=\"translate(278.000000, 96.000000)\"><path d=\"M48.7 28.2L48.7 17.1C48.7 13.9 47.2 12.4 44.4 12.4 41.3 12.4 39.4 14.9 39.4 18L39.4 28.2 35.1 28.2 35.1 9 39.3 9 39.3 10.9 40.2 10.9C41.3 9.4 43.1 8.6 45.7 8.6 50.5 8.6 52.9 11.5 52.9 16.2L52.9 28.2 48.7 28.2Z\" fill=\"#4A5AC5\"></path><path d=\"M62 12.7L62 28.2 57.7 28.2 57.7 12.7 54.7 12.7 54.7 9 57.7 9 57.7 7.3C57.7 2.7 60.5 0.9 64.9 0.9L67 0.9 67 4.5 64.9 4.5C62.8 4.5 62 5.9 62 7.5L62 9 67 9 67 12.7 62 12.7Z\" fill=\"#4A5AC5\"></path><path d=\"M73.3 9L73.3 20.2C73.3 23.3 74.7 24.9 77.6 24.9 80.6 24.9 82.6 22.3 82.6 19.3L82.6 9 86.8 9 86.8 28.2 82.7 28.2 82.7 26.3 81.8 26.3C80.7 27.8 78.8 28.7 76.3 28.7 71.5 28.7 69 25.8 69 21L69 9 73.3 9Z\" fill=\"#4A5AC5\"></path><path d=\"M101.6 14.2C101.4 12.5 99.8 12.1 97.8 12.1 95.8 12.1 94.4 12.7 94.4 14.1 94.4 15.3 95.2 15.7 96.8 16L100.6 16.6C104.1 17.2 106.4 19 106.4 22.5 106.4 25.7 103.6 28.7 98.2 28.7 92.5 28.7 89.8 26.2 89.4 22.4L93.6 22.4C94 24.3 95.6 25.1 98.1 25.1 100.6 25.1 102.2 24.4 102.2 22.6 102.2 21.2 101.2 20.5 99 20.1L95 19.4C92.1 18.9 90.1 17.4 90.1 14.4 90.1 11.1 92.5 8.6 98 8.6 102.7 8.6 105.5 10.8 105.9 14.2L101.6 14.2Z\" fill=\"#4A5AC5\"></path><mask fill=\"white\"></mask><path d=\"M109.1 28.2L113.3 28.2 113.3 9 109.1 9 109.1 28.2ZM109 4.9L113.4 4.9 113.4 0.9 109 0.9 109 4.9Z\" fill=\"#4A5AC5\" mask=\"url(#mask-2)\"></path><path d=\"M131.4 18.6C131.4 15.2 129.7 12.2 126 12.2 122.3 12.2 120.6 15.2 120.6 18.6 120.6 22 122.3 25.1 126 25.1 129.7 25.1 131.4 22 131.4 18.6M135.7 18.6C135.7 24.5 132.1 28.7 126 28.7 120 28.7 116.3 24.5 116.3 18.6 116.3 12.8 120 8.6 126 8.6 132.1 8.6 135.7 12.8 135.7 18.6\" fill=\"#4A5AC5\" mask=\"url(#mask-2)\"></path><path d=\"M152.1 28.2L152.1 17.1C152.1 13.9 150.7 12.4 147.9 12.4 144.8 12.4 142.9 14.9 142.9 18L142.9 28.2 138.6 28.2 138.6 9 142.7 9 142.7 10.9 143.6 10.9C144.7 9.4 146.6 8.6 149.2 8.6 154 8.6 156.4 11.5 156.4 16.2L156.4 28.2 152.1 28.2Z\" fill=\"#4A5AC5\" mask=\"url(#mask-2)\"></path><path d=\"M158.7 23L161.1 23C161.5 25.3 163.5 26.6 166.7 26.6 170 26.6 172.1 25.4 172.1 23 172.1 21.1 171.1 20 168.3 19.6 167.5 19.5 165.1 19.1 163.8 18.8 161.3 18.3 159.5 16.9 159.5 14.3 159.5 11.2 161.9 8.9 166.8 8.9 171 8.9 173.6 11 174 14.1L171.6 14.1C171.4 12.1 169.2 11 166.6 11 163.6 11 161.9 12.1 161.9 14 161.9 15.7 162.9 16.4 165.1 16.9 165.7 17 166.4 17 166.9 17.2L169.3 17.5C172.4 18.1 174.5 19.7 174.5 22.9 174.5 25.9 171.8 28.7 166.9 28.7 161.8 28.7 159.2 26.4 158.7 23\" fill=\"#3A3A3A\" mask=\"url(#mask-2)\"></path><path d=\"M192.1 18.8C192.1 14.8 189.9 11 185.4 11 180.7 11 178.6 14.8 178.6 18.8 178.6 22.7 180.7 26.6 185.4 26.6 189.9 26.6 192.1 22.7 192.1 18.8M194.5 18.8C194.5 24.2 191.2 28.7 185.4 28.7 179.5 28.7 176.2 24.2 176.2 18.8 176.2 13.3 179.5 8.9 185.4 8.9 191.2 8.9 194.5 13.3 194.5 18.8\" fill=\"#3A3A3A\" mask=\"url(#mask-2)\"></path><path d=\"M201.5 11.5L201.5 28.2 199.1 28.2 199.1 11.5 195.6 11.5 195.6 9.4 199.1 9.4 199.1 6.9C199.1 2.9 201.2 0.9 205.2 0.9L206.8 0.9 206.8 3 205.2 3C202.4 3 201.5 4.7 201.5 6.9L201.5 9.4 206.8 9.4 206.8 11.5 201.5 11.5Z\" fill=\"#3A3A3A\" mask=\"url(#mask-2)\"></path><path d=\"M219.5 9.4L219.5 11.5 214.5 11.5 214.5 22.9C214.5 25 215.4 26.1 218.2 26.1L219.5 26.1 219.5 28.2 218.2 28.2C214.1 28.2 212.1 26.9 212.1 23.1L212.1 11.5 208.6 11.5 208.6 9.4 212.1 9.4 212.1 3.6 214.5 3.6 214.5 9.4 219.5 9.4Z\" fill=\"#3A3A3A\" mask=\"url(#mask-2)\"></path><polygon fill=\"#4A5AC5\" mask=\"url(#mask-2)\" points=\"16.4 13.4 16.4 0 0 10.1 13.7 15\"></polygon><polygon fill=\"#4A5AC5\" mask=\"url(#mask-2)\" points=\"13.7 15 12.5 15.8 13.3 16.1 16.8 17.3 16.8 28.3 1.2 22.7 0 23.5 17.9 29.9 17.9 16.5\"></polygon><polyline fill=\"#4A5AC5\" mask=\"url(#mask-2)\" points=\"12.5 15.8 0 11.3 0 23.5\"></polyline><polygon fill=\"#4A5AC5\" mask=\"url(#mask-2)\" points=\"25.7 27.4 29.9 27.4 29.9 0.8 25.7 0.8\"></polygon></g></g></g></svg></p>\\n<p style=\"font-size:10px; text-align:center\">By signing up, you agree to the <a href=\"https://www.infusionsoft.com/legal/terms-of-use\" target=\"_blank\">terms of use</a>.</p>',\n",
       "  'variations_actions_page_id': 10800487719,\n",
       "  'variations_actions_share_link': 'http://freetrial.infusionsoft.com/setup?optimizely_token=1023b14998b0975f176cb8cf234dca953e6cb5016d957a058d1a8c7652d7d3fc&optimizely_x=10812617005&optimizely_x_audiences=10769441047&optimizely_preview_layer_ids=10794798814&optimizely_snippet=s3-9965963792',\n",
       "  'variations_archived': False,\n",
       "  'variations_name': 'Adding guidance copy',\n",
       "  'variations_status': 'active',\n",
       "  'variations_variation_id': 10812617005,\n",
       "  'variations_weight': 5000},\n",
       " {'allocation_policy': 'manual',\n",
       "  'audience_conditions': 'everyone',\n",
       "  'campaign_id': 10794104319,\n",
       "  'created': '2018-06-04T21:19:40.691470Z',\n",
       "  'description': 'Testing the conversion rate by offering dummy Google & Facebook signup links',\n",
       "  'holdback': 0,\n",
       "  'id': 10815382176,\n",
       "  'is_classic': False,\n",
       "  'last_modified': '2018-06-04T21:55:31.744340Z',\n",
       "  'name': 'Social Signup',\n",
       "  'project_id': 9965963792,\n",
       "  'status': 'not_started',\n",
       "  'type': 'a/b',\n",
       "  'upload_ts': '2019-02-08 13:43:51.990845',\n",
       "  'url_targeting_activation_type': 'immediate',\n",
       "  'url_targeting_conditions': '[\"and\", [\"or\", {\"match_type\": \"simple\", \"type\": \"url\", \"value\": \"http://freetrial.infusionsoft.com/signup\"}]]',\n",
       "  'url_targeting_edit_url': 'http://freetrial.infusionsoft.com/signup',\n",
       "  'url_targeting_key': '9965963792_url_targeting_for_social_signup',\n",
       "  'url_targeting_page_id': 10794704392,\n",
       "  'variations_actions_changes_async': False,\n",
       "  'variations_actions_changes_id': 'C0890E36-38BF-43F3-8D24-357B54825C54',\n",
       "  'variations_actions_changes_selector': 'head',\n",
       "  'variations_actions_changes_type': 'custom_css',\n",
       "  'variations_actions_changes_value': 'body .xl .modal-body-inner{\\n  flex-direction: row;\\n\\tjustify-content: space-around;\\n}\\n@media only screen and (max-width: 768px) {\\n    .xl .modal-body-inner .marketing{\\n      display:none;\\n    }\\n}',\n",
       "  'variations_actions_page_id': 10794704392,\n",
       "  'variations_actions_share_link': 'http://freetrial.infusionsoft.com/signup?optimizely_token=1023b14998b0975f176cb8cf234dca953e6cb5016d957a058d1a8c7652d7d3fc&optimizely_x=10792835517&optimizely_x_audiences=&optimizely_preview_layer_ids=10794104319&optimizely_snippet=s3-9965963792',\n",
       "  'variations_archived': False,\n",
       "  'variations_name': 'Variation #1',\n",
       "  'variations_status': 'active',\n",
       "  'variations_variation_id': 10792835517,\n",
       "  'variations_weight': 5000},\n",
       " {'allocation_policy': 'manual',\n",
       "  'audience_conditions': '[\"and\", {\"audience_id\": 10964343480}]',\n",
       "  'campaign_id': 10993460826,\n",
       "  'created': '2018-06-29T21:17:35.621967Z',\n",
       "  'description': 'With & without left-hand carousel',\n",
       "  'earliest': '2018-07-02T06:05:18.561674Z',\n",
       "  'holdback': 0,\n",
       "  'id': 10945903729,\n",
       "  'is_classic': False,\n",
       "  'last_modified': '2018-07-07T22:13:47.970600Z',\n",
       "  'latest': '2018-07-07T22:13:49.321260Z',\n",
       "  'metrics_aggregator': 'unique',\n",
       "  'metrics_event_id': 10601774395,\n",
       "  'metrics_scope': 'visitor',\n",
       "  'metrics_winning_direction': 'increasing',\n",
       "  'name': 'FT Sign Up June 29',\n",
       "  'project_id': 9965963792,\n",
       "  'status': 'paused',\n",
       "  'type': 'a/b',\n",
       "  'upload_ts': '2019-02-08 13:43:51.990890',\n",
       "  'variations_actions_changes_async': False,\n",
       "  'variations_actions_changes_attributes_remove': True,\n",
       "  'variations_actions_changes_id': '28A7EB85-7201-4E8A-842F-AFCDC2F4259E',\n",
       "  'variations_actions_changes_rearrange_insertSelector': '',\n",
       "  'variations_actions_changes_rearrange_operator': 'before',\n",
       "  'variations_actions_changes_selector': '.banner-container',\n",
       "  'variations_actions_changes_type': 'attribute',\n",
       "  'variations_actions_page_id': 10758740651,\n",
       "  'variations_actions_share_link': 'http://freetrial.infusionsoft.com/setup?optimizely_token=1023b14998b0975f176cb8cf234dca953e6cb5016d957a058d1a8c7652d7d3fc&optimizely_x=10939992988&optimizely_x_audiences=10964343480&optimizely_preview_layer_ids=10993460826&optimizely_snippet=s3-9965963792',\n",
       "  'variations_archived': False,\n",
       "  'variations_name': 'No Carousel',\n",
       "  'variations_status': 'active',\n",
       "  'variations_variation_id': 10939992988,\n",
       "  'variations_weight': 5000},\n",
       " {'allocation_policy': 'manual',\n",
       "  'audience_conditions': 'everyone',\n",
       "  'campaign_id': 10966190380,\n",
       "  'created': '2018-06-26T15:40:11.421290Z',\n",
       "  'holdback': 0,\n",
       "  'id': 10955300529,\n",
       "  'is_classic': False,\n",
       "  'last_modified': '2018-06-26T15:40:11.421309Z',\n",
       "  'name': 'Sign Up Test Free Trial',\n",
       "  'project_id': 9965963792,\n",
       "  'status': 'archived',\n",
       "  'type': 'a/b',\n",
       "  'upload_ts': '2019-02-08 13:43:51.990946',\n",
       "  'url_targeting_activation_type': 'immediate',\n",
       "  'url_targeting_conditions': '[\"and\", [\"or\", {\"match_type\": \"simple\", \"type\": \"url\", \"value\": \"freetrial.infusionsoft.com/signup\"}]]',\n",
       "  'url_targeting_edit_url': 'freetrial.infusionsoft.com/signup',\n",
       "  'url_targeting_key': '9965963792_url_targeting_for_sign_up_test_free_trial',\n",
       "  'url_targeting_page_id': 10949530600,\n",
       "  'variations_archived': False,\n",
       "  'variations_name': 'Variation #1',\n",
       "  'variations_status': 'active',\n",
       "  'variations_variation_id': 10964330440,\n",
       "  'variations_weight': 5000},\n",
       " {'allocation_policy': 'manual',\n",
       "  'audience_conditions': 'everyone',\n",
       "  'campaign_id': 11041413439,\n",
       "  'created': '2018-07-07T22:18:03.362400Z',\n",
       "  'description': 'Switching \"Email\" field to say \"Company Email\" - will lead quality increase and will form conversion be impacted?',\n",
       "  'earliest': '2018-07-07T22:25:27.209360Z',\n",
       "  'holdback': 0,\n",
       "  'id': 11039523400,\n",
       "  'is_classic': False,\n",
       "  'last_modified': '2018-07-10T15:45:19.606040Z',\n",
       "  'latest': '2018-07-08T18:29:55.140960Z',\n",
       "  'metrics_aggregator': 'sum',\n",
       "  'metrics_event_id': 10601774395,\n",
       "  'metrics_field': 'revenue',\n",
       "  'metrics_scope': 'visitor',\n",
       "  'metrics_winning_direction': 'increasing',\n",
       "  'name': 'FT Sign Up Company Email Field July 7',\n",
       "  'project_id': 9965963792,\n",
       "  'status': 'paused',\n",
       "  'type': 'a/b',\n",
       "  'upload_ts': '2019-02-08 13:43:51.990980',\n",
       "  'variations_archived': False,\n",
       "  'variations_name': 'Label says \"Business Email\"',\n",
       "  'variations_status': 'active',\n",
       "  'variations_variation_id': 11047562271,\n",
       "  'variations_weight': 3334},\n",
       " {'allocation_policy': 'manual',\n",
       "  'audience_conditions': 'everyone',\n",
       "  'campaign_id': 11925471502,\n",
       "  'created': '2018-10-26T01:28:19.948287Z',\n",
       "  'holdback': 0,\n",
       "  'id': 11938601024,\n",
       "  'is_classic': False,\n",
       "  'last_modified': '2018-10-26T01:29:37.128155Z',\n",
       "  'name': 'FT Sign Up Coaching Offer',\n",
       "  'project_id': 9965963792,\n",
       "  'status': 'archived',\n",
       "  'type': 'a/b',\n",
       "  'upload_ts': '2019-02-08 13:43:51.991029',\n",
       "  'url_targeting_activation_type': 'immediate',\n",
       "  'url_targeting_conditions': '[\"and\", [\"or\", {\"match_type\": \"simple\", \"type\": \"url\", \"value\": \"www.infusionsoft.com\"}]]',\n",
       "  'url_targeting_edit_url': 'www.infusionsoft.com',\n",
       "  'url_targeting_key': '9965963792_url_targeting_for_ft_sign_up_coaching_offer',\n",
       "  'url_targeting_page_id': 11963181011,\n",
       "  'variations_actions_changes_async': False,\n",
       "  'variations_actions_changes_attributes_href': 'https://freetrial.infusionsoft.com/signup/2',\n",
       "  'variations_actions_changes_id': 'D5A8A67F-DF10-43AA-B05C-C3F75F5D59F7',\n",
       "  'variations_actions_changes_rearrange_insertSelector': '',\n",
       "  'variations_actions_changes_rearrange_operator': 'before',\n",
       "  'variations_actions_changes_selector': '.homepage-hero-ft-cta',\n",
       "  'variations_actions_changes_type': 'attribute',\n",
       "  'variations_actions_page_id': 11963181011,\n",
       "  'variations_actions_share_link': 'http://www.infusionsoft.com?optimizely_token=1023b14998b0975f176cb8cf234dca953e6cb5016d957a058d1a8c7652d7d3fc&optimizely_x=11954491607&optimizely_x_audiences=&optimizely_preview_layer_ids=11925471502&optimizely_snippet=s3-9965963792',\n",
       "  'variations_archived': False,\n",
       "  'variations_name': 'Variation #1',\n",
       "  'variations_status': 'active',\n",
       "  'variations_variation_id': 11954491607,\n",
       "  'variations_weight': 5000},\n",
       " {'allocation_policy': 'manual',\n",
       "  'audience_conditions': 'everyone',\n",
       "  'campaign_id': 11950682079,\n",
       "  'created': '2018-10-26T16:46:02.778092Z',\n",
       "  'holdback': 0,\n",
       "  'id': 11966791385,\n",
       "  'is_classic': False,\n",
       "  'last_modified': '2018-10-26T16:46:02.778120Z',\n",
       "  'name': 'FT Sign Up Form Coaching Offer',\n",
       "  'project_id': 9965963792,\n",
       "  'status': 'not_started',\n",
       "  'type': 'a/b',\n",
       "  'upload_ts': '2019-02-08 13:43:51.991077',\n",
       "  'url_targeting_activation_type': 'immediate',\n",
       "  'url_targeting_conditions': '[\"and\", [\"or\", {\"match_type\": \"simple\", \"type\": \"url\", \"value\": \"https://freetrial.infusionsoft.com/signup\"}]]',\n",
       "  'url_targeting_edit_url': 'https://freetrial.infusionsoft.com/signup',\n",
       "  'url_targeting_key': '9965963792_url_targeting_for_ft_sign_up_form_coaching_offer',\n",
       "  'url_targeting_page_id': 11958162065,\n",
       "  'variations_archived': False,\n",
       "  'variations_name': 'Variation #1',\n",
       "  'variations_status': 'active',\n",
       "  'variations_variation_id': 11942681695,\n",
       "  'variations_weight': 5000},\n",
       " {'allocation_policy': 'manual',\n",
       "  'audience_conditions': 'everyone',\n",
       "  'campaign_id': 11935062681,\n",
       "  'created': '2018-10-26T01:31:11.412713Z',\n",
       "  'holdback': 0,\n",
       "  'id': 11992110033,\n",
       "  'is_classic': False,\n",
       "  'last_modified': '2018-10-26T01:32:00.228869Z',\n",
       "  'metrics_aggregator': 'unique',\n",
       "  'metrics_event_id': 10601774395,\n",
       "  'metrics_scope': 'visitor',\n",
       "  'metrics_winning_direction': 'increasing',\n",
       "  'name': 'FT Sign Up Coaching Offer',\n",
       "  'project_id': 9965963792,\n",
       "  'status': 'archived',\n",
       "  'type': 'a/b',\n",
       "  'upload_ts': '2019-02-08 13:43:51.991110',\n",
       "  'url_targeting_activation_type': 'immediate',\n",
       "  'url_targeting_conditions': '[\"and\", [\"or\", {\"match_type\": \"simple\", \"type\": \"url\", \"value\": \"www.infusionsoft.com\"}]]',\n",
       "  'url_targeting_edit_url': 'www.infusionsoft.com',\n",
       "  'url_targeting_key': '9965963792_url_targeting_for_ft_sign_up_coaching_offer_1',\n",
       "  'url_targeting_page_id': 11933141690,\n",
       "  'variations_actions_changes_async': False,\n",
       "  'variations_actions_changes_attributes_href': 'https://freetrial.infusionsoft.com/signup/2',\n",
       "  'variations_actions_changes_id': 'CAE0BD33-7160-429C-BA16-A6A7E73F558A',\n",
       "  'variations_actions_changes_rearrange_insertSelector': '',\n",
       "  'variations_actions_changes_rearrange_operator': 'before',\n",
       "  'variations_actions_changes_selector': '.homepage-hero-ft-cta',\n",
       "  'variations_actions_changes_type': 'attribute',\n",
       "  'variations_actions_page_id': 11933141690,\n",
       "  'variations_actions_share_link': 'http://www.infusionsoft.com?optimizely_token=1023b14998b0975f176cb8cf234dca953e6cb5016d957a058d1a8c7652d7d3fc&optimizely_x=11970581627&optimizely_x_audiences=&optimizely_preview_layer_ids=11935062681&optimizely_snippet=s3-9965963792',\n",
       "  'variations_archived': False,\n",
       "  'variations_name': 'Redirect FT CTA to freetrial.infusionsoft.com/signup/2',\n",
       "  'variations_status': 'active',\n",
       "  'variations_variation_id': 11970581627,\n",
       "  'variations_weight': 5000}]"
      ]
     },
     "execution_count": 34,
     "metadata": {},
     "output_type": "execute_result"
    }
   ],
   "source": [
    "exp_list"
   ]
  },
  {
   "cell_type": "code",
   "execution_count": 43,
   "metadata": {},
   "outputs": [],
   "source": [
    "import popelines"
   ]
  },
  {
   "cell_type": "code",
   "execution_count": 45,
   "metadata": {},
   "outputs": [],
   "source": [
    "gbq_key = os.environ.get('GOOGLE_ACCOUNT_CREDENTIALS')"
   ]
  },
  {
   "cell_type": "code",
   "execution_count": 46,
   "metadata": {},
   "outputs": [],
   "source": [
    "pope = popelines.popeline(dataset_id='optimizely', service_key_file_loc=gbq_key, directory='.', verbose=False)\n"
   ]
  },
  {
   "cell_type": "markdown",
   "metadata": {},
   "source": [
    "# test specific experiment"
   ]
  },
  {
   "cell_type": "code",
   "execution_count": 70,
   "metadata": {},
   "outputs": [],
   "source": [
    "result_endpoint = 'https://api.optimizely.com/v2/experiments/10815382176/timeseries'\n",
    "# result_endpoint = 'https://api.optimizely.com/v2/experiments/10756790433/timeseries'\n",
    "response_ts = requests.get(result_endpoint, headers=headers)"
   ]
  },
  {
   "cell_type": "code",
   "execution_count": 72,
   "metadata": {},
   "outputs": [
    {
     "ename": "NameError",
     "evalue": "name 'experiment_id' is not defined",
     "output_type": "error",
     "traceback": [
      "\u001b[0;31m---------------------------------------------------------------------------\u001b[0m",
      "\u001b[0;31mNameError\u001b[0m                                 Traceback (most recent call last)",
      "\u001b[0;32m<ipython-input-72-9b0ca4135fc0>\u001b[0m in \u001b[0;36m<module>\u001b[0;34m()\u001b[0m\n\u001b[1;32m      1\u001b[0m \u001b[0;32mif\u001b[0m \u001b[0mresponse_ts\u001b[0m\u001b[0;34m.\u001b[0m\u001b[0mtext\u001b[0m \u001b[0;34m==\u001b[0m \u001b[0;34m''\u001b[0m\u001b[0;34m:\u001b[0m\u001b[0;34m\u001b[0m\u001b[0m\n\u001b[0;32m----> 2\u001b[0;31m     \u001b[0mj_ts\u001b[0m \u001b[0;34m=\u001b[0m \u001b[0;34m{\u001b[0m\u001b[0;34m'experiment_id'\u001b[0m\u001b[0;34m:\u001b[0m \u001b[0mexperiment_id\u001b[0m\u001b[0;34m}\u001b[0m\u001b[0;34m\u001b[0m\u001b[0m\n\u001b[0m\u001b[1;32m      3\u001b[0m \u001b[0;32melse\u001b[0m\u001b[0;34m:\u001b[0m\u001b[0;34m\u001b[0m\u001b[0m\n\u001b[1;32m      4\u001b[0m     \u001b[0mj_ts\u001b[0m \u001b[0;34m=\u001b[0m \u001b[0mjson\u001b[0m\u001b[0;34m.\u001b[0m\u001b[0mloads\u001b[0m\u001b[0;34m(\u001b[0m\u001b[0mresponse_ts\u001b[0m\u001b[0;34m.\u001b[0m\u001b[0mtext\u001b[0m\u001b[0;34m)\u001b[0m\u001b[0;34m\u001b[0m\u001b[0m\n\u001b[1;32m      5\u001b[0m \u001b[0;34m\u001b[0m\u001b[0m\n",
      "\u001b[0;31mNameError\u001b[0m: name 'experiment_id' is not defined"
     ]
    }
   ],
   "source": [
    "if response_ts.text == '':\n",
    "    j_ts = {'experiment_id': experiment_id}\n",
    "else:\n",
    "    j_ts = json.loads(response_ts.text)\n",
    "\n",
    "new_j_ts = pope.fix_json_values(callback=fix_values, obj=j_ts, reset_key='results')\n",
    "\n",
    "flattened_metrics = []\n",
    "\n",
    "for metric in new_j_ts['metrics']:\n",
    "    for result in metric['results']:\n",
    "        for timeseries in result['timeseries']:\n",
    "            new_dict = {}\n",
    "            new_dict['aggregator'] = metric['aggregator']\n",
    "            new_dict['event_id'] = metric['event_id']\n",
    "            new_dict['name'] = metric['name']\n",
    "            new_dict['scope'] = metric['scope']\n",
    "            new_dict['winning_direction'] = metric['winning_direction']\n",
    "\n",
    "            new_dict['result_is_baseline'] = result['is_baseline']\n",
    "            new_dict['result_level'] = result['level']\n",
    "            new_dict['result_name'] = result['name']\n",
    "            new_dict['result_variation_id'] = result['variation_id']\n",
    "            new_dict['result_id'] = result['results_id']\n",
    "            \n",
    "            if 'rate' in timeseries.keys():\n",
    "                new_dict['time_series_rate'] = timeseries['rate']\n",
    "            else:\n",
    "                pass\n",
    "            \n",
    "            new_dict['time_series_time'] = timeseries['time']\n",
    "            new_dict['time_series_value'] = timeseries['value']\n",
    "            new_dict['time_series_samples'] = timeseries['samples']\n",
    "            new_dict['time_series_variance'] = timeseries['variance']\n",
    "\n",
    "            flattened_metrics.append(new_dict)\n",
    "new_j_ts['metrics'] = flattened_metrics\n",
    "new_j_ts['upload_ts'] = str(datetime.now())"
   ]
  },
  {
   "cell_type": "code",
   "execution_count": null,
   "metadata": {},
   "outputs": [],
   "source": [
    "new_j_ts"
   ]
  },
  {
   "cell_type": "code",
   "execution_count": null,
   "metadata": {},
   "outputs": [],
   "source": []
  }
 ],
 "metadata": {
  "kernelspec": {
   "display_name": "Python 3",
   "language": "python",
   "name": "python3"
  },
  "language_info": {
   "codemirror_mode": {
    "name": "ipython",
    "version": 3
   },
   "file_extension": ".py",
   "mimetype": "text/x-python",
   "name": "python",
   "nbconvert_exporter": "python",
   "pygments_lexer": "ipython3",
   "version": "3.6.4"
  }
 },
 "nbformat": 4,
 "nbformat_minor": 2
}
