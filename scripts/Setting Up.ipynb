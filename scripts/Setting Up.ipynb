{
 "cells": [
  {
   "cell_type": "code",
   "execution_count": 5,
   "metadata": {},
   "outputs": [],
   "source": [
    "import requests\n",
    "import json\n",
    "import popelines\n",
    "import os\n",
    "from datetime import datetime\n",
    "from pandas.io.json import json_normalize\n"
   ]
  },
  {
   "cell_type": "code",
   "execution_count": 6,
   "metadata": {},
   "outputs": [],
   "source": [
    "gbq_key = os.environ.get('GOOGLE_ACCOUNT_CREDENTIALS')"
   ]
  },
  {
   "cell_type": "code",
   "execution_count": 7,
   "metadata": {},
   "outputs": [],
   "source": [
    "pope = popelines.popeline(dataset_id='vicky', service_key_file_loc=gbq_key, directory='.', verbose=False)\n"
   ]
  },
  {
   "cell_type": "code",
   "execution_count": 8,
   "metadata": {},
   "outputs": [],
   "source": [
    "headers = {\n",
    "    'Authorization': 'Bearer 2:EWAWmaXb4TgtYVU2VvwoEF-9UbJxBahkiFh1633_Oc9nmju7iJis',\n",
    "}"
   ]
  },
  {
   "cell_type": "markdown",
   "metadata": {},
   "source": [
    "# Upload Project-Experiment table"
   ]
  },
  {
   "cell_type": "code",
   "execution_count": 9,
   "metadata": {},
   "outputs": [],
   "source": [
    "# get all projects\n",
    "response_proj = requests.get('https://api.optimizely.com/v2/projects', headers=headers)\n",
    "j = json.loads(response_proj.text)\n",
    "project_id = list()\n",
    "for p in j:\n",
    "    project_id.append(p['id'])  \n"
   ]
  },
  {
   "cell_type": "code",
   "execution_count": 10,
   "metadata": {},
   "outputs": [
    {
     "data": {
      "text/plain": [
       "<Response [200]>"
      ]
     },
     "execution_count": 10,
     "metadata": {},
     "output_type": "execute_result"
    }
   ],
   "source": [
    "requests.get('https://api.optimizely.com/v2/projects', headers=headers)"
   ]
  },
  {
   "cell_type": "code",
   "execution_count": 11,
   "metadata": {},
   "outputs": [],
   "source": [
    "project_list = list()"
   ]
  },
  {
   "cell_type": "code",
   "execution_count": 12,
   "metadata": {},
   "outputs": [],
   "source": [
    "for project in j:\n",
    "#     project_list.extend(json_normalize(project).to_dict('records'))\n",
    "    project_list.append(project)"
   ]
  },
  {
   "cell_type": "code",
   "execution_count": 13,
   "metadata": {
    "scrolled": true
   },
   "outputs": [
    {
     "data": {
      "text/plain": [
       "[{'account_id': 8725961507,\n",
       "  'confidence_threshold': 0.9,\n",
       "  'created': '2018-01-04T20:50:13.101130Z',\n",
       "  'id': 9965963792,\n",
       "  'is_classic': False,\n",
       "  'last_modified': '2018-12-03T18:32:20.382553Z',\n",
       "  'name': 'Onboarding',\n",
       "  'platform': 'web',\n",
       "  'sdks': [],\n",
       "  'status': 'active',\n",
       "  'web_snippet': {'code_revision': 191,\n",
       "   'enable_force_variation': False,\n",
       "   'exclude_disabled_experiments': False,\n",
       "   'exclude_names': True,\n",
       "   'include_jquery': False,\n",
       "   'ip_anonymization': False,\n",
       "   'ip_filter': '^(99\\\\.20\\\\.23\\\\.105|76\\\\.250\\\\.184\\\\.81|70\\\\.166\\\\.189\\\\.(3[2-9]|4[0-8]))$',\n",
       "   'js_file_size': 79948,\n",
       "   'library': 'none'}},\n",
       " {'account_id': 8725961507,\n",
       "  'confidence_threshold': 0.9,\n",
       "  'created': '2018-02-22T23:29:15.972680Z',\n",
       "  'id': 10347872424,\n",
       "  'is_classic': False,\n",
       "  'last_modified': '2019-01-18T17:42:11.227784Z',\n",
       "  'name': 'Corporate Website',\n",
       "  'platform': 'web',\n",
       "  'sdks': [],\n",
       "  'status': 'active',\n",
       "  'web_snippet': {'code_revision': 1312,\n",
       "   'enable_force_variation': False,\n",
       "   'exclude_disabled_experiments': False,\n",
       "   'exclude_names': False,\n",
       "   'include_jquery': False,\n",
       "   'ip_anonymization': False,\n",
       "   'ip_filter': '^(99\\\\.20\\\\.23\\\\.105|76\\\\.250\\\\.184\\\\.81|70\\\\.166\\\\.189\\\\.(3[2-9]|4[0-8]))$',\n",
       "   'js_file_size': 88923,\n",
       "   'library': 'none'}},\n",
       " {'account_id': 8725961507,\n",
       "  'confidence_threshold': 0.95,\n",
       "  'created': '2018-03-08T16:52:59.992260Z',\n",
       "  'id': 10427612860,\n",
       "  'is_classic': False,\n",
       "  'last_modified': '2019-01-11T17:33:11.535042Z',\n",
       "  'name': 'Marketo Pages',\n",
       "  'platform': 'web',\n",
       "  'sdks': [],\n",
       "  'status': 'active',\n",
       "  'web_snippet': {'code_revision': 90,\n",
       "   'enable_force_variation': False,\n",
       "   'exclude_disabled_experiments': False,\n",
       "   'exclude_names': True,\n",
       "   'include_jquery': False,\n",
       "   'ip_anonymization': False,\n",
       "   'ip_filter': '^(99\\\\.20\\\\.23\\\\.105|76\\\\.250\\\\.184\\\\.81|70\\\\.166\\\\.189\\\\.(3[2-9]|4[0-8]))$',\n",
       "   'js_file_size': 83359,\n",
       "   'library': 'none'}},\n",
       " {'account_id': 8725961507,\n",
       "  'confidence_threshold': 0.9,\n",
       "  'created': '2018-03-08T16:52:48.915460Z',\n",
       "  'id': 10429921250,\n",
       "  'is_classic': False,\n",
       "  'last_modified': '2019-01-18T00:27:22.242545Z',\n",
       "  'name': 'Corporate Website - Landing Pages',\n",
       "  'platform': 'web',\n",
       "  'sdks': [],\n",
       "  'status': 'active',\n",
       "  'web_snippet': {'code_revision': 370,\n",
       "   'enable_force_variation': False,\n",
       "   'exclude_disabled_experiments': False,\n",
       "   'exclude_names': True,\n",
       "   'include_jquery': False,\n",
       "   'ip_anonymization': False,\n",
       "   'ip_filter': '^(99\\\\.20\\\\.23\\\\.105|76\\\\.250\\\\.184\\\\.81|70\\\\.166\\\\.189\\\\.(3[2-9]|4[0-8]))$',\n",
       "   'js_file_size': 80472,\n",
       "   'library': 'none'}},\n",
       " {'account_id': 8725961507,\n",
       "  'confidence_threshold': 0.9,\n",
       "  'created': '2018-06-14T21:17:23.824620Z',\n",
       "  'id': 10849384554,\n",
       "  'is_classic': False,\n",
       "  'last_modified': '2018-12-03T18:30:16.605787Z',\n",
       "  'name': 'Corporate Website - Copy',\n",
       "  'platform': 'web',\n",
       "  'sdks': [],\n",
       "  'status': 'active',\n",
       "  'web_snippet': {'code_revision': 93,\n",
       "   'enable_force_variation': False,\n",
       "   'exclude_disabled_experiments': False,\n",
       "   'exclude_names': True,\n",
       "   'include_jquery': False,\n",
       "   'ip_anonymization': False,\n",
       "   'ip_filter': '^(99\\\\.20\\\\.23\\\\.105|76\\\\.250\\\\.184\\\\.81|70\\\\.166\\\\.189\\\\.(3[2-9]|4[0-8]))$',\n",
       "   'js_file_size': 78566,\n",
       "   'library': 'none'}}]"
      ]
     },
     "execution_count": 13,
     "metadata": {},
     "output_type": "execute_result"
    }
   ],
   "source": [
    "project_list"
   ]
  },
  {
   "cell_type": "code",
   "execution_count": null,
   "metadata": {},
   "outputs": [],
   "source": [
    "pope.write_to_json(file_name='projects.json', jayson=project_list, mode='w')\n",
    "pope.write_to_bq(table_name='projects', file_name='projects.json', append=True, ignore_unknown_values=False, bq_schema_autodetect=False)\n"
   ]
  },
  {
   "cell_type": "code",
   "execution_count": null,
   "metadata": {},
   "outputs": [],
   "source": []
  },
  {
   "cell_type": "code",
   "execution_count": null,
   "metadata": {},
   "outputs": [],
   "source": []
  },
  {
   "cell_type": "code",
   "execution_count": null,
   "metadata": {},
   "outputs": [],
   "source": [
    "# get all experiments from one project\n",
    "p_id = project_id[1]  \n",
    "params = (\n",
    "    ('project_id', p_id),\n",
    "    ('per_page', 100),\n",
    ") \n",
    "response_exp = requests.get('https://api.optimizely.com/v2/experiments', headers=headers, params=params)\n",
    "j_exp = json.loads(response_exp.text)"
   ]
  },
  {
   "cell_type": "code",
   "execution_count": null,
   "metadata": {},
   "outputs": [],
   "source": [
    "# for exp in j_exp:\n",
    "#     exp['project_id'] = p_id"
   ]
  },
  {
   "cell_type": "code",
   "execution_count": 18,
   "metadata": {},
   "outputs": [],
   "source": [
    "def flatten(jayson, acc, prefix):\n",
    "    if isinstance(jayson, dict):\n",
    "        for k,v in jayson.items():\n",
    "            if prefix:\n",
    "                prefix_k = prefix + \"_\" + k\n",
    "            else: \n",
    "                prefix_k = k\n",
    "            prefix_k = prefix_k.replace('-', '_')\n",
    "            \n",
    "            if isinstance(v, dict):\n",
    "                flatten(v, acc, prefix_k)\n",
    "            elif isinstance(v, list):\n",
    "                for j in v:\n",
    "                    flatten(j, acc, prefix_k)\n",
    "            else:\n",
    "                acc[prefix_k] = v\n",
    "        return acc \n",
    "    else:\n",
    "        return acc"
   ]
  },
  {
   "cell_type": "code",
   "execution_count": null,
   "metadata": {
    "scrolled": true
   },
   "outputs": [],
   "source": [
    "# flatten(eg, acc={}, prefix='')"
   ]
  },
  {
   "cell_type": "code",
   "execution_count": null,
   "metadata": {},
   "outputs": [],
   "source": []
  },
  {
   "cell_type": "code",
   "execution_count": null,
   "metadata": {},
   "outputs": [],
   "source": [
    "upload_exp_list = []"
   ]
  },
  {
   "cell_type": "code",
   "execution_count": null,
   "metadata": {},
   "outputs": [],
   "source": [
    "for exp in j_exp:\n",
    "    flattened_exp = flatten(exp, {}, '')\n",
    "    upload_exp_list.append(flattened_exp)\n"
   ]
  },
  {
   "cell_type": "code",
   "execution_count": null,
   "metadata": {
    "scrolled": true
   },
   "outputs": [],
   "source": [
    "upload_exp_list"
   ]
  },
  {
   "cell_type": "code",
   "execution_count": null,
   "metadata": {},
   "outputs": [],
   "source": []
  },
  {
   "cell_type": "code",
   "execution_count": null,
   "metadata": {},
   "outputs": [],
   "source": [
    "pope.write_to_json(file_name='experiments.json', jayson=upload_exp_list, mode='w')\n",
    "pope.write_to_bq(table_name='experiments', file_name='experiments.json', append=True, ignore_unknown_values=False, bq_schema_autodetect=False)\n"
   ]
  },
  {
   "cell_type": "code",
   "execution_count": null,
   "metadata": {},
   "outputs": [],
   "source": []
  },
  {
   "cell_type": "code",
   "execution_count": null,
   "metadata": {},
   "outputs": [],
   "source": []
  },
  {
   "cell_type": "code",
   "execution_count": null,
   "metadata": {},
   "outputs": [],
   "source": []
  },
  {
   "cell_type": "code",
   "execution_count": null,
   "metadata": {},
   "outputs": [],
   "source": [
    "json_normalize(data=j_exp[0],record_path='metrics', meta=['campaign_id', 'description', 'created', 'name'])\n"
   ]
  },
  {
   "cell_type": "markdown",
   "metadata": {},
   "source": [
    "# Getting Results (from experiment)"
   ]
  },
  {
   "cell_type": "code",
   "execution_count": 14,
   "metadata": {},
   "outputs": [],
   "source": [
    "# get all projects\n",
    "response_proj = requests.get('https://api.optimizely.com/v2/projects', headers=headers)\n",
    "j = json.loads(response_proj.text)\n",
    "project_id = list()\n",
    "for p in j:\n",
    "    project_id.append(p['id'])  \n",
    "\n",
    "# get all experiments from one project\n",
    "p_id = project_id[0]  \n",
    "params = (\n",
    "    ('project_id', p_id),\n",
    "    ('per_page', 100),\n",
    ") \n",
    "response_exp = requests.get('https://api.optimizely.com/v2/experiments', headers=headers, params=params)\n",
    "j_exp = json.loads(response_exp.text)\n",
    "\n",
    "# get results from one experiment\n",
    "experiment_id = j_exp[0]['id']\n",
    "response_res = requests.get(f'https://api.optimizely.com/v2/experiments/{experiment_id}/results', headers=headers)\n"
   ]
  },
  {
   "cell_type": "code",
   "execution_count": 15,
   "metadata": {},
   "outputs": [],
   "source": [
    "j_res = json.loads(response_res.text)"
   ]
  },
  {
   "cell_type": "code",
   "execution_count": 16,
   "metadata": {},
   "outputs": [
    {
     "data": {
      "text/plain": [
       "dict_keys(['confidence_threshold', 'end_time', 'experiment_id', 'metrics', 'reach', 'start_time', 'stats_config'])"
      ]
     },
     "execution_count": 16,
     "metadata": {},
     "output_type": "execute_result"
    }
   ],
   "source": [
    "j_res.keys()"
   ]
  },
  {
   "cell_type": "code",
   "execution_count": 24,
   "metadata": {},
   "outputs": [
    {
     "data": {
      "text/plain": [
       "{'aggregator': 'unique',\n",
       " 'event_id': 10757331770,\n",
       " 'name': 'Create new account button',\n",
       " 'results': {'10754871910': {'is_baseline': False,\n",
       "   'level': 'variation',\n",
       "   'lift': {'confidence_interval': [-0.25586971870854713, 0.17414821658943955],\n",
       "    'is_significant': False,\n",
       "    'lift_status': 'worse',\n",
       "    'significance': 0.0,\n",
       "    'value': -0.003580937167199094,\n",
       "    'visitors_remaining': 3239},\n",
       "   'name': 'Removed phone field',\n",
       "   'rate': 0.49583333333333335,\n",
       "   'samples': 240,\n",
       "   'value': 119.0,\n",
       "   'variance': 0.2499826388888889,\n",
       "   'variation_id': '10754871910'},\n",
       "  '10755800895': {'is_baseline': True,\n",
       "   'level': 'variation',\n",
       "   'name': 'Original',\n",
       "   'rate': 0.49761526232114467,\n",
       "   'samples': 629,\n",
       "   'value': 313.0,\n",
       "   'variance': 0.249994313026203,\n",
       "   'variation_id': '10755800895'},\n",
       "  '10766970990': {'is_baseline': False,\n",
       "   'level': 'variation',\n",
       "   'lift': {'confidence_interval': [-0.18863950643038613, 0.1409790420200838],\n",
       "    'is_significant': False,\n",
       "    'lift_status': 'worse',\n",
       "    'significance': 0.0,\n",
       "    'value': -0.01746030882104821,\n",
       "    'visitors_remaining': 4975},\n",
       "   'name': 'Add marketing image',\n",
       "   'rate': 0.4889267461669506,\n",
       "   'samples': 587,\n",
       "   'value': 287.0,\n",
       "   'variance': 0.24987738304954882,\n",
       "   'variation_id': '10766970990'}},\n",
       " 'scope': 'visitor',\n",
       " 'winning_direction': 'increasing'}"
      ]
     },
     "execution_count": 24,
     "metadata": {},
     "output_type": "execute_result"
    }
   ],
   "source": [
    "j_res['metrics'][0]"
   ]
  },
  {
   "cell_type": "code",
   "execution_count": 20,
   "metadata": {},
   "outputs": [
    {
     "name": "stdout",
     "output_type": "stream",
     "text": [
      "Create new account button\n",
      "Phone\n",
      "Click Event for .xl .modal-body-inner\n"
     ]
    }
   ],
   "source": [
    "for m in j_res['metrics']:\n",
    "    print(m['name'])"
   ]
  },
  {
   "cell_type": "code",
   "execution_count": 22,
   "metadata": {},
   "outputs": [
    {
     "data": {
      "text/plain": [
       "{'10754871910_is_baseline': False,\n",
       " '10754871910_level': 'variation',\n",
       " '10754871910_lift_is_significant': False,\n",
       " '10754871910_lift_lift_status': 'worse',\n",
       " '10754871910_lift_significance': 0.0,\n",
       " '10754871910_lift_value': -0.003580937167199094,\n",
       " '10754871910_lift_visitors_remaining': 3239,\n",
       " '10754871910_name': 'Removed phone field',\n",
       " '10754871910_rate': 0.49583333333333335,\n",
       " '10754871910_samples': 240,\n",
       " '10754871910_value': 119.0,\n",
       " '10754871910_variance': 0.2499826388888889,\n",
       " '10754871910_variation_id': '10754871910',\n",
       " '10755800895_is_baseline': True,\n",
       " '10755800895_level': 'variation',\n",
       " '10755800895_name': 'Original',\n",
       " '10755800895_rate': 0.49761526232114467,\n",
       " '10755800895_samples': 629,\n",
       " '10755800895_value': 313.0,\n",
       " '10755800895_variance': 0.249994313026203,\n",
       " '10755800895_variation_id': '10755800895',\n",
       " '10766970990_is_baseline': False,\n",
       " '10766970990_level': 'variation',\n",
       " '10766970990_lift_is_significant': False,\n",
       " '10766970990_lift_lift_status': 'worse',\n",
       " '10766970990_lift_significance': 0.0,\n",
       " '10766970990_lift_value': -0.01746030882104821,\n",
       " '10766970990_lift_visitors_remaining': 4975,\n",
       " '10766970990_name': 'Add marketing image',\n",
       " '10766970990_rate': 0.4889267461669506,\n",
       " '10766970990_samples': 587,\n",
       " '10766970990_value': 287.0,\n",
       " '10766970990_variance': 0.24987738304954882,\n",
       " '10766970990_variation_id': '10766970990'}"
      ]
     },
     "execution_count": 22,
     "metadata": {},
     "output_type": "execute_result"
    }
   ],
   "source": [
    "flatten(j_res['metrics'][0]['results'], {}, prefix='')"
   ]
  },
  {
   "cell_type": "code",
   "execution_count": 19,
   "metadata": {},
   "outputs": [
    {
     "data": {
      "text/plain": [
       "{'is_baseline': False,\n",
       " 'level': 'variation',\n",
       " 'lift_is_significant': False,\n",
       " 'lift_lift_status': 'worse',\n",
       " 'lift_significance': 0.0,\n",
       " 'lift_value': -0.003580937167199094,\n",
       " 'lift_visitors_remaining': 3239,\n",
       " 'name': 'Removed phone field',\n",
       " 'rate': 0.49583333333333335,\n",
       " 'samples': 240,\n",
       " 'value': 119.0,\n",
       " 'variance': 0.2499826388888889,\n",
       " 'variation_id': '10754871910'}"
      ]
     },
     "execution_count": 19,
     "metadata": {},
     "output_type": "execute_result"
    }
   ],
   "source": [
    "flatten(j_res['metrics'][0]['results']['10754871910'], {}, prefix='')"
   ]
  },
  {
   "cell_type": "code",
   "execution_count": null,
   "metadata": {},
   "outputs": [],
   "source": [
    "j_res['metrics']"
   ]
  },
  {
   "cell_type": "code",
   "execution_count": null,
   "metadata": {},
   "outputs": [],
   "source": [
    "path = ['metrics']\n",
    "# 'reach', 'stats_config'"
   ]
  },
  {
   "cell_type": "code",
   "execution_count": null,
   "metadata": {},
   "outputs": [],
   "source": [
    "meta = ['confidence_threshold', 'end_time', 'experiment_id', 'start_time']"
   ]
  },
  {
   "cell_type": "code",
   "execution_count": null,
   "metadata": {},
   "outputs": [],
   "source": [
    "res_df = json_normalize(j_res, record_path=path, meta=meta)"
   ]
  },
  {
   "cell_type": "code",
   "execution_count": null,
   "metadata": {},
   "outputs": [],
   "source": [
    "res_df"
   ]
  },
  {
   "cell_type": "markdown",
   "metadata": {},
   "source": [
    "# Testing main.py"
   ]
  },
  {
   "cell_type": "code",
   "execution_count": 1,
   "metadata": {},
   "outputs": [],
   "source": [
    "import requests\n",
    "import json\n",
    "import popelines\n",
    "import os\n",
    "from datetime import datetime\n",
    "\n",
    "\n",
    "# a function to detect deeply nested json file, with a mix of dictionaries and lists\n",
    "def flatten(jayson, acc, prefix):\n",
    "    if isinstance(jayson, dict):\n",
    "        for k,v in jayson.items():\n",
    "            if prefix:\n",
    "                prefix_k = prefix + \"_\" + k\n",
    "            else: \n",
    "                prefix_k = k\n",
    "            prefix_k = prefix_k.replace('-', '_')\n",
    "            \n",
    "            if isinstance(v, dict):\n",
    "                flatten(v, acc, prefix_k)\n",
    "            elif isinstance(v, list):\n",
    "                for j in v:\n",
    "                    flatten(j, acc, prefix_k)\n",
    "            else:\n",
    "                acc[prefix_k] = v\n",
    "        return acc \n",
    "    else:\n",
    "        return acc"
   ]
  },
  {
   "cell_type": "code",
   "execution_count": 2,
   "metadata": {},
   "outputs": [],
   "source": [
    "gbq_key = os.environ.get('GOOGLE_ACCOUNT_CREDENTIALS')\n",
    "\n",
    "pope = popelines.popeline(dataset_id='optimizely', service_key_file_loc=gbq_key, directory='.', verbose=False)\n",
    "\n",
    "headers = {\n",
    "    'Authorization': 'Bearer 2:EWAWmaXb4TgtYVU2VvwoEF-9UbJxBahkiFh1633_Oc9nmju7iJis',\n",
    "}"
   ]
  },
  {
   "cell_type": "code",
   "execution_count": 3,
   "metadata": {},
   "outputs": [
    {
     "name": "stdout",
     "output_type": "stream",
     "text": [
      "Successfully read project data.\n"
     ]
    }
   ],
   "source": [
    "# Upload Project-Experiment table\n",
    "# get all projects\n",
    "try:\n",
    "    response_proj = requests.get('https://api.optimizely.com/v2/projects', headers=headers)\n",
    "    j_proj = json.loads(response_proj.text)\n",
    "    response_proj.raise_for_status()\n",
    "    print('Successfully read project data.')\n",
    "\n",
    "except requests.exceptions.HTTPError as err:\n",
    "    print(err)"
   ]
  },
  {
   "cell_type": "code",
   "execution_count": 4,
   "metadata": {},
   "outputs": [
    {
     "name": "stderr",
     "output_type": "stream",
     "text": [
      "INFO:root:Writing experiments to BQ from file experiments.json\n"
     ]
    },
    {
     "name": "stdout",
     "output_type": "stream",
     "text": [
      "Successfully read experiment data.\n",
      "2019-01-22 12:06:45,839 - root - Writing experiments to BQ from file experiments.json\n",
      "Successfully uploaded experiment 11992110033\n"
     ]
    },
    {
     "name": "stderr",
     "output_type": "stream",
     "text": [
      "INFO:root:Writing experiments to BQ from file experiments.json\n"
     ]
    },
    {
     "name": "stdout",
     "output_type": "stream",
     "text": [
      "Successfully read experiment data.\n",
      "2019-01-22 12:09:45,962 - root - Writing experiments to BQ from file experiments.json\n",
      "Successfully uploaded experiment 13026390548\n"
     ]
    },
    {
     "name": "stderr",
     "output_type": "stream",
     "text": [
      "INFO:root:Writing experiments to BQ from file experiments.json\n"
     ]
    },
    {
     "name": "stdout",
     "output_type": "stream",
     "text": [
      "Successfully read experiment data.\n",
      "2019-01-22 12:09:54,248 - root - Writing experiments to BQ from file experiments.json\n",
      "Successfully uploaded experiment 12746930280\n"
     ]
    },
    {
     "name": "stderr",
     "output_type": "stream",
     "text": [
      "INFO:root:Writing experiments to BQ from file experiments.json\n"
     ]
    },
    {
     "name": "stdout",
     "output_type": "stream",
     "text": [
      "Successfully read experiment data.\n",
      "2019-01-22 12:10:04,376 - root - Writing experiments to BQ from file experiments.json\n",
      "Successfully uploaded experiment 12900000180\n"
     ]
    },
    {
     "name": "stderr",
     "output_type": "stream",
     "text": [
      "INFO:root:Writing experiments to BQ from file experiments.json\n"
     ]
    },
    {
     "name": "stdout",
     "output_type": "stream",
     "text": [
      "Successfully read experiment data.\n",
      "2019-01-22 12:10:09,814 - root - Writing experiments to BQ from file experiments.json\n",
      "Successfully uploaded experiment 11402551541\n"
     ]
    }
   ],
   "source": [
    "# store a list of project metadata\n",
    "project_list = list()\n",
    "\n",
    "for project in j_proj:\n",
    "    p_id = project['id']\n",
    "\n",
    "    # get all experiments from one project\n",
    "    params = (\n",
    "        ('project_id', p_id),\n",
    "        ('per_page', 100),\n",
    "    ) \n",
    "\n",
    "    try:\n",
    "        response_exp = requests.get('https://api.optimizely.com/v2/experiments', headers=headers, params=params)\n",
    "        j_exp = json.loads(response_exp.text)\n",
    "        response_exp.raise_for_status()\n",
    "        print('Successfully read experiment data.')\n",
    "    except requests.exceptions.HTTPError as err:\n",
    "        print(err)\n",
    "\n",
    "    # loop for all experiments in this project\n",
    "    upload_exp_list = []\n",
    "    for exp in j_exp:\n",
    "        exp['project_id'] = p_id\n",
    "        upload_exp_list.append(flatten(exp, {}, ''))\n",
    "\n",
    "    # upload experiment \n",
    "    pope.write_to_json(file_name='experiments.json', jayson=upload_exp_list, mode='w')\n",
    "    pope.write_to_bq(table_name='experiments', file_name='experiments.json', append=True, ignore_unknown_values=False, bq_schema_autodetect=False)\n",
    "    print(f\"Successfully uploaded experiment {exp['id']}\")\n",
    "\n",
    "    project_list.append(project)"
   ]
  },
  {
   "cell_type": "code",
   "execution_count": null,
   "metadata": {},
   "outputs": [],
   "source": [
    "project_list"
   ]
  },
  {
   "cell_type": "code",
   "execution_count": null,
   "metadata": {},
   "outputs": [],
   "source": []
  }
 ],
 "metadata": {
  "kernelspec": {
   "display_name": "Python 3",
   "language": "python",
   "name": "python3"
  },
  "language_info": {
   "codemirror_mode": {
    "name": "ipython",
    "version": 3
   },
   "file_extension": ".py",
   "mimetype": "text/x-python",
   "name": "python",
   "nbconvert_exporter": "python",
   "pygments_lexer": "ipython3",
   "version": "3.6.4"
  }
 },
 "nbformat": 4,
 "nbformat_minor": 2
}
