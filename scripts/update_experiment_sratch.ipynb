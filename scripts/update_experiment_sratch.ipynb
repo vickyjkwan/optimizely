{
 "cells": [
  {
   "cell_type": "code",
   "execution_count": 1,
   "metadata": {},
   "outputs": [],
   "source": [
    "import json\n",
    "import requests\n",
    "import popelines\n",
    "import os\n",
    "from datetime import datetime, timedelta\n",
    "from main import fix_values, populating_vals, flatten, flatten_dupe_vals"
   ]
  },
  {
   "cell_type": "code",
   "execution_count": 2,
   "metadata": {},
   "outputs": [],
   "source": [
    "from generate_original import read_endpoint, generate_projects\n"
   ]
  },
  {
   "cell_type": "code",
   "execution_count": 3,
   "metadata": {},
   "outputs": [],
   "source": [
    "from batch_update_projects import check_bq_ts, check_api_ts, generate_new_entity"
   ]
  },
  {
   "cell_type": "code",
   "execution_count": 4,
   "metadata": {},
   "outputs": [],
   "source": [
    "gbq_key = os.environ.get('GOOGLE_ACCOUNT_CREDENTIALS')\n",
    "\n",
    "pope = popelines.popeline(dataset_id='optimizely', service_key_file_loc=gbq_key, directory='.', verbose=False)\n",
    "headers = {\n",
    "    'Authorization': 'Bearer 2:EWAWmaXb4TgtYVU2VvwoEF-9UbJxBahkiFh1633_Oc9nmju7iJis',\n",
    "}\n"
   ]
  },
  {
   "cell_type": "markdown",
   "metadata": {},
   "source": [
    "# Fuctions"
   ]
  },
  {
   "cell_type": "code",
   "execution_count": null,
   "metadata": {},
   "outputs": [],
   "source": [
    "def check_bq_ts(table_name, ts_col_name):\n",
    "    last_upload_ts = pope.find_last_entry(table_name, ts_col_name) + timedelta(hours=-8)\n",
    "    return last_upload_ts"
   ]
  },
  {
   "cell_type": "code",
   "execution_count": null,
   "metadata": {},
   "outputs": [],
   "source": [
    "# this function should get timestamp for each entity (project, experiment, or result), from API,\n",
    "# returns only those with a timestamp that is later than the benchmark, benchmark_ts\n",
    "def check_api_ts(api_path, table, ts_col, benchmark_ts, existing_id):\n",
    "    \n",
    "    # compare each of the project's last_modified timestamp to the above last upload_ts\n",
    "    # select only if last_modified > upload_ts\n",
    "    updating_entity_id = []\n",
    "    if table == 'project':\n",
    "        all_existing = generate_projects(api_path, headers)\n",
    "    # elif table == 'experiment':\n",
    "    #     all_existing = generate_experiment(api_path, headers)\n",
    "    else:\n",
    "        pass\n",
    "\n",
    "    for entity in all_existing:\n",
    "        entity_ts = datetime.strptime(entity[ts_col], '%Y-%m-%dT%H:%M:%S.%fz') + timedelta(hours=-8)\n",
    "        if  entity_ts > benchmark_ts:\n",
    "            updating_entity_id.append(entity['id'])\n",
    "        elif entity['id'] not in existing_id:\n",
    "            updating_entity_id.append(entity['id'])\n",
    "\n",
    "    return updating_entity_id"
   ]
  },
  {
   "cell_type": "code",
   "execution_count": null,
   "metadata": {},
   "outputs": [],
   "source": [
    "def generate_new_entity(id_list, api_path, table):\n",
    "    new_json = []\n",
    "    for entity_id in id_list:\n",
    "        if table == 'project':\n",
    "            entity_info = generate_projects(f'{api_path}/{entity_id}', headers)\n",
    "            entity_info['upload_ts'] = str(datetime.utcnow())\n",
    "\n",
    "        # need to add experiment table\n",
    "        else:\n",
    "            pass\n",
    "\n",
    "        new_json.append(entity_info)\n",
    "\n",
    "    return new_json"
   ]
  },
  {
   "cell_type": "code",
   "execution_count": null,
   "metadata": {},
   "outputs": [],
   "source": []
  },
  {
   "cell_type": "markdown",
   "metadata": {},
   "source": [
    "# Updating new/modified experiments"
   ]
  },
  {
   "cell_type": "code",
   "execution_count": 5,
   "metadata": {},
   "outputs": [],
   "source": [
    "experiment_endpoint = 'https://api.optimizely.com/v2/experiments'"
   ]
  },
  {
   "cell_type": "code",
   "execution_count": 6,
   "metadata": {},
   "outputs": [],
   "source": [
    "headers = {\n",
    "    'Authorization': 'Bearer 2:EWAWmaXb4TgtYVU2VvwoEF-9UbJxBahkiFh1633_Oc9nmju7iJis',\n",
    "}\n"
   ]
  },
  {
   "cell_type": "code",
   "execution_count": 7,
   "metadata": {},
   "outputs": [],
   "source": [
    "params = (\n",
    "    ('project_id', 9965963792),\n",
    "    ('per_page', 100),\n",
    ") "
   ]
  },
  {
   "cell_type": "code",
   "execution_count": null,
   "metadata": {},
   "outputs": [],
   "source": []
  },
  {
   "cell_type": "code",
   "execution_count": 11,
   "metadata": {},
   "outputs": [
    {
     "data": {
      "text/plain": [
       "{'allocation_policy': 'manual',\n",
       " 'audience_conditions': '[\"and\", {\"audience_id\": 10562358375}]',\n",
       " 'campaign_id': 13570680399,\n",
       " 'changes': [],\n",
       " 'created': '2019-02-14T22:34:39.931461Z',\n",
       " 'earliest': '2019-02-20T18:28:36.788491Z',\n",
       " 'holdback': 0,\n",
       " 'id': 13559460138,\n",
       " 'is_classic': False,\n",
       " 'last_modified': '2019-02-20T18:28:39.647700Z',\n",
       " 'metrics': [{'aggregator': 'unique',\n",
       "   'event_id': 13614010314,\n",
       "   'scope': 'visitor',\n",
       "   'winning_direction': 'increasing'},\n",
       "  {'aggregator': 'unique',\n",
       "   'event_id': 13639340063,\n",
       "   'scope': 'visitor',\n",
       "   'winning_direction': 'increasing'},\n",
       "  {'aggregator': 'bounce',\n",
       "   'event_id': 13623520170,\n",
       "   'scope': 'event',\n",
       "   'winning_direction': 'decreasing'},\n",
       "  {'aggregator': 'bounce',\n",
       "   'event_id': 13621520303,\n",
       "   'scope': 'event',\n",
       "   'winning_direction': 'decreasing'},\n",
       "  {'aggregator': 'unique',\n",
       "   'event_id': 13630910547,\n",
       "   'scope': 'visitor',\n",
       "   'winning_direction': 'increasing'},\n",
       "  {'aggregator': 'unique',\n",
       "   'event_id': 13642490335,\n",
       "   'scope': 'visitor',\n",
       "   'winning_direction': 'increasing'},\n",
       "  {'aggregator': 'unique',\n",
       "   'event_id': 10557820868,\n",
       "   'scope': 'visitor',\n",
       "   'winning_direction': 'increasing'},\n",
       "  {'aggregator': 'unique',\n",
       "   'event_id': 13623520170,\n",
       "   'scope': 'visitor',\n",
       "   'winning_direction': 'increasing'},\n",
       "  {'aggregator': 'unique',\n",
       "   'event_id': 13621520303,\n",
       "   'scope': 'visitor',\n",
       "   'winning_direction': 'increasing'},\n",
       "  {'aggregator': 'count',\n",
       "   'event_id': 10446767114,\n",
       "   'scope': 'visitor',\n",
       "   'winning_direction': 'increasing'}],\n",
       " 'name': \"Homepage - Interstitial Homepage - Feb '19\",\n",
       " 'page_ids': [10557820868, 13606090156, 13655050142],\n",
       " 'project_id': 10347872424,\n",
       " 'status': 'running',\n",
       " 'type': 'a/b',\n",
       " 'variations': [{'actions': [{'changes': [{'async': False,\n",
       "       'dependencies': [],\n",
       "       'id': 'B9FAE44D-6FFF-434F-A141-0D15990EFB9A',\n",
       "       'type': 'custom_code',\n",
       "       'value': 'var utils = window[\\'optimizely\\'].get(\\'utils\\');\\nutils.waitUntil(function() {\\n  return typeof Munchkin !== \"undefined\";\\n}).then(function() {\\n  Munchkin.munchkinFunction(\\'visitWebPage\\', {\\n    \\'url\\': \\'/vpv/201902-interstitial-homepage-test/control\\'\\n  });\\n});'}],\n",
       "     'page_id': 10557820868,\n",
       "     'share_link': 'https://keap.com?optimizely_token=5027873d86a1be98867a32ec7fbd41749cfeaa2481379131d6c94248fbf996a7&optimizely_x=13572670462&optimizely_x_audiences=10562358375&optimizely_preview_layer_ids=13570680399&optimizely_snippet=s3-10347872424'},\n",
       "    {'changes': [{'allow_additional_redirect': False,\n",
       "       'dependencies': [],\n",
       "       'destination': 'https://keap.com',\n",
       "       'id': 'CE94BEB1-B093-4C82-9967-A0DE2FB81113',\n",
       "       'preserve_parameters': True,\n",
       "       'type': 'redirect'}],\n",
       "     'page_id': 13606090156,\n",
       "     'share_link': 'https://keap.com/keap?optimizely_token=5027873d86a1be98867a32ec7fbd41749cfeaa2481379131d6c94248fbf996a7&optimizely_x=13572670462&optimizely_x_audiences=10562358375&optimizely_preview_layer_ids=13570680399&optimizely_snippet=s3-10347872424'}],\n",
       "   'archived': False,\n",
       "   'name': 'Keap Homepage (Control)',\n",
       "   'status': 'active',\n",
       "   'variation_id': 13572670462,\n",
       "   'weight': 5000},\n",
       "  {'actions': [{'changes': [{'async': False,\n",
       "       'dependencies': [],\n",
       "       'id': 'BE5A3E3A-5DE6-4CA7-8038-90B1DBEB295C',\n",
       "       'type': 'custom_code',\n",
       "       'value': 'window.disableKeapEntryModal = true;\\n\\nvar utils = window[\\'optimizely\\'].get(\\'utils\\');\\nutils.waitUntil(function() {\\n  return typeof Munchkin !== \"undefined\";\\n}).then(function() {\\n  Munchkin.munchkinFunction(\\'visitWebPage\\', {\\n    \\'url\\': \\'/vpv/201902-interstitial-homepage-test/variation\\'\\n  });\\n});'},\n",
       "      {'async': False,\n",
       "       'dependencies': [],\n",
       "       'id': '35DD047D-7F58-463D-B3E5-50EDF80EF76E',\n",
       "       'selector': 'head',\n",
       "       'type': 'custom_css',\n",
       "       'value': '.body-wrapper{min-height:calc(100vh - 60px);background-color:#f6f4ef}.primary-nav__surround{-webkit-box-flex:1;-ms-flex:1;flex:1}.keap-front__cell{display:-webkit-box;display:-ms-flexbox;display:flex;-webkit-box-orient:vertical;-webkit-box-direction:normal;-ms-flex-direction:column;flex-direction:column}.keap-front__logo{margin:1.25rem 0}.keap-front__line{width:.125rem;height:100%;margin:0 auto;background-color:#bab6ad}.keap-front__button{-webkit-box-flex:1;-ms-flex-positive:1;flex-grow:1;display:-webkit-box;display:-ms-flexbox;display:flex;-webkit-box-align:end;-ms-flex-align:end;align-items:flex-end}'},\n",
       "      {'async': False,\n",
       "       'attributes': {'html': '<nav class=\"primary-nav\"> <div class=\"primary-nav__inner align-center\"> <div class=\"primary-nav__surround\"></div> <svg width=\"87\" height=\"40\" viewBox=\"0 0 87 40\" fill=\"none\" xmlns=\"http://www.w3.org/2000/svg\" preserveAspectRatio=\"xMinYMid slice\"> <path d=\"M20.2828 28.131L17.5017 30.9651C17.0513 31.4584 16.4798 31.4174 16.0295 30.9651L6.05204 20.9449V30.2668C6.05204 30.9241 5.6847 31.293 5.03023 31.293H1.02181C0.367345 31.293 0 30.9241 0 30.2668V1.02618C0 0.368918 0.368752 0 1.02181 0H5.02882C5.6847 0 6.05204 0.368918 6.05204 1.02618V10.5954H19.5875C20.242 10.5954 20.6093 10.9658 20.6093 11.6216V15.6868C20.6093 16.344 20.2406 16.713 19.5875 16.713H10.387L20.2828 26.6511C20.7318 27.1048 20.7318 27.6391 20.2828 28.131Z\" fill=\"#36A635\"></path> <path class=\"large-nav-only\" d=\"M42.4876 20.9035C42.4876 21.3148 42.4468 21.7657 42.406 22.177C42.3244 22.8343 41.9148 23.1212 41.3025 23.1212H27.8895C28.5848 24.9277 30.3427 26.1192 32.551 26.1192C34.1457 26.1192 35.3729 25.5029 36.2723 24.5178C36.6819 24.0244 37.1309 23.9015 37.6629 24.2308L40.7705 26.1192C41.3434 26.4881 41.5066 26.9814 41.0971 27.5157C39.2167 30.1434 36.1076 31.7463 32.4694 31.7463C26.2541 31.7463 21.7559 27.0648 21.7559 20.9869C21.7559 14.8269 26.05 10.1455 32.1428 10.1455C38.2765 10.1427 42.4876 14.7421 42.4876 20.9035ZM36.5172 18.7267C35.9444 16.7549 34.3089 15.6878 32.1823 15.6878C29.9331 15.6878 28.2977 16.7549 27.7657 18.7267H36.5172Z\" fill=\"#36A635\"></path> <path class=\"large-nav-only\" d=\"M62.7291 18.3153V30.2663C62.7291 30.9235 62.3618 31.2924 61.7073 31.2924H57.8227C57.1683 31.2924 56.8009 30.9235 56.8009 30.2663V29.0747C55.2471 30.9221 53.4062 31.7448 51.1162 31.7448C46.618 31.7448 43.6328 29.1581 43.6328 25.2555C43.6328 21.1903 46.5772 18.6022 50.953 18.6022H56.8009V18.1499C56.8009 16.6714 55.4104 15.6862 53.3653 15.6862C52.0564 15.6862 50.7897 16.1795 50.2169 16.8778C49.8481 17.3301 49.5624 17.617 48.9896 17.617H45.1866C44.4914 17.617 44.0832 17.2467 44.2056 16.6319C44.9826 12.7307 48.3365 10.1426 53.2837 10.1426C58.967 10.1426 62.7291 13.4289 62.7291 18.3153ZM56.7995 23.613V22.9148H51.9326C50.2971 22.9148 49.6426 23.777 49.6426 24.9276C49.6426 25.9947 50.5012 26.8584 52.587 26.8584C55.1232 26.8584 56.7995 25.5438 56.7995 23.613Z\" fill=\"#36A635\"></path> <path class=\"large-nav-only\" d=\"M86.4858 20.9859C86.4858 26.9819 82.2733 31.7453 76.7125 31.7453C74.3817 31.7453 72.4184 30.8831 71.1516 29.4456V38.9738C71.1516 39.6311 70.7843 40 70.1298 40H66.1214C65.467 40 65.0996 39.6297 65.0996 38.9738V11.6216C65.0996 10.9643 65.4684 10.5954 66.1214 10.5954H70.006C70.6604 10.5954 71.0278 10.9658 71.0278 11.6216V12.7722C72.3367 11.0887 74.3409 10.1445 76.6294 10.1445C82.1509 10.1431 86.4858 14.867 86.4858 20.9859ZM80.4338 20.9859C80.4338 18.1929 78.4704 16.0571 75.7723 16.0571C72.9096 16.0571 70.9476 18.1929 70.9476 20.9859C70.9476 23.697 72.911 25.8313 75.7723 25.8313C78.4704 25.8313 80.4338 23.6955 80.4338 20.9859Z\" fill=\"#36A635\"></path> </svg> <div class=\"primary-nav__surround text-right\"> <a class=\"link green\" href=\"https://signin.infusionsoft.com/login\" data-event-label=\"Log in\">Log in</a> </div> </div> </nav>'},\n",
       "       'css': {},\n",
       "       'dependencies': [],\n",
       "       'id': '5E44A90A-74CD-4A3B-9F4F-AD1289ACF6BA',\n",
       "       'rearrange': {'insertSelector': '', 'operator': 'before'},\n",
       "       'selector': '.main-nav',\n",
       "       'type': 'attribute'},\n",
       "      {'async': False,\n",
       "       'attributes': {'html': '<header class=\"hero hero--simple \"> <div class=\"grid-container\"> <div class=\"grid-x align-center large-text-center\"> <div class=\"cell\"> <h3 class=\"has-subhead\">Keap exists to help small businesses succeed</h3> </div>  <div class=\"cell large-10\"> <p class=\"margin-bottom-0 large\">Choose which product is right for you.</p> </div>  </div> </div> </header> <section class=\"section thinner keap-front\"> <div class=\"grid-container\"> <div class=\"grid-x align-justify\"> <div class=\"cell small-12 medium-5 keap-front__cell\"> <div class=\"keap-front__logo\"> <svg xmlns=\"http://www.w3.org/2000/svg\" width=\"128\" height=\"29\" viewBox=\"0 0 128 29\" fill=\"none\"><path d=\"M17.8 0.8V16.7H15.2V0.8H17.8Z\" fill=\"#36A635\"></path><path d=\"M28.3 16.7V10.1C28.3 8.3 27.5 7.3 25.8 7.3 24.1 7.3 22.9 8.9 22.9 10.7V16.7H20.5V5.4H22.8V6.5H23.4C24 5.6 25.1 5.1 26.6 5.1 29.4 5.1 30.8 6.8 30.8 9.6V16.7H28.3Z\" fill=\"#36A635\"></path><path d=\"M36.1 7.5V16.7H33.6V7.5H31.8V5.4H33.6V4.3C33.6 1.6 35.2 0.5 37.8 0.5H39V2.6H37.8C36.5 2.6 36.1 3.5 36.1 4.4V5.4H39V7.5H36.1Z\" fill=\"#36A635\"></path><path d=\"M42.7 5.4V12C42.7 13.8 43.5 14.8 45.2 14.8 47 14.8 48.1 13.2 48.1 11.4V5.4H50.6V16.7H48.2V15.6H47.7C47 16.5 45.9 17 44.4 17 41.6 17 40.2 15.3 40.2 12.5V5.4H42.7Z\" fill=\"#36A635\"></path><path d=\"M59.2 8.4C59 7.4 58.1 7.2 57 7.2 55.8 7.2 54.9 7.5 54.9 8.4 54.9 9.1 55.4 9.4 56.4 9.5L58.6 9.9C60.6 10.2 62 11.3 62 13.4 62 15.3 60.3 17 57.2 17 53.9 17 52.3 15.6 52 13.3H54.5C54.7 14.5 55.7 14.9 57.1 14.9 58.6 14.9 59.5 14.5 59.5 13.4 59.5 12.6 59 12.2 57.7 11.9L55.3 11.5C53.7 11.2 52.5 10.3 52.5 8.5 52.5 6.6 53.9 5.1 57.1 5.1 59.8 5.1 61.4 6.4 61.7 8.4L59.2 8.4Z\" fill=\"#36A635\"></path><path d=\"M63.5 2.9V0.5H66V2.9H63.5ZM66 16.7H63.5V5.4H66V16.7Z\" fill=\"#36A635\"></path><path d=\"M79 11C79 14.5 76.9 17 73.4 17 69.8 17 67.7 14.5 67.7 11 67.7 7.5 69.9 5.1 73.4 5.1 76.9 5.1 79 7.6 79 11ZM76.5 11C76.5 9.1 75.6 7.2 73.4 7.2 71.2 7.2 70.2 9.1 70.2 11 70.2 13 71.2 14.9 73.4 14.9 75.6 14.9 76.5 13.1 76.5 11Z\" fill=\"#36A635\"></path><path d=\"M88.6 16.7V10.1C88.6 8.3 87.7 7.3 86.1 7.3 84.3 7.3 83.2 8.9 83.2 10.7V16.7H80.7V5.4H83.1V6.5H83.6C84.3 5.6 85.4 5.1 86.9 5.1 89.6 5.1 91.1 6.8 91.1 9.6V16.7H88.6Z\" fill=\"#36A635\"></path><path d=\"M92.4 13.6H93.8C94.1 15 95.2 15.8 97.1 15.8 99 15.8 100.2 15.1 100.2 13.6 100.2 12.5 99.6 11.9 98 11.6 97.5 11.6 96.2 11.3 95.4 11.1 93.9 10.9 92.9 10.1 92.9 8.5 92.9 6.7 94.3 5.3 97.1 5.3 99.6 5.3 101.1 6.5 101.3 8.4H99.9C99.8 7.2 98.5 6.5 97 6.5 95.3 6.5 94.3 7.2 94.3 8.3 94.3 9.3 94.9 9.8 96.1 10 96.5 10.1 96.9 10.1 97.2 10.2L98.6 10.4C100.4 10.7 101.6 11.7 101.6 13.6 101.6 15.4 100 17 97.2 17 94.2 17 92.7 15.7 92.4 13.6Z\" fill=\"#32312F\"></path><path d=\"M113.2 11.2C113.2 14.4 111.3 17 107.9 17 104.5 17 102.6 14.4 102.6 11.2 102.6 7.9 104.5 5.3 108 5.3 111.4 5.3 113.2 7.9 113.2 11.2ZM111.8 11.2C111.8 8.8 110.6 6.5 107.9 6.5 105.2 6.5 104 8.8 104 11.2 104 13.5 105.2 15.8 107.9 15.8 110.6 15.8 111.8 13.5 111.8 11.2Z\" fill=\"#32312F\"></path><path d=\"M117.3 6.8V16.7H115.9V6.8H113.9V5.6H115.9V4.1C115.9 1.7 117.1 0.5 119.5 0.5H120.4V1.7H119.5C117.9 1.7 117.3 2.8 117.3 4.1V5.6H120.4V6.8H117.3Z\" fill=\"#32312F\"></path><path d=\"M127.8 5.6V6.8H124.9V13.6C124.9 14.9 125.4 15.5 127.1 15.5H127.8V16.7H127C124.7 16.7 123.5 16 123.5 13.7V6.8H121.5V5.6H123.5V2.1H124.9V5.6H127.8Z\" fill=\"#32312F\"></path><path d=\"M9.5 7.9V0L0 6 8 8.9 9.5 7.9Z\" fill=\"#36A635\"></path><path d=\"M8 8.9L7.3 9.4 7.8 9.6 9.8 10.3V16.8L0.7 13.5 0 14 10.4 17.8V9.8L8 8.9Z\" fill=\"#36A635\"></path><path d=\"M7.3 9.4L0 6.7V14\" fill=\"#36A635\"></path><path d=\"M98.3 24.7C98.3 26.1 97.6 27.1 96.4 27.1 96.2 27.1 95.9 27.1 95.7 27 95.5 26.9 95.3 26.7 95.1 26.5H94.9V26.9H93.7V20.5H94.9V22.8H95.2C95.3 22.6 95.5 22.5 95.7 22.4 95.9 22.3 96.1 22.3 96.4 22.3 97.6 22.3 98.3 23.3 98.3 24.7ZM97.1 24.7C97.1 23.9 96.7 23.3 96 23.3 95.3 23.3 94.9 24 94.9 24.7 94.9 25.4 95.3 26 96 26 96.8 26 97.1 25.4 97.1 24.7Z\" fill=\"#32312F\"></path><path d=\"M99.6 28.7L100.6 26.5 98.7 22.4H99.9L101.1 24.8H101.3L102.3 22.4H103.5L100.8 28.7H99.6Z\" fill=\"#32312F\"></path><path d=\"M106.8 20.6H108.1V23.3L110.7 20.6H112.2L110.3 22.6 112.5 27H111.1L109.5 23.8H109.3L108.1 24.9V27H106.8L106.8 20.6Z\" fill=\"#32312F\"></path><path d=\"M117.1 24.8H113.9C113.9 25.6 114.3 26 115 26 115.5 26 115.7 25.9 115.8 25.6H117.1C116.9 26.5 116.2 27.1 115 27.1 113.6 27.1 112.7 26.1 112.7 24.7 112.7 23.2 113.6 22.3 115 22.3 115.2 22.3 115.5 22.3 115.8 22.4 116.1 22.5 116.3 22.7 116.5 22.9 116.7 23.1 116.9 23.3 117 23.6 117.1 23.9 117.1 24.2 117.1 24.5L117.1 24.8ZM114 24H115.9C115.9 23.8 115.7 23.6 115.6 23.4 115.4 23.3 115.2 23.2 114.9 23.2 114.7 23.2 114.5 23.3 114.3 23.4 114.1 23.6 114 23.8 114 24V24Z\" fill=\"#32312F\"></path><path d=\"M120.9 26.6H120.7C120.5 26.7 120.3 26.9 120.1 27 119.9 27.1 119.7 27.1 119.4 27.1 119.2 27.1 119 27.1 118.8 27 118.6 26.9 118.5 26.8 118.3 26.7 118.2 26.5 118 26.4 118 26.2 117.9 26 117.8 25.8 117.8 25.6 117.8 24.9 118.3 24.1 119.7 24.1H120.8V23.9C120.8 23.5 120.6 23.2 120 23.2 119.5 23.2 119.3 23.4 119.3 23.7H118.1C118.1 22.8 118.9 22.3 120 22.3 121.2 22.3 122 22.8 122 24V27H120.9L120.9 26.6ZM120.9 25.1V24.9H119.9C119.4 24.9 119.1 25 119.1 25.5 119.1 25.9 119.4 26.1 119.9 26.1 120 26.1 120.1 26.1 120.2 26 120.4 26 120.5 25.9 120.6 25.8 120.7 25.7 120.7 25.6 120.8 25.5 120.8 25.4 120.9 25.3 120.9 25.1Z\" fill=\"#32312F\"></path><path d=\"M124.4 22.4V22.8H124.7C124.8 22.6 125 22.5 125.2 22.4 125.4 22.3 125.7 22.3 125.9 22.3 127.1 22.3 127.8 23.3 127.8 24.7 127.8 26 127.1 27.1 125.9 27.1 125.7 27.1 125.5 27.1 125.2 27 125 26.9 124.8 26.7 124.7 26.5H124.5V28.7H123.3V22.4H124.4ZM124.4 24.7C124.4 25.4 124.8 26 125.5 26 126.3 26 126.6 25.4 126.6 24.7 126.6 23.9 126.3 23.3 125.5 23.3 124.8 23.3 124.4 24 124.4 24.7Z\" fill=\"#32312F\"></path></svg> </div> <h6 class=\"has-subhead\">Grow and scale through advanced automation</h6> <p class=\"last small\">The #1 all-in-one CRM and advanced marketing automation platform. Automate your sales and marketing to capture and convert leads and create a loyal client base.</p> <div class=\"keap-front__button\"> <a href=\"/infusionsoft\" class=\"button small-expanded\">Go to Infusionsoft</a> </div> </div> <div class=\"cell small-12 medium-1\"> <div class=\"keap-front__line show-for-medium\"></div> <hr class=\"hide-for-medium\"> </div> <div class=\"cell small-12 medium-5 keap-front__cell\"> <div class=\"keap-front__logo\"> <svg xmlns=\"http://www.w3.org/2000/svg\" width=\"63\" height=\"30\" viewBox=\"0 0 63 30\" fill=\"none\"><path d=\"M14.8 20.5L12.7 22.6C12.4 22.9 12 22.9 11.7 22.6L4.4 15.3V22C4.4 22.5 4.1 22.8 3.7 22.8H0.7C0.3 22.8 0 22.5 0 22V0.7C0 0.3 0.3 0 0.7 0H3.7C4.1 0 4.4 0.3 4.4 0.7V7.7H14.3C14.7 7.7 15 8 15 8.5V11.4C15 11.9 14.7 12.2 14.3 12.2H7.6L14.8 19.4C15.1 19.7 15.1 20.1 14.8 20.5ZM30.9 15.2C30.9 15.5 30.9 15.9 30.9 16.2 30.8 16.6 30.5 16.8 30.1 16.8H20.3C20.8 18.2 22.1 19 23.7 19 24.9 19 25.8 18.6 26.4 17.9 26.7 17.5 27 17.4 27.4 17.7L29.7 19C30.1 19.3 30.2 19.7 29.9 20 28.6 22 26.3 23.1 23.7 23.1 19.1 23.1 15.8 19.7 15.8 15.3 15.8 10.8 19 7.4 23.4 7.4 27.9 7.4 30.9 10.7 30.9 15.2ZM26.6 13.6C26.2 12.2 25 11.4 23.4 11.4 21.8 11.4 20.6 12.2 20.2 13.6H26.6ZM45.7 13.3V22C45.7 22.5 45.4 22.8 44.9 22.8H42.1C41.6 22.8 41.4 22.5 41.4 22V21.2C40.2 22.5 38.9 23.1 37.2 23.1 34 23.1 31.8 21.2 31.8 18.4 31.8 15.4 33.9 13.6 37.1 13.6H41.4V13.2C41.4 12.1 40.4 11.4 38.9 11.4 37.9 11.4 37 11.8 36.6 12.3 36.3 12.6 36.1 12.8 35.7 12.8H32.9C32.4 12.8 32.1 12.6 32.2 12.1 32.8 9.3 35.2 7.4 38.8 7.4 43 7.4 45.7 9.8 45.7 13.3ZM41.4 17.2V16.7H37.8C36.6 16.7 36.2 17.3 36.2 18.2 36.2 18.9 36.8 19.6 38.3 19.6 40.2 19.6 41.4 18.6 41.4 17.2ZM63 15.3C63 19.7 59.9 23.1 55.9 23.1 54.2 23.1 52.8 22.5 51.8 21.4V28.4C51.8 28.9 51.6 29.1 51.1 29.1H48.2C47.7 29.1 47.4 28.9 47.4 28.4V8.5C47.4 8 47.7 7.7 48.2 7.7H51C51.5 7.7 51.7 8 51.7 8.5V9.3C52.7 8.1 54.2 7.4 55.8 7.4 59.8 7.4 63 10.8 63 15.3ZM58.6 15.3C58.6 13.3 57.2 11.7 55.2 11.7 53.1 11.7 51.7 13.3 51.7 15.3 51.7 17.3 53.1 18.8 55.2 18.8 57.2 18.8 58.6 17.3 58.6 15.3Z\" fill=\"#36A635\"></path></svg> </div> <h6 class=\"has-subhead\">Manage clients and leads better</h6> <p class=\"last small\">Swap out spreadsheets for easy-to-use, smart client management software that helps turn incoming leads into satisfied clients.</p> <div class=\"keap-front__button\"> <a href=\"/keap\" class=\"button small-expanded\">Go to Keap</a> </div> </div> </div> </div> </section> <section class=\"section\"> <div class=\"grid-container\"> <div class=\"grid-x align-center text-center\"> <div class=\"cell\"> <p>Not sure which is right for you? Give us a call.</p> <a class=\"link\" href=\"tel:+18557244314\">+1 855 724 4314</a> </div> </div> </div> </section>'},\n",
       "       'css': {},\n",
       "       'dependencies': [],\n",
       "       'id': '44E8E76B-3088-4E90-92AB-C6B45F24D250',\n",
       "       'rearrange': {'insertSelector': '', 'operator': 'before'},\n",
       "       'selector': '.body-wrapper',\n",
       "       'type': 'attribute'},\n",
       "      {'async': False,\n",
       "       'attributes': {'remove': True},\n",
       "       'css': {},\n",
       "       'dependencies': [],\n",
       "       'id': '89091F4E-73EE-4083-9236-1ADCB1D1A915',\n",
       "       'rearrange': {'insertSelector': '', 'operator': 'before'},\n",
       "       'selector': '.footer-primary__links',\n",
       "       'type': 'attribute'},\n",
       "      {'async': False,\n",
       "       'attributes': {'remove': True},\n",
       "       'css': {},\n",
       "       'dependencies': [],\n",
       "       'id': 'BFBB8B05-4944-421A-99AC-C03D1EAAAE3A',\n",
       "       'rearrange': {'insertSelector': '', 'operator': 'before'},\n",
       "       'selector': '.footer-primary__social',\n",
       "       'type': 'attribute'},\n",
       "      {'async': False,\n",
       "       'attributes': {'remove': True},\n",
       "       'css': {},\n",
       "       'dependencies': [],\n",
       "       'id': '93FC5A86-61A8-4BCF-AAE9-7089E603E2A1',\n",
       "       'rearrange': {'insertSelector': '', 'operator': 'before'},\n",
       "       'selector': '.footer-primary__company',\n",
       "       'type': 'attribute'},\n",
       "      {'async': False,\n",
       "       'attributes': {},\n",
       "       'css': {},\n",
       "       'dependencies': [],\n",
       "       'id': '14291669-1783-4E98-81BD-666B8B6D59D7',\n",
       "       'rearrange': {'insertSelector': '', 'operator': 'before'},\n",
       "       'selector': '.button[href=\"/infusionsoft\"]',\n",
       "       'type': 'attribute'},\n",
       "      {'async': False,\n",
       "       'attributes': {},\n",
       "       'css': {},\n",
       "       'dependencies': [],\n",
       "       'id': '2D836326-9462-4BE3-9872-C869B26A435F',\n",
       "       'rearrange': {'insertSelector': '', 'operator': 'before'},\n",
       "       'selector': '.button[href=\"/keap\"]',\n",
       "       'type': 'attribute'}],\n",
       "     'page_id': 10557820868,\n",
       "     'share_link': 'https://keap.com?optimizely_token=5027873d86a1be98867a32ec7fbd41749cfeaa2481379131d6c94248fbf996a7&optimizely_x=13549770227&optimizely_x_audiences=10562358375&optimizely_preview_layer_ids=13570680399&optimizely_snippet=s3-10347872424'},\n",
       "    {'changes': [{'async': False,\n",
       "       'dependencies': [],\n",
       "       'id': '8A8FE55E-0FCD-46D7-8E4F-79FD4A3F0981',\n",
       "       'src': '/actions/517dec510f7d4c75e4261ee0c078237859bb417831aa0546450f0b145863eeec.js',\n",
       "       'type': 'custom_code',\n",
       "       'value': 'var utils = window[\\'optimizely\\'].get(\\'utils\\');\\nvar oldHomepageUrl = window.location.origin;\\nvar newHomepageUrl = oldHomepageUrl + \\'/keap\\';\\n\\nutils.waitUntil(function() {\\n  return document.querySelectorAll(\\'a[href=\"\\' + oldHomepageUrl + \\'\"]\\').length > 0;\\n}).then(function() {\\n  var links = document.querySelectorAll(\\'a[href=\"\\' + oldHomepageUrl + \\'\"]\\');\\n  for (var i = 0; i < links.length; i++) {\\n    links[i].href = newHomepageUrl;\\n  }\\n});'}],\n",
       "     'page_id': 13655050142,\n",
       "     'share_link': 'https://keap.com/features?optimizely_token=5027873d86a1be98867a32ec7fbd41749cfeaa2481379131d6c94248fbf996a7&optimizely_x=13549770227&optimizely_x_audiences=10562358375&optimizely_preview_layer_ids=13570680399&optimizely_snippet=s3-10347872424'}],\n",
       "   'archived': False,\n",
       "   'name': 'Interstitial Page',\n",
       "   'status': 'active',\n",
       "   'variation_id': 13549770227,\n",
       "   'weight': 5000}]}"
      ]
     },
     "execution_count": 11,
     "metadata": {},
     "output_type": "execute_result"
    }
   ],
   "source": [
    "read_endpoint(endpoint=experiment_endpoint, headers_set=headers, params_set=params)"
   ]
  },
  {
   "cell_type": "code",
   "execution_count": 9,
   "metadata": {},
   "outputs": [],
   "source": [
    "response_text = json.loads(response.text)"
   ]
  },
  {
   "cell_type": "code",
   "execution_count": 10,
   "metadata": {},
   "outputs": [
    {
     "data": {
      "text/plain": [
       "{'code': 'invalid_credentials',\n",
       " 'message': 'Missing authorization header',\n",
       " 'uuid': '37d9229f-7ae8-4607-8f70-5501f903c5d0'}"
      ]
     },
     "execution_count": 10,
     "metadata": {},
     "output_type": "execute_result"
    }
   ],
   "source": [
    "response_text"
   ]
  },
  {
   "cell_type": "code",
   "execution_count": null,
   "metadata": {},
   "outputs": [],
   "source": [
    "# get the timestamp from bq for experiment table, at which the job was most recently run\n",
    "last_upload_ts = check_bq_ts('origin_experiments_single_fields', 'upload_ts')\n",
    "\n"
   ]
  },
  {
   "cell_type": "code",
   "execution_count": null,
   "metadata": {},
   "outputs": [],
   "source": [
    "# get experiments with last_modified timestamps that are later than the previous ts\n",
    "# getting ready to upload\n",
    "updating_experiments = check_api_ts(api_path=experiment_endpoint, table='experiment', ts_col='last_modified', benchmark_ts=last_upload_ts.replace(tzinfo=None))\n",
    "updating_experiments_json = generate_new_entity(id_list=updating_experiments, api_path='https://api.optimizely.com/v2/projects', table='experiment')\n",
    "\n"
   ]
  },
  {
   "cell_type": "code",
   "execution_count": null,
   "metadata": {},
   "outputs": [],
   "source": [
    "result_endpoint = f'https://api.optimizely.com/v2/experiments/13559460138/timeseries'\n"
   ]
  },
  {
   "cell_type": "code",
   "execution_count": null,
   "metadata": {},
   "outputs": [],
   "source": [
    "response_ts = requests.get(result_endpoint, headers=headers)"
   ]
  },
  {
   "cell_type": "code",
   "execution_count": null,
   "metadata": {},
   "outputs": [],
   "source": []
  },
  {
   "cell_type": "code",
   "execution_count": null,
   "metadata": {},
   "outputs": [],
   "source": []
  }
 ],
 "metadata": {
  "kernelspec": {
   "display_name": "Python 3",
   "language": "python",
   "name": "python3"
  },
  "language_info": {
   "codemirror_mode": {
    "name": "ipython",
    "version": 3
   },
   "file_extension": ".py",
   "mimetype": "text/x-python",
   "name": "python",
   "nbconvert_exporter": "python",
   "pygments_lexer": "ipython3",
   "version": "3.6.4"
  }
 },
 "nbformat": 4,
 "nbformat_minor": 2
}
