{
 "cells": [
  {
   "cell_type": "code",
   "execution_count": 4,
   "metadata": {},
   "outputs": [],
   "source": [
    "# ############################################### Keys and Authentication #######################################\n",
    "# if not os.environ.get('GOOGLE_ACCOUNT_CREDENTIALS'):\n",
    "#     os.environ['GOOGLE_ACCOUNT_CREDENTIALS'] = '/home/engineering/keyfile.json'\n",
    "gbq_key = os.environ.get('GOOGLE_ACCOUNT_CREDENTIALS')\n",
    "\n",
    "# directory = str(os.path.abspath(os.path.dirname(__file__)))\n",
    "directory = os.getcwd()\n",
    "\n",
    "############################################### Instantiating Popelines #######################################\n",
    "pope = popelines.popeline(dataset_id='optimizely', service_key_file_loc=gbq_key, directory='.', verbose=False)\n",
    "\n",
    "# Optimizely parameters\n",
    "headers = {\n",
    "    'Authorization': 'Bearer 2:EWAWmaXb4TgtYVU2VvwoEF-9UbJxBahkiFh1633_Oc9nmju7iJis',\n",
    "}\n",
    "\n",
    "params = (\n",
    "    ('per_page', 100),\n",
    ")\n",
    "\n"
   ]
  },
  {
   "cell_type": "code",
   "execution_count": 12,
   "metadata": {},
   "outputs": [],
   "source": [
    "query = open(f'{directory}/running_experiments.sql').read()\n",
    "running_exp = pope.bq_query(query)\n",
    "\n"
   ]
  },
  {
   "cell_type": "code",
   "execution_count": 13,
   "metadata": {},
   "outputs": [
    {
     "data": {
      "text/plain": [
       "[Row((12743540432, datetime.datetime(2019, 2, 26, 0, 55, 55, 61588, tzinfo=<UTC>)), {'id': 0, 'last_upload_ts': 1}),\n",
       " Row((13644120221, datetime.datetime(2019, 2, 26, 0, 56, 0, 564945, tzinfo=<UTC>)), {'id': 0, 'last_upload_ts': 1}),\n",
       " Row((12746930280, datetime.datetime(2019, 2, 26, 0, 55, 55, 62018, tzinfo=<UTC>)), {'id': 0, 'last_upload_ts': 1}),\n",
       " Row((13727000072, datetime.datetime(2019, 3, 4, 14, 24, 35, 704956, tzinfo=<UTC>)), {'id': 0, 'last_upload_ts': 1}),\n",
       " Row((13708070038, datetime.datetime(2019, 2, 26, 23, 51, 29, 773460, tzinfo=<UTC>)), {'id': 0, 'last_upload_ts': 1}),\n",
       " Row((13559460138, datetime.datetime(2019, 2, 26, 0, 55, 53, 761973, tzinfo=<UTC>)), {'id': 0, 'last_upload_ts': 1})]"
      ]
     },
     "execution_count": 13,
     "metadata": {},
     "output_type": "execute_result"
    }
   ],
   "source": [
    "running_exp"
   ]
  },
  {
   "cell_type": "code",
   "execution_count": 21,
   "metadata": {},
   "outputs": [
    {
     "name": "stdout",
     "output_type": "stream",
     "text": [
      "12743540432\n",
      "13644120221\n",
      "12746930280\n",
      "13727000072\n",
      "13708070038\n",
      "13559460138\n"
     ]
    }
   ],
   "source": [
    "for exp in running_exp:\n",
    "    exp['id']"
   ]
  },
  {
   "cell_type": "code",
   "execution_count": null,
   "metadata": {},
   "outputs": [],
   "source": [
    "# set up a sql file to get result's max upload_ts for these experiment id's\n"
   ]
  },
  {
   "cell_type": "code",
   "execution_count": null,
   "metadata": {},
   "outputs": [],
   "source": [
    "exp_results = []\n",
    "for exp in all_exp:\n",
    "    if exp['status'] == 'archived' or exp['status'] == 'experiment_archived':  \n",
    "        if exp['earliest'] is not None:\n",
    "            start_timestamp = datetime.strftime(exp['earliest'], '%Y-%m-%dT%H:%M:%SZ')[:14] + str('00:00Z')\n",
    "            end_timestamp = datetime.strftime(exp['last_modified'], '%Y-%m-%dT%H:%M:%SZ')[:14] + str('00:00Z')\n",
    "            exp_results.extend(results_generator(start_timestamp, end_timestamp, experiment_id=exp['id'], headers=headers, params=params, pope=pope, gbq_key=gbq_key))\n",
    "\n",
    "    else:\n",
    "        print(f\"Experiment {exp['id']} shows a new experiment status. Need to investigate.\")\n",
    "\n",
    "    pope.write_to_json(file_name=f'{directory}/../uploads/results.json', jayson=exp_results, mode='w')"
   ]
  },
  {
   "cell_type": "code",
   "execution_count": null,
   "metadata": {},
   "outputs": [],
   "source": []
  },
  {
   "cell_type": "code",
   "execution_count": null,
   "metadata": {},
   "outputs": [],
   "source": []
  }
 ],
 "metadata": {
  "kernelspec": {
   "display_name": "Python 3",
   "language": "python",
   "name": "python3"
  },
  "language_info": {
   "codemirror_mode": {
    "name": "ipython",
    "version": 3
   },
   "file_extension": ".py",
   "mimetype": "text/x-python",
   "name": "python",
   "nbconvert_exporter": "python",
   "pygments_lexer": "ipython3",
   "version": "3.6.4"
  }
 },
 "nbformat": 4,
 "nbformat_minor": 2
}
