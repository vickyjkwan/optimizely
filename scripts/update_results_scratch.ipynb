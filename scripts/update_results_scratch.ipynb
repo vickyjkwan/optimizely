{
 "cells": [
  {
   "cell_type": "code",
   "execution_count": 1,
   "metadata": {},
   "outputs": [],
   "source": [
    "import json\n",
    "import requests\n",
    "import popelines\n",
    "import os"
   ]
  },
  {
   "cell_type": "code",
   "execution_count": 2,
   "metadata": {},
   "outputs": [],
   "source": [
    "from datetime import datetime, timedelta"
   ]
  },
  {
   "cell_type": "code",
   "execution_count": 3,
   "metadata": {},
   "outputs": [],
   "source": [
    "from main import fix_values, populating_vals, flatten, flatten_dupe_vals\n",
    "from generate_original_with_timeseries import read_endpoint, generate_results\n",
    "from generate_original_results import results_generator"
   ]
  },
  {
   "cell_type": "code",
   "execution_count": 4,
   "metadata": {},
   "outputs": [],
   "source": [
    "# ############################################### Keys and Authentication #######################################\n",
    "# if not os.environ.get('GOOGLE_ACCOUNT_CREDENTIALS'):\n",
    "#     os.environ['GOOGLE_ACCOUNT_CREDENTIALS'] = '/home/engineering/keyfile.json'\n",
    "gbq_key = os.environ.get('GOOGLE_ACCOUNT_CREDENTIALS')\n",
    "\n",
    "# directory = str(os.path.abspath(os.path.dirname(__file__)))\n",
    "directory = os.getcwd()\n",
    "\n",
    "############################################### Instantiating Popelines #######################################\n",
    "pope = popelines.popeline(dataset_id='optimizely', service_key_file_loc=gbq_key, directory='.', verbose=False)\n",
    "\n",
    "# Optimizely parameters\n",
    "headers = {\n",
    "    'Authorization': 'Bearer 2:EWAWmaXb4TgtYVU2VvwoEF-9UbJxBahkiFh1633_Oc9nmju7iJis',\n",
    "}\n",
    "\n",
    "params = (\n",
    "    ('per_page', 100),\n",
    ")\n",
    "\n"
   ]
  },
  {
   "cell_type": "code",
   "execution_count": 5,
   "metadata": {},
   "outputs": [],
   "source": [
    "# from bq get all running experiments\n",
    "query = open(f'{directory}/running_experiments.sql').read()\n",
    "running_exp = pope.bq_query(query)\n"
   ]
  },
  {
   "cell_type": "code",
   "execution_count": 6,
   "metadata": {},
   "outputs": [
    {
     "name": "stdout",
     "output_type": "stream",
     "text": [
      "start time is 2019-03-02T19:00:00Z, end time is 2019-03-02T20:00:00Z\n",
      "got experiment 13727000072\n",
      "start time is 2019-03-02T20:00:00Z, end time is 2019-03-02T21:00:00Z\n",
      "got experiment 13727000072\n",
      "start time is 2019-03-02T21:00:00Z, end time is 2019-03-02T22:00:00Z\n",
      "got experiment 13727000072\n",
      "start time is 2019-03-02T22:00:00Z, end time is 2019-03-02T23:00:00Z\n",
      "got experiment 13727000072\n",
      "start time is 2019-03-02T23:00:00Z, end time is 2019-03-03T00:00:00Z\n",
      "got experiment 13727000072\n",
      "start time is 2019-03-03T00:00:00Z, end time is 2019-03-03T01:00:00Z\n",
      "got experiment 13727000072\n",
      "start time is 2019-03-03T01:00:00Z, end time is 2019-03-03T02:00:00Z\n",
      "got experiment 13727000072\n",
      "start time is 2019-03-03T02:00:00Z, end time is 2019-03-03T03:00:00Z\n",
      "got experiment 13727000072\n",
      "start time is 2019-03-03T03:00:00Z, end time is 2019-03-03T04:00:00Z\n",
      "got experiment 13727000072\n",
      "start time is 2019-03-03T04:00:00Z, end time is 2019-03-03T05:00:00Z\n",
      "got experiment 13727000072\n",
      "start time is 2019-03-03T05:00:00Z, end time is 2019-03-03T06:00:00Z\n",
      "got experiment 13727000072\n",
      "start time is 2019-03-03T06:00:00Z, end time is 2019-03-03T07:00:00Z\n",
      "got experiment 13727000072\n",
      "start time is 2019-03-03T07:00:00Z, end time is 2019-03-03T08:00:00Z\n",
      "got experiment 13727000072\n",
      "start time is 2019-03-03T08:00:00Z, end time is 2019-03-03T09:00:00Z\n",
      "got experiment 13727000072\n",
      "start time is 2019-03-03T09:00:00Z, end time is 2019-03-03T10:00:00Z\n",
      "got experiment 13727000072\n",
      "start time is 2019-03-03T10:00:00Z, end time is 2019-03-03T11:00:00Z\n",
      "got experiment 13727000072\n",
      "start time is 2019-03-03T11:00:00Z, end time is 2019-03-03T12:00:00Z\n",
      "got experiment 13727000072\n",
      "start time is 2019-03-03T12:00:00Z, end time is 2019-03-03T13:00:00Z\n",
      "got experiment 13727000072\n",
      "start time is 2019-03-03T13:00:00Z, end time is 2019-03-03T14:00:00Z\n",
      "got experiment 13727000072\n",
      "start time is 2019-03-03T14:00:00Z, end time is 2019-03-03T15:00:00Z\n",
      "got experiment 13727000072\n",
      "start time is 2019-03-03T15:00:00Z, end time is 2019-03-03T16:00:00Z\n",
      "got experiment 13727000072\n",
      "start time is 2019-03-03T16:00:00Z, end time is 2019-03-03T17:00:00Z\n",
      "got experiment 13727000072\n",
      "start time is 2019-03-03T17:00:00Z, end time is 2019-03-03T18:00:00Z\n",
      "got experiment 13727000072\n",
      "start time is 2019-03-03T18:00:00Z, end time is 2019-03-03T19:00:00Z\n",
      "got experiment 13727000072\n",
      "start time is 2019-03-03T19:00:00Z, end time is 2019-03-03T20:00:00Z\n",
      "got experiment 13727000072\n",
      "start time is 2019-03-03T20:00:00Z, end time is 2019-03-03T21:00:00Z\n",
      "got experiment 13727000072\n",
      "start time is 2019-03-03T21:00:00Z, end time is 2019-03-03T22:00:00Z\n",
      "got experiment 13727000072\n",
      "start time is 2019-03-03T22:00:00Z, end time is 2019-03-03T23:00:00Z\n",
      "got experiment 13727000072\n",
      "start time is 2019-03-03T23:00:00Z, end time is 2019-03-04T00:00:00Z\n",
      "got experiment 13727000072\n",
      "start time is 2019-03-04T00:00:00Z, end time is 2019-03-04T01:00:00Z\n",
      "got experiment 13727000072\n",
      "start time is 2019-03-04T01:00:00Z, end time is 2019-03-04T02:00:00Z\n",
      "got experiment 13727000072\n",
      "start time is 2019-03-04T02:00:00Z, end time is 2019-03-04T03:00:00Z\n",
      "got experiment 13727000072\n",
      "start time is 2019-03-04T03:00:00Z, end time is 2019-03-04T04:00:00Z\n",
      "got experiment 13727000072\n",
      "start time is 2019-03-04T04:00:00Z, end time is 2019-03-04T05:00:00Z\n",
      "got experiment 13727000072\n",
      "start time is 2019-03-04T05:00:00Z, end time is 2019-03-04T06:00:00Z\n",
      "got experiment 13727000072\n",
      "start time is 2019-03-04T06:00:00Z, end time is 2019-03-04T07:00:00Z\n",
      "got experiment 13727000072\n",
      "start time is 2019-03-04T07:00:00Z, end time is 2019-03-04T08:00:00Z\n",
      "got experiment 13727000072\n",
      "start time is 2019-03-04T08:00:00Z, end time is 2019-03-04T09:00:00Z\n",
      "got experiment 13727000072\n",
      "start time is 2019-03-04T09:00:00Z, end time is 2019-03-04T10:00:00Z\n",
      "got experiment 13727000072\n",
      "start time is 2019-03-04T10:00:00Z, end time is 2019-03-04T11:00:00Z\n",
      "got experiment 13727000072\n",
      "start time is 2019-03-04T11:00:00Z, end time is 2019-03-04T12:00:00Z\n",
      "got experiment 13727000072\n",
      "start time is 2019-03-04T12:00:00Z, end time is 2019-03-04T13:00:00Z\n",
      "got experiment 13727000072\n",
      "start time is 2019-03-04T13:00:00Z, end time is 2019-03-04T14:00:00Z\n",
      "got experiment 13727000072\n",
      "start time is 2019-03-04T14:00:00Z, end time is 2019-03-04T15:00:00Z\n"
     ]
    },
    {
     "name": "stderr",
     "output_type": "stream",
     "text": [
      "INFO:root:Writing updating_results to BQ from file /Users/vicky/Dev/optimizely/scripts/updating_results.json\n"
     ]
    },
    {
     "name": "stdout",
     "output_type": "stream",
     "text": [
      "got experiment 13727000072\n",
      "2019-03-04 14:21:39,108 - root - Writing updating_results to BQ from file /Users/vicky/Dev/optimizely/scripts/updating_results.json\n"
     ]
    }
   ],
   "source": [
    "# exp = running_exp[0]\n",
    "new_results = []\n",
    "for exp in running_exp:\n",
    "    query = open(f'{directory}/last_results.sql').read().replace('exp_id', f\"{exp['id']}\")\n",
    "    new_exp = pope.bq_query(query)\n",
    "    start_timestamp = datetime.strftime(new_exp[0][1], '%Y-%m-%dT%H:%M:%SZ')[:14] + str('00:00Z')\n",
    "    end_timestamp = datetime.strftime(datetime.now(), '%Y-%m-%dT%H:%M:%SZ')\n",
    "    \n",
    "    new_results.extend(results_generator(start_timestamp, end_timestamp, experiment_id=new_exp[0][0], headers=headers, params=params, pope=pope, gbq_key=gbq_key))\n",
    "    pope.write_to_json(file_name=f'{directory}/updating_results.json', jayson=new_results, mode='w')\n",
    "    break\n",
    "\n",
    "pope.write_to_bq(table_name='updating_results', file_name=f'{directory}/updating_results.json', append=True, ignore_unknown_values=False, bq_schema_autodetect=False)    \n",
    "\n",
    "\n"
   ]
  },
  {
   "cell_type": "code",
   "execution_count": null,
   "metadata": {},
   "outputs": [],
   "source": [
    "# query = open(f'{directory}/last_results.sql').read().replace('exp_id', f\"{exp['id']}\")\n",
    "# new_exp = pope.bq_query(query)\n",
    "# new_exp"
   ]
  },
  {
   "cell_type": "code",
   "execution_count": null,
   "metadata": {},
   "outputs": [],
   "source": [
    "# start_timestamp = datetime.strftime(new_exp[0][1], '%Y-%m-%dT%H:%M:%SZ')[:14] + str('00:00Z')"
   ]
  },
  {
   "cell_type": "code",
   "execution_count": null,
   "metadata": {},
   "outputs": [],
   "source": [
    "# start_timestamp"
   ]
  },
  {
   "cell_type": "code",
   "execution_count": null,
   "metadata": {},
   "outputs": [],
   "source": [
    "# end_timestamp = datetime.strftime(datetime.now(), '%Y-%m-%dT%H:%M:%SZ')\n",
    "# end_timestamp"
   ]
  },
  {
   "cell_type": "code",
   "execution_count": null,
   "metadata": {},
   "outputs": [],
   "source": [
    "# new_results = []"
   ]
  },
  {
   "cell_type": "code",
   "execution_count": null,
   "metadata": {
    "scrolled": true
   },
   "outputs": [],
   "source": [
    "# new_results.extend(results_generator(start_timestamp, end_timestamp, experiment_id=new_exp[0][0], headers=headers, params=params, pope=pope, gbq_key=gbq_key))\n",
    "\n",
    "\n"
   ]
  },
  {
   "cell_type": "code",
   "execution_count": null,
   "metadata": {},
   "outputs": [],
   "source": [
    "# pope.write_to_json(file_name=f'{directory}/updating_results.json', jayson=new_results, mode='w')"
   ]
  },
  {
   "cell_type": "code",
   "execution_count": null,
   "metadata": {},
   "outputs": [],
   "source": [
    "# pope.write_to_bq(table_name='updating_results', file_name=f'{directory}/updating_results.json', append=True, ignore_unknown_values=False, bq_schema_autodetect=False)    \n"
   ]
  },
  {
   "cell_type": "code",
   "execution_count": null,
   "metadata": {},
   "outputs": [],
   "source": []
  }
 ],
 "metadata": {
  "kernelspec": {
   "display_name": "Python 3",
   "language": "python",
   "name": "python3"
  },
  "language_info": {
   "codemirror_mode": {
    "name": "ipython",
    "version": 3
   },
   "file_extension": ".py",
   "mimetype": "text/x-python",
   "name": "python",
   "nbconvert_exporter": "python",
   "pygments_lexer": "ipython3",
   "version": "3.6.4"
  }
 },
 "nbformat": 4,
 "nbformat_minor": 2
}
