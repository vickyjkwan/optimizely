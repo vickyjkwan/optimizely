{
 "cells": [
  {
   "cell_type": "code",
   "execution_count": null,
   "metadata": {},
   "outputs": [],
   "source": [
    "import requests\n",
    "import json\n",
    "import popelines\n",
    "import os\n",
    "from datetime import datetime\n",
    "\n",
    "\n",
    "def fix_values(value, key, reset_key):\n",
    "    if key == reset_key:\n",
    "        new_list = []\n",
    "        for x in value:\n",
    "            value[x][f'{reset_key}_id'] = x\n",
    "            new_list.append(value[x])\n",
    "        return new_list\n",
    "    else:\n",
    "        return value"
   ]
  },
  {
   "cell_type": "code",
   "execution_count": null,
   "metadata": {},
   "outputs": [],
   "source": [
    "def flatten(jayson, acc, prefix):\n",
    "    if isinstance(jayson, dict):\n",
    "        for k,v in jayson.items():\n",
    "            if prefix:\n",
    "                prefix_k = prefix + \"_\" + k\n",
    "            else: \n",
    "                prefix_k = k\n",
    "            prefix_k = prefix_k.replace('-', '_')\n",
    "            \n",
    "            if isinstance(v, dict):\n",
    "                flatten(v, acc, prefix_k)\n",
    "            elif isinstance(v, list):\n",
    "                for j in v:\n",
    "                    flatten(j, acc, prefix_k)\n",
    "            else:\n",
    "                acc[prefix_k] = v\n",
    "        return acc \n",
    "    else:\n",
    "        return acc"
   ]
  },
  {
   "cell_type": "code",
   "execution_count": null,
   "metadata": {},
   "outputs": [],
   "source": [
    "def generate_project_experiment(project_endpoint, experiment_endpoint):\n",
    "\n",
    "    # get all projects\n",
    "    try:\n",
    "        response_proj = requests.get(project_endpoint, headers=headers)\n",
    "        j_proj = json.loads(response_proj.text)\n",
    "        response_proj.raise_for_status()\n",
    "        print('Successfully read project data.')\n",
    "\n",
    "    except requests.exceptions.HTTPError as err:\n",
    "        print(err)\n",
    "\n",
    "    # store a list of project metadata\n",
    "    project_list = []\n",
    "    experiment_id_list = []\n",
    "\n",
    "    for project in j_proj:\n",
    "        p_id = project['id']\n",
    "\n",
    "        # get all experiments from one project\n",
    "        params = (\n",
    "            ('project_id', p_id),\n",
    "            ('per_page', 100),\n",
    "        ) \n",
    "\n",
    "        try:\n",
    "            response_exp = requests.get(experiment_endpoint, headers=headers, params=params)\n",
    "            j_exp = json.loads(response_exp.text)\n",
    "            response_exp.raise_for_status()\n",
    "            print('Successfully read experiment data.')\n",
    "        except requests.exceptions.HTTPError as err:\n",
    "            print(err)\n",
    "\n",
    "        # loop for all experiments in this project\n",
    "        upload_exp_list = []\n",
    "        for exp in j_exp:\n",
    "            exp['project_id'] = p_id\n",
    "            upload_exp_list.append(flatten(exp, {}, ''))\n",
    "            experiment_id_list.append(exp['id'])\n",
    "            \n",
    "        # upload experiment \n",
    "        # pope.write_to_json(file_name='../uploads/experiments.json', jayson=upload_exp_list, mode='w')\n",
    "        # pope.write_to_bq(table_name='experiments', file_name='../uploads/experiments.json', append=True, ignore_unknown_values=False, bq_schema_autodetect=False)\n",
    "        # print(f\"Successfully uploaded experiments for project {p_id}\")\n",
    "\n",
    "    project_list.append(project)\n",
    "\n",
    "    # pope.write_to_json(file_name='../uploads/projects.json', jayson=project_list, mode='w')\n",
    "    # pope.write_to_bq(table_name='projects', file_name='../uploads/projects.json', append=True, ignore_unknown_values=False, bq_schema_autodetect=False)\n",
    "    # print(\"Successfully uploaded all projects.\")\n",
    "\n",
    "    return experiment_id_list"
   ]
  },
  {
   "cell_type": "code",
   "execution_count": 29,
   "metadata": {},
   "outputs": [],
   "source": [
    "import popelines\n",
    "import json\n",
    "import requests\n",
    "import os"
   ]
  },
  {
   "cell_type": "code",
   "execution_count": 34,
   "metadata": {},
   "outputs": [],
   "source": [
    "gbq_key = os.environ.get('GOOGLE_ACCOUNT_CREDENTIALS')\n",
    "\n",
    "pope = popelines.popeline(dataset_id='optimizely', service_key_file_loc=gbq_key, directory='.', verbose=False)\n",
    "\n",
    "headers = {\n",
    "    'Authorization': 'Bearer 2:EWAWmaXb4TgtYVU2VvwoEF-9UbJxBahkiFh1633_Oc9nmju7iJis',\n",
    "}\n",
    "\n",
    "params = (\n",
    "    ('project_id', 10849384554),\n",
    "    ('per_page', 100),\n",
    ") "
   ]
  },
  {
   "cell_type": "code",
   "execution_count": 37,
   "metadata": {},
   "outputs": [],
   "source": [
    "response = requests.get('https://api.optimizely.com/v2/experiments', headers=headers, params=params)"
   ]
  },
  {
   "cell_type": "code",
   "execution_count": 39,
   "metadata": {},
   "outputs": [
    {
     "data": {
      "text/plain": [
       "'[{\"allocation_policy\": \"manual\", \"audience_conditions\": \"everyone\", \"campaign_id\": 10880750271, \"changes\": [], \"created\": \"2018-06-19T21:14:50.593989Z\", \"description\": \"That existing copy \\\\\"Get it together,\\\\\" \\\\\"Make it personal,\\\\\" & \\\\\"Cash it in\\\\\" is more effective than the Close more business version. \", \"earliest\": \"2018-06-22T16:34:45.276504Z\", \"holdback\": 0, \"id\": 10898650266, \"is_classic\": false, \"last_modified\": \"2018-11-08T20:25:59.779273Z\", \"latest\": \"2018-11-08T20:26:00.704897Z\", \"metrics\": [{\"aggregator\": \"unique\", \"event_id\": 10894182018, \"scope\": \"visitor\", \"winning_direction\": \"increasing\"}], \"name\": \"Homepage - Close More Business CTA - Jun \\'18\", \"project_id\": 10849384554, \"status\": \"paused\", \"type\": \"a/b\", \"url_targeting\": {\"activation_type\": \"immediate\", \"conditions\": \"[\\\\\"and\\\\\", [\\\\\"or\\\\\", {\\\\\"match_type\\\\\": \\\\\"simple\\\\\", \\\\\"type\\\\\": \\\\\"url\\\\\", \\\\\"value\\\\\": \\\\\"https://www.infusionsoft.com/\\\\\"}]]\", \"edit_url\": \"https://www.infusionsoft.com/\", \"key\": \"10849384554_url_targeting_for_homepage_copy_test\", \"page_id\": 10904280495}, \"variations\": [{\"actions\": [], \"archived\": false, \"name\": \"Cash it in (Control)\", \"status\": \"active\", \"variation_id\": 10892600564, \"weight\": 5000}, {\"actions\": [{\"changes\": [{\"async\": false, \"attributes\": {\"html\": \"Close more business \"}, \"css\": {}, \"dependencies\": [], \"id\": \"49C3EDB0-5D7A-4340-BC87-AEFA3EC4351F\", \"rearrange\": {\"operator\": \"before\", \"insertSelector\": \"\"}, \"selector\": \".vertical-spacing h3\", \"type\": \"attribute\"}, {\"async\": false, \"attributes\": {}, \"css\": {}, \"dependencies\": [], \"id\": \"C6F86979-5CA5-4FB0-95DB-B689C1A598A0\", \"rearrange\": {\"operator\": \"before\", \"insertSelector\": \"\"}, \"selector\": \".vertical-spacing a.small-expanded\", \"type\": \"attribute\"}, {\"async\": false, \"attributes\": {\"html\": \"Automatically send emails to leads to keep your business top of mind until they\\\\u2019re ready to buy.\"}, \"css\": {}, \"dependencies\": [], \"id\": \"4B96ED61-63F9-474D-9260-6DF7BC68842D\", \"rearrange\": {\"operator\": \"before\", \"insertSelector\": \"\"}, \"selector\": \".vertical-spacing p\", \"type\": \"attribute\"}], \"page_id\": 10904280495, \"share_link\": \"https://www.infusionsoft.com/?optimizely_token=6a0cd7c0f158734fa5a2e6efc0fa7fbac151cb789b5fc32f516807aa27103e7c&optimizely_x=10884660427&optimizely_x_audiences=&optimizely_preview_layer_ids=10880750271&optimizely_snippet=s3-10849384554\"}], \"archived\": false, \"name\": \"Close more business\", \"status\": \"active\", \"variation_id\": 10884660427, \"weight\": 5000}]}, {\"allocation_policy\": \"manual\", \"audience_conditions\": \"everyone\", \"campaign_id\": 11327152268, \"changes\": [], \"created\": \"2018-08-20T19:37:38.171430Z\", \"description\": \"Replacing existing subhead: \\\\\"52% of consumers prefer marketing that is personalized.\\\\\" with \\\\n71% of consumers said they prefer marketing that\\'s tailored to their personalized interests and shopping habits.\\\\nThe theory is that a stronger stat will lead to higher conversion than the control. \\\\n1,051 pageviews from April 17 thru July 1. Looking to double that in half the time. \", \"earliest\": \"2018-08-20T20:04:55.634630Z\", \"holdback\": 0, \"id\": 11355070013, \"is_classic\": false, \"last_modified\": \"2018-11-08T20:25:57.563998Z\", \"latest\": \"2018-11-08T20:25:58.553839Z\", \"metrics\": [{\"aggregator\": \"unique\", \"event_id\": 11333491595, \"scope\": \"visitor\", \"winning_direction\": \"increasing\"}], \"name\": \"Homepage - Personalization CTA - Aug \\'18\", \"project_id\": 10849384554, \"status\": \"paused\", \"type\": \"a/b\", \"url_targeting\": {\"activation_type\": \"immediate\", \"conditions\": \"[\\\\\"and\\\\\", [\\\\\"or\\\\\", {\\\\\"match_type\\\\\": \\\\\"simple\\\\\", \\\\\"type\\\\\": \\\\\"url\\\\\", \\\\\"value\\\\\": \\\\\"https://www.infusionsoft.com/\\\\\"}]]\", \"edit_url\": \"https://www.infusionsoft.com/\", \"key\": \"10849384554_url_targeting_for_home_page_test_2\", \"page_id\": 11351130894}, \"variations\": [{\"actions\": [], \"archived\": false, \"name\": \"Control: 52% of consumers\", \"status\": \"active\", \"variation_id\": 11340236640, \"weight\": 5000}, {\"actions\": [{\"changes\": [{\"async\": false, \"attributes\": {\"html\": \"71% of consumers said they prefer marketing that\\'s tailored to their personalized interests and shopping habits.\"}, \"css\": {}, \"dependencies\": [], \"id\": \"EB8688D9-9CB0-49B4-B3D1-BD457D6EFD9F\", \"rearrange\": {\"operator\": \"before\", \"insertSelector\": \"\"}, \"selector\": \"section:nth-of-type(2) p\", \"type\": \"attribute\"}, {\"async\": false, \"attributes\": {}, \"css\": {}, \"dependencies\": [], \"id\": \"2F618491-21CC-4055-A144-B7EE037223C1\", \"rearrange\": {\"operator\": \"before\", \"insertSelector\": \"\"}, \"selector\": \"section:nth-of-type(2) a.small-expanded\", \"type\": \"attribute\"}], \"page_id\": 11351130894, \"share_link\": \"https://www.infusionsoft.com/?optimizely_token=6a0cd7c0f158734fa5a2e6efc0fa7fbac151cb789b5fc32f516807aa27103e7c&optimizely_x=11322463414&optimizely_x_audiences=&optimizely_preview_layer_ids=11327152268&optimizely_snippet=s3-10849384554\"}], \"archived\": false, \"name\": \"71% of consumers said they prefer marketing that\\'s tailored\", \"status\": \"active\", \"variation_id\": 11322463414, \"weight\": 5000}]}, {\"allocation_policy\": \"manual\", \"audience_conditions\": \"everyone\", \"campaign_id\": 11396257350, \"changes\": [], \"created\": \"2018-09-05T16:17:14.973290Z\", \"earliest\": \"2018-09-05T16:43:44.018500Z\", \"holdback\": 0, \"id\": 11365136008, \"is_classic\": false, \"last_modified\": \"2018-10-03T23:43:45.670753Z\", \"latest\": \"2018-10-03T23:43:46.542826Z\", \"metrics\": [{\"aggregator\": \"unique\", \"event_id\": 11376015268, \"scope\": \"visitor\", \"winning_direction\": \"increasing\"}], \"name\": \"BSB - CTA on \\'How to Keep Your Emails Out of the Gmail Promotions Tab\\'\", \"project_id\": 10849384554, \"status\": \"paused\", \"type\": \"a/b\", \"url_targeting\": {\"activation_type\": \"immediate\", \"conditions\": \"[\\\\\"and\\\\\", [\\\\\"or\\\\\", {\\\\\"match_type\\\\\": \\\\\"simple\\\\\", \\\\\"type\\\\\": \\\\\"url\\\\\", \\\\\"value\\\\\": \\\\\"https://www.infusionsoft.com/business-success-blog/marketing/email-marketing/how-to-keep-your-emails-out-of-the-gmail-promotions-tab\\\\\"}]]\", \"edit_url\": \"https://www.infusionsoft.com/business-success-blog/marketing/email-marketing/how-to-keep-your-emails-out-of-the-gmail-promotions-tab\", \"key\": \"10849384554_url_targeting_for_bsb__cta_on_26_ideas_to_get_your_n_1_1\", \"page_id\": 11368698312}, \"variations\": [{\"actions\": [], \"archived\": false, \"name\": \"Email templates (Control)\", \"status\": \"active\", \"variation_id\": 11372694220, \"weight\": 3333}, {\"actions\": [{\"changes\": [{\"async\": true, \"dependencies\": [], \"id\": \"64796a2e20d8465ca4f739853ea1fcbd\", \"src\": \"/actions/c92937a1ef8afd95df28042fcd4373afb3576f8e7ad14a9243fa948a1b11ab5c.js\", \"type\": \"custom_code\", \"value\": \"window.marketoFormRedirects = window.marketoFormRedirects || {};\\\\nmarketoFormRedirects.cta_link_url = \\\\\"https://assets.infusionsoft.com/image/upload/v1517613916/personalize-automation-worksheet_akr19z.pdf\\\\\";\\\\nwindow.mktoModalBtnText = \\\\\"Download now\\\\\";\"}, {\"async\": false, \"attributes\": {\"html\": \"Don\\'t sound like a robot. Learn how you can easily personalize automated emails. \"}, \"css\": {}, \"dependencies\": [], \"id\": \"32b1b16fa9db487b846c129d522f3078\", \"rearrange\": {\"operator\": \"before\", \"insertSelector\": \"\"}, \"selector\": \"#modal_asset_form h4\", \"type\": \"attribute\"}, {\"async\": false, \"attributes\": {\"html\": \"Learn how you can easily personalize automated emails.\"}, \"css\": {}, \"dependencies\": [], \"id\": \"d8d4f2188f1644cfa36c86356ac21a49\", \"rearrange\": {\"operator\": \"before\", \"insertSelector\": \"\"}, \"selector\": \"#modal_asset_form p:nth-of-type(2)\", \"type\": \"attribute\"}, {\"async\": false, \"attributes\": {\"html\": \"<div class=\\\\\"grid-x grid-padding-x grid-padding-y align-middle\\\\\"> <div class=\\\\\"cell small-12 medium-6\\\\\"> <div class=\\\\\"inline-cta__copy\\\\\"> <p class=\\\\\"bolded-text\\\\\">Free Cheatsheet</p>\\\\n<h5>20 Ways to Personalize Automated Emails</h5>\\\\n</div> <button class=\\\\\"button inline-cta__button\\\\\" data-remodal-target=\\\\\"modal_asset_form\\\\\" data-button-text=\\\\\"Get your free cheatsheet\\\\\">Get your free cheatsheet</button> </div> <div class=\\\\\"cell small-12 medium-6\\\\\"> <img src=\\\\\"//assets.infusionsoft.com/image/upload/w_800,f_auto/v1531154151/interactive_ebooks/Guide%20thumbnail%20images/Guides-email-marketing.jpg\\\\\" alt=\\\\\"personalize automated emails\\\\\"> </div> </div>\"}, \"css\": {}, \"dependencies\": [], \"id\": \"E3B50887-F5D7-4578-9BAF-C4FE8F6CAB2E\", \"rearrange\": {\"operator\": \"before\", \"insertSelector\": \"\"}, \"selector\": \".inline-cta\", \"type\": \"attribute\"}], \"page_id\": 11368698312, \"share_link\": \"https://www.infusionsoft.com/business-success-blog/marketing/email-marketing/how-to-keep-your-emails-out-of-the-gmail-promotions-tab?optimizely_token=6a0cd7c0f158734fa5a2e6efc0fa7fbac151cb789b5fc32f516807aa27103e7c&optimizely_x=11375538179&optimizely_x_audiences=&optimizely_preview_layer_ids=11396257350&optimizely_snippet=s3-10849384554\"}], \"archived\": false, \"name\": \"Cheatsheet w/ image\", \"status\": \"active\", \"variation_id\": 11375538179, \"weight\": 3333}, {\"actions\": [{\"changes\": [{\"async\": true, \"dependencies\": [], \"id\": \"49F14CC3-0077-43F4-8C51-86DE34BFAA83\", \"src\": \"/actions/cca63b7c152dbfc05b675b7f1bc228086c121448f02ec628588b118f9277e362.js\", \"type\": \"custom_code\", \"value\": \"window.marketoFormRedirects = window.marketoFormRedirects || {};\\\\nmarketoFormRedirects.cta_link_url = \\\\\"https://assets.infusionsoft.com/image/upload/v1517613916/personalize-automation-worksheet_akr19z.pdf\\\\\";\\\\nwindow.mktoModalBtnText = \\\\\"Download now\\\\\";\"}, {\"async\": false, \"attributes\": {\"html\": \"Don\\'t sound like a robot. Learn how you can easily personalize automated emails. \"}, \"css\": {}, \"dependencies\": [], \"id\": \"152CB3BB-760E-4EA0-A47E-5570E5512841\", \"rearrange\": {\"operator\": \"before\", \"insertSelector\": \"\"}, \"selector\": \"#modal_asset_form h4\", \"type\": \"attribute\"}, {\"async\": false, \"attributes\": {\"html\": \"Learn how you can easily personalize automated emails.\"}, \"css\": {}, \"dependencies\": [], \"id\": \"B41385FF-915F-46EA-9761-D173D8437723\", \"rearrange\": {\"operator\": \"before\", \"insertSelector\": \"\"}, \"selector\": \"#modal_asset_form p:nth-of-type(2)\", \"type\": \"attribute\"}, {\"async\": false, \"attributes\": {\"class\": \"\", \"html\": \"<p><button class=\\\\\"button small inline-button\\\\\" data-remodal-target=\\\\\"modal_asset_form\\\\\" data-button-text=\\\\\"Personalize Automated Emails: Free Cheatsheet\\\\\"> Personalize Automated Emails: Free Cheatsheet </button></p>\"}, \"css\": {}, \"dependencies\": [], \"id\": \"72267D82-D895-47C9-8A70-CC231E0895E6\", \"rearrange\": {\"operator\": \"before\", \"insertSelector\": \"\"}, \"selector\": \".inline-cta\", \"type\": \"attribute\"}], \"page_id\": 11368698312, \"share_link\": \"https://www.infusionsoft.com/business-success-blog/marketing/email-marketing/how-to-keep-your-emails-out-of-the-gmail-promotions-tab?optimizely_token=6a0cd7c0f158734fa5a2e6efc0fa7fbac151cb789b5fc32f516807aa27103e7c&optimizely_x=11384102517&optimizely_x_audiences=&optimizely_preview_layer_ids=11396257350&optimizely_snippet=s3-10849384554\"}], \"archived\": false, \"name\": \"Cheatsheet w/o image\", \"status\": \"active\", \"variation_id\": 11384102517, \"weight\": 3334}]}, {\"allocation_policy\": \"manual\", \"audience_conditions\": \"everyone\", \"campaign_id\": 11382649788, \"changes\": [], \"created\": \"2018-09-05T15:57:34.576210Z\", \"earliest\": \"2018-09-05T16:40:35.295180Z\", \"holdback\": 0, \"id\": 11372936237, \"is_classic\": false, \"last_modified\": \"2018-10-03T23:43:50.882836Z\", \"latest\": \"2018-10-03T23:43:51.728564Z\", \"metrics\": [{\"aggregator\": \"unique\", \"event_id\": 11376015268, \"scope\": \"visitor\", \"winning_direction\": \"increasing\"}], \"name\": \"BSB - CTA on \\'26 Ideas To Get Your Next Sales Promotion Noticed\\'\", \"project_id\": 10849384554, \"status\": \"paused\", \"type\": \"a/b\", \"url_targeting\": {\"activation_type\": \"immediate\", \"conditions\": \"[\\\\\"and\\\\\", [\\\\\"or\\\\\", {\\\\\"match_type\\\\\": \\\\\"simple\\\\\", \\\\\"type\\\\\": \\\\\"url\\\\\", \\\\\"value\\\\\": \\\\\"https://www.infusionsoft.com/business-success-blog/sales/e-commerce/26-best-examples-of-sales-promotions-to-inspire-your-next-offer\\\\\"}]]\", \"edit_url\": \"https://www.infusionsoft.com/business-success-blog/sales/e-commerce/26-best-examples-of-sales-promotions-to-inspire-your-next-offer\", \"key\": \"10849384554_url_targeting_for_bsb__cta_on_26_ideas_to_get_your_n\", \"page_id\": 11354118400}, \"variations\": [{\"actions\": [], \"archived\": false, \"name\": \"Flash Sale Promo CTA (Control)\", \"status\": \"active\", \"variation_id\": 11380769579, \"weight\": 3333}, {\"actions\": [{\"changes\": [{\"async\": true, \"dependencies\": [], \"id\": \"3962DD07-7C39-4ED8-AAEF-76145C99621D\", \"src\": \"/actions/ecd7119401e7c977daef03c1d230c27ad4a96798b242ff6ed416f458151f2e04.js\", \"type\": \"custom_code\", \"value\": \"window.marketoFormRedirects = window.marketoFormRedirects || {};\\\\nmarketoFormRedirects.cta_link_url = \\\\\"https://assets.infusionsoft.com/image/upload/v1535480908/assets/MS-7650_10_Email_Templates_gated_asset.pdf\\\\\";\\\\nwindow.mktoModalBtnText = \\\\\"Download now\\\\\";\"}, {\"async\": false, \"attributes\": {\"html\": \"<div class=\\\\\"inline-cta\\\\\"> <div class=\\\\\"grid-x grid-padding-x grid-padding-y align-middle\\\\\"> <div class=\\\\\"cell small-12 medium-6\\\\\"> <div class=\\\\\"inline-cta__copy\\\\\"> <p class=\\\\\"bolded-text\\\\\">Free Templates</p>\\\\n<h5>10 Email Templates You Need to Close the Sale</h5>\\\\n</div> <button class=\\\\\"button inline-cta__button\\\\\" data-remodal-target=\\\\\"modal_asset_form\\\\\" data-button-text=\\\\\"Get your free templates\\\\\">Get your free templates</button> </div> <div class=\\\\\"cell small-12 medium-6\\\\\"> <img src=\\\\\"//assets.infusionsoft.com/image/upload/w_800,f_auto/v1531154152/interactive_ebooks/Guide%20thumbnail%20images/Guides-payments.jpg\\\\\" alt=\\\\\"10 email templates for closing sales\\\\\"> </div> </div> </div>\"}, \"css\": {}, \"dependencies\": [], \"id\": \"69A89F3D-A17E-41A3-82A3-AF9B64AA8163\", \"rearrange\": {\"operator\": \"before\", \"insertSelector\": \"\"}, \"selector\": \"#blog_article_body p:nth-of-type(4)\", \"type\": \"attribute\"}, {\"async\": false, \"attributes\": {\"html\": \"Break through writer\\'s block with these email templates. \"}, \"css\": {}, \"dependencies\": [], \"id\": \"8EA736B1-7115-4186-8E0B-C97583FEC818\", \"rearrange\": {\"operator\": \"before\", \"insertSelector\": \"\"}, \"selector\": \"#modal_asset_form h4\", \"type\": \"attribute\"}, {\"async\": false, \"attributes\": {\"html\": \"10 sales related email templates that you can copy, paste, and use as a starting point. \"}, \"css\": {}, \"dependencies\": [], \"id\": \"6E8D5518-A6D3-425A-9E39-55A53CAF5651\", \"rearrange\": {\"operator\": \"before\", \"insertSelector\": \"\"}, \"selector\": \"#modal_asset_form p:nth-of-type(2)\", \"type\": \"attribute\"}], \"page_id\": 11354118400, \"share_link\": \"https://www.infusionsoft.com/business-success-blog/sales/e-commerce/26-best-examples-of-sales-promotions-to-inspire-your-next-offer?optimizely_token=6a0cd7c0f158734fa5a2e6efc0fa7fbac151cb789b5fc32f516807aa27103e7c&optimizely_x=11383892775&optimizely_x_audiences=&optimizely_preview_layer_ids=11382649788&optimizely_snippet=s3-10849384554\"}], \"archived\": false, \"name\": \"Ten Email Templates w/ image\", \"status\": \"active\", \"variation_id\": 11383892775, \"weight\": 3333}, {\"actions\": [{\"changes\": [{\"async\": true, \"dependencies\": [], \"id\": \"DB2583CF-8CE3-437C-8797-3C9F4DF50201\", \"src\": \"/actions/6b3faf1abc22dadfd56929ae98055062a7e43b8eec9b9d7cacc40c22b862b37a.js\", \"type\": \"custom_code\", \"value\": \"window.marketoFormRedirects = window.marketoFormRedirects || {};\\\\nmarketoFormRedirects.cta_link_url = \\\\\"https://assets.infusionsoft.com/image/upload/v1535480908/assets/MS-7650_10_Email_Templates_gated_asset.pdf\\\\\";\\\\nwindow.mktoModalBtnText = \\\\\"Download now\\\\\";\"}, {\"async\": false, \"attributes\": {\"html\": \"Break through writer\\'s block with these email templates. \"}, \"css\": {}, \"dependencies\": [], \"id\": \"5183ADC0-4582-4545-B7F5-4D44DF76B7EE\", \"rearrange\": {\"operator\": \"before\", \"insertSelector\": \"\"}, \"selector\": \"#modal_asset_form h4\", \"type\": \"attribute\"}, {\"async\": false, \"attributes\": {\"html\": \"10 sales related email templates that you can copy, paste, and use as a starting point. \"}, \"css\": {}, \"dependencies\": [], \"id\": \"9E2572FC-6C86-41F0-A491-41F96C1F1534\", \"rearrange\": {\"operator\": \"before\", \"insertSelector\": \"\"}, \"selector\": \"#modal_asset_form p:nth-of-type(2)\", \"type\": \"attribute\"}, {\"async\": false, \"attributes\": {\"html\": \"10 Free Sales Email Templates\"}, \"css\": {}, \"dependencies\": [], \"id\": \"08374AAD-8542-49C5-BF6E-3541CC9181D8\", \"rearrange\": {\"operator\": \"before\", \"insertSelector\": \"\"}, \"selector\": \"button.inline-button\", \"type\": \"attribute\"}], \"page_id\": 11354118400, \"share_link\": \"https://www.infusionsoft.com/business-success-blog/sales/e-commerce/26-best-examples-of-sales-promotions-to-inspire-your-next-offer?optimizely_token=6a0cd7c0f158734fa5a2e6efc0fa7fbac151cb789b5fc32f516807aa27103e7c&optimizely_x=11416280867&optimizely_x_audiences=&optimizely_preview_layer_ids=11382649788&optimizely_snippet=s3-10849384554\"}], \"archived\": false, \"name\": \"Ten Email Templates w/o image\", \"status\": \"active\", \"variation_id\": 11416280867, \"weight\": 3334}]}, {\"allocation_policy\": \"manual\", \"audience_conditions\": \"everyone\", \"campaign_id\": 11354066784, \"changes\": [], \"created\": \"2018-09-05T16:10:54.054430Z\", \"earliest\": \"2018-09-05T16:42:17.233880Z\", \"holdback\": 0, \"id\": 11402551541, \"is_classic\": false, \"last_modified\": \"2018-10-03T23:43:48.562195Z\", \"latest\": \"2018-10-03T23:43:49.914375Z\", \"metrics\": [{\"aggregator\": \"unique\", \"event_id\": 11376015268, \"scope\": \"visitor\", \"winning_direction\": \"increasing\"}], \"name\": \"BSB - CTA on \\'How to Effectively Respond to Customer Complaints\\'\", \"project_id\": 10849384554, \"status\": \"paused\", \"type\": \"a/b\", \"url_targeting\": {\"activation_type\": \"immediate\", \"conditions\": \"[\\\\\"and\\\\\", [\\\\\"or\\\\\", {\\\\\"match_type\\\\\": \\\\\"simple\\\\\", \\\\\"type\\\\\": \\\\\"url\\\\\", \\\\\"value\\\\\": \\\\\"https://www.infusionsoft.com/business-success-blog/customer-service/customer-experience/how-to-respond-to-customer-complaints\\\\\"}]]\", \"edit_url\": \"https://www.infusionsoft.com/business-success-blog/customer-service/customer-experience/how-to-respond-to-customer-complaints\", \"key\": \"10849384554_url_targeting_for_bsb__cta_on_26_ideas_to_get_your_n_1\", \"page_id\": 11398910300}, \"variations\": [{\"actions\": [], \"archived\": false, \"name\": \"Free Guide (Control)\", \"status\": \"active\", \"variation_id\": 11396315769, \"weight\": 3333}, {\"actions\": [{\"changes\": [{\"async\": true, \"dependencies\": [], \"id\": \"ae39e3dcad4e4e83b90f32b98f2a24f8\", \"src\": \"/actions/03f9e8c723da2ca684af24353d40057fce6fa84e29d57f1618f4bc42c895908d.js\", \"type\": \"custom_code\", \"value\": \"window.marketoFormRedirects = window.marketoFormRedirects || {};\\\\nmarketoFormRedirects.cta_link_url = \\\\\"https://assets.infusionsoft.com/image/upload/v1536163955/assets/Customer_Avatar_template.pdf\\\\\";\\\\nwindow.mktoModalBtnText = \\\\\"Download now\\\\\";\"}, {\"async\": false, \"attributes\": {\"html\": \"<div class=\\\\\"inline-cta\\\\\"> <div class=\\\\\"grid-x grid-padding-x grid-padding-y align-middle\\\\\"> <div class=\\\\\"cell small-12 medium-6\\\\\"> <div class=\\\\\"inline-cta__copy\\\\\"> <p class=\\\\\"bolded-text\\\\\">Free Template</p>\\\\n<h5>Create Your Customer Avatar</h5>\\\\n</div> <button class=\\\\\"button inline-cta__button\\\\\" data-remodal-target=\\\\\"modal_asset_form\\\\\" data-button-text=\\\\\"Get your free template\\\\\">Get your free template</button> </div> <div class=\\\\\"cell small-12 medium-6\\\\\"> <img src=\\\\\"//assets.infusionsoft.com/image/upload/w_800,f_auto/v1531154152/interactive_ebooks/Guide%20thumbnail%20images/Guides-CRM.jpg\\\\\" alt=\\\\\"customer avatar template\\\\\"> </div> </div> </div>\"}, \"css\": {}, \"dependencies\": [], \"id\": \"a15aadc4e7024d0183a0df0f57601ae1\", \"rearrange\": {\"operator\": \"before\", \"insertSelector\": \"\"}, \"selector\": \"#blog_article_body p:nth-of-type(4)\", \"type\": \"attribute\"}, {\"async\": false, \"attributes\": {\"html\": \"Be more effective and connect better with your customers.\"}, \"css\": {}, \"dependencies\": [], \"id\": \"9eb3bf2a31274e8c949240d25b0ce7d6\", \"rearrange\": {\"operator\": \"before\", \"insertSelector\": \"\"}, \"selector\": \"#modal_asset_form h4\", \"type\": \"attribute\"}, {\"async\": false, \"attributes\": {\"html\": \"Buyer persona, marketing persona, or customer avatar - no matter what you call it, we can help you better target your customer. \"}, \"css\": {}, \"dependencies\": [], \"id\": \"e38d8deb8e054268a30cbe11baababf8\", \"rearrange\": {\"operator\": \"before\", \"insertSelector\": \"\"}, \"selector\": \"#modal_asset_form p:nth-of-type(2)\", \"type\": \"attribute\"}], \"page_id\": 11398910300, \"share_link\": \"https://www.infusionsoft.com/business-success-blog/customer-service/customer-experience/how-to-respond-to-customer-complaints?optimizely_token=6a0cd7c0f158734fa5a2e6efc0fa7fbac151cb789b5fc32f516807aa27103e7c&optimizely_x=11365566229&optimizely_x_audiences=&optimizely_preview_layer_ids=11354066784&optimizely_snippet=s3-10849384554\"}], \"archived\": false, \"name\": \"Free Template w/ image\", \"status\": \"active\", \"variation_id\": 11365566229, \"weight\": 3333}, {\"actions\": [{\"changes\": [{\"async\": true, \"dependencies\": [], \"id\": \"968DD795-FF2F-42DA-B391-6439648903A4\", \"src\": \"/actions/5180e767fed4241d605ef93d3a96be9d393b57d8ad45e703fcd198e8d0cac4da.js\", \"type\": \"custom_code\", \"value\": \"window.marketoFormRedirects = window.marketoFormRedirects || {};\\\\nmarketoFormRedirects.cta_link_url = \\\\\"https://assets.infusionsoft.com/image/upload/v1536163955/assets/Customer_Avatar_template.pdf\\\\\";\\\\nwindow.mktoModalBtnText = \\\\\"Download now\\\\\";\"}, {\"async\": false, \"attributes\": {\"html\": \"Be more effective and connect better with your customers.\"}, \"css\": {}, \"dependencies\": [], \"id\": \"EE50ED9C-2DA4-4D87-876B-522CFCBB8AF8\", \"rearrange\": {\"operator\": \"before\", \"insertSelector\": \"\"}, \"selector\": \"#modal_asset_form h4\", \"type\": \"attribute\"}, {\"async\": false, \"attributes\": {\"html\": \"Buyer persona, marketing persona, or customer avatar - no matter what you call it, we can help you better target your customer. \"}, \"css\": {}, \"dependencies\": [], \"id\": \"915C484E-97D3-470C-B838-233195FE4E0B\", \"rearrange\": {\"operator\": \"before\", \"insertSelector\": \"\"}, \"selector\": \"#modal_asset_form p:nth-of-type(2)\", \"type\": \"attribute\"}, {\"async\": false, \"attributes\": {\"html\": \"Free Customer Avatar Template\"}, \"css\": {}, \"dependencies\": [], \"id\": \"19084EAD-DAA3-4C45-9B6B-6834969D6147\", \"rearrange\": {\"operator\": \"before\", \"insertSelector\": \"\"}, \"selector\": \"button.small.inline-button\", \"type\": \"attribute\"}], \"page_id\": 11398910300, \"share_link\": \"https://www.infusionsoft.com/business-success-blog/customer-service/customer-experience/how-to-respond-to-customer-complaints?optimizely_token=6a0cd7c0f158734fa5a2e6efc0fa7fbac151cb789b5fc32f516807aa27103e7c&optimizely_x=11388339167&optimizely_x_audiences=&optimizely_preview_layer_ids=11354066784&optimizely_snippet=s3-10849384554\"}], \"archived\": false, \"name\": \"Free Template w/o image\", \"status\": \"active\", \"variation_id\": 11388339167, \"weight\": 3334}]}]'"
      ]
     },
     "execution_count": 39,
     "metadata": {},
     "output_type": "execute_result"
    }
   ],
   "source": [
    "response.text"
   ]
  },
  {
   "cell_type": "code",
   "execution_count": null,
   "metadata": {},
   "outputs": [],
   "source": [
    "############################################### Project-Experiment #############################################\n",
    "p_endpoint = 'https://api.optimizely.com/v2/projects'\n",
    "e_endpoint = 'https://api.optimizely.com/v2/experiments'\n",
    "\n",
    "experiment_id = generate_project_experiment(project_endpoint=p_endpoint, experiment_endpoint=e_endpoint)\n"
   ]
  },
  {
   "cell_type": "code",
   "execution_count": null,
   "metadata": {
    "scrolled": true
   },
   "outputs": [],
   "source": [
    "all_ts = []\n",
    "############################################### Experiment-Results #############################################\n",
    "for exp_id in experiment_id:\n",
    "    print(exp_id)\n",
    "    ts_endpoint = f'https://api.optimizely.com/v2/experiments/{exp_id}/timeseries'\n",
    "    # generate_experiment_results(ts_endpoint, experiment_id=exp_id)\n",
    "\n",
    "    response_ts = requests.get(ts_endpoint, headers=headers)\n",
    "    if response_ts.text == '':\n",
    "        # if '' then the experiment has not started yet\n",
    "        j_ts = {'experiment_id': exp_id}\n",
    "    else:\n",
    "        j_ts = json.loads(response_ts.text)\n",
    "\n",
    "    new_j_ts = pope.fix_json_values(callback=fix_values, obj=j_ts, reset_key='results')\n",
    "    # new_j_ts_list = [new_j_ts]\n",
    "\n",
    "    all_ts.append(new_j_ts)"
   ]
  },
  {
   "cell_type": "code",
   "execution_count": null,
   "metadata": {
    "scrolled": true
   },
   "outputs": [],
   "source": [
    "len(all_ts)"
   ]
  },
  {
   "cell_type": "code",
   "execution_count": null,
   "metadata": {},
   "outputs": [],
   "source": [
    "os.system('say \"completed\"')"
   ]
  },
  {
   "cell_type": "code",
   "execution_count": null,
   "metadata": {},
   "outputs": [],
   "source": [
    "def generate_experiment_results(ts_endpoint):\n",
    "    # get result time series from all experiments:\n",
    "    try:\n",
    "        response_ts = requests.get(ts_endpoint, headers=headers)\n",
    "        j_ts = json.loads(response_ts.text)\n",
    "        response_ts.raise_for_status()\n",
    "        print('Successfully read experiment results data.')\n",
    "    except requests.exceptions.HTTPError as err:\n",
    "        print(err)\n",
    "        \n",
    "    new_j_ts = pope.fix_json_values(callback=fix_values, obj=j_ts, reset_key='results')    \n",
    "    \n",
    "    # with keys properly reset, we need to populate upper level into each row of each list level\n",
    "    # Trying to flatten inner level 'timeseries'\n",
    "    flattened_metrics = []\n",
    "    for metric in new_j_ts['metrics']:\n",
    "        for ts in metric['results']:\n",
    "            flattened_timeseries = []\n",
    "            for element in ts['timeseries']:\n",
    "                flattened_timeseries.append(flatten(element, {}, ''))\n",
    "\n",
    "            # Replace old 'timeseries' with new 'flattened_timeseries'\n",
    "            updated_results = populating_vals(outer_dict=ts, inner_flattened_list=flattened_timeseries, destination_key='timeseries')\n",
    "            flattened_results = flatten_dupe_vals(vals=updated_results, key='timeseries')\n",
    "\n",
    "        # Replace old 'metrics' with new 'flattened_results'\n",
    "        update_metrics = populating_vals(outer_dict=metric, inner_flattened_list=flattened_results, destination_key='results')\n",
    "        flattened_metrics.extend(flatten_dupe_vals(vals=update_metrics, key='results'))\n",
    "        \n",
    "    return flattened_metrics"
   ]
  },
  {
   "cell_type": "code",
   "execution_count": null,
   "metadata": {},
   "outputs": [],
   "source": [
    "def populating_vals(outer_dict, inner_flattened_list, destination_key):\n",
    "    # outer_dict is the upper level dict\n",
    "    # inner_flattened_list is the lower level list of dicts that are each flattened\n",
    "    # destination_key is the primary key of the lower level\n",
    "    updated_dict = {}\n",
    "    for k, v in outer_dict.items():\n",
    "        if k != destination_key:\n",
    "            updated_dict[k] = v\n",
    "        else:\n",
    "            updated_dict[k] = inner_flattened_list\n",
    "    return updated_dict"
   ]
  },
  {
   "cell_type": "code",
   "execution_count": null,
   "metadata": {},
   "outputs": [],
   "source": [
    "def flatten_dupe_vals(vals, key):\n",
    "    \n",
    "    duped_results = []\n",
    "    for element in vals[key]:\n",
    "        ts_dict = populating_vals(outer_dict=vals, inner_flattened_list=element, destination_key=key)\n",
    "        duped_results.append(ts_dict)\n",
    "\n",
    "    flattened_results = []\n",
    "    for element in duped_results:\n",
    "        flattened_results.append(flatten(element, {}, ''))\n",
    "        \n",
    "    return flattened_results"
   ]
  },
  {
   "cell_type": "code",
   "execution_count": null,
   "metadata": {},
   "outputs": [],
   "source": [
    "ts_endpoint='https://api.optimizely.com/v2/experiments/11402551541/timeseries'\n",
    "try:\n",
    "    response_ts = requests.get(ts_endpoint, headers=headers)\n",
    "    j_ts = json.loads(response_ts.text)\n",
    "    response_ts.raise_for_status()\n",
    "    print('Successfully read experiment results data.')\n",
    "except requests.exceptions.HTTPError as err:\n",
    "    print(err)\n",
    "\n"
   ]
  },
  {
   "cell_type": "code",
   "execution_count": null,
   "metadata": {},
   "outputs": [],
   "source": [
    "j_ts"
   ]
  },
  {
   "cell_type": "code",
   "execution_count": null,
   "metadata": {},
   "outputs": [],
   "source": [
    "new_j_ts = pope.fix_json_values(callback=fix_values, obj=j_ts, reset_key='results')"
   ]
  },
  {
   "cell_type": "code",
   "execution_count": null,
   "metadata": {},
   "outputs": [],
   "source": [
    "# with keys properly reset, we need to populate upper level into each row of each list level\n",
    "# Trying to flatten inner level 'timeseries'\n",
    "flattened_metrics = []\n",
    "for metric in new_j_ts['metrics']:\n",
    "    for ts in metric['results']:\n",
    "        flattened_timeseries = []\n",
    "        for element in ts['timeseries']:\n",
    "            flattened_timeseries.append(flatten(element, {}, ''))\n",
    "\n",
    "        # Replace old 'timeseries' with new 'flattened_timeseries'\n",
    "        updated_results = populating_vals(outer_dict=ts, inner_flattened_list=flattened_timeseries, destination_key='timeseries')\n",
    "        flattened_results = flatten_dupe_vals(vals=updated_results, key='timeseries')\n",
    "\n",
    "    # Replace old 'metrics' with new 'flattened_results'\n",
    "    update_metrics = populating_vals(outer_dict=metric, inner_flattened_list=flattened_results, destination_key='results')\n",
    "    flattened_metrics.extend(flatten_dupe_vals(vals=update_metrics, key='results'))\n",
    "    \n",
    "    "
   ]
  },
  {
   "cell_type": "code",
   "execution_count": null,
   "metadata": {},
   "outputs": [],
   "source": [
    "flattened_metrics"
   ]
  },
  {
   "cell_type": "code",
   "execution_count": null,
   "metadata": {},
   "outputs": [],
   "source": []
  },
  {
   "cell_type": "code",
   "execution_count": null,
   "metadata": {},
   "outputs": [],
   "source": [
    "ts = generate_experiment_results(ts_endpoint='https://api.optimizely.com/v2/experiments/11402551541/timeseries')\n"
   ]
  },
  {
   "cell_type": "code",
   "execution_count": null,
   "metadata": {
    "scrolled": true
   },
   "outputs": [],
   "source": [
    "for e in ts:\n",
    "    print(e['results_name'])"
   ]
  },
  {
   "cell_type": "code",
   "execution_count": null,
   "metadata": {},
   "outputs": [],
   "source": [
    "!pwd"
   ]
  },
  {
   "cell_type": "code",
   "execution_count": null,
   "metadata": {},
   "outputs": [],
   "source": [
    "!ls"
   ]
  },
  {
   "cell_type": "code",
   "execution_count": null,
   "metadata": {},
   "outputs": [],
   "source": [
    "pope.write_to_json(file_name='results_ts.json', jayson=ts, mode='w')"
   ]
  },
  {
   "cell_type": "code",
   "execution_count": null,
   "metadata": {},
   "outputs": [],
   "source": [
    "!ls"
   ]
  },
  {
   "cell_type": "code",
   "execution_count": null,
   "metadata": {},
   "outputs": [],
   "source": [
    "pope.write_to_bq(table_name='result_ts', file_name='results_ts.json', append=True, ignore_unknown_values=False, bq_schema_autodetect=False)\n"
   ]
  },
  {
   "cell_type": "markdown",
   "metadata": {},
   "source": [
    "# experiments"
   ]
  },
  {
   "cell_type": "code",
   "execution_count": null,
   "metadata": {},
   "outputs": [],
   "source": [
    "# # get all projects\n",
    "# try:\n",
    "#     response_proj = requests.get('https://api.optimizely.com/v2/projects', headers=headers)\n",
    "#     j_proj = json.loads(response_proj.text)\n",
    "#     response_proj.raise_for_status()\n",
    "#     print('Successfully read project data.')\n",
    "\n",
    "# except requests.exceptions.HTTPError as err:\n",
    "#     print(err)\n",
    "\n",
    "# # store a list of project metadata\n",
    "# project_list = []\n",
    "experiment_id_list = []\n",
    "\n",
    "# for project in j_proj:\n",
    "    p_id = project['id']\n",
    "\n",
    "    # get all experiments from one project\n",
    "    params = (\n",
    "        ('project_id', p_id),\n",
    "        ('per_page', 100),\n",
    "    ) \n",
    "\n",
    "    try:\n",
    "        response_exp = requests.get('https://api.optimizely.com/v2/experiments', headers=headers, params=params)\n",
    "        j_exp = json.loads(response_exp.text)\n",
    "        response_exp.raise_for_status()\n",
    "        print('Successfully read experiment data.')\n",
    "    except requests.exceptions.HTTPError as err:\n",
    "        print(err)\n",
    "\n",
    "    # loop for all experiments in this project\n",
    "    upload_exp_list = []\n",
    "    for exp in j_exp:\n",
    "        exp['project_id'] = p_id\n",
    "        upload_exp_list.append(flatten(exp, {}, ''))\n",
    "        experiment_id_list.append(exp['id'])\n",
    "\n",
    "    # upload experiment \n",
    "    # pope.write_to_json(file_name='../uploads/experiments.json', jayson=upload_exp_list, mode='w')\n",
    "    # pope.write_to_bq(table_name='experiments', file_name='../uploads/experiments.json', append=True, ignore_unknown_values=False, bq_schema_autodetect=False)\n",
    "    # print(f\"Successfully uploaded experiments for project {p_id}\")\n",
    "\n",
    "# project_list.append(project)\n",
    "\n",
    "# pope.write_to_json(file_name='../uploads/projects.json', jayson=project_list, mode='w')\n",
    "# pope.write_to_bq(table_name='projects', file_name='../uploads/projects.json', append=True, ignore_unknown_values=False, bq_schema_autodetect=False)\n",
    "# print(\"Successfully uploaded all projects.\")\n"
   ]
  },
  {
   "cell_type": "code",
   "execution_count": null,
   "metadata": {},
   "outputs": [],
   "source": [
    "p_id = 10849384554\n",
    "\n",
    "# get all experiments from one project\n",
    "params = (\n",
    "    ('project_id', p_id),\n",
    "    ('per_page', 100),\n",
    ") \n",
    "\n",
    "try:\n",
    "    response_exp = requests.get('https://api.optimizely.com/v2/experiments', headers=headers, params=params)\n",
    "    j_exp = json.loads(response_exp.text)\n",
    "    response_exp.raise_for_status()\n",
    "    print('Successfully read experiment data.')\n",
    "except requests.exceptions.HTTPError as err:\n",
    "    print(err)\n",
    "\n",
    "# loop for all experiments in this project\n",
    "upload_exp_list = []\n",
    "for exp in j_exp:\n",
    "    exp['project_id'] = p_id\n",
    "    upload_exp_list.append(exp)\n",
    "#     upload_exp_list.append(flatten(exp, {}, ''))\n",
    "#     experiment_id_list.append(exp['id'])"
   ]
  },
  {
   "cell_type": "code",
   "execution_count": null,
   "metadata": {},
   "outputs": [],
   "source": [
    "upload_exp_list[0]"
   ]
  },
  {
   "cell_type": "code",
   "execution_count": null,
   "metadata": {},
   "outputs": [],
   "source": [
    "for e in upload_exp_list:\n",
    "    print(e['variations_variation_id'])"
   ]
  },
  {
   "cell_type": "code",
   "execution_count": null,
   "metadata": {},
   "outputs": [],
   "source": [
    "pope.write_to_json(file_name='experiments.json', jayson=upload_exp_list, mode='w')\n",
    "pope.write_to_bq(table_name='test_experiments', file_name='experiments.json', append=True, ignore_unknown_values=False, bq_schema_autodetect=False)\n",
    "    \n",
    "    \n",
    "    "
   ]
  },
  {
   "cell_type": "markdown",
   "metadata": {},
   "source": [
    "# Playing with kwargs"
   ]
  },
  {
   "cell_type": "code",
   "execution_count": 1,
   "metadata": {},
   "outputs": [],
   "source": [
    "def print_kwargs(**kwargs):\n",
    "    print(kwargs)"
   ]
  },
  {
   "cell_type": "code",
   "execution_count": 3,
   "metadata": {},
   "outputs": [
    {
     "name": "stdout",
     "output_type": "stream",
     "text": [
      "{'kwarg_1': 'dog', 'kwarg_2': 12, 'kwargs_3': True}\n"
     ]
    }
   ],
   "source": [
    "print_kwargs(kwarg_1='dog', kwarg_2=12, kwargs_3=True)"
   ]
  },
  {
   "cell_type": "code",
   "execution_count": 23,
   "metadata": {},
   "outputs": [],
   "source": [
    "def new_print_kwargs(arg_a, arg_b, **kwargs):\n",
    "    return arg_a, arg_b, kwargs"
   ]
  },
  {
   "cell_type": "code",
   "execution_count": 24,
   "metadata": {},
   "outputs": [],
   "source": [
    "husband, wife, dog = new_print_kwargs(arg_a='Kent', arg_b=True, dog_name='Herc', favorite_toy='Walrus')"
   ]
  },
  {
   "cell_type": "code",
   "execution_count": 25,
   "metadata": {},
   "outputs": [
    {
     "data": {
      "text/plain": [
       "'Kent'"
      ]
     },
     "execution_count": 25,
     "metadata": {},
     "output_type": "execute_result"
    }
   ],
   "source": [
    "husband"
   ]
  },
  {
   "cell_type": "code",
   "execution_count": 26,
   "metadata": {},
   "outputs": [
    {
     "data": {
      "text/plain": [
       "True"
      ]
     },
     "execution_count": 26,
     "metadata": {},
     "output_type": "execute_result"
    }
   ],
   "source": [
    "wife"
   ]
  },
  {
   "cell_type": "code",
   "execution_count": 27,
   "metadata": {},
   "outputs": [
    {
     "data": {
      "text/plain": [
       "{'dog_name': 'Herc', 'favorite_toy': 'Walrus'}"
      ]
     },
     "execution_count": 27,
     "metadata": {},
     "output_type": "execute_result"
    }
   ],
   "source": [
    "dog"
   ]
  },
  {
   "cell_type": "code",
   "execution_count": null,
   "metadata": {},
   "outputs": [],
   "source": []
  }
 ],
 "metadata": {
  "kernelspec": {
   "display_name": "Python 3",
   "language": "python",
   "name": "python3"
  },
  "language_info": {
   "codemirror_mode": {
    "name": "ipython",
    "version": 3
   },
   "file_extension": ".py",
   "mimetype": "text/x-python",
   "name": "python",
   "nbconvert_exporter": "python",
   "pygments_lexer": "ipython3",
   "version": "3.6.4"
  }
 },
 "nbformat": 4,
 "nbformat_minor": 2
}
