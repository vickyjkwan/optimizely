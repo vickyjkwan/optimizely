{
 "cells": [
  {
   "cell_type": "code",
   "execution_count": 1,
   "metadata": {},
   "outputs": [],
   "source": [
    "import requests\n",
    "import json\n",
    "import popelines\n",
    "import os\n",
    "from datetime import datetime\n",
    "\n",
    "\n",
    "def fix_values(value, key, reset_key):\n",
    "    if key == reset_key:\n",
    "        new_list = []\n",
    "        for x in value:\n",
    "            value[x][f'{reset_key}_id'] = x\n",
    "            new_list.append(value[x])\n",
    "        return new_list\n",
    "    else:\n",
    "        return value"
   ]
  },
  {
   "cell_type": "code",
   "execution_count": 2,
   "metadata": {},
   "outputs": [],
   "source": [
    "def flatten(jayson, acc, prefix):\n",
    "    if isinstance(jayson, dict):\n",
    "        for k,v in jayson.items():\n",
    "            if prefix:\n",
    "                prefix_k = prefix + \"_\" + k\n",
    "            else: \n",
    "                prefix_k = k\n",
    "            prefix_k = prefix_k.replace('-', '_')\n",
    "            \n",
    "            if isinstance(v, dict):\n",
    "                flatten(v, acc, prefix_k)\n",
    "            elif isinstance(v, list):\n",
    "                for j in v:\n",
    "                    flatten(j, acc, prefix_k)\n",
    "            else:\n",
    "                acc[prefix_k] = v\n",
    "        return acc \n",
    "    else:\n",
    "        return acc"
   ]
  },
  {
   "cell_type": "code",
   "execution_count": 3,
   "metadata": {},
   "outputs": [],
   "source": [
    "def generate_project_experiment(project_endpoint, experiment_endpoint):\n",
    "\n",
    "    # get all projects\n",
    "    try:\n",
    "        response_proj = requests.get(project_endpoint, headers=headers)\n",
    "        j_proj = json.loads(response_proj.text)\n",
    "        response_proj.raise_for_status()\n",
    "        print('Successfully read project data.')\n",
    "\n",
    "    except requests.exceptions.HTTPError as err:\n",
    "        print(err)\n",
    "\n",
    "    # store a list of project metadata\n",
    "    project_list = []\n",
    "    experiment_id_list = []\n",
    "\n",
    "    for project in j_proj:\n",
    "        p_id = project['id']\n",
    "\n",
    "        # get all experiments from one project\n",
    "        params = (\n",
    "            ('project_id', p_id),\n",
    "            ('per_page', 100),\n",
    "        ) \n",
    "\n",
    "        try:\n",
    "            response_exp = requests.get(experiment_endpoint, headers=headers, params=params)\n",
    "            j_exp = json.loads(response_exp.text)\n",
    "            response_exp.raise_for_status()\n",
    "            print('Successfully read experiment data.')\n",
    "        except requests.exceptions.HTTPError as err:\n",
    "            print(err)\n",
    "\n",
    "        # loop for all experiments in this project\n",
    "        upload_exp_list = []\n",
    "        for exp in j_exp:\n",
    "            exp['project_id'] = p_id\n",
    "            upload_exp_list.append(flatten(exp, {}, ''))\n",
    "            experiment_id_list.append(exp['id'])\n",
    "            \n",
    "        # upload experiment \n",
    "        # pope.write_to_json(file_name='../uploads/experiments.json', jayson=upload_exp_list, mode='w')\n",
    "        # pope.write_to_bq(table_name='experiments', file_name='../uploads/experiments.json', append=True, ignore_unknown_values=False, bq_schema_autodetect=False)\n",
    "        # print(f\"Successfully uploaded experiments for project {p_id}\")\n",
    "\n",
    "    project_list.append(project)\n",
    "\n",
    "    # pope.write_to_json(file_name='../uploads/projects.json', jayson=project_list, mode='w')\n",
    "    # pope.write_to_bq(table_name='projects', file_name='../uploads/projects.json', append=True, ignore_unknown_values=False, bq_schema_autodetect=False)\n",
    "    # print(\"Successfully uploaded all projects.\")\n",
    "\n",
    "    return experiment_id_list"
   ]
  },
  {
   "cell_type": "code",
   "execution_count": 4,
   "metadata": {},
   "outputs": [
    {
     "name": "stdout",
     "output_type": "stream",
     "text": [
      "Successfully read project data.\n",
      "Successfully read experiment data.\n",
      "Successfully read experiment data.\n",
      "Successfully read experiment data.\n",
      "Successfully read experiment data.\n",
      "Successfully read experiment data.\n"
     ]
    }
   ],
   "source": [
    "gbq_key = os.environ.get('GOOGLE_ACCOUNT_CREDENTIALS')\n",
    "\n",
    "pope = popelines.popeline(dataset_id='optimizely', service_key_file_loc=gbq_key, directory='.', verbose=False)\n",
    "\n",
    "headers = {\n",
    "    'Authorization': 'Bearer 2:EWAWmaXb4TgtYVU2VvwoEF-9UbJxBahkiFh1633_Oc9nmju7iJis',\n",
    "}\n",
    "\n",
    "############################################### Project-Experiment #############################################\n",
    "p_endpoint = 'https://api.optimizely.com/v2/projects'\n",
    "e_endpoint = 'https://api.optimizely.com/v2/experiments'\n",
    "\n",
    "experiment_id = generate_project_experiment(project_endpoint=p_endpoint, experiment_endpoint=e_endpoint)\n"
   ]
  },
  {
   "cell_type": "code",
   "execution_count": 5,
   "metadata": {
    "scrolled": true
   },
   "outputs": [
    {
     "name": "stdout",
     "output_type": "stream",
     "text": [
      "10756790433\n",
      "10796678057\n",
      "10800885728\n",
      "10815382176\n",
      "10945903729\n",
      "10955300529\n",
      "11039523400\n",
      "11938601024\n",
      "11966791385\n",
      "11992110033\n",
      "10488931082\n",
      "10545851126\n",
      "10556110251\n",
      "10564323775\n",
      "10605041742\n",
      "10622090898\n",
      "10666463868\n",
      "10675031376\n",
      "10681551672\n",
      "10683631399\n",
      "10715090552\n",
      "10733622163\n",
      "10797220881\n",
      "10797550884\n",
      "10805332324\n",
      "10844011372\n",
      "10854082584\n",
      "10882272812\n",
      "11011180459\n",
      "11066932017\n",
      "11085711684\n",
      "11087580674\n",
      "11174107321\n",
      "11189744252\n",
      "11191727326\n",
      "11191905720\n",
      "11199410199\n",
      "11206301430\n",
      "11308083317\n",
      "11334340375\n",
      "11356331084\n",
      "11367191147\n",
      "11378763890\n",
      "11396076650\n",
      "11404885421\n",
      "11406773739\n",
      "11432181239\n",
      "11474010139\n",
      "11482931694\n",
      "11556750451\n",
      "11562826019\n",
      "11570380944\n",
      "11657860282\n",
      "11713452853\n",
      "11720710615\n",
      "11722600722\n",
      "12016386767\n",
      "12096030597\n",
      "12117040288\n",
      "12132980378\n",
      "12166698246\n",
      "12169545706\n",
      "12239002639\n",
      "12240020740\n",
      "12275901710\n",
      "12337280003\n",
      "12850290083\n",
      "12903040293\n",
      "13026380185\n",
      "13026390548\n",
      "11377370874\n",
      "12107582952\n",
      "12632940119\n",
      "12722820205\n",
      "12743540432\n",
      "12746930280\n",
      "10702922345\n",
      "10731441129\n",
      "10758540726\n",
      "10798551869\n",
      "10799420505\n",
      "10801250617\n",
      "10801721220\n",
      "10803332939\n",
      "10852321017\n",
      "10856511191\n",
      "10898400714\n",
      "10931942839\n",
      "11041487001\n",
      "11056280896\n",
      "11069055177\n",
      "11072573730\n",
      "11076630667\n",
      "11088880005\n",
      "11095671052\n",
      "11477653122\n",
      "11479333433\n",
      "11568940229\n",
      "12281101588\n",
      "12615470432\n",
      "12619380698\n",
      "12813120687\n",
      "12900000180\n",
      "10898650266\n",
      "11355070013\n",
      "11365136008\n",
      "11372936237\n",
      "11402551541\n"
     ]
    }
   ],
   "source": [
    "all_ts = []\n",
    "############################################### Experiment-Results #############################################\n",
    "for exp_id in experiment_id:\n",
    "    print(exp_id)\n",
    "    ts_endpoint = f'https://api.optimizely.com/v2/experiments/{exp_id}/timeseries'\n",
    "    # generate_experiment_results(ts_endpoint, experiment_id=exp_id)\n",
    "\n",
    "    response_ts = requests.get(ts_endpoint, headers=headers)\n",
    "    if response_ts.text == '':\n",
    "        # if '' then the experiment has not started yet\n",
    "        j_ts = {'experiment_id': exp_id}\n",
    "    else:\n",
    "        j_ts = json.loads(response_ts.text)\n",
    "\n",
    "    new_j_ts = pope.fix_json_values(callback=fix_values, obj=j_ts, reset_key='results')\n",
    "    # new_j_ts_list = [new_j_ts]\n",
    "\n",
    "    all_ts.append(new_j_ts)"
   ]
  },
  {
   "cell_type": "code",
   "execution_count": 6,
   "metadata": {
    "scrolled": true
   },
   "outputs": [
    {
     "data": {
      "text/plain": [
       "108"
      ]
     },
     "execution_count": 6,
     "metadata": {},
     "output_type": "execute_result"
    }
   ],
   "source": [
    "len(all_ts)"
   ]
  },
  {
   "cell_type": "code",
   "execution_count": 7,
   "metadata": {},
   "outputs": [
    {
     "data": {
      "text/plain": [
       "0"
      ]
     },
     "execution_count": 7,
     "metadata": {},
     "output_type": "execute_result"
    }
   ],
   "source": [
    "os.system('say \"completed\"')"
   ]
  },
  {
   "cell_type": "code",
   "execution_count": 34,
   "metadata": {},
   "outputs": [],
   "source": [
    "def generate_experiment_results(ts_endpoint):\n",
    "    # get result time series from all experiments:\n",
    "    try:\n",
    "        response_ts = requests.get(ts_endpoint, headers=headers)\n",
    "        j_ts = json.loads(response_ts.text)\n",
    "        response_ts.raise_for_status()\n",
    "        print('Successfully read experiment results data.')\n",
    "    except requests.exceptions.HTTPError as err:\n",
    "        print(err)\n",
    "    \n",
    "    # with keys properly reset, we need to populate upper level into each row of each list level\n",
    "    # Trying to flatten inner level 'timeseries'\n",
    "    flattened_metrics = []\n",
    "    for metric in new_j_ts['metrics']:\n",
    "        for ts in metric['results']:\n",
    "            flattened_timeseries = []\n",
    "            for element in ts['timeseries']:\n",
    "                flattened_timeseries.append(flatten(element, {}, ''))\n",
    "\n",
    "            # Replace old 'timeseries' with new 'flattened_timeseries'\n",
    "            updated_results = populating_vals(outer_dict=ts, inner_flattened_list=flattened_timeseries, destination_key='timeseries')\n",
    "            flattened_results = flatten_dupe_vals(vals=updated_results, key='timeseries')\n",
    "\n",
    "        # Replace old 'metrics' with new 'flattened_results'\n",
    "        update_metrics = populating_vals(outer_dict=metric, inner_flattened_list=flattened_results, destination_key='results')\n",
    "        flattened_metrics.extend(flatten_dupe_vals(vals=update_metrics, key='results'))\n",
    "        \n",
    "    return flattened_metrics"
   ]
  },
  {
   "cell_type": "code",
   "execution_count": 36,
   "metadata": {},
   "outputs": [],
   "source": [
    "def populating_vals(outer_dict, inner_flattened_list, destination_key):\n",
    "    # outer_dict is the upper level dict\n",
    "    # inner_flattened_list is the lower level list of dicts that are each flattened\n",
    "    # destination_key is the primary key of the lower level\n",
    "    updated_dict = {}\n",
    "    for k, v in outer_dict.items():\n",
    "        if k != destination_key:\n",
    "            updated_dict[k] = v\n",
    "        else:\n",
    "            updated_dict[k] = inner_flattened_list\n",
    "    return updated_dict"
   ]
  },
  {
   "cell_type": "code",
   "execution_count": 38,
   "metadata": {},
   "outputs": [],
   "source": [
    "def flatten_dupe_vals(vals, key):\n",
    "    \n",
    "    duped_results = []\n",
    "    for element in vals[key]:\n",
    "        ts_dict = populating_vals(outer_dict=vals, inner_flattened_list=element, destination_key=key)\n",
    "        duped_results.append(ts_dict)\n",
    "\n",
    "    flattened_results = []\n",
    "    for element in duped_results:\n",
    "        flattened_results.append(flatten(element, {}, ''))\n",
    "        \n",
    "    return flattened_results"
   ]
  },
  {
   "cell_type": "code",
   "execution_count": null,
   "metadata": {},
   "outputs": [],
   "source": []
  },
  {
   "cell_type": "code",
   "execution_count": 40,
   "metadata": {},
   "outputs": [
    {
     "name": "stdout",
     "output_type": "stream",
     "text": [
      "Successfully read experiment results data.\n"
     ]
    }
   ],
   "source": [
    "ts = generate_experiment_results(ts_endpoint='https://api.optimizely.com/v2/experiments/11402551541/timeseries')\n"
   ]
  },
  {
   "cell_type": "code",
   "execution_count": 82,
   "metadata": {
    "scrolled": true
   },
   "outputs": [
    {
     "name": "stdout",
     "output_type": "stream",
     "text": [
      "Free Guide (Control)\n",
      "Free Guide (Control)\n",
      "Free Guide (Control)\n",
      "Free Guide (Control)\n",
      "Free Guide (Control)\n",
      "Free Guide (Control)\n",
      "Free Guide (Control)\n",
      "Free Guide (Control)\n",
      "Free Guide (Control)\n",
      "Free Guide (Control)\n",
      "Free Guide (Control)\n",
      "Free Guide (Control)\n",
      "Free Guide (Control)\n",
      "Free Guide (Control)\n",
      "Free Guide (Control)\n",
      "Free Guide (Control)\n",
      "Free Guide (Control)\n",
      "Free Guide (Control)\n",
      "Free Guide (Control)\n",
      "Free Guide (Control)\n",
      "Free Guide (Control)\n",
      "Free Guide (Control)\n",
      "Free Guide (Control)\n",
      "Free Guide (Control)\n",
      "Free Guide (Control)\n",
      "Free Guide (Control)\n",
      "Free Guide (Control)\n",
      "Free Guide (Control)\n",
      "Free Guide (Control)\n",
      "Free Guide (Control)\n",
      "Free Guide (Control)\n",
      "Free Guide (Control)\n",
      "Free Guide (Control)\n",
      "Free Guide (Control)\n",
      "Free Guide (Control)\n",
      "Free Guide (Control)\n",
      "Free Guide (Control)\n",
      "Free Guide (Control)\n",
      "Free Guide (Control)\n",
      "Free Guide (Control)\n",
      "Free Guide (Control)\n",
      "Free Guide (Control)\n",
      "Free Guide (Control)\n",
      "Free Guide (Control)\n",
      "Free Guide (Control)\n",
      "Free Guide (Control)\n",
      "Free Guide (Control)\n",
      "Free Guide (Control)\n",
      "Free Guide (Control)\n",
      "Free Guide (Control)\n",
      "Free Guide (Control)\n",
      "Free Guide (Control)\n",
      "Free Guide (Control)\n",
      "Free Guide (Control)\n",
      "Free Guide (Control)\n",
      "Free Guide (Control)\n",
      "Free Guide (Control)\n",
      "Free Guide (Control)\n",
      "Free Guide (Control)\n",
      "Free Guide (Control)\n",
      "Free Guide (Control)\n",
      "Free Guide (Control)\n",
      "Free Guide (Control)\n",
      "Free Guide (Control)\n",
      "Free Guide (Control)\n",
      "Free Guide (Control)\n",
      "Free Guide (Control)\n",
      "Free Guide (Control)\n",
      "Free Guide (Control)\n",
      "Free Guide (Control)\n",
      "Free Guide (Control)\n",
      "Free Guide (Control)\n",
      "Free Guide (Control)\n",
      "Free Guide (Control)\n",
      "Free Guide (Control)\n",
      "Free Guide (Control)\n",
      "Free Guide (Control)\n",
      "Free Guide (Control)\n",
      "Free Guide (Control)\n",
      "Free Guide (Control)\n",
      "Free Guide (Control)\n",
      "Free Guide (Control)\n",
      "Free Guide (Control)\n",
      "Free Guide (Control)\n",
      "Free Guide (Control)\n",
      "Free Guide (Control)\n",
      "Free Guide (Control)\n",
      "Free Guide (Control)\n",
      "Free Guide (Control)\n",
      "Free Guide (Control)\n",
      "Free Guide (Control)\n",
      "Free Guide (Control)\n",
      "Free Guide (Control)\n",
      "Free Guide (Control)\n",
      "Free Guide (Control)\n",
      "Free Guide (Control)\n",
      "Free Guide (Control)\n",
      "Free Guide (Control)\n",
      "Free Guide (Control)\n",
      "Free Guide (Control)\n"
     ]
    }
   ],
   "source": [
    "for e in ts:\n",
    "    print(e['results_name'])"
   ]
  },
  {
   "cell_type": "code",
   "execution_count": 44,
   "metadata": {},
   "outputs": [
    {
     "name": "stdout",
     "output_type": "stream",
     "text": [
      "/Users/vicky/Dev/optimizely/scripts\r\n"
     ]
    }
   ],
   "source": [
    "!pwd"
   ]
  },
  {
   "cell_type": "code",
   "execution_count": 45,
   "metadata": {},
   "outputs": [
    {
     "name": "stdout",
     "output_type": "stream",
     "text": [
      "generate_original.py  scratch_keap.ipynb    test_results_all.json\r\n"
     ]
    }
   ],
   "source": [
    "!ls"
   ]
  },
  {
   "cell_type": "code",
   "execution_count": 46,
   "metadata": {},
   "outputs": [],
   "source": [
    "pope.write_to_json(file_name='results_ts.json', jayson=ts, mode='w')"
   ]
  },
  {
   "cell_type": "code",
   "execution_count": 47,
   "metadata": {},
   "outputs": [
    {
     "name": "stdout",
     "output_type": "stream",
     "text": [
      "generate_original.py  scratch_keap.ipynb\r\n",
      "results_ts.json       test_results_all.json\r\n"
     ]
    }
   ],
   "source": [
    "!ls"
   ]
  },
  {
   "cell_type": "code",
   "execution_count": 58,
   "metadata": {},
   "outputs": [
    {
     "name": "stderr",
     "output_type": "stream",
     "text": [
      "INFO:root:Writing result_ts to BQ from file results_ts.json\n"
     ]
    },
    {
     "name": "stdout",
     "output_type": "stream",
     "text": [
      "2019-01-29 15:08:30,352 - root - Writing result_ts to BQ from file results_ts.json\n"
     ]
    }
   ],
   "source": [
    "pope.write_to_bq(table_name='result_ts', file_name='results_ts.json', append=True, ignore_unknown_values=False, bq_schema_autodetect=False)\n"
   ]
  },
  {
   "cell_type": "markdown",
   "metadata": {},
   "source": [
    "# experiments"
   ]
  },
  {
   "cell_type": "code",
   "execution_count": 60,
   "metadata": {},
   "outputs": [
    {
     "name": "stdout",
     "output_type": "stream",
     "text": [
      "Successfully read project data.\n",
      "Successfully read experiment data.\n",
      "Successfully read experiment data.\n",
      "Successfully read experiment data.\n",
      "Successfully read experiment data.\n",
      "Successfully read experiment data.\n"
     ]
    }
   ],
   "source": [
    "# # get all projects\n",
    "# try:\n",
    "#     response_proj = requests.get('https://api.optimizely.com/v2/projects', headers=headers)\n",
    "#     j_proj = json.loads(response_proj.text)\n",
    "#     response_proj.raise_for_status()\n",
    "#     print('Successfully read project data.')\n",
    "\n",
    "# except requests.exceptions.HTTPError as err:\n",
    "#     print(err)\n",
    "\n",
    "# # store a list of project metadata\n",
    "# project_list = []\n",
    "experiment_id_list = []\n",
    "\n",
    "# for project in j_proj:\n",
    "    p_id = project['id']\n",
    "\n",
    "    # get all experiments from one project\n",
    "    params = (\n",
    "        ('project_id', p_id),\n",
    "        ('per_page', 100),\n",
    "    ) \n",
    "\n",
    "    try:\n",
    "        response_exp = requests.get('https://api.optimizely.com/v2/experiments', headers=headers, params=params)\n",
    "        j_exp = json.loads(response_exp.text)\n",
    "        response_exp.raise_for_status()\n",
    "        print('Successfully read experiment data.')\n",
    "    except requests.exceptions.HTTPError as err:\n",
    "        print(err)\n",
    "\n",
    "    # loop for all experiments in this project\n",
    "    upload_exp_list = []\n",
    "    for exp in j_exp:\n",
    "        exp['project_id'] = p_id\n",
    "        upload_exp_list.append(flatten(exp, {}, ''))\n",
    "        experiment_id_list.append(exp['id'])\n",
    "\n",
    "    # upload experiment \n",
    "    # pope.write_to_json(file_name='../uploads/experiments.json', jayson=upload_exp_list, mode='w')\n",
    "    # pope.write_to_bq(table_name='experiments', file_name='../uploads/experiments.json', append=True, ignore_unknown_values=False, bq_schema_autodetect=False)\n",
    "    # print(f\"Successfully uploaded experiments for project {p_id}\")\n",
    "\n",
    "# project_list.append(project)\n",
    "\n",
    "# pope.write_to_json(file_name='../uploads/projects.json', jayson=project_list, mode='w')\n",
    "# pope.write_to_bq(table_name='projects', file_name='../uploads/projects.json', append=True, ignore_unknown_values=False, bq_schema_autodetect=False)\n",
    "# print(\"Successfully uploaded all projects.\")\n"
   ]
  },
  {
   "cell_type": "code",
   "execution_count": 68,
   "metadata": {},
   "outputs": [
    {
     "name": "stdout",
     "output_type": "stream",
     "text": [
      "Successfully read experiment data.\n"
     ]
    }
   ],
   "source": [
    "p_id = 10849384554\n",
    "\n",
    "# get all experiments from one project\n",
    "params = (\n",
    "    ('project_id', p_id),\n",
    "    ('per_page', 100),\n",
    ") \n",
    "\n",
    "try:\n",
    "    response_exp = requests.get('https://api.optimizely.com/v2/experiments', headers=headers, params=params)\n",
    "    j_exp = json.loads(response_exp.text)\n",
    "    response_exp.raise_for_status()\n",
    "    print('Successfully read experiment data.')\n",
    "except requests.exceptions.HTTPError as err:\n",
    "    print(err)\n",
    "\n",
    "# loop for all experiments in this project\n",
    "upload_exp_list = []\n",
    "for exp in j_exp:\n",
    "    exp['project_id'] = p_id\n",
    "    upload_exp_list.append(exp)\n",
    "#     upload_exp_list.append(flatten(exp, {}, ''))\n",
    "#     experiment_id_list.append(exp['id'])"
   ]
  },
  {
   "cell_type": "code",
   "execution_count": 80,
   "metadata": {},
   "outputs": [
    {
     "data": {
      "text/plain": [
       "{'allocation_policy': 'manual',\n",
       " 'audience_conditions': 'everyone',\n",
       " 'campaign_id': 10880750271,\n",
       " 'changes': [],\n",
       " 'created': '2018-06-19T21:14:50.593989Z',\n",
       " 'description': 'That existing copy \"Get it together,\" \"Make it personal,\" & \"Cash it in\" is more effective than the Close more business version. ',\n",
       " 'earliest': '2018-06-22T16:34:45.276504Z',\n",
       " 'holdback': 0,\n",
       " 'id': 10898650266,\n",
       " 'is_classic': False,\n",
       " 'last_modified': '2018-11-08T20:25:59.779273Z',\n",
       " 'latest': '2018-11-08T20:26:00.704897Z',\n",
       " 'metrics': [{'aggregator': 'unique',\n",
       "   'event_id': 10894182018,\n",
       "   'scope': 'visitor',\n",
       "   'winning_direction': 'increasing'}],\n",
       " 'name': \"Homepage - Close More Business CTA - Jun '18\",\n",
       " 'project_id': 10849384554,\n",
       " 'status': 'paused',\n",
       " 'type': 'a/b',\n",
       " 'url_targeting': {'activation_type': 'immediate',\n",
       "  'conditions': '[\"and\", [\"or\", {\"match_type\": \"simple\", \"type\": \"url\", \"value\": \"https://www.infusionsoft.com/\"}]]',\n",
       "  'edit_url': 'https://www.infusionsoft.com/',\n",
       "  'key': '10849384554_url_targeting_for_homepage_copy_test',\n",
       "  'page_id': 10904280495},\n",
       " 'variations': [{'actions': [],\n",
       "   'archived': False,\n",
       "   'name': 'Cash it in (Control)',\n",
       "   'status': 'active',\n",
       "   'variation_id': 10892600564,\n",
       "   'weight': 5000},\n",
       "  {'actions': [{'changes': [{'async': False,\n",
       "       'attributes': {'html': 'Close more business '},\n",
       "       'css': {},\n",
       "       'dependencies': [],\n",
       "       'id': '49C3EDB0-5D7A-4340-BC87-AEFA3EC4351F',\n",
       "       'rearrange': {'insertSelector': '', 'operator': 'before'},\n",
       "       'selector': '.vertical-spacing h3',\n",
       "       'type': 'attribute'},\n",
       "      {'async': False,\n",
       "       'attributes': {},\n",
       "       'css': {},\n",
       "       'dependencies': [],\n",
       "       'id': 'C6F86979-5CA5-4FB0-95DB-B689C1A598A0',\n",
       "       'rearrange': {'insertSelector': '', 'operator': 'before'},\n",
       "       'selector': '.vertical-spacing a.small-expanded',\n",
       "       'type': 'attribute'},\n",
       "      {'async': False,\n",
       "       'attributes': {'html': 'Automatically send emails to leads to keep your business top of mind until they’re ready to buy.'},\n",
       "       'css': {},\n",
       "       'dependencies': [],\n",
       "       'id': '4B96ED61-63F9-474D-9260-6DF7BC68842D',\n",
       "       'rearrange': {'insertSelector': '', 'operator': 'before'},\n",
       "       'selector': '.vertical-spacing p',\n",
       "       'type': 'attribute'}],\n",
       "     'page_id': 10904280495,\n",
       "     'share_link': 'https://www.infusionsoft.com/?optimizely_token=6a0cd7c0f158734fa5a2e6efc0fa7fbac151cb789b5fc32f516807aa27103e7c&optimizely_x=10884660427&optimizely_x_audiences=&optimizely_preview_layer_ids=10880750271&optimizely_snippet=s3-10849384554'}],\n",
       "   'archived': False,\n",
       "   'name': 'Close more business',\n",
       "   'status': 'active',\n",
       "   'variation_id': 10884660427,\n",
       "   'weight': 5000}]}"
      ]
     },
     "execution_count": 80,
     "metadata": {},
     "output_type": "execute_result"
    }
   ],
   "source": [
    "upload_exp_list[0]"
   ]
  },
  {
   "cell_type": "code",
   "execution_count": 69,
   "metadata": {},
   "outputs": [
    {
     "ename": "KeyError",
     "evalue": "'variations_variation_id'",
     "output_type": "error",
     "traceback": [
      "\u001b[0;31m---------------------------------------------------------------------------\u001b[0m",
      "\u001b[0;31mKeyError\u001b[0m                                  Traceback (most recent call last)",
      "\u001b[0;32m<ipython-input-69-00ce5b35b203>\u001b[0m in \u001b[0;36m<module>\u001b[0;34m()\u001b[0m\n\u001b[1;32m      1\u001b[0m \u001b[0;32mfor\u001b[0m \u001b[0me\u001b[0m \u001b[0;32min\u001b[0m \u001b[0mupload_exp_list\u001b[0m\u001b[0;34m:\u001b[0m\u001b[0;34m\u001b[0m\u001b[0m\n\u001b[0;32m----> 2\u001b[0;31m     \u001b[0mprint\u001b[0m\u001b[0;34m(\u001b[0m\u001b[0me\u001b[0m\u001b[0;34m[\u001b[0m\u001b[0;34m'variations_variation_id'\u001b[0m\u001b[0;34m]\u001b[0m\u001b[0;34m)\u001b[0m\u001b[0;34m\u001b[0m\u001b[0m\n\u001b[0m",
      "\u001b[0;31mKeyError\u001b[0m: 'variations_variation_id'"
     ]
    }
   ],
   "source": [
    "for e in upload_exp_list:\n",
    "    print(e['variations_variation_id'])"
   ]
  },
  {
   "cell_type": "code",
   "execution_count": 79,
   "metadata": {},
   "outputs": [
    {
     "name": "stderr",
     "output_type": "stream",
     "text": [
      "INFO:root:Writing test_experiments to BQ from file experiments.json\n"
     ]
    },
    {
     "name": "stdout",
     "output_type": "stream",
     "text": [
      "2019-01-29 15:49:34,393 - root - Writing test_experiments to BQ from file experiments.json\n"
     ]
    }
   ],
   "source": [
    "pope.write_to_json(file_name='experiments.json', jayson=upload_exp_list, mode='w')\n",
    "pope.write_to_bq(table_name='test_experiments', file_name='experiments.json', append=True, ignore_unknown_values=False, bq_schema_autodetect=False)\n",
    "    \n",
    "    \n",
    "    "
   ]
  },
  {
   "cell_type": "code",
   "execution_count": null,
   "metadata": {},
   "outputs": [],
   "source": [
    "11396315769\n",
    "11365566229\n",
    "11388339167"
   ]
  }
 ],
 "metadata": {
  "kernelspec": {
   "display_name": "Python 3",
   "language": "python",
   "name": "python3"
  },
  "language_info": {
   "codemirror_mode": {
    "name": "ipython",
    "version": 3
   },
   "file_extension": ".py",
   "mimetype": "text/x-python",
   "name": "python",
   "nbconvert_exporter": "python",
   "pygments_lexer": "ipython3",
   "version": "3.6.4"
  }
 },
 "nbformat": 4,
 "nbformat_minor": 2
}
