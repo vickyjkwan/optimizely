{
 "cells": [
  {
   "cell_type": "code",
   "execution_count": 1,
   "metadata": {},
   "outputs": [],
   "source": [
    "import os"
   ]
  },
  {
   "cell_type": "code",
   "execution_count": 4,
   "metadata": {},
   "outputs": [
    {
     "data": {
      "text/plain": [
       "'/Users/vicky/Dev/optimizely/scripts'"
      ]
     },
     "execution_count": 4,
     "metadata": {},
     "output_type": "execute_result"
    }
   ],
   "source": [
    "os.getcwd()"
   ]
  },
  {
   "cell_type": "code",
   "execution_count": 55,
   "metadata": {},
   "outputs": [],
   "source": [
    "import json\n",
    "import requests\n",
    "import popelines\n",
    "import os\n",
    "from datetime import datetime, timedelta\n",
    "from main import fix_values, populating_vals, flatten, flatten_dupe_vals"
   ]
  },
  {
   "cell_type": "code",
   "execution_count": 56,
   "metadata": {},
   "outputs": [],
   "source": [
    "from generate_original import read_endpoint, generate_projects\n",
    "# from generate_original import generate_experiments, generate_results"
   ]
  },
  {
   "cell_type": "code",
   "execution_count": 57,
   "metadata": {},
   "outputs": [],
   "source": [
    "gbq_key = os.environ.get('GOOGLE_ACCOUNT_CREDENTIALS')"
   ]
  },
  {
   "cell_type": "code",
   "execution_count": 58,
   "metadata": {},
   "outputs": [],
   "source": [
    "pope = popelines.popeline(dataset_id='optimizely', service_key_file_loc=gbq_key, directory='.', verbose=False)\n"
   ]
  },
  {
   "cell_type": "code",
   "execution_count": 59,
   "metadata": {},
   "outputs": [],
   "source": [
    "headers = {\n",
    "    'Authorization': 'Bearer 2:EWAWmaXb4TgtYVU2VvwoEF-9UbJxBahkiFh1633_Oc9nmju7iJis',\n",
    "}"
   ]
  },
  {
   "cell_type": "markdown",
   "metadata": {},
   "source": [
    "# Update project table"
   ]
  },
  {
   "cell_type": "code",
   "execution_count": null,
   "metadata": {},
   "outputs": [],
   "source": [
    "# idea is to:\n",
    "# GET [project_id, last_modified_ts]\n",
    "# if new_project_id is not in {project_id} set: add to it\n",
    "# if new_project_id is in {project_id} set: \n",
    "    # if last_modified_ts > bq.last_modified_ts: add [project_id, project_props, last_modified_ts(new), upload_ts]\n",
    "    # else: do nothing"
   ]
  },
  {
   "cell_type": "code",
   "execution_count": 60,
   "metadata": {},
   "outputs": [],
   "source": [
    "project_endpoint = 'https://api.optimizely.com/v2/projects'\n",
    "all_projects = generate_projects(project_endpoint, headers)"
   ]
  },
  {
   "cell_type": "code",
   "execution_count": 61,
   "metadata": {},
   "outputs": [
    {
     "data": {
      "text/plain": [
       "[{'account_id': 8725961507,\n",
       "  'confidence_threshold': 0.9,\n",
       "  'created': '2018-01-04T20:50:13.101130Z',\n",
       "  'id': 9965963792,\n",
       "  'is_classic': False,\n",
       "  'last_modified': '2019-02-25T16:51:16.920893Z',\n",
       "  'name': 'Free Trial',\n",
       "  'platform': 'web',\n",
       "  'sdks': [],\n",
       "  'status': 'active',\n",
       "  'web_snippet': {'code_revision': 210,\n",
       "   'enable_force_variation': False,\n",
       "   'exclude_disabled_experiments': False,\n",
       "   'exclude_names': True,\n",
       "   'include_jquery': False,\n",
       "   'ip_anonymization': False,\n",
       "   'ip_filter': '^(70\\\\.166\\\\.203\\\\.(?:1(?:2[8-9]|[3-8][0-9]|9[0-1])))|(174\\\\.67\\\\.125\\\\.(?:[0-9]|[1-9][0-9]|1(?:[0-1][0-9]|2[0-7])))|(70\\\\.166\\\\.189\\\\.(?:[0-7]))|(70\\\\.166\\\\.189\\\\.(?:3[2-9]|[4-5][0-9]|6[0-3]))|(174\\\\.78\\\\.90\\\\.(?:4[8-9]|5[0-5]))|(174\\\\.78\\\\.95\\\\.(?:5[6-9]))|(76\\\\.217\\\\.119\\\\.(?:2(?:2[4-9]|3[0-1])))|(12\\\\.196\\\\.29\\\\.(?:2(?:4[8-9]|5[0-5])))|(50\\\\.192\\\\.58\\\\.(?:2(?:0[8-9]|1[0-1])))|(76\\\\.250\\\\.184\\\\.(?:8[0-7]))|(12\\\\.133\\\\.142\\\\.(?:4[0-7]))|(67\\\\.133\\\\.44\\\\.(?:[8-9]|1[0-5]))$',\n",
       "   'js_file_size': 80252,\n",
       "   'library': 'none'}},\n",
       " {'account_id': 8725961507,\n",
       "  'confidence_threshold': 0.9,\n",
       "  'created': '2018-01-08T23:27:24.820990Z',\n",
       "  'description': 'A sandbox for testing.',\n",
       "  'id': 10057253317,\n",
       "  'is_classic': False,\n",
       "  'last_modified': '2019-02-13T17:00:14.845022Z',\n",
       "  'name': 'Testing & Development',\n",
       "  'platform': 'web',\n",
       "  'sdks': [],\n",
       "  'status': 'active',\n",
       "  'web_snippet': {'code_revision': 26,\n",
       "   'enable_force_variation': False,\n",
       "   'exclude_disabled_experiments': False,\n",
       "   'exclude_names': True,\n",
       "   'include_jquery': False,\n",
       "   'ip_anonymization': False,\n",
       "   'js_file_size': 79881,\n",
       "   'library': 'none'}},\n",
       " {'account_id': 8725961507,\n",
       "  'confidence_threshold': 0.9,\n",
       "  'created': '2018-02-22T23:29:15.972680Z',\n",
       "  'id': 10347872424,\n",
       "  'is_classic': False,\n",
       "  'last_modified': '2019-02-25T16:44:15.107729Z',\n",
       "  'name': 'Keap.com',\n",
       "  'platform': 'web',\n",
       "  'sdks': [],\n",
       "  'status': 'active',\n",
       "  'web_snippet': {'code_revision': 1458,\n",
       "   'enable_force_variation': False,\n",
       "   'exclude_disabled_experiments': False,\n",
       "   'exclude_names': False,\n",
       "   'include_jquery': False,\n",
       "   'ip_anonymization': False,\n",
       "   'ip_filter': '^(70\\\\.166\\\\.203\\\\.(?:1(?:2[8-9]|[3-8][0-9]|9[0-1])))|(174\\\\.67\\\\.125\\\\.(?:[0-9]|[1-9][0-9]|1(?:[0-1][0-9]|2[0-7])))|(70\\\\.166\\\\.189\\\\.(?:[0-7]))|(70\\\\.166\\\\.189\\\\.(?:3[2-9]|[4-5][0-9]|6[0-3]))|(174\\\\.78\\\\.90\\\\.(?:4[8-9]|5[0-5]))|(174\\\\.78\\\\.95\\\\.(?:5[6-9]))|(76\\\\.217\\\\.119\\\\.(?:2(?:2[4-9]|3[0-1])))|(12\\\\.196\\\\.29\\\\.(?:2(?:4[8-9]|5[0-5])))|(50\\\\.192\\\\.58\\\\.(?:2(?:0[8-9]|1[0-1])))|(76\\\\.250\\\\.184\\\\.(?:8[0-7]))|(12\\\\.133\\\\.142\\\\.(?:4[0-7]))|(67\\\\.133\\\\.44\\\\.(?:[8-9]|1[0-5]))$',\n",
       "   'js_file_size': 92264,\n",
       "   'library': 'none'}},\n",
       " {'account_id': 8725961507,\n",
       "  'confidence_threshold': 0.95,\n",
       "  'created': '2018-03-08T16:52:59.992260Z',\n",
       "  'id': 10427612860,\n",
       "  'is_classic': False,\n",
       "  'last_modified': '2019-02-25T19:03:14.013358Z',\n",
       "  'name': 'Marketo Pages',\n",
       "  'platform': 'web',\n",
       "  'sdks': [],\n",
       "  'status': 'active',\n",
       "  'web_snippet': {'code_revision': 111,\n",
       "   'enable_force_variation': False,\n",
       "   'exclude_disabled_experiments': False,\n",
       "   'exclude_names': True,\n",
       "   'include_jquery': False,\n",
       "   'ip_anonymization': False,\n",
       "   'ip_filter': '^(70\\\\.166\\\\.203\\\\.(?:1(?:2[8-9]|[3-8][0-9]|9[0-1])))|(174\\\\.67\\\\.125\\\\.(?:[0-9]|[1-9][0-9]|1(?:[0-1][0-9]|2[0-7])))|(70\\\\.166\\\\.189\\\\.(?:[0-7]))|(70\\\\.166\\\\.189\\\\.(?:3[2-9]|[4-5][0-9]|6[0-3]))|(174\\\\.78\\\\.90\\\\.(?:4[8-9]|5[0-5]))|(174\\\\.78\\\\.95\\\\.(?:5[6-9]))|(76\\\\.217\\\\.119\\\\.(?:2(?:2[4-9]|3[0-1])))|(12\\\\.196\\\\.29\\\\.(?:2(?:4[8-9]|5[0-5])))|(50\\\\.192\\\\.58\\\\.(?:2(?:0[8-9]|1[0-1])))|(76\\\\.250\\\\.184\\\\.(?:8[0-7]))|(12\\\\.133\\\\.142\\\\.(?:4[0-7]))|(67\\\\.133\\\\.44\\\\.(?:[8-9]|1[0-5]))$',\n",
       "   'js_file_size': 83642,\n",
       "   'library': 'none'}},\n",
       " {'account_id': 8725961507,\n",
       "  'confidence_threshold': 0.9,\n",
       "  'created': '2018-03-08T16:52:48.915460Z',\n",
       "  'id': 10429921250,\n",
       "  'is_classic': False,\n",
       "  'last_modified': '2019-02-25T16:45:07.989778Z',\n",
       "  'name': 'Corporate Website - Landing Pages',\n",
       "  'platform': 'web',\n",
       "  'sdks': [],\n",
       "  'status': 'archived',\n",
       "  'web_snippet': {'code_revision': 386,\n",
       "   'enable_force_variation': False,\n",
       "   'exclude_disabled_experiments': False,\n",
       "   'exclude_names': True,\n",
       "   'include_jquery': False,\n",
       "   'ip_anonymization': False,\n",
       "   'ip_filter': '^(70\\\\.166\\\\.203\\\\.(?:1(?:2[8-9]|[3-8][0-9]|9[0-1])))|(174\\\\.67\\\\.125\\\\.(?:[0-9]|[1-9][0-9]|1(?:[0-1][0-9]|2[0-7])))|(70\\\\.166\\\\.189\\\\.(?:[0-7]))|(70\\\\.166\\\\.189\\\\.(?:3[2-9]|[4-5][0-9]|6[0-3]))|(174\\\\.78\\\\.90\\\\.(?:4[8-9]|5[0-5]))|(174\\\\.78\\\\.95\\\\.(?:5[6-9]))|(76\\\\.217\\\\.119\\\\.(?:2(?:2[4-9]|3[0-1])))|(12\\\\.196\\\\.29\\\\.(?:2(?:4[8-9]|5[0-5])))|(50\\\\.192\\\\.58\\\\.(?:2(?:0[8-9]|1[0-1])))|(76\\\\.250\\\\.184\\\\.(?:8[0-7]))|(12\\\\.133\\\\.142\\\\.(?:4[0-7]))|(67\\\\.133\\\\.44\\\\.(?:[8-9]|1[0-5]))$',\n",
       "   'js_file_size': 91,\n",
       "   'library': 'none'}},\n",
       " {'account_id': 8725961507,\n",
       "  'confidence_threshold': 0.9,\n",
       "  'created': '2018-06-14T21:17:23.824620Z',\n",
       "  'id': 10849384554,\n",
       "  'is_classic': False,\n",
       "  'last_modified': '2019-02-25T16:45:08.911463Z',\n",
       "  'name': 'Corporate Website - Copy',\n",
       "  'platform': 'web',\n",
       "  'sdks': [],\n",
       "  'status': 'archived',\n",
       "  'web_snippet': {'code_revision': 105,\n",
       "   'enable_force_variation': False,\n",
       "   'exclude_disabled_experiments': False,\n",
       "   'exclude_names': True,\n",
       "   'include_jquery': False,\n",
       "   'ip_anonymization': False,\n",
       "   'ip_filter': '^(70\\\\.166\\\\.203\\\\.(?:1(?:2[8-9]|[3-8][0-9]|9[0-1])))|(174\\\\.67\\\\.125\\\\.(?:[0-9]|[1-9][0-9]|1(?:[0-1][0-9]|2[0-7])))|(70\\\\.166\\\\.189\\\\.(?:[0-7]))|(70\\\\.166\\\\.189\\\\.(?:3[2-9]|[4-5][0-9]|6[0-3]))|(174\\\\.78\\\\.90\\\\.(?:4[8-9]|5[0-5]))|(174\\\\.78\\\\.95\\\\.(?:5[6-9]))|(76\\\\.217\\\\.119\\\\.(?:2(?:2[4-9]|3[0-1])))|(12\\\\.196\\\\.29\\\\.(?:2(?:4[8-9]|5[0-5])))|(50\\\\.192\\\\.58\\\\.(?:2(?:0[8-9]|1[0-1])))|(76\\\\.250\\\\.184\\\\.(?:8[0-7]))|(12\\\\.133\\\\.142\\\\.(?:4[0-7]))|(67\\\\.133\\\\.44\\\\.(?:[8-9]|1[0-5]))$',\n",
       "   'js_file_size': 91,\n",
       "   'library': 'none'}},\n",
       " {'account_id': 8725961507,\n",
       "  'confidence_threshold': 0.99,\n",
       "  'created': '2019-02-21T20:47:19.634521Z',\n",
       "  'description': 'To test ETL ',\n",
       "  'id': 13655420480,\n",
       "  'is_classic': False,\n",
       "  'last_modified': '2019-02-25T16:51:14.322750Z',\n",
       "  'name': 'Analytics Testing Environment',\n",
       "  'platform': 'web',\n",
       "  'sdks': [],\n",
       "  'status': 'active',\n",
       "  'web_snippet': {'code_revision': 22,\n",
       "   'enable_force_variation': True,\n",
       "   'exclude_disabled_experiments': False,\n",
       "   'exclude_names': True,\n",
       "   'include_jquery': False,\n",
       "   'ip_anonymization': False,\n",
       "   'js_file_size': 78801,\n",
       "   'library': 'none'}}]"
      ]
     },
     "execution_count": 61,
     "metadata": {},
     "output_type": "execute_result"
    }
   ],
   "source": [
    "all_projects"
   ]
  },
  {
   "cell_type": "code",
   "execution_count": null,
   "metadata": {
    "scrolled": true
   },
   "outputs": [],
   "source": [
    "check_project = []\n",
    "for project in all_projects:\n",
    "    check_project.append({'project_id': project['id'], 'last_modified': project['last_modified']})\n"
   ]
  },
  {
   "cell_type": "code",
   "execution_count": null,
   "metadata": {},
   "outputs": [],
   "source": [
    "datetime.strptime(check_project[-1]['last_modified'], '%Y-%m-%dT%H:%M:%S.%fz')"
   ]
  },
  {
   "cell_type": "code",
   "execution_count": null,
   "metadata": {},
   "outputs": [],
   "source": [
    "# this returns the local time for last upload timestamp of projects\n",
    "# checking the last time this job ran\n",
    "last_upload_ts = pope.find_last_entry('projects', 'upload_ts') + timedelta(hours=-8)"
   ]
  },
  {
   "cell_type": "code",
   "execution_count": null,
   "metadata": {},
   "outputs": [],
   "source": [
    "last_upload_ts.replace(tzinfo=None)"
   ]
  },
  {
   "cell_type": "code",
   "execution_count": null,
   "metadata": {},
   "outputs": [],
   "source": [
    "# compare each of the project's last_modified timestamp to the above last upload_ts\n",
    "# select only if last_modified > upload_ts\n",
    "update_project_id = []\n",
    "for project in all_projects:\n",
    "    if datetime.strptime(project['last_modified'], '%Y-%m-%dT%H:%M:%S.%fz') > last_upload_ts.replace(tzinfo=None):\n",
    "        update_project_id.append(project['id'])"
   ]
  },
  {
   "cell_type": "code",
   "execution_count": null,
   "metadata": {},
   "outputs": [],
   "source": [
    "# endpoints\n",
    "# single_project_endpoint = f'https://api.optimizely.com/v2/projects/{project_id}'\n",
    "# experiment_endpoint = 'https://api.optimizely.com/v2/experiments'"
   ]
  },
  {
   "cell_type": "code",
   "execution_count": null,
   "metadata": {},
   "outputs": [],
   "source": [
    "update_project_id\n"
   ]
  },
  {
   "cell_type": "code",
   "execution_count": null,
   "metadata": {},
   "outputs": [],
   "source": [
    "for project_id in update_project_id:\n",
    "    single_project_endpoint = f'https://api.optimizely.com/v2/projects/{project_id}'\n",
    "    project_info = generate_projects(single_project_endpoint, headers)\n",
    "    project_info['upload_ts'] = str(datetime.utcnow())"
   ]
  },
  {
   "cell_type": "code",
   "execution_count": null,
   "metadata": {},
   "outputs": [],
   "source": [
    "project_info"
   ]
  },
  {
   "cell_type": "markdown",
   "metadata": {},
   "source": [
    "# Update experiment table"
   ]
  },
  {
   "cell_type": "code",
   "execution_count": null,
   "metadata": {},
   "outputs": [],
   "source": [
    "os.system('say \"completed\"')"
   ]
  },
  {
   "cell_type": "code",
   "execution_count": null,
   "metadata": {},
   "outputs": [],
   "source": [
    "datetime.utcnow() "
   ]
  },
  {
   "cell_type": "markdown",
   "metadata": {},
   "source": [
    "# Update results table"
   ]
  },
  {
   "cell_type": "markdown",
   "metadata": {},
   "source": [
    "# Debug script"
   ]
  },
  {
   "cell_type": "code",
   "execution_count": 1,
   "metadata": {},
   "outputs": [],
   "source": [
    "import json\n",
    "import requests\n",
    "import popelines\n",
    "import os\n",
    "from datetime import datetime, timedelta\n",
    "from main import fix_values, populating_vals, flatten, flatten_dupe_vals\n",
    "from generate_original import read_endpoint, generate_projects\n"
   ]
  },
  {
   "cell_type": "code",
   "execution_count": 62,
   "metadata": {},
   "outputs": [],
   "source": [
    "gbq_key = os.environ.get('GOOGLE_ACCOUNT_CREDENTIALS')\n",
    "\n",
    "pope = popelines.popeline(dataset_id='optimizely', service_key_file_loc=gbq_key, directory='.', verbose=False)\n",
    "headers = {\n",
    "    'Authorization': 'Bearer 2:EWAWmaXb4TgtYVU2VvwoEF-9UbJxBahkiFh1633_Oc9nmju7iJis',\n",
    "}"
   ]
  },
  {
   "cell_type": "code",
   "execution_count": 5,
   "metadata": {},
   "outputs": [],
   "source": [
    "# this function checks the last time a job was run on bq,\n",
    "# returns the last-run timestamp for the table\n",
    "def check_bq_ts(table_name, ts_col_name):\n",
    "    last_upload_ts = pope.find_last_entry(table_name, ts_col_name) + timedelta(hours=-8)\n",
    "    return last_upload_ts\n"
   ]
  },
  {
   "cell_type": "code",
   "execution_count": 43,
   "metadata": {},
   "outputs": [],
   "source": [
    "# this function should get timestamp for each entity (project, experiment, or result), from API,\n",
    "# returns only those with a timestamp that is later than the benchmark, benchmark_ts\n",
    "def check_api_ts(api_path, table, ts_col, benchmark_ts, existing_id):\n",
    "    \n",
    "    # compare each of the project's last_modified timestamp to the above last upload_ts\n",
    "    # select only if last_modified > upload_ts\n",
    "    updating_entity_id = []\n",
    "    if table == 'project':\n",
    "        all_existing = generate_projects(api_path, headers)\n",
    "    # elif table == 'experiment':\n",
    "    #     all_existing = generate_experiment(api_path, headers)\n",
    "    else:\n",
    "        pass\n",
    "\n",
    "    for entity in all_existing:\n",
    "        entity_ts = datetime.strptime(entity[ts_col], '%Y-%m-%dT%H:%M:%S.%fz') + timedelta(hours=-8)\n",
    "        if  entity_ts > benchmark_ts:\n",
    "            updating_entity_id.append(entity['id'])\n",
    "        elif entity['id'] not in existing_id:\n",
    "            updating_entity_id.append(entity['id'])\n",
    "\n",
    "    return updating_entity_id\n",
    "\n"
   ]
  },
  {
   "cell_type": "code",
   "execution_count": 7,
   "metadata": {},
   "outputs": [],
   "source": [
    "# this function gathers all new entity dictionaries in a list, returns a format that is friendly to popelines\n",
    "def generate_new_entity(id_list, api_path, table):\n",
    "    new_json = []\n",
    "    for entity_id in id_list:\n",
    "        if table == 'project':\n",
    "            entity_info = generate_projects(f'{api_path}/{entity_id}', headers)\n",
    "            entity_info['upload_ts'] = str(datetime.utcnow())\n",
    "\n",
    "        # need to add experiment table\n",
    "        else:\n",
    "            pass\n",
    "\n",
    "        new_json.append(entity_info)\n",
    "\n",
    "    return new_json"
   ]
  },
  {
   "cell_type": "code",
   "execution_count": 63,
   "metadata": {},
   "outputs": [],
   "source": [
    "project_endpoint = 'https://api.optimizely.com/v2/projects'\n"
   ]
  },
  {
   "cell_type": "code",
   "execution_count": 64,
   "metadata": {},
   "outputs": [],
   "source": [
    "# get the timestamp from bq for project table, at which the job was most recently run\n",
    "last_upload_ts = check_bq_ts('projects', 'upload_ts')"
   ]
  },
  {
   "cell_type": "code",
   "execution_count": 65,
   "metadata": {},
   "outputs": [
    {
     "data": {
      "text/plain": [
       "datetime.datetime(2019, 2, 25, 14, 35, 11, 630901, tzinfo=<UTC>)"
      ]
     },
     "execution_count": 65,
     "metadata": {},
     "output_type": "execute_result"
    }
   ],
   "source": [
    "last_upload_ts"
   ]
  },
  {
   "cell_type": "code",
   "execution_count": null,
   "metadata": {},
   "outputs": [],
   "source": []
  },
  {
   "cell_type": "code",
   "execution_count": 26,
   "metadata": {},
   "outputs": [],
   "source": [
    "project_query = open('existing_projects.sql').read()"
   ]
  },
  {
   "cell_type": "code",
   "execution_count": 44,
   "metadata": {},
   "outputs": [],
   "source": [
    "existing_projects = []\n",
    "for result in pope.bq_query(project_query):\n",
    "    existing_projects.append(result[0])"
   ]
  },
  {
   "cell_type": "code",
   "execution_count": 45,
   "metadata": {},
   "outputs": [
    {
     "data": {
      "text/plain": [
       "[10427612860,\n",
       " 9965963792,\n",
       " 10347872424,\n",
       " 10429921250,\n",
       " 10849384554,\n",
       " 10057253317,\n",
       " 13655420480]"
      ]
     },
     "execution_count": 45,
     "metadata": {},
     "output_type": "execute_result"
    }
   ],
   "source": [
    "existing_projects"
   ]
  },
  {
   "cell_type": "code",
   "execution_count": null,
   "metadata": {},
   "outputs": [],
   "source": []
  },
  {
   "cell_type": "code",
   "execution_count": null,
   "metadata": {},
   "outputs": [],
   "source": []
  },
  {
   "cell_type": "code",
   "execution_count": 66,
   "metadata": {},
   "outputs": [],
   "source": [
    "new_list = check_api_ts(api_path=project_endpoint, table='project', ts_col='last_modified', benchmark_ts=last_upload_ts.replace(tzinfo=None), existing_id=existing_projects)\n"
   ]
  },
  {
   "cell_type": "code",
   "execution_count": 67,
   "metadata": {},
   "outputs": [
    {
     "data": {
      "text/plain": [
       "[]"
      ]
     },
     "execution_count": 67,
     "metadata": {},
     "output_type": "execute_result"
    }
   ],
   "source": [
    "new_list"
   ]
  },
  {
   "cell_type": "code",
   "execution_count": null,
   "metadata": {},
   "outputs": [],
   "source": []
  },
  {
   "cell_type": "code",
   "execution_count": null,
   "metadata": {},
   "outputs": [],
   "source": []
  },
  {
   "cell_type": "code",
   "execution_count": null,
   "metadata": {},
   "outputs": [],
   "source": []
  },
  {
   "cell_type": "code",
   "execution_count": 14,
   "metadata": {},
   "outputs": [],
   "source": [
    "benchmark_ts = last_upload_ts"
   ]
  },
  {
   "cell_type": "code",
   "execution_count": 15,
   "metadata": {},
   "outputs": [
    {
     "data": {
      "text/plain": [
       "datetime.datetime(2019, 2, 21, 21, 31, 44, 48589, tzinfo=<UTC>)"
      ]
     },
     "execution_count": 15,
     "metadata": {},
     "output_type": "execute_result"
    }
   ],
   "source": [
    "benchmark_ts"
   ]
  },
  {
   "cell_type": "code",
   "execution_count": 53,
   "metadata": {},
   "outputs": [
    {
     "data": {
      "text/plain": [
       "6"
      ]
     },
     "execution_count": 53,
     "metadata": {},
     "output_type": "execute_result"
    }
   ],
   "source": [
    "len(new_list)"
   ]
  },
  {
   "cell_type": "code",
   "execution_count": 48,
   "metadata": {},
   "outputs": [
    {
     "data": {
      "text/plain": [
       "[{'account_id': 8725961507,\n",
       "  'confidence_threshold': 0.9,\n",
       "  'created': '2018-01-04T20:50:13.101130Z',\n",
       "  'id': 9965963792,\n",
       "  'is_classic': False,\n",
       "  'last_modified': '2019-02-25T16:51:16.920893Z',\n",
       "  'name': 'Free Trial',\n",
       "  'platform': 'web',\n",
       "  'sdks': [],\n",
       "  'status': 'active',\n",
       "  'upload_ts': '2019-02-25 22:34:26.472794',\n",
       "  'web_snippet': {'code_revision': 210,\n",
       "   'enable_force_variation': False,\n",
       "   'exclude_disabled_experiments': False,\n",
       "   'exclude_names': True,\n",
       "   'include_jquery': False,\n",
       "   'ip_anonymization': False,\n",
       "   'ip_filter': '^(70\\\\.166\\\\.203\\\\.(?:1(?:2[8-9]|[3-8][0-9]|9[0-1])))|(174\\\\.67\\\\.125\\\\.(?:[0-9]|[1-9][0-9]|1(?:[0-1][0-9]|2[0-7])))|(70\\\\.166\\\\.189\\\\.(?:[0-7]))|(70\\\\.166\\\\.189\\\\.(?:3[2-9]|[4-5][0-9]|6[0-3]))|(174\\\\.78\\\\.90\\\\.(?:4[8-9]|5[0-5]))|(174\\\\.78\\\\.95\\\\.(?:5[6-9]))|(76\\\\.217\\\\.119\\\\.(?:2(?:2[4-9]|3[0-1])))|(12\\\\.196\\\\.29\\\\.(?:2(?:4[8-9]|5[0-5])))|(50\\\\.192\\\\.58\\\\.(?:2(?:0[8-9]|1[0-1])))|(76\\\\.250\\\\.184\\\\.(?:8[0-7]))|(12\\\\.133\\\\.142\\\\.(?:4[0-7]))|(67\\\\.133\\\\.44\\\\.(?:[8-9]|1[0-5]))$',\n",
       "   'js_file_size': 80252,\n",
       "   'library': 'none'}},\n",
       " {'account_id': 8725961507,\n",
       "  'confidence_threshold': 0.9,\n",
       "  'created': '2018-02-22T23:29:15.972680Z',\n",
       "  'id': 10347872424,\n",
       "  'is_classic': False,\n",
       "  'last_modified': '2019-02-25T16:44:15.107729Z',\n",
       "  'name': 'Keap.com',\n",
       "  'platform': 'web',\n",
       "  'sdks': [],\n",
       "  'status': 'active',\n",
       "  'upload_ts': '2019-02-25 22:34:27.318309',\n",
       "  'web_snippet': {'code_revision': 1458,\n",
       "   'enable_force_variation': False,\n",
       "   'exclude_disabled_experiments': False,\n",
       "   'exclude_names': False,\n",
       "   'include_jquery': False,\n",
       "   'ip_anonymization': False,\n",
       "   'ip_filter': '^(70\\\\.166\\\\.203\\\\.(?:1(?:2[8-9]|[3-8][0-9]|9[0-1])))|(174\\\\.67\\\\.125\\\\.(?:[0-9]|[1-9][0-9]|1(?:[0-1][0-9]|2[0-7])))|(70\\\\.166\\\\.189\\\\.(?:[0-7]))|(70\\\\.166\\\\.189\\\\.(?:3[2-9]|[4-5][0-9]|6[0-3]))|(174\\\\.78\\\\.90\\\\.(?:4[8-9]|5[0-5]))|(174\\\\.78\\\\.95\\\\.(?:5[6-9]))|(76\\\\.217\\\\.119\\\\.(?:2(?:2[4-9]|3[0-1])))|(12\\\\.196\\\\.29\\\\.(?:2(?:4[8-9]|5[0-5])))|(50\\\\.192\\\\.58\\\\.(?:2(?:0[8-9]|1[0-1])))|(76\\\\.250\\\\.184\\\\.(?:8[0-7]))|(12\\\\.133\\\\.142\\\\.(?:4[0-7]))|(67\\\\.133\\\\.44\\\\.(?:[8-9]|1[0-5]))$',\n",
       "   'js_file_size': 92264,\n",
       "   'library': 'none'}},\n",
       " {'account_id': 8725961507,\n",
       "  'confidence_threshold': 0.95,\n",
       "  'created': '2018-03-08T16:52:59.992260Z',\n",
       "  'id': 10427612860,\n",
       "  'is_classic': False,\n",
       "  'last_modified': '2019-02-25T19:03:14.013358Z',\n",
       "  'name': 'Marketo Pages',\n",
       "  'platform': 'web',\n",
       "  'sdks': [],\n",
       "  'status': 'active',\n",
       "  'upload_ts': '2019-02-25 22:34:28.320121',\n",
       "  'web_snippet': {'code_revision': 111,\n",
       "   'enable_force_variation': False,\n",
       "   'exclude_disabled_experiments': False,\n",
       "   'exclude_names': True,\n",
       "   'include_jquery': False,\n",
       "   'ip_anonymization': False,\n",
       "   'ip_filter': '^(70\\\\.166\\\\.203\\\\.(?:1(?:2[8-9]|[3-8][0-9]|9[0-1])))|(174\\\\.67\\\\.125\\\\.(?:[0-9]|[1-9][0-9]|1(?:[0-1][0-9]|2[0-7])))|(70\\\\.166\\\\.189\\\\.(?:[0-7]))|(70\\\\.166\\\\.189\\\\.(?:3[2-9]|[4-5][0-9]|6[0-3]))|(174\\\\.78\\\\.90\\\\.(?:4[8-9]|5[0-5]))|(174\\\\.78\\\\.95\\\\.(?:5[6-9]))|(76\\\\.217\\\\.119\\\\.(?:2(?:2[4-9]|3[0-1])))|(12\\\\.196\\\\.29\\\\.(?:2(?:4[8-9]|5[0-5])))|(50\\\\.192\\\\.58\\\\.(?:2(?:0[8-9]|1[0-1])))|(76\\\\.250\\\\.184\\\\.(?:8[0-7]))|(12\\\\.133\\\\.142\\\\.(?:4[0-7]))|(67\\\\.133\\\\.44\\\\.(?:[8-9]|1[0-5]))$',\n",
       "   'js_file_size': 83642,\n",
       "   'library': 'none'}},\n",
       " {'account_id': 8725961507,\n",
       "  'confidence_threshold': 0.9,\n",
       "  'created': '2018-03-08T16:52:48.915460Z',\n",
       "  'id': 10429921250,\n",
       "  'is_classic': False,\n",
       "  'last_modified': '2019-02-25T16:45:07.989778Z',\n",
       "  'name': 'Corporate Website - Landing Pages',\n",
       "  'platform': 'web',\n",
       "  'sdks': [],\n",
       "  'status': 'archived',\n",
       "  'upload_ts': '2019-02-25 22:34:28.958388',\n",
       "  'web_snippet': {'code_revision': 386,\n",
       "   'enable_force_variation': False,\n",
       "   'exclude_disabled_experiments': False,\n",
       "   'exclude_names': True,\n",
       "   'include_jquery': False,\n",
       "   'ip_anonymization': False,\n",
       "   'ip_filter': '^(70\\\\.166\\\\.203\\\\.(?:1(?:2[8-9]|[3-8][0-9]|9[0-1])))|(174\\\\.67\\\\.125\\\\.(?:[0-9]|[1-9][0-9]|1(?:[0-1][0-9]|2[0-7])))|(70\\\\.166\\\\.189\\\\.(?:[0-7]))|(70\\\\.166\\\\.189\\\\.(?:3[2-9]|[4-5][0-9]|6[0-3]))|(174\\\\.78\\\\.90\\\\.(?:4[8-9]|5[0-5]))|(174\\\\.78\\\\.95\\\\.(?:5[6-9]))|(76\\\\.217\\\\.119\\\\.(?:2(?:2[4-9]|3[0-1])))|(12\\\\.196\\\\.29\\\\.(?:2(?:4[8-9]|5[0-5])))|(50\\\\.192\\\\.58\\\\.(?:2(?:0[8-9]|1[0-1])))|(76\\\\.250\\\\.184\\\\.(?:8[0-7]))|(12\\\\.133\\\\.142\\\\.(?:4[0-7]))|(67\\\\.133\\\\.44\\\\.(?:[8-9]|1[0-5]))$',\n",
       "   'js_file_size': 91,\n",
       "   'library': 'none'}},\n",
       " {'account_id': 8725961507,\n",
       "  'confidence_threshold': 0.9,\n",
       "  'created': '2018-06-14T21:17:23.824620Z',\n",
       "  'id': 10849384554,\n",
       "  'is_classic': False,\n",
       "  'last_modified': '2019-02-25T16:45:08.911463Z',\n",
       "  'name': 'Corporate Website - Copy',\n",
       "  'platform': 'web',\n",
       "  'sdks': [],\n",
       "  'status': 'archived',\n",
       "  'upload_ts': '2019-02-25 22:34:29.550176',\n",
       "  'web_snippet': {'code_revision': 105,\n",
       "   'enable_force_variation': False,\n",
       "   'exclude_disabled_experiments': False,\n",
       "   'exclude_names': True,\n",
       "   'include_jquery': False,\n",
       "   'ip_anonymization': False,\n",
       "   'ip_filter': '^(70\\\\.166\\\\.203\\\\.(?:1(?:2[8-9]|[3-8][0-9]|9[0-1])))|(174\\\\.67\\\\.125\\\\.(?:[0-9]|[1-9][0-9]|1(?:[0-1][0-9]|2[0-7])))|(70\\\\.166\\\\.189\\\\.(?:[0-7]))|(70\\\\.166\\\\.189\\\\.(?:3[2-9]|[4-5][0-9]|6[0-3]))|(174\\\\.78\\\\.90\\\\.(?:4[8-9]|5[0-5]))|(174\\\\.78\\\\.95\\\\.(?:5[6-9]))|(76\\\\.217\\\\.119\\\\.(?:2(?:2[4-9]|3[0-1])))|(12\\\\.196\\\\.29\\\\.(?:2(?:4[8-9]|5[0-5])))|(50\\\\.192\\\\.58\\\\.(?:2(?:0[8-9]|1[0-1])))|(76\\\\.250\\\\.184\\\\.(?:8[0-7]))|(12\\\\.133\\\\.142\\\\.(?:4[0-7]))|(67\\\\.133\\\\.44\\\\.(?:[8-9]|1[0-5]))$',\n",
       "   'js_file_size': 91,\n",
       "   'library': 'none'}},\n",
       " {'account_id': 8725961507,\n",
       "  'confidence_threshold': 0.99,\n",
       "  'created': '2019-02-21T20:47:19.634521Z',\n",
       "  'description': 'To test ETL ',\n",
       "  'id': 13655420480,\n",
       "  'is_classic': False,\n",
       "  'last_modified': '2019-02-25T16:51:14.322750Z',\n",
       "  'name': 'Analytics Testing Environment',\n",
       "  'platform': 'web',\n",
       "  'sdks': [],\n",
       "  'status': 'active',\n",
       "  'upload_ts': '2019-02-25 22:34:30.466798',\n",
       "  'web_snippet': {'code_revision': 22,\n",
       "   'enable_force_variation': True,\n",
       "   'exclude_disabled_experiments': False,\n",
       "   'exclude_names': True,\n",
       "   'include_jquery': False,\n",
       "   'ip_anonymization': False,\n",
       "   'js_file_size': 78801,\n",
       "   'library': 'none'}}]"
      ]
     },
     "execution_count": 48,
     "metadata": {},
     "output_type": "execute_result"
    }
   ],
   "source": [
    "generate_new_entity(id_list=new_list, api_path='https://api.optimizely.com/v2/projects', table='project')"
   ]
  },
  {
   "cell_type": "code",
   "execution_count": 50,
   "metadata": {},
   "outputs": [],
   "source": [
    "# get projects with last_modified timestamps that are later than the previous ts\n",
    "# getting ready to upload\n",
    "updating_projects = check_api_ts(api_path=project_endpoint, table='project', ts_col='last_modified', benchmark_ts=last_upload_ts.replace(tzinfo=None), existing_id=existing_projects)\n",
    "updating_projects_json = generate_new_entity(id_list=updating_projects, api_path='https://api.optimizely.com/v2/projects', table='project')\n"
   ]
  },
  {
   "cell_type": "code",
   "execution_count": 52,
   "metadata": {},
   "outputs": [
    {
     "data": {
      "text/plain": [
       "6"
      ]
     },
     "execution_count": 52,
     "metadata": {},
     "output_type": "execute_result"
    }
   ],
   "source": [
    "len(updating_projects_json)"
   ]
  },
  {
   "cell_type": "code",
   "execution_count": 54,
   "metadata": {},
   "outputs": [
    {
     "name": "stderr",
     "output_type": "stream",
     "text": [
      "INFO:root:Writing projects to BQ from file ../uploads/update_projects.json\n"
     ]
    },
    {
     "name": "stdout",
     "output_type": "stream",
     "text": [
      "2019-02-25 14:36:01,548 - root - Writing projects to BQ from file ../uploads/update_projects.json\n"
     ]
    }
   ],
   "source": [
    "pope.write_to_json(file_name='../uploads/update_projects.json', jayson=updating_projects_json, mode='w')\n",
    "pope.write_to_bq(table_name='projects', file_name='../uploads/update_projects.json', append=True, ignore_unknown_values=False, bq_schema_autodetect=False)\n",
    "\n"
   ]
  },
  {
   "cell_type": "code",
   "execution_count": null,
   "metadata": {},
   "outputs": [],
   "source": []
  }
 ],
 "metadata": {
  "kernelspec": {
   "display_name": "Python 3",
   "language": "python",
   "name": "python3"
  },
  "language_info": {
   "codemirror_mode": {
    "name": "ipython",
    "version": 3
   },
   "file_extension": ".py",
   "mimetype": "text/x-python",
   "name": "python",
   "nbconvert_exporter": "python",
   "pygments_lexer": "ipython3",
   "version": "3.6.4"
  }
 },
 "nbformat": 4,
 "nbformat_minor": 2
}
